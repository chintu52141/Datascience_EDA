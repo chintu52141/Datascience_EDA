{
 "cells": [
  {
   "cell_type": "code",
   "execution_count": 2,
   "id": "e9539c6f-cdd4-4708-96d0-f5c9652c5f69",
   "metadata": {},
   "outputs": [],
   "source": [
    "import pandas as pd\n",
    "import numpy as np\n",
    "import matplotlib.pyplot as plt\n",
    "import seaborn as sns\n",
    "import sklearn \n"
   ]
  },
  {
   "cell_type": "code",
   "execution_count": 4,
   "id": "3d336e76-1a95-4348-a765-0758cc855e1d",
   "metadata": {},
   "outputs": [
    {
     "data": {
      "text/plain": [
       "(array([2992.,  871., 1005., 1170., 1242., 1434., 1385., 1443., 1444.,\n",
       "        1445., 1457., 1335., 1268., 1217., 1088.,  978.,  807.,  645.,\n",
       "         509.,  373.,  264.,  144.,  105.,  111.,  107.,   99.,   88.,\n",
       "          79.,   65.,   64.,   58.,   53.,   33.,   33.,   29.,   19.,\n",
       "           7.,    3.,    6.,    5.]),\n",
       " array([2.13670000e+00, 7.98234003e+03, 1.59625434e+04, 2.39427467e+04,\n",
       "        3.19229500e+04, 3.99031534e+04, 4.78833567e+04, 5.58635600e+04,\n",
       "        6.38437634e+04, 7.18239667e+04, 7.98041700e+04, 8.77843734e+04,\n",
       "        9.57645767e+04, 1.03744780e+05, 1.11724983e+05, 1.19705187e+05,\n",
       "        1.27685390e+05, 1.35665593e+05, 1.43645797e+05, 1.51626000e+05,\n",
       "        1.59606203e+05, 1.67586407e+05, 1.75566610e+05, 1.83546813e+05,\n",
       "        1.91527017e+05, 1.99507220e+05, 2.07487423e+05, 2.15467627e+05,\n",
       "        2.23447830e+05, 2.31428033e+05, 2.39408237e+05, 2.47388440e+05,\n",
       "        2.55368643e+05, 2.63348847e+05, 2.71329050e+05, 2.79309253e+05,\n",
       "        2.87289457e+05, 2.95269660e+05, 3.03249863e+05, 3.11230067e+05,\n",
       "        3.19210270e+05]),\n",
       " <BarContainer object of 40 artists>)"
      ]
     },
     "execution_count": 4,
     "metadata": {},
     "output_type": "execute_result"
    },
    {
     "data": {
      "image/png": "[encoded data removed]",
      "text/plain": [
       "<Figure size 640x480 with 1 Axes>"
      ]
     },
     "metadata": {},
     "output_type": "display_data"
    }
   ],
   "source": [
    "file='/Users/vijayasri/ML/EasyVisa.csv'\n",
    "wage=pd.read_csv(file)\n",
    "wage_data=wage['prevailing_wage']\n",
    "freq,inter,n=plt.hist(wage_data,bins=40)\n",
    "freq,inter,n\n",
    "\n"
   ]
  },
  {
   "cell_type": "code",
   "execution_count": null,
   "id": "52c53573-1676-4894-9fde-ad3b081f599b",
   "metadata": {},
   "outputs": [],
   "source": [
    "ls  ML/       "
   ]
  },
  {
   "cell_type": "code",
   "execution_count": null,
   "id": "be903ad8-1850-4bf5-8ef7-3fad1b0e6aec",
   "metadata": {},
   "outputs": [],
   "source": [
    "file='/Users/vijayasri/ML/EasyVisa.csv'\n",
    "wage=pd.read_csv(file)\n",
    "wage_data=wage['prevailing_wage']\n",
    "d1=wage_data>2.13\n",
    "d2=wage_data<7982\n",
    "wage[d1 & d2]\n"
   ]
  },
  {
   "cell_type": "code",
   "execution_count": null,
   "id": "27a742c3-a743-437d-92c9-c34047afcf64",
   "metadata": {},
   "outputs": [],
   "source": [
    "7.98234003e+03, 1.59625434e+04\n",
    "15962-7982"
   ]
  },
  {
   "cell_type": "code",
   "execution_count": 3,
   "id": "85247769-a96d-488c-8370-b4fb815694a9",
   "metadata": {},
   "outputs": [
    {
     "data": {
      "text/plain": [
       "(array([[871.,   0.,   0.,   0.,   0.,   0.,   0.,   0.,   0.,   0.,   0.,\n",
       "           0.,   0.,   0.,   0.,   0.,   0.,   0.,   0.,   0.,   0.,   0.,\n",
       "           0.,   0.,   0.,   0.,   0.,   0.,   0.,   0.,   0.,   0.,   0.,\n",
       "           0.,   0.,   0.,   0.,   0.,   0.,   0.],\n",
       "        [871.,   0.,   0.,   0.,   0.,   0.,   0.,   0.,   0.,   0.,   0.,\n",
       "           0.,   0.,   0.,   0.,   0.,   0.,   0.,   0.,   0.,   0.,   0.,\n",
       "           0.,   0.,   0.,   0.,   0.,   0.,   0.,   0.,   0.,   0.,   0.,\n",
       "           0.,   0.,   0.,   0.,   0.,   0.,   0.],\n",
       "        [871.,   0.,   0.,   0.,   0.,   0.,   0.,   0.,   0.,   0.,   0.,\n",
       "           0.,   0.,   0.,   0.,   0.,   0.,   0.,   0.,   0.,   0.,   0.,\n",
       "           0.,   0.,   0.,   0.,   0.,   0.,   0.,   0.,   0.,   0.,   0.,\n",
       "           0.,   0.,   0.,   0.,   0.,   0.,   0.],\n",
       "        [871.,   0.,   0.,   0.,   0.,   0.,   0.,   0.,   0.,   0.,   0.,\n",
       "           0.,   0.,   0.,   0.,   0.,   0.,   0.,   0.,   0.,   0.,   0.,\n",
       "           0.,   0.,   0.,   0.,   0.,   0.,   0.,   0.,   0.,   0.,   0.,\n",
       "           0.,   0.,   0.,   0.,   0.,   0.,   0.],\n",
       "        [871.,   0.,   0.,   0.,   0.,   0.,   0.,   0.,   0.,   0.,   0.,\n",
       "           0.,   0.,   0.,   0.,   0.,   0.,   0.,   0.,   0.,   0.,   0.,\n",
       "           0.,   0.,   0.,   0.,   0.,   0.,   0.,   0.,   0.,   0.,   0.,\n",
       "           0.,   0.,   0.,   0.,   0.,   0.,   0.],\n",
       "        [822.,  14.,   6.,   4.,   3.,   3.,   0.,   1.,   2.,   3.,   2.,\n",
       "           2.,   3.,   0.,   1.,   0.,   0.,   0.,   1.,   0.,   0.,   0.,\n",
       "           0.,   0.,   1.,   0.,   0.,   0.,   0.,   0.,   1.,   0.,   0.,\n",
       "           1.,   0.,   0.,   0.,   0.,   0.,   1.],\n",
       "        [871.,   0.,   0.,   0.,   0.,   0.,   0.,   0.,   0.,   0.,   0.,\n",
       "           0.,   0.,   0.,   0.,   0.,   0.,   0.,   0.,   0.,   0.,   0.,\n",
       "           0.,   0.,   0.,   0.,   0.,   0.,   0.,   0.,   0.,   0.,   0.,\n",
       "           0.,   0.,   0.,   0.,   0.,   0.,   0.],\n",
       "        [871.,   0.,   0.,   0.,   0.,   0.,   0.,   0.,   0.,   0.,   0.,\n",
       "           0.,   0.,   0.,   0.,   0.,   0.,   0.,   0.,   0.,   0.,   0.,\n",
       "           0.,   0.,   0.,   0.,   0.,   0.,   0.,   0.,   0.,   0.,   0.,\n",
       "           0.,   0.,   0.,   0.,   0.,   0.,   0.],\n",
       "        [246., 625.,   0.,   0.,   0.,   0.,   0.,   0.,   0.,   0.,   0.,\n",
       "           0.,   0.,   0.,   0.,   0.,   0.,   0.,   0.,   0.,   0.,   0.,\n",
       "           0.,   0.,   0.,   0.,   0.,   0.,   0.,   0.,   0.,   0.,   0.,\n",
       "           0.,   0.,   0.,   0.,   0.,   0.,   0.],\n",
       "        [871.,   0.,   0.,   0.,   0.,   0.,   0.,   0.,   0.,   0.,   0.,\n",
       "           0.,   0.,   0.,   0.,   0.,   0.,   0.,   0.,   0.,   0.,   0.,\n",
       "           0.,   0.,   0.,   0.,   0.,   0.,   0.,   0.,   0.,   0.,   0.,\n",
       "           0.,   0.,   0.,   0.,   0.,   0.,   0.],\n",
       "        [871.,   0.,   0.,   0.,   0.,   0.,   0.,   0.,   0.,   0.,   0.,\n",
       "           0.,   0.,   0.,   0.,   0.,   0.,   0.,   0.,   0.,   0.,   0.,\n",
       "           0.,   0.,   0.,   0.,   0.,   0.,   0.,   0.,   0.,   0.,   0.,\n",
       "           0.,   0.,   0.,   0.,   0.,   0.,   0.],\n",
       "        [871.,   0.,   0.,   0.,   0.,   0.,   0.,   0.,   0.,   0.,   0.,\n",
       "           0.,   0.,   0.,   0.,   0.,   0.,   0.,   0.,   0.,   0.,   0.,\n",
       "           0.,   0.,   0.,   0.,   0.,   0.,   0.,   0.,   0.,   0.,   0.,\n",
       "           0.,   0.,   0.,   0.,   0.,   0.,   0.]]),\n",
       " array([     0.   ,  10305.175,  20610.35 ,  30915.525,  41220.7  ,\n",
       "         51525.875,  61831.05 ,  72136.225,  82441.4  ,  92746.575,\n",
       "        103051.75 , 113356.925, 123662.1  , 133967.275, 144272.45 ,\n",
       "        154577.625, 164882.8  , 175187.975, 185493.15 , 195798.325,\n",
       "        206103.5  , 216408.675, 226713.85 , 237019.025, 247324.2  ,\n",
       "        257629.375, 267934.55 , 278239.725, 288544.9  , 298850.075,\n",
       "        309155.25 , 319460.425, 329765.6  , 340070.775, 350375.95 ,\n",
       "        360681.125, 370986.3  , 381291.475, 391596.65 , 401901.825,\n",
       "        412207.   ]),\n",
       " <a list of 12 BarContainer objects>)"
      ]
     },
     "execution_count": 3,
     "metadata": {},
     "output_type": "execute_result"
    },
    {
     "data": {
      "image/png": "[encoded data removed]",
      "text/plain": [
       "<Figure size 640x480 with 1 Axes>"
      ]
     },
     "metadata": {},
     "output_type": "display_data"
    }
   ],
   "source": [
    "file='/Users/vijayasri/ML/EasyVisa.csv'\n",
    "wage=pd.read_csv(file)\n",
    "wage_data=wage['prevailing_wage']\n",
    "d1=wage_data>7.98234003e+03\n",
    "d2=wage_data< 1.59625434e+04\n",
    "d3=wage[d1 & d2]\n",
    "plt.hist(d3,bins=40)"
   ]
  },
  {
   "cell_type": "code",
   "execution_count": null,
   "id": "164ad634-6d0e-4371-890d-766ce31b5379",
   "metadata": {},
   "outputs": [],
   "source": [
    "file='/Users/vijayasri/ML/EasyVisa.csv'\n",
    "wage=pd.read_csv(file)\n",
    "wage_data=wage['prevailing_wage']\n",
    "freq,inter,n=plt.hist(wage_data,bins=40)\n",
    "pd.DataFrame(zip(freq,inter,n),columns=['freq','interval','n'])"
   ]
  },
  {
   "cell_type": "code",
   "execution_count": null,
   "id": "4a7c84e6-cbe6-4f23-aee1-788909d95316",
   "metadata": {},
   "outputs": [],
   "source": [
    "file='/Users/vijayasri/ML/EasyVisa.csv'\n",
    "data_set=pd.read_csv(file)\n",
    "data_new=data_set['no_of_employees']\n",
    "freq,inter,n=plt.hist(data_new,bins=5)\n",
    "freq,inter,n\n",
    "len(plt.hist(data_new,bins=5))"
   ]
  },
  {
   "cell_type": "code",
   "execution_count": null,
   "id": "8f394bc4-7307-485f-836d-d57f361fe5c0",
   "metadata": {},
   "outputs": [],
   "source": [
    "file='/Users/vijayasri/ML/EasyVisa.csv'\n",
    "data_set=pd.read_csv(file)\n",
    "yes_data=data_set['yr_of_estab']\n",
    "frquency,interval,number=plt.hist(yes_data,bins=20)\n",
    "frquency,interval,number\n",
    "interval1=np.percentile(yes_data,25)\n",
    "interval2=np.percentile(yes_data,50)\n",
    "diff=yes_data>interval1\n",
    "diff2=yes_data<interval2\n",
    "data_set[diff & diff2]"
   ]
  },
  {
   "cell_type": "code",
   "execution_count": null,
   "id": "75ca591f-e100-4175-a0f9-91442f951c28",
   "metadata": {},
   "outputs": [],
   "source": []
  }
 ],
 "metadata": {
  "kernelspec": {
   "display_name": "Python 3 (ipykernel)",
   "language": "python",
   "name": "python3"
  },
  "language_info": {
   "codemirror_mode": {
    "name": "ipython",
    "version": 3
   },
   "file_extension": ".py",
   "mimetype": "text/x-python",
   "name": "python",
   "nbconvert_exporter": "python",
   "pygments_lexer": "ipython3",
   "version": "3.12.4"
  }
 },
 "nbformat": 4,
 "nbformat_minor": 5
}
