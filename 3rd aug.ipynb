{
 "cells": [
  {
   "cell_type": "markdown",
   "id": "c445ac8d-cf51-4ec5-9444-ba3e39ba9b85",
   "metadata": {},
   "source": [
    "$index_find$"
   ]
  },
  {
   "cell_type": "code",
   "execution_count": 9,
   "id": "c5e09866-8669-490c-900a-31a62cae0d02",
   "metadata": {},
   "outputs": [
    {
     "data": {
      "text/plain": [
       "0"
      ]
     },
     "execution_count": 9,
     "metadata": {},
     "output_type": "execute_result"
    }
   ],
   "source": [
    "str1='welllllcome'\n",
    "str1.index('w')"
   ]
  },
  {
   "cell_type": "code",
   "execution_count": 42,
   "id": "83a91275-2461-4c54-9126-a859fc7d5b1b",
   "metadata": {},
   "outputs": [
    {
     "data": {
      "text/plain": [
       "'resta$t'"
      ]
     },
     "execution_count": 42,
     "metadata": {},
     "output_type": "execute_result"
    }
   ],
   "source": [
    "string='restart'\n",
    "val=string.index('r')\n",
    "string[val]+string[val+1::].replace('r','$')"
   ]
  },
  {
   "cell_type": "code",
   "execution_count": 31,
   "id": "86b9facc-9490-4ff3-9286-b0110b857f22",
   "metadata": {},
   "outputs": [
    {
     "data": {
      "text/plain": [
       "9"
      ]
     },
     "execution_count": 31,
     "metadata": {},
     "output_type": "execute_result"
    }
   ],
   "source": [
    "str1='welllcomel'\n",
    "str1.index('l')\n",
    "str1.index('l',str1.index('l')+1)\n",
    "str1.index('l',str1.index('l',str1.index('l')+1)+1)\n",
    "str1.index('l',str1.index('l',str1.index('l',str1.index('l')+1)+1)+1)"
   ]
  },
  {
   "cell_type": "code",
   "execution_count": 36,
   "id": "214ddbbd-3d79-43a4-bf66-5145df07cae3",
   "metadata": {},
   "outputs": [
    {
     "data": {
      "text/plain": [
       "9"
      ]
     },
     "execution_count": 36,
     "metadata": {},
     "output_type": "execute_result"
    }
   ],
   "source": [
    "str1='welllcomel'\n",
    "sto=str1.index('l')\n",
    "stv=str1.index('l',sto+1)\n",
    "stu=str1.index('l',stv+1)\n",
    "str1.index('l',stu+1)"
   ]
  },
  {
   "cell_type": "code",
   "execution_count": 42,
   "id": "f2545778-5bfc-4b59-bd2a-5528f49da4f6",
   "metadata": {},
   "outputs": [
    {
     "data": {
      "text/plain": [
       "8"
      ]
     },
     "execution_count": 42,
     "metadata": {},
     "output_type": "execute_result"
    }
   ],
   "source": [
    "s='ola ola ola'\n",
    "s.index('o',0)\n",
    "s.index('o',s.index('o',0)+1)\n",
    "s.index('o',s.index('o',s.index('o',0)+1)+1)"
   ]
  },
  {
   "cell_type": "code",
   "execution_count": 19,
   "id": "746a30c8-c79b-4b89-afbd-45398bed7947",
   "metadata": {},
   "outputs": [
    {
     "name": "stdout",
     "output_type": "stream",
     "text": [
      "the index of o is 0\n",
      "the index of o is 4\n",
      "the index of o is 8\n",
      "0\n"
     ]
    }
   ],
   "source": [
    "s='ola ola ola'\n",
    "total=0\n",
    "for i in s:\n",
    "    if i=='o':\n",
    "         print('the index of o is',s.index('o',(s.index('o',(s.index('o'))))))\n",
    "         print('the index of o is',s.index('o',(s.index('o',(s.index('o'))+1))))\n",
    "         print('the index of o is',s.index('o',(s.index('o',(s.index('o'))+1))+1))\n",
    "         break\n",
    "    total+=total\n",
    "print(total)\n",
    "       \n",
    "        "
   ]
  },
  {
   "cell_type": "code",
   "execution_count": 98,
   "id": "163ee454-4f90-4695-8aea-3bf074a0ed0e",
   "metadata": {},
   "outputs": [
    {
     "name": "stdout",
     "output_type": "stream",
     "text": [
      "0\n",
      "4\n",
      "8\n"
     ]
    }
   ],
   "source": [
    "s='ola ola ola'\n",
    "for i in range(len(s)):\n",
    "    if s[i]=='o':\n",
    "        print(i)"
   ]
  },
  {
   "cell_type": "code",
   "execution_count": 4,
   "id": "30c9a1d1-4df1-4453-a6aa-6d075ea7f0c0",
   "metadata": {},
   "outputs": [
    {
     "name": "stdout",
     "output_type": "stream",
     "text": [
      "the index of o is 0\n",
      "the index of o is 4\n",
      "the index of o is 8\n",
      "all\n"
     ]
    }
   ],
   "source": [
    "s='ola ola ola'\n",
    "total=0\n",
    "for i in s:\n",
    "    if i=='o':\n",
    "        print('the index of o is',s.index('o',(s.index('o',(s.index('o'))))))\n",
    "        print('the index of o is',s.index('o',(s.index('o',(s.index('o'))+1))))\n",
    "        print('the index of o is',s.index('o',(s.index('o',(s.index('o'))+1))+1))\n",
    "        break\n",
    "print('all')"
   ]
  },
  {
   "cell_type": "code",
   "execution_count": 186,
   "id": "5e539116-8592-4db3-b13c-9e111c3f2ccf",
   "metadata": {},
   "outputs": [
    {
     "name": "stdout",
     "output_type": "stream",
     "text": [
      "0\n",
      "4\n",
      "8\n",
      "4\n"
     ]
    }
   ],
   "source": [
    "s='ola ola ola'\n",
    "ind=0\n",
    "for i in range(len(s)):\n",
    "    if s[i]=='o':\n",
    "        print(i)\n",
    "        ind=i-ind\n",
    "        \n",
    "print(ind)       \n"
   ]
  },
  {
   "cell_type": "code",
   "execution_count": 207,
   "id": "5dca7945-8247-4e45-8513-b3618b74a535",
   "metadata": {},
   "outputs": [
    {
     "data": {
      "text/plain": [
       "0"
      ]
     },
     "execution_count": 207,
     "metadata": {},
     "output_type": "execute_result"
    }
   ],
   "source": [
    "s='ola ola ola'\n",
    "s.count('s')==#0\n",
    "s.index('s')==error\n",
    "s.find('s')=-1\n",
    "s.replace('s')==no chnage\n",
    "s.split\n"
   ]
  },
  {
   "cell_type": "code",
   "execution_count": 16,
   "id": "ea1b2977-f618-4588-8ff0-bea4df6e2ad4",
   "metadata": {},
   "outputs": [
    {
     "data": {
      "text/plain": [
       "'15'"
      ]
     },
     "execution_count": 16,
     "metadata": {},
     "output_type": "execute_result"
    }
   ],
   "source": [
    "s='3.15'\n",
    "m=s.find('.')\n",
    "s[m+1:]"
   ]
  },
  {
   "cell_type": "code",
   "execution_count": 123,
   "id": "e528be30-4627-41e7-bbf8-3e38593d1132",
   "metadata": {},
   "outputs": [
    {
     "name": "stdout",
     "output_type": "stream",
     "text": [
      "virak\n",
      "virak\n",
      "kohili\n",
      "bcci\n"
     ]
    }
   ],
   "source": [
    "string='virak.kohili@bcci.com'\n",
    "v5=string.find('.')\n",
    "string[v5-1:0:-1][::-1]\n",
    "print(string.split('.')[0])\n",
    "\n",
    "string='virak.kohili@bcci.com'\n",
    "v5=string.find('v')\n",
    "v8=string[v5+1:5]\n",
    "print(string[v5]+string[v5+1:5])\n",
    "\n",
    "string='virak.kohili@bcci.com'\n",
    "v6=string.find('.')\n",
    "print(string[v6+1:12])\n",
    "\n",
    "string='virak.kohili@bcci.com'\n",
    "v5=string.find('@')\n",
    "print(string[v5+1:17])\n"
   ]
  },
  {
   "cell_type": "code",
   "execution_count": 118,
   "id": "555c3114-e861-4922-81dc-ea6d62bfee8e",
   "metadata": {},
   "outputs": [
    {
     "data": {
      "text/plain": [
       "'virak'"
      ]
     },
     "execution_count": 118,
     "metadata": {},
     "output_type": "execute_result"
    }
   ],
   "source": [
    "string='virak.kohili@bcci.com'\n",
    "v5=string.find('v')\n",
    "v8=string[v5+1:5]\n",
    "string[v5]+string[v5+1:5]\n"
   ]
  },
  {
   "cell_type": "code",
   "execution_count": 111,
   "id": "e14d2a70-df1f-4792-81ea-3803466d63b4",
   "metadata": {},
   "outputs": [
    {
     "data": {
      "text/plain": [
       "'kohili'"
      ]
     },
     "execution_count": 111,
     "metadata": {},
     "output_type": "execute_result"
    }
   ],
   "source": [
    "string='virak.kohili@bcci.com'\n",
    "v6=string.find('.')\n",
    "string[v6+1:12]"
   ]
  },
  {
   "cell_type": "code",
   "execution_count": 115,
   "id": "e5cd7748-818e-48e9-af30-49de3fed0844",
   "metadata": {},
   "outputs": [
    {
     "data": {
      "text/plain": [
       "'bcci'"
      ]
     },
     "execution_count": 115,
     "metadata": {},
     "output_type": "execute_result"
    }
   ],
   "source": [
    "string='virak.kohili@bcci.com'\n",
    "v5=string.find('@')\n",
    "string[v5+1:17]\n"
   ]
  },
  {
   "cell_type": "code",
   "execution_count": 20,
   "id": "1cdc9129-b7cc-40c2-9d91-d264477135db",
   "metadata": {},
   "outputs": [
    {
     "name": "stdout",
     "output_type": "stream",
     "text": [
      "kohili@bcci\n"
     ]
    }
   ],
   "source": [
    "string='virak.kohili@bcci.com'\n",
    "print(string.split('.')[1])\n"
   ]
  },
  {
   "cell_type": "code",
   "execution_count": 170,
   "id": "1b270820-d4c2-4665-847a-ee2282844b65",
   "metadata": {},
   "outputs": [
    {
     "name": "stdout",
     "output_type": "stream",
     "text": [
      "virak.\n",
      "kohili\n",
      "bcci\n"
     ]
    }
   ],
   "source": [
    "string='virak.kohili@bcci.com'\n",
    "a=string.find('.')\n",
    "b=string.find('@')\n",
    "c=print(string[:a+1])\n",
    "d=print(string[a+1:b])\n",
    "e=string.find('.',a+1)\n",
    "n=print(string[b+1:e])\n"
   ]
  },
  {
   "cell_type": "code",
   "execution_count": 8,
   "id": "9ad1e2fb-6f31-4e90-9a9e-f6877e5d5745",
   "metadata": {},
   "outputs": [
    {
     "name": "stdout",
     "output_type": "stream",
     "text": [
      "a\n",
      "b\n",
      "c\n"
     ]
    }
   ],
   "source": [
    "string='a.b@c.com'\n",
    "v1=string.find('.')\n",
    "v2=string.find('@')\n",
    "print(string[v1-1])\n",
    "print(string[v1+1])\n",
    "print(string[v2+1])\n",
    "\n",
    "\n"
   ]
  },
  {
   "cell_type": "code",
   "execution_count": null,
   "id": "da892717-da72-4c2e-aa31-83efa53e9fbb",
   "metadata": {},
   "outputs": [],
   "source": []
  }
 ],
 "metadata": {
  "kernelspec": {
   "display_name": "Python 3 (ipykernel)",
   "language": "python",
   "name": "python3"
  },
  "language_info": {
   "codemirror_mode": {
    "name": "ipython",
    "version": 3
   },
   "file_extension": ".py",
   "mimetype": "text/x-python",
   "name": "python",
   "nbconvert_exporter": "python",
   "pygments_lexer": "ipython3",
   "version": "3.12.4"
  }
 },
 "nbformat": 4,
 "nbformat_minor": 5
}
