{
 "cells": [
  {
   "cell_type": "code",
   "execution_count": null,
   "id": "842a6ec3-62cb-48a4-9a68-a2c2bd611c4a",
   "metadata": {},
   "outputs": [],
   "source": [
    "random_num = eval(input(\"enter a random number in the range of 1 to 100\"))\n",
    "if random_num<100:\n",
    "    print(\"the number is lesser value\")\n",
    "else:\n",
    "    print('greater value')"
   ]
  },
  {
   "cell_type": "code",
   "execution_count": null,
   "id": "982d9656-afe2-488f-8e3a-ef3113d06bb6",
   "metadata": {},
   "outputs": [],
   "source": [
    "\n",
    "\n",
    "random_num=random.randint(1,100)\n",
    "if random_num <= 100:\n",
    "    print(f\"the {random_num} is lesser value\")\n",
    "else:\n",
    "    print('greater value')"
   ]
  },
  {
   "cell_type": "code",
   "execution_count": null,
   "id": "e07269e0-e418-44e7-9445-524f212e4a8d",
   "metadata": {},
   "outputs": [],
   "source": [
    "num=random.randint(1,100)\n",
    "if num>100:\n",
    "    print(f\"the {num} is a greater value\")\n",
    "elif num==100:\n",
    "    print(f\"the {num} is exact value\")\n",
    "else:\n",
    "    print(f\"the {num} is lesser value\")\n",
    "    "
   ]
  },
  {
   "cell_type": "code",
   "execution_count": null,
   "id": "091948ec-8e55-464f-a307-4069e7f13f4b",
   "metadata": {},
   "outputs": [],
   "source": [
    "num = eval(input('enter a value'))\n",
    "if num>=0:\n",
    "    print(f\"the {num} is a postive\")\n",
    "else:\n",
    "    print(f\"the {num} is negative\")"
   ]
  },
  {
   "cell_type": "code",
   "execution_count": null,
   "id": "76689f24-f174-4d04-96f0-4069e8933e2c",
   "metadata": {},
   "outputs": [],
   "source": [
    "num = eval(input('enter a number'))\n",
    "if num ==1:\n",
    "           print('one')\n",
    "elif num==2:\n",
    "           print('two')\n",
    "elif num==3:\n",
    "           print('three')\n",
    "else:\n",
    "           print('invalid')"
   ]
  },
  {
   "cell_type": "code",
   "execution_count": null,
   "id": "880352e4-3947-4e38-a966-5b50091d8c1f",
   "metadata": {},
   "outputs": [],
   "source": [
    "num = eval(input('enter the percentage of marks'))\n",
    "\n",
    "if num>80:\n",
    "           print('A')\n",
    "elif num>75:\n",
    "           print('b')\n",
    "elif num>65:\n",
    "            print('c')\n",
    "else:\n",
    "            print('d')\n",
    "    "
   ]
  },
  {
   "cell_type": "code",
   "execution_count": null,
   "id": "dd690242-a89d-49fb-9441-4820130b49ff",
   "metadata": {},
   "outputs": [],
   "source": [
    "age = eval(input('enter age'))\n",
    "if age>60:\n",
    "           print('snior')\n",
    "elif age>=45:\n",
    "           print('aged')\n",
    "elif age>=35:\n",
    "           print('mid age')\n",
    "elif age>=25:\n",
    "           print('adult')\n",
    "else:\n",
    "            print('children')\n",
    "    "
   ]
  },
  {
   "cell_type": "code",
   "execution_count": null,
   "id": "e802f3f6-5cb3-4380-b5a7-7d0f33c76494",
   "metadata": {},
   "outputs": [],
   "source": [
    "i = eval(input('enter number')) \n",
    "total=0\n",
    "while i!=1:\n",
    "    total += i\n",
    "    \n",
    "    \n",
    "    "
   ]
  },
  {
   "cell_type": "code",
   "execution_count": null,
   "id": "95b8dfc6-99e3-40fa-ad3a-0f5c22ab1843",
   "metadata": {},
   "outputs": [],
   "source": [
    "gender = input('enter the persons gender')\n",
    "if gender==\"male\":\n",
    "   age= eval(input('ask age'))\n",
    "   if age>20:\n",
    "    print('man')\n",
    "   else:\n",
    "    print('boy')\n",
    "\n",
    "elif gender==\"female\":\n",
    "    age= eval(input('ask age'))\n",
    "    if age>20:\n",
    "        print('woman')\n",
    "    else:\n",
    "        print('girl')\n",
    "        \n",
    "    \n",
    "else:fine\n",
    "    "
   ]
  },
  {
   "cell_type": "code",
   "execution_count": null,
   "id": "dcd88254-0c58-4348-8e44-9f7d5e66d9da",
   "metadata": {},
   "outputs": [],
   "source": [
    "import time\n",
    "print('hey mom')\n",
    "time.sleep(1)\n",
    "print('hello kid')\n",
    "time.sleep(1)\n",
    "print(\"kid:wanna know about free service of bus\")\n",
    "time.sleep(1)\n",
    "print('mom:i too here that')\n",
    "time.sleep(1)\n",
    "print('kid:lets go grannys house')\n",
    "time.sleep(1)\n",
    "print('mom:sure')\n",
    "time.sleep(1)\n",
    "distance = eval(input('enter distance'))\n",
    "time.sleep(1)\n",
    "print('show the id card')\n",
    "time.sleep(1)\n",
    "ans = input(\"enter the ans s or n\")\n",
    "if ans==\"NO\":\n",
    "    print('take the ticket')\n",
    "    time.sleep(1)\n",
    "    print('how much the fare')\n",
    "    fare= eval(input('enter the fare'))\n",
    "    print('ok')\n",
    "    total_charege = distance*fare\n",
    "    print(f'the cahag is {total_charege}')\n",
    "else:\n",
    "    print('enjoy trip')\n",
    "    "
   ]
  },
  {
   "cell_type": "code",
   "execution_count": null,
   "id": "9a7cc8fe-b992-432a-ba9c-fa82dc42ddc5",
   "metadata": {},
   "outputs": [],
   "source": []
  }
 ],
 "metadata": {
  "kernelspec": {
   "display_name": "Python 3 (ipykernel)",
   "language": "python",
   "name": "python3"
  },
  "language_info": {
   "codemirror_mode": {
    "name": "ipython",
    "version": 3
   },
   "file_extension": ".py",
   "mimetype": "text/x-python",
   "name": "python",
   "nbconvert_exporter": "python",
   "pygments_lexer": "ipython3",
   "version": "3.12.4"
  }
 },
 "nbformat": 4,
 "nbformat_minor": 5
}
