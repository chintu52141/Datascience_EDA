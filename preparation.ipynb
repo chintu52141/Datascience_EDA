{
 "cells": [
  {
   "cell_type": "code",
   "execution_count": null,
   "id": "63cc5117-0393-4151-b030-4404c5e36afb",
   "metadata": {},
   "outputs": [],
   "source": [
    "print('hello python')"
   ]
  },
  {
   "cell_type": "code",
   "execution_count": null,
   "id": "ad61b6bd-e1be-4261-8ac5-59dd01da2365",
   "metadata": {},
   "outputs": [],
   "source": [
    "a=10\n",
    "b=20\n",
    "temp=a\n",
    "a=b\n",
    "b=temp\n",
    "print(a,b)"
   ]
  },
  {
   "cell_type": "code",
   "execution_count": null,
   "id": "36d35391-e533-453c-b058-43984c5b206d",
   "metadata": {},
   "outputs": [],
   "source": []
  },
  {
   "cell_type": "code",
   "execution_count": null,
   "id": "2ddd2061-3a81-4034-bcc6-48042dda3277",
   "metadata": {},
   "outputs": [],
   "source": [
    "num1=eval(input('eneter a value'))\n",
    "factorial=1\n",
    "for i in range (1,num1+1):\n",
    "        print(i, factorial)\n",
    "        factorial=factorial*i\n",
    "print('fatorail',factorial)"
   ]
  },
  {
   "cell_type": "code",
   "execution_count": null,
   "id": "d09a7f0c-791d-4b28-988e-9213edb95cae",
   "metadata": {},
   "outputs": [],
   "source": [
    "num1=eval(input('enter a number'))\n",
    "for i in range(1,11):\n",
    "    print(num1*i)"
   ]
  },
  {
   "cell_type": "code",
   "execution_count": null,
   "id": "73084139-6ef6-4ae1-b7ab-73135c7b9bbd",
   "metadata": {},
   "outputs": [],
   "source": [
    "num1=eval(input('enter a number'))\n",
    "sum=0\n",
    "for i in range(1,num1+1):\n",
    "    print(i,sum)\n",
    "    sum += i\n",
    "\n",
    "sum"
   ]
  },
  {
   "cell_type": "code",
   "execution_count": null,
   "id": "5d427920-4ca8-4a29-9f82-ca79f935be57",
   "metadata": {},
   "outputs": [],
   "source": [
    "num1=eval(input('enter a number'))\n",
    "n1,n2=0,1\n",
    "count=0\n",
    "if num1<=0:\n",
    "    print('print a postive number')\n",
    "\n",
    "elif num1==1:\n",
    "    print('fibinnocia number sequence ',num1,':')\n",
    "    print(n1)\n",
    "\n",
    "else:\n",
    "    print('fibbinaco sequence :')\n",
    "    while count<num1:\n",
    "        print(n1)\n",
    "        nth =n1+n2\n",
    "        n1=n2\n",
    "        n2=nth\n",
    "        count+=1"
   ]
  },
  {
   "cell_type": "code",
   "execution_count": null,
   "id": "8920c950-4cb0-4646-b220-b942414711a2",
   "metadata": {},
   "outputs": [],
   "source": [
    "num1=eval(input('enter a number'))\n",
    "\n",
    "n1=str(num1)\n",
    "n2=len(n1)\n",
    "print('e',n2)\n",
    "sum_of_powers=0\n",
    "temp_num = num1\n",
    "\n",
    "while temp_num>0:\n",
    "    digit=temp_num%10\n",
    "    print('f',digit)\n",
    "    sum_of_powers += digit**n2\n",
    "    print('g',sum_of_powers )\n",
    "    \n",
    "    print('h',temp_num)\n",
    "    print('i',sum_of_powers,num1)\n",
    "    temp_num //= 10\n",
    "\n",
    "\n",
    "if num1==sum_of_powers:\n",
    "    print('number is a armstrong')\n",
    "\n",
    "else:\n",
    "    print('no')\n",
    "\n"
   ]
  },
  {
   "cell_type": "markdown",
   "id": "64450a87-46f2-46ae-8eee-7e53836fe844",
   "metadata": {},
   "source": [
    "# 1+(7*7*7)+(3*3*3)"
   ]
  },
  {
   "cell_type": "code",
   "execution_count": null,
   "id": "f566f925-1c88-4d22-94fe-2c4658889b48",
   "metadata": {},
   "outputs": [],
   "source": [
    "(3*3*3)+(7**3)"
   ]
  },
  {
   "cell_type": "code",
   "execution_count": null,
   "id": "4c37841a-7e96-420d-90a2-2f31b9319510",
   "metadata": {},
   "outputs": [],
   "source": [
    "fabbinc with some interval"
   ]
  },
  {
   "cell_type": "code",
   "execution_count": null,
   "id": "3badf896-fc4b-4850-915e-54fa94999a88",
   "metadata": {},
   "outputs": [],
   "source": [
    "upper=eval(input('enter a number'))\n",
    "lower=eval(input('enter a number'))\n",
    "for num in range (upper,lower+1):\n",
    "    \n",
    "    lenth=len(str(num))\n",
    "    temp_num =num\n",
    "    sum_of_powers=0\n",
    "    \n",
    "    while temp_num>0:\n",
    "        first_occurance=temp_num%10\n",
    "        sum_of_powers += first_occurance**lenth\n",
    "        temp_num//=10\n",
    "\n",
    "    if num == sum_of_powers:\n",
    "        print(num,'fabiccino')\n"
   ]
  },
  {
   "cell_type": "code",
   "execution_count": null,
   "id": "5ef04ae3-ab64-4369-b01f-f2e1b2c84590",
   "metadata": {},
   "outputs": [],
   "source": [
    "num=eval(input('number'))\n",
    "sum1=1\n",
    "for i in range(i,num+1):\n",
    "    if num>0:\n",
    "        sum=sum+i\n",
    "        print(i,sum)\n",
    "\n",
    "         "
   ]
  },
  {
   "cell_type": "code",
   "execution_count": null,
   "id": "dfa6f4cc-6953-4fb9-870f-42f0d0492a91",
   "metadata": {},
   "outputs": [],
   "source": [
    "def com_hcf(x,y):\n",
    "    if x> y:\n",
    "        smaller=x\n",
    "    else:\n",
    "       smaller=y\n",
    "\n",
    "    for i in range(1,smaller+1):\n",
    "        if x%i==0 and y%i==0:\n",
    "            hcf=i\n",
    "            break\n",
    "    return hcf\n",
    "\n",
    "num1=eval(input('enter a number'))\n",
    "num2=eval(input('enter a number'))\n",
    "\n",
    "print('the hcf is', com_hcf(num1,num2))\n",
    "\n"
   ]
  },
  {
   "cell_type": "code",
   "execution_count": null,
   "id": "caeaf4ab-305c-4fb2-9b06-9e83c369e291",
   "metadata": {},
   "outputs": [],
   "source": [
    "num=eval(input('enter a num'))\n",
    "even=print(float(num))\n",
    "bool=print(bool(num))\n",
    "sstr=print(str(num))\n",
    "comp=print(complex(num))\n",
    "even\n",
    "bool\n",
    "sstr\n",
    "comp"
   ]
  },
  {
   "cell_type": "code",
   "execution_count": null,
   "id": "3688b4db-0d66-477a-8757-e14488cae49e",
   "metadata": {},
   "outputs": [],
   "source": [
    "num=eval(input('enter a num'))\n",
    "print(hex(num))\n",
    "print(oct(num))\n",
    "print(bin(num))\n"
   ]
  },
  {
   "cell_type": "code",
   "execution_count": null,
   "id": "0cc212f0-b827-43da-bb3b-90a28b63c93b",
   "metadata": {},
   "outputs": [],
   "source": [
    "num='Poot'\n",
    "print(ord('P'))"
   ]
  },
  {
   "cell_type": "code",
   "execution_count": null,
   "id": "df271959-848f-4a17-be5f-5bb1ed326797",
   "metadata": {},
   "outputs": [],
   "source": [
    "def call_add(x,y):\n",
    "    return x+y\n",
    "def call_sub(x,y):\n",
    "    return x_y\n",
    "    \n",
    "def call_mul(x,y):\n",
    "    return x*y\n",
    "    \n",
    "def call_div(x,y):\n",
    "    return x/y\n",
    "\n",
    "print('1,add')\n",
    "print('2,sub')\n",
    "print('3,mul')\n",
    "print('4,div')\n",
    "\n",
    "while (True):\n",
    "    num=eval(input('enter a num'))\n",
    "\n",
    "if num in ('1','2','3','4'):\n",
    "    n1=eval(input('enter a num'))\n",
    "    n2=eval(input('enter a num'))\n",
    "    if num==1:\n",
    "        print(call_add(x,y))\n",
    "\n",
    "    elif num==2:\n",
    "        print(call_sub(x,y))\n",
    "\n",
    "\n",
    "    elif num==3:\n",
    "        print(call_mul(x,y))\n",
    "\n",
    "    else:\n",
    "        print(call_div(x,y))\n",
    "        next_calculation=input('yes/no')\n",
    "        if next_calculation=='no':\n",
    "            break\n",
    "        \n",
    "\n",
    "else:\n",
    "    ('invalid')\n",
    "    \n",
    "    \n",
    "    \n",
    "    \n",
    "    \n"
   ]
  },
  {
   "cell_type": "code",
   "execution_count": null,
   "id": "efefdbcd-3930-4717-90b7-99de1cb79b18",
   "metadata": {},
   "outputs": [],
   "source": [
    "def call_add(x,y):\n",
    "    return x+y\n",
    "def call_sub(x,y):\n",
    "    return x-y\n",
    "    \n",
    "def call_mul(x,y):\n",
    "    return x*y\n",
    "    \n",
    "def call_div(x,y):\n",
    "    return x/y\n",
    "num1=eval(input('enter a number'))\n",
    "num2=eval(input('enter a number'))\n",
    "call=eval(input('enter your choice: 1-add, 2-sub, 3-mul, 4-div '))\n",
    "if call==1:\n",
    "    print(call_add(num1,num2))\n",
    "\n",
    "elif call==2:\n",
    "    print(call_sub(num1,num2))\n",
    "\n",
    "elif call==3:\n",
    "    print(call_mul(num1,num2))\n",
    "\n",
    "elif call==4:\n",
    "    print(call_div(num1,num2))\n",
    "\n",
    "else:\n",
    "    print('invalid num')\n",
    "\n"
   ]
  },
  {
   "cell_type": "code",
   "execution_count": null,
   "id": "db85a219-fc89-4648-b9aa-49b89e6dcca6",
   "metadata": {},
   "outputs": [],
   "source": [
    "num1=eval(input('enter a number'))\n",
    "n1,n2=0,1\n",
    "for i in range(1,num1+1):\n",
    "    if num1>0:\n",
    "        print(n1)\n",
    "        nth=n1+n2\n",
    "        n1=n2\n",
    "        n2=nth\n",
    "\n"
   ]
  },
  {
   "cell_type": "code",
   "execution_count": null,
   "id": "22101caa-4bc6-43f7-99d3-6df73f5d8f09",
   "metadata": {},
   "outputs": [],
   "source": [
    "def rec_fabi(x):\n",
    "   if x<=1:\n",
    "       return x\n",
    "   else:\n",
    "       return (rec_fabi (x-1) + rec_fabi (x-2))\n",
    "\n",
    "num=eval(input('enter a number'))\n",
    "if num<=0:\n",
    "    print('valid num')\n",
    "else:\n",
    "    print('sequence')\n",
    "    for i in range(num):\n",
    "        print(rec_fabi(i))\n",
    "            \n",
    "        \n",
    "    \n",
    "        \n",
    "        \n"
   ]
  },
  {
   "cell_type": "code",
   "execution_count": null,
   "id": "908e64d0-db54-4851-9589-036c7cbc4e39",
   "metadata": {},
   "outputs": [],
   "source": [
    "year=eval(input('enter a year'))\n",
    "if year%100==0 and year%400==0:\n",
    "          print('leap year')\n",
    "elif year%4==0 and year%100 != 0:\n",
    "          print('leap year')\n",
    "else:\n",
    "          print('not a leap year')"
   ]
  },
  {
   "cell_type": "code",
   "execution_count": null,
   "id": "796bdd73-c873-4943-ad52-ead8e07c1e47",
   "metadata": {},
   "outputs": [],
   "source": [
    "def factorial_rec(n):\n",
    "    if n==1:\n",
    "        return n\n",
    "    else:\n",
    "        return n*factorial_rec(n-1)\n",
    "\n",
    "num=eval(input('enter a number'))\n",
    "if num<0:\n",
    "    print('valid number')\n",
    "\n",
    "elif num==0:\n",
    "    print('factorial of 0 is 1')\n",
    "\n",
    "else:\n",
    "    print('factorial of' ,num ,'is', factorial_rec(num))"
   ]
  },
  {
   "cell_type": "code",
   "execution_count": null,
   "id": "c5d6babd-ac7b-4b3f-802a-1aec92a8821d",
   "metadata": {},
   "outputs": [],
   "source": [
    "n1=eval(input('enter weight'))\n",
    "n2=eval(input('enter height'))\n",
    "print('caluclation of bmi')\n",
    "bmi=n1/(n2**2)\n",
    "if bmi<=18.5:\n",
    "    print('you are under weight')\n",
    "\n",
    "elif 18.5<bmi<=24.8:\n",
    "    print('normal')\n",
    " \n",
    "elif 25<bmi<29:\n",
    "    print('overweight')\n",
    "\n",
    "else:\n",
    "    print('obese')"
   ]
  },
  {
   "cell_type": "code",
   "execution_count": null,
   "id": "28a8585b-8420-47a4-971b-68e9cb26c1d6",
   "metadata": {},
   "outputs": [],
   "source": [
    "import math\n",
    "num=eval(input('enter a num'))\n",
    "if num<=0:\n",
    "         print('positive num')\n",
    "else:\n",
    "         result=math.log(num)\n",
    "         print(result)\n",
    "  \n"
   ]
  },
  {
   "cell_type": "code",
   "execution_count": null,
   "id": "b377793f-1e18-457e-9a71-401ea053d2fd",
   "metadata": {},
   "outputs": [],
   "source": [
    "above program using math package====="
   ]
  },
  {
   "cell_type": "code",
   "execution_count": null,
   "id": "f9e379e5-8048-4786-bca5-eb52de8a1bdc",
   "metadata": {},
   "outputs": [],
   "source": [
    "num=eval(input('enter a num'))\n",
    "num1=1\n",
    "for i in range(1,num+1):\n",
    "    if num>0:\n",
    "        cube=i**3\n",
    "        num1 +=cube\n",
    "        print(cube)\n",
    "        print(num1)"
   ]
  },
  {
   "cell_type": "code",
   "execution_count": null,
   "id": "44e0514f-e159-4bdb-8e84-7f564298769d",
   "metadata": {},
   "outputs": [],
   "source": []
  },
  {
   "cell_type": "code",
   "execution_count": null,
   "id": "fa37e703-60fb-4d27-8f7a-18151ddfb01d",
   "metadata": {},
   "outputs": [],
   "source": [
    "suncraft\n",
    "livevy\n",
    "sierra\n",
    "sierracraft"
   ]
  },
  {
   "cell_type": "code",
   "execution_count": null,
   "id": "591d34a3-2a25-4336-92fd-2b26ccbe09c8",
   "metadata": {},
   "outputs": [],
   "source": [
    "def cube_fun(n):\n",
    "    if n == 0:\n",
    "        return 0\n",
    "    else:\n",
    "      total = sum([i**3 for i in range (1,n+1)])\n",
    "      return total\n",
    "\n",
    "num=eval(input('enter a num'))\n",
    "if num<=0:\n",
    "    print('enter a valid number')\n",
    "\n",
    "else:\n",
    "    print('cubes of number is ',cube_fun(num))"
   ]
  },
  {
   "cell_type": "code",
   "execution_count": null,
   "id": "844fc623-33b6-45e4-a766-3740593c0d23",
   "metadata": {},
   "outputs": [],
   "source": [
    "a1=[1,2,3,4]\n",
    "a2=sum(a1)\n",
    "print('the sum of numbers in array is',a2)"
   ]
  },
  {
   "cell_type": "code",
   "execution_count": null,
   "id": "20723fbb-58dd-42a9-82b7-1526de97cebe",
   "metadata": {},
   "outputs": [],
   "source": [
    "def array_fun(arr):\n",
    "    total=0\n",
    "    for item in arr:\n",
    "        total+=item\n",
    "    return total\n",
    "\n",
    "num=[1,2,3,4]\n",
    "ans=array_fun(num)\n",
    "print('ans is',ans)"
   ]
  },
  {
   "cell_type": "code",
   "execution_count": null,
   "id": "d1eb32fc-c05c-449e-873d-0c3bfc7306e6",
   "metadata": {},
   "outputs": [],
   "source": [
    "def largest_func(array):\n",
    "    if not array:\n",
    "        print('empty array')\n",
    "    largest_num = array[0]\n",
    "\n",
    "    for element in array:\n",
    "        if element > largest_num:\n",
    "                largest_num=element\n",
    "    return largest_num\n",
    "\n",
    "num=[1,2,3,90]\n",
    "ans=largest_func(num)\n",
    "print('ans is',ans)"
   ]
  },
  {
   "cell_type": "code",
   "execution_count": null,
   "id": "9b0d5976-f9b8-45b7-a50a-86f3e76fa820",
   "metadata": {},
   "outputs": [],
   "source": [
    "def largest_num(array):\n",
    "    if not array:\n",
    "        ptint('empty')\n",
    "    higher_num=array[0]\n",
    "    \n",
    "    for element in array:\n",
    "        if element>higher_num:\n",
    "            higher_num=element\n",
    "    \n",
    "    return higher_num\n",
    "\n",
    "num=[10,20,30,100,90,200]\n",
    "ans=largest_num(num)\n",
    "print('ans is',ans)\n"
   ]
  },
  {
   "cell_type": "code",
   "execution_count": null,
   "id": "c57732bc-37b3-44c5-93dd-a907c9b631d7",
   "metadata": {},
   "outputs": [],
   "source": [
    "def largest_num(n1):\n",
    "    highest_num=n1[0]\n",
    "\n",
    "    for element in n1:\n",
    "        if element>highest_num:\n",
    "             highest_num=element\n",
    "    return highest_num\n",
    "num=[2,3,4,4]\n",
    "ans=largest_num(num)\n",
    "print(ans)\n"
   ]
  },
  {
   "cell_type": "code",
   "execution_count": null,
   "id": "4b32e6ee-968c-4dc0-a889-8e91b3b8ae84",
   "metadata": {},
   "outputs": [],
   "source": [
    "def rotated_array(arr,d):\n",
    "    num=len(arr)\n",
    "    \n",
    "    if d>num or d<=0:\n",
    "        invalid\n",
    "    rotated_arr=[0]*num\n",
    "    for i in range(num):\n",
    "        print(f\"i {i}, index {((i + d) % num)}, arr[index] {arr[((i + d) % num)]}\")\n",
    "        rotated_arr[i] = arr[(i + d) % num]\n",
    "    return rotated_arr\n",
    "\n",
    "arr = [1, 2, 3, 4, 5]\n",
    "# Number of positions to rotate\n",
    "d = 2\n",
    "# Call the rotate_array function\n",
    "result = rotated_array(arr, d)\n",
    "# Print the rotated array\n",
    "print(\"Original Array:\", arr)\n",
    "print(\"Rotated Array:\", result)\n"
   ]
  },
  {
   "cell_type": "code",
   "execution_count": null,
   "id": "ab590f04-aa40-4163-8446-0a48c7965bdc",
   "metadata": {},
   "outputs": [],
   "source": [
    "def monotomy(num):\n",
    "    increasing=decreasing=True\n",
    "\n",
    "    for i in range(len(num)):\n",
    "        if num[i]>num[i-1]:\n",
    "            increasing==False\n",
    "        elif num[i-1]>num[i]:\n",
    "            decreasing==False\n",
    "    return increasing or decreasing\n",
    "\n",
    "\n",
    "arr1=[1,2,3]\n",
    "arr2=[3,2,1]\n",
    "arr3=[1,2,4,2]\n",
    "print(arr1,monotomy(arr1))"
   ]
  },
  {
   "cell_type": "code",
   "execution_count": null,
   "id": "cee0a259-9ae9-4ed1-8edc-faae390c71f4",
   "metadata": {},
   "outputs": [],
   "source": [
    "10%5"
   ]
  },
  {
   "cell_type": "code",
   "execution_count": null,
   "id": "75b0bf1d-b360-4267-8456-f87765c99a1d",
   "metadata": {},
   "outputs": [],
   "source": [
    "def add_matric(matr1,matr2):\n",
    "    if len(matr1)!=len(matr2) or len(matr1[0])!=len(matr2[0]):\n",
    "        return 'invalid matrix'\n",
    "    column=[]\n",
    "    for i in range(len(matr1)):\n",
    "        row=[]\n",
    "    for k in range(len(matr1[0])):\n",
    "        row.append(matr1[i][k]+matr2[i][k])\n",
    "        column.append(row)\n",
    "    return column\n",
    "\n",
    "matric1=[\n",
    "    [1,2,3],\n",
    "    [4,5,6],\n",
    "    [3,4,5]\n",
    "]\n",
    "matric2=[\n",
    "    [1,2,3],\n",
    "    [2,3,4],\n",
    "    [3,4,5]\n",
    "]\n",
    "result_matric=add_matric(matric1,matric2)\n",
    "\n",
    "result_matric\n",
    "    "
   ]
  },
  {
   "cell_type": "code",
   "execution_count": null,
   "id": "ce1b7c69-442d-41b6-a9c4-b9b9bd1266c8",
   "metadata": {},
   "outputs": [],
   "source": [
    "def add_matrices(mat1, mat2):\n",
    "# Check if the matrices have the same dimensions\n",
    "    if len(mat1) != len(mat2) or len(mat1[0]) != len(mat2[0]):\n",
    "         return \"Matrices must have the same dimensions for addition\"\n",
    "    # Initialize an empty result matrix with the same dimensions\n",
    "    result = []\n",
    "    for i in range(len(mat1)):\n",
    "        print(len(mat1))\n",
    "        row = []\n",
    "        for j in range(len(mat1[0])):\n",
    "            row.append(mat1[i][j] + mat2[i][j])\n",
    "        result.append(row)\n",
    "    return result\n",
    "    # Input matrices\n",
    "matrix1 = [\n",
    "    [1, 2, 3],\n",
    "    [4, 5, 6],\n",
    "    [7, 8, 9]\n",
    "    ]\n",
    "matrix2 = [\n",
    "    [9, 8, 7],\n",
    "    [6, 5, 4],\n",
    "    [3, 2, 1]\n",
    "    ]\n",
    "    # Call the add_matrices function\n",
    "result_matrix = add_matrices(matrix1, matrix2)\n",
    "    # Display the result\n",
    "if isinstance(result_matrix, str):\n",
    "    print(result_matrix)\n",
    "else:\n",
    "    print(\"Sum of matrices:\")\n",
    "    for row in result_matrix:\n",
    "        print(row)\n",
    "\n",
    "print(result_matrix)"
   ]
  },
  {
   "cell_type": "code",
   "execution_count": null,
   "id": "badcc29c-bc07-48b9-869c-6c814ae2c89c",
   "metadata": {},
   "outputs": [],
   "source": [
    "def add_matrices(mat1, mat2):\n",
    "# Check if the matrices have the same dimensions\n",
    "    if len(mat1) != len(mat2) or len(mat1[0]) != len(mat2[0]):\n",
    "         return \"Matrices must have the same dimensions for addition\"\n",
    "    # Initialize an empty result matrix with the same dimensions\n",
    "    result = []\n",
    "    for i in range(len(mat1)):\n",
    "        print(len(mat1))\n",
    "        row = []\n",
    "        for j in range(len(mat1[0])):\n",
    "            row1=[]\n",
    "            for k in range(len(mat1[0])):\n",
    "              row1.append(mat1[i][j][k] + mat2[i][j][k])\n",
    "            row.append(row1)\n",
    "        result.append(row)\n",
    "    return result\n",
    "    # Input matrices\n",
    "matrix1 = [[[10, 10, 10], [10, 10, 10], [10, 10, 10]],\n",
    " [[10, 10, 10], [10, 10, 10], [10, 10, 10]],\n",
    " [[10, 10, 10], [10, 10, 10], [10, 10, 10]]]\n",
    "matrix2 = [[[10, 10, 10], [10, 10, 10], [10, 10, 10]],\n",
    " [[10, 10, 10], [10, 10, 10], [10, 10, 10]],\n",
    " [[10, 10, 10], [10, 10, 10], [10, 10, 10]]]\n",
    "    # Call the add_matrices function\n",
    "result_matrix = add_matrices(matrix1, matrix2)\n",
    "    # Display the result\n",
    "if isinstance(result_matrix, str):\n",
    "    print(result_matrix)\n",
    "else:\n",
    "    print(\"Sum of matrices:\")\n",
    "    for row in result_matrix:\n",
    "        print(row)\n",
    "\n",
    "print(result_matrix)"
   ]
  },
  {
   "cell_type": "code",
   "execution_count": null,
   "id": "a19bec33-edae-405e-9eb8-ec123f866a54",
   "metadata": {},
   "outputs": [],
   "source": [
    "isinstance(1,i)"
   ]
  },
  {
   "cell_type": "code",
   "execution_count": null,
   "id": "2e1d6b6c-e031-4569-a182-12a70529864c",
   "metadata": {},
   "outputs": [],
   "source": [
    "[[[10, 10, 10], [10, 10, 10], [10, 10, 10]],[[10, 10, 10], [10, 10, 10], [10, 10, 10]],[[10, 10, 10], [10, 10, 10], [10, 10, 10]]]"
   ]
  },
  {
   "cell_type": "code",
   "execution_count": null,
   "id": "b5e7dd00-f58c-4b0a-ae74-ea92d95d2716",
   "metadata": {},
   "outputs": [],
   "source": [
    "def mul_matric(arr1,arr2):\n",
    "    rows1=len(arr1)\n",
    "    cols1=len(arr1[0])\n",
    "    rows2=len(arr2)\n",
    "    cols2=len(arr2[0])\n",
    "    result=[]\n",
    "    if rows1 != cols2:\n",
    "        return 'invalid statement'\n",
    "    result= [[0] for _ in range(rows2) for _ in range(cols1)]\n",
    "    for i in range(rows1):\n",
    "        rows=[]\n",
    "        for j in range(cols2):\n",
    "            result[i][j] =+ arr1[i]*arr2[j]\n",
    "            rows.append(result)\n",
    "\n",
    "        return result\n",
    " \n",
    "arr1=[\n",
    "    [1,2,3],\n",
    "    [2,3,4]\n",
    "]\n",
    "arr2=[\n",
    "    [1,2],\n",
    "    [2,3],\n",
    "    [3,4]\n",
    "]\n",
    "result_matric=mul_matric(arr1,arr2)\n",
    "\n",
    "if isinstane(result_matric,str):\n",
    "    print(result_matric)\n",
    "\n",
    "else:\n",
    "    for i in rows:\n",
    "        print('multiply')\n",
    "        print(rows)\n",
    "            "
   ]
  },
  {
   "cell_type": "code",
   "execution_count": null,
   "id": "7f4d9f92-5f2b-465a-9c77-ed6a28b447dd",
   "metadata": {},
   "outputs": [],
   "source": [
    "# Function to multiply two matrices\n",
    "def multiply_matrices(mat1, mat2):\n",
    "# Determine the dimensions of the input matrices\n",
    "    rows1 = len(mat1)\n",
    "    cols1 = len(mat1[0])\n",
    "    rows2 = len(mat2)\n",
    "    cols2 = len(mat2[0])\n",
    "# Check if multiplication is possible\n",
    "    if cols1 != rows2:\n",
    "        return \"Matrix multiplication is not possible. Number of column\"\n",
    "# Initialize the result matrix with zeros\n",
    "    result = [[0 for _ in range(cols2)] for _ in range(rows1)]\n",
    "# Perform matrix multiplication\n",
    "    for i in range(rows1): 0,1\n",
    "        for j in range(cols2): 0,1\n",
    "            for k in range(cols2): 0,1,2\n",
    "                result[i][j] += mat1[i][k] * mat2[k][j]\n",
    "                        0 0           0 0         0 0        7\n",
    "                        0  0           0 1         1 0       18\n",
    "                        0 0            0 2         2 0        33\n",
    "\n",
    "                        0 1           0 0         0 1         8\n",
    "                        0  1           0 1         1 1        20\n",
    "                        0 1            0 2         2 1        36\n",
    "\n",
    "                        1 0           1 0         0 0\n",
    "                        1  0           1 1         1 0\n",
    "                        1 0            1 2         2 0\n",
    "\n",
    "                        1 1           1 0         0 1\n",
    "                        1  1           1 1         1 1\n",
    "                        1 1            1 2         2 1\n",
    "\n",
    "    return result\n",
    "# Example matrices\n",
    "matrix1 = [[1, 2, 3],\n",
    "           [4, 5, 6]]\n",
    "matrix2 = [[7, 8],\n",
    "           [9, 10],\n",
    "           [11, 12]]\n",
    "# Multiply the matrices\n",
    "result_matrix = multiply_matrices(matrix1, matrix2)\n",
    "# Display the result\n",
    "if isinstance(result_matrix, str):\n",
    "    print(result_matrix)\n",
    "else:\n",
    "    print(\"Result of matrix multiplication:\")\n",
    "    for row in result_matrix:\n",
    "        print(row)"
   ]
  },
  {
   "cell_type": "code",
   "execution_count": null,
   "id": "9eae5ca9-1f75-4d38-a337-f8b9f7827486",
   "metadata": {},
   "outputs": [],
   "source": [
    "matrix2 = [[7, 8],\n",
    "           [9, 10],\n",
    "           [11, 12]]"
   ]
  },
  {
   "cell_type": "code",
   "execution_count": null,
   "id": "37436276-fe48-4e49-b19a-6f2306645f62",
   "metadata": {},
   "outputs": [],
   "source": [
    "matrix2[1][0]"
   ]
  },
  {
   "cell_type": "code",
   "execution_count": null,
   "id": "b53d99d9-bb29-4c58-9452-d43ff44d6650",
   "metadata": {},
   "outputs": [],
   "source": [
    "num=eval(input('enter a value'))\n",
    "\n",
    "if num==1:\n",
    "    print('not prime')\n",
    "\n",
    "elif num>1:\n",
    "    for i in range(2,num-1):\n",
    "        if num%i==0:\n",
    "            flag = True\n",
    "if flag :\n",
    "    print('prim')\n",
    "\n",
    "else:\n",
    "    print(' not prime')"
   ]
  },
  {
   "cell_type": "markdown",
   "id": "ac9a5a13-6564-49d5-998b-977d5a3a18ad",
   "metadata": {},
   "source": [
    "##### "
   ]
  },
  {
   "cell_type": "code",
   "execution_count": null,
   "id": "711a0e6e-78ae-470e-8637-dc0c5578583a",
   "metadata": {},
   "outputs": [],
   "source": []
  },
  {
   "cell_type": "code",
   "execution_count": null,
   "id": "22abf640-1367-4b90-aa21-71f77063114a",
   "metadata": {},
   "outputs": [],
   "source": [
    "import math\n",
    "# Input coefficients\n",
    "a = float(input(\"Enter coefficient a: \"))\n",
    "b = float(input(\"Enter coefficient b: \"))\n",
    "c = float(input(\"Enter coefficient c: \"))\n",
    "# Calculate the discriminant\n",
    "discriminant = b**2 - 4*a*c\n",
    "\n",
    "print(discriminant)\n",
    "\n",
    "# Check if the discriminant is positive, negative, or zero\n",
    "if discriminant > 0:\n",
    "    \n",
    "# Two real and distinct roots\n",
    "    root1 = (-b + math.sqrt(discriminant)) / (2*a)\n",
    "    root2 = (-b - math.sqrt(discriminant)) / (2*a)\n",
    "    print(f\"Root 1: {root1}\")\n",
    "    print(f\"Root 2: {root2}\")\n",
    "    \n",
    "elif discriminant == 0:\n",
    "# One real root (repeated)\n",
    "    root = -b / (2*a)\n",
    "    print(f\"Root: {root}\")\n",
    "else:\n",
    "# Complex roots\n",
    "    real_part = -b / (2*a)\n",
    "    imaginary_part = math.sqrt(abs(discriminant)) / (2*a)\n",
    "    print(imaginary_part)\n",
    "    print(f\"Root 1: {real_part} + {imaginary_part}i\")\n",
    "    print(f\"Root 2: {real_part} - {imaginary_part}i\")"
   ]
  },
  {
   "cell_type": "code",
   "execution_count": null,
   "id": "345eb40f-1b95-47e3-9d9a-f22478ed43aa",
   "metadata": {},
   "outputs": [],
   "source": [
    "a = 5\n",
    "b = 10\n",
    "# Swapping without a temporary variable\n",
    "a, b = b, a\n",
    "print(\"After swapping:\")\n",
    "print( a)\n",
    "print( b)"
   ]
  },
  {
   "cell_type": "code",
   "execution_count": null,
   "id": "47d61356-c5bb-4316-b3da-8bc197026fba",
   "metadata": {},
   "outputs": [],
   "source": [
    "import math\n",
    "a=eval(input('enter a  value'))\n",
    "b=eval(input('enter a  value'))\n",
    "c=eval(input('enter a  value'))\n",
    "dis=b**2-4*a*c\n",
    "\n",
    "if dis>0:\n",
    "    root1=(-b-math.sqrt(dis)/(2*a))\n",
    "    root2=(-b+math.sqrt(dis)/(2*a))\n",
    "\n",
    "elif dis==0:\n",
    "    root=b**2/(2*a)\n",
    "\n",
    "else:\n",
    "    root=b**2/(2*a)\n",
    "    img=math.sqrt(abs(dis))/(2*a)\n",
    "    print(f'{root},{img}i')"
   ]
  },
  {
   "cell_type": "code",
   "execution_count": null,
   "id": "dc37b622-40ca-41a2-9039-edd253c4c37d",
   "metadata": {},
   "outputs": [],
   "source": [
    "import math\n",
    "a=eval(input('enetr a number'))\n",
    "b=eval(input('enetr a number'))\n",
    "c=eval(input('enetr a number'))\n",
    "\n",
    "dis=b**2-4*a*c\n",
    "if dis>0:\n",
    "    root1=(-b+math.sqrt(dis))/(2*a)\n",
    "    root2=(-b-math.sqrt(dis))/(2*a)\n",
    "    print(f'root1 is {root1} and root2 is {root2}')\n",
    "\n",
    "elif dis==0:\n",
    "    root=dis/2*a\n",
    "    print(f'root is {root}')\n",
    "else:\n",
    "    img=math.sqrt(abs(dis))/(2*a)\n",
    "    real=-b/2*a\n",
    "    rooot=real+img\n",
    "    root2=real-img\n",
    "    print(f'rooot and root2 is {rooot} and {root2}i')"
   ]
  },
  {
   "cell_type": "code",
   "execution_count": null,
   "id": "771d4632-0dc8-4149-8d8d-2ab5b1ea14d1",
   "metadata": {},
   "outputs": [],
   "source": [
    "num1=10\n",
    "num2=29\n",
    "num1,num2=num2,num1\n",
    "print(num1,num2)"
   ]
  },
  {
   "cell_type": "code",
   "execution_count": null,
   "id": "b216cdfd-90cd-4f97-b517-1262f720c14e",
   "metadata": {},
   "outputs": [],
   "source": [
    "num=eval(input('enter a number'))\n",
    "if num<0:\n",
    "    print('enter a proper number')\n",
    "\n",
    "elif num==1:\n",
    "    print('one is not a prime')\n",
    "\n",
    "else:\n",
    "    for i in range(2,num+1):\n",
    "        if num%i==0:\n",
    "            break\n",
    "        else:\n",
    "            print('prime')\n"
   ]
  },
  {
   "cell_type": "code",
   "execution_count": null,
   "id": "c1f29645-3dbb-49b9-8cfd-c8015ff33ddc",
   "metadata": {},
   "outputs": [],
   "source": [
    "num=eval(input('enter a number'))\n",
    "flag=False\n",
    "\n",
    "if num<1:\n",
    "    print('enter bigger number')\n",
    "\n",
    "elif num==1:\n",
    "    print('one is not a prime')\n",
    "\n",
    "else:\n",
    "    for i in range(2,num):\n",
    "        if num%i==0:\n",
    "            flag=True\n",
    "            break\n",
    "\n",
    "if flag:\n",
    "    print('not prime')\n",
    "\n",
    "else:\n",
    "    print('prime')\n"
   ]
  },
  {
   "cell_type": "code",
   "execution_count": null,
   "id": "c1509fb4-5ce3-4fa5-a1b5-f2689c22d55d",
   "metadata": {},
   "outputs": [],
   "source": [
    "upper=10\n",
    "lower=1\n",
    "for num in range(lower,upper+1):\n",
    "    if num>1:\n",
    "        for i in range(2,num):\n",
    "         if num%i==0:\n",
    "            print(num,'not prime')\n",
    "            break\n",
    "        else:\n",
    "            print(num,'prime')\n",
    "        "
   ]
  },
  {
   "cell_type": "code",
   "execution_count": null,
   "id": "5190a194-6df4-4bad-bfa0-e2d2da92113b",
   "metadata": {},
   "outputs": [],
   "source": [
    "num=eval(input('enter a number'))\n",
    "factorial=1\n",
    "for i in range(2,num+1):\n",
    "    factorial*=i\n",
    "    print(factorial)"
   ]
  },
  {
   "cell_type": "code",
   "execution_count": null,
   "id": "673d7708-3bde-4572-92c1-7bad010e17bb",
   "metadata": {},
   "outputs": [],
   "source": [
    "num=eval(input('enter a number'))\n",
    "for i in range(1,11):\n",
    "    print(i*num)"
   ]
  },
  {
   "cell_type": "code",
   "execution_count": null,
   "id": "a31ad0e7-77bd-47af-991a-ecab3aa90090",
   "metadata": {},
   "outputs": [],
   "source": [
    "num=eval(input('enter a number'))\n",
    "n1,n2=0,1\n",
    "count=0\n",
    "for i in range(2,num+1):\n",
    "    if num>1:\n",
    "        print(n1)\n",
    "        nth=n1+n2\n",
    "        n1=n2\n",
    "        n2=nth\n",
    "        count+=1\n"
   ]
  },
  {
   "cell_type": "code",
   "execution_count": null,
   "id": "ef46d70a-3a78-417f-8cb7-3b37c1cafd2f",
   "metadata": {},
   "outputs": [],
   "source": [
    "num=eval(input('enre a number'))\n",
    "str_num=str(num)\n",
    "dig_num=len(str_num)\n",
    "\n",
    "temp_num=num\n",
    "sum_of_powers=0\n",
    "\n",
    "while temp_num>0:\n",
    "    num1=temp_num%10\n",
    "    sum_of_powers+=num1**dig_num\n",
    "    temp_num//=10\n",
    "\n",
    "if sum_of_powers==num:\n",
    "    print('armstrong number')\n",
    "\n",
    "else:\n",
    "    print('natural_num')"
   ]
  },
  {
   "cell_type": "code",
   "execution_count": null,
   "id": "49311f03-a463-4970-9ee0-d9044b289407",
   "metadata": {},
   "outputs": [],
   "source": [
    "num1=eval(input('enre a number'))\n",
    "num2=eval(input('enre a number'))\n",
    "\n",
    "\n",
    "\n",
    "for sum1 in range(num1,num2+1):\n",
    "    temp_sum1=sum1\n",
    "    s1=str(sum1)\n",
    "    dig=len(s1)\n",
    "    sum_of_powers=0\n",
    "    while temp_sum1>0:\n",
    "        nummber=temp_sum1%10\n",
    "        sum_of_powers+=nummber**dig\n",
    "        temp_sum1//=10\n",
    "    if sum1==sum_of_powers:\n",
    "        print(sum1,'armstrong')"
   ]
  },
  {
   "cell_type": "code",
   "execution_count": null,
   "id": "df1ef168-fc0b-4c24-a4a2-3aee11f12974",
   "metadata": {},
   "outputs": [],
   "source": [
    "nterms = int(input(\"How many terms? \"))\n",
    "# first two terms\n",
    "n1, n2 = 0, 1\n",
    "count = 0\n",
    "# check if the number of terms is valid\n",
    "if nterms <= 0:\n",
    "    print(\"Please enter a positive integer\")\n",
    "# if there is only one term, return n1\n",
    "elif nterms == 1:\n",
    "    print(\"Fibonacci sequence upto\",nterms,\":\")\n",
    "    print(n1)\n",
    "# generate fibonacci sequence\n",
    "else:\n",
    "    print(\"Fibonacci sequence:\")\n",
    "    while count < nterms:\n",
    "        print(n1)\n",
    "        nth = n1 + n2\n",
    "        # update values\n",
    "        n1 = n2\n",
    "        n2 = nth\n",
    "        count += 1"
   ]
  },
  {
   "cell_type": "code",
   "execution_count": null,
   "id": "33c35470-3e8a-4815-826d-c7b22ac72736",
   "metadata": {},
   "outputs": [],
   "source": [
    "def sum(num1,num2):\n",
    "    return num1+num2\n",
    "def dif(num1,num2):\n",
    "    return num1-num2\n",
    "\n",
    "def mul(num1,num2):\n",
    "    return num1*num2\n",
    "\n",
    "def div(num1,num2):\n",
    "    return num1/num2\n",
    "x=eval(input('enter a x'))\n",
    "y=eval(input('enter a y'))\n",
    "num=eval(input('enter a num between 1 to 4'))\n",
    "if num==1:\n",
    "    print('sum of x and y is',sum(x,y))\n",
    "\n",
    "elif num==2:\n",
    "    print('diff of x and y is',dif(x,y))\n",
    "\n",
    "elif num==3:\n",
    "     print('mul of x and y is',mul(x,y))\n",
    "\n",
    "else:\n",
    "     print('div of x and y is',div(x,y))\n",
    "\n",
    "\n",
    "\n",
    "\n",
    "\n",
    "    "
   ]
  },
  {
   "cell_type": "code",
   "execution_count": null,
   "id": "fed86e5d-ef26-4163-833e-a2fbadc0bc68",
   "metadata": {},
   "outputs": [],
   "source": [
    "def recu_fab(n):\n",
    "    if n<=1:\n",
    "        return n\n",
    "    else:\n",
    "        return (recu_fab(n-1)+recu_fab(n-2))\n",
    "\n",
    "num=eval(input('enter a number'))\n",
    "if num<=0:\n",
    "    print('enter greater number')\n",
    "\n",
    "else:\n",
    "    for i in range(num):\n",
    "        print(recu_fab(i))"
   ]
  },
  {
   "cell_type": "code",
   "execution_count": null,
   "id": "efc9faf3-22fc-4a22-ad6d-694fc3d46fd4",
   "metadata": {},
   "outputs": [],
   "source": [
    "def recur_fact(n):\n",
    "    if n==1:\n",
    "        return n\n",
    "    else:\n",
    "        return n*recur_fact(n-1)\n",
    "\n",
    "num=eval(input('enter a number'))\n",
    "if num<=0:\n",
    "    print('enter a postive num')\n",
    "\n",
    "elif num>0:\n",
    "    print('factorial of num is ',recur_fact(num))"
   ]
  },
  {
   "cell_type": "code",
   "execution_count": null,
   "id": "43bb5c13-e326-477f-988d-c88f3b439c2b",
   "metadata": {},
   "outputs": [],
   "source": [
    "import math\n",
    "num=eval(input('enter a num'))\n",
    "if num<0:\n",
    "    print('enter a postive num')\n",
    "\n",
    "else:\n",
    "    cal=math.log(num)\n",
    "    print(cal)"
   ]
  },
  {
   "cell_type": "code",
   "execution_count": null,
   "id": "51c779b9-f4a0-4530-9166-cfac632c086c",
   "metadata": {},
   "outputs": [],
   "source": [
    "def cube_num(n):\n",
    "    if n<=0:\n",
    "        return 0\n",
    "    else:\n",
    "       total=0\n",
    "       for i in range(1,num+1):\n",
    "           total+=(i**3)\n",
    "       print(total)\n",
    "       return total\n",
    "\n",
    "num=eval(input('enter a number'))\n",
    "if num<=0:\n",
    "    print('positive numbers only')\n",
    "\n",
    "else:\n",
    "    result=cube_num(num)\n",
    "    print(result)"
   ]
  },
  {
   "cell_type": "code",
   "execution_count": null,
   "id": "25a23461-0f2e-40de-9f46-f0d87545135f",
   "metadata": {},
   "outputs": [],
   "source": [
    "4**4+3**3+2**2+1"
   ]
  },
  {
   "cell_type": "code",
   "execution_count": null,
   "id": "85145176-4015-4087-8765-ff2cbd16e464",
   "metadata": {},
   "outputs": [],
   "source": [
    "def cube_sum_of_natural_numbers(n):\n",
    "    sum = 0\n",
    "    if n <= 0:\n",
    "        return 0\n",
    "    else:\n",
    "        for i in range(1, n + 1):\n",
    "            sum+=i**3\n",
    "        return sum\n",
    "# Input the number of natural numbers\n",
    "n = int(input(\"Enter the value of n: \"))\n",
    "result = cube_sum_of_natural_numbers(n)\n",
    "print(f\"The cube sum of the first {n} natural numbers is: {result}\")"
   ]
  },
  {
   "cell_type": "code",
   "execution_count": null,
   "id": "c7214748-9e8c-448d-a1ce-7f838944f5d0",
   "metadata": {},
   "outputs": [],
   "source": [
    "sum=eval(input('enter a number'))\n",
    "for i in range(1,sum+1):\n",
    "    if i>0:\n",
    "        print(i**3)\n",
    "    else:\n",
    "        print('not value')"
   ]
  },
  {
   "cell_type": "code",
   "execution_count": null,
   "id": "d988fbc7-0254-4271-95a2-521c3c4fe175",
   "metadata": {},
   "outputs": [],
   "source": [
    "arr = [1,2,3]\n",
    "s=0\n",
    "for i in arr:\n",
    "    s+=i\n",
    "print(s)\n"
   ]
  },
  {
   "cell_type": "code",
   "execution_count": null,
   "id": "41ccd351-0177-4119-9fcd-b2db2c2b19e5",
   "metadata": {},
   "outputs": [],
   "source": [
    "def sum_arr(x):\n",
    "    total=0\n",
    "    for i in arr:\n",
    "        total+=i\n",
    "\n",
    "    return total\n",
    "\n",
    "num=[1,2,3]\n",
    "n1=sum_arr(num)\n",
    "print(n1)\n",
    "\n",
    "        \n",
    "        "
   ]
  },
  {
   "cell_type": "code",
   "execution_count": null,
   "id": "cf41f090-8231-4467-ba73-8e6fcbfe4e81",
   "metadata": {},
   "outputs": [],
   "source": [
    "print('hello world')"
   ]
  },
  {
   "cell_type": "code",
   "execution_count": null,
   "id": "f2d7c0f9-a0d6-4506-9b56-49434a8c7e11",
   "metadata": {},
   "outputs": [],
   "source": [
    "num1=20\n",
    "num2=10\n",
    "add=num1+num2\n",
    "print(add)\n",
    "\n",
    "div=n1/n2\n",
    "print(div)"
   ]
  },
  {
   "cell_type": "code",
   "execution_count": null,
   "id": "9e62601d-a79d-4266-b621-9c4e36ddce77",
   "metadata": {},
   "outputs": [],
   "source": [
    "base=20\n",
    "height=5\n",
    "area_of_triangle=0.5*base*height\n",
    "print(area_of_triangle)"
   ]
  },
  {
   "cell_type": "code",
   "execution_count": null,
   "id": "1136183d-063a-4068-9b0e-01af500590ee",
   "metadata": {},
   "outputs": [],
   "source": [
    "n1=10\n",
    "n2=29\n",
    "temp_num=n1\n",
    "n1=n2\n",
    "n2=temp_num\n",
    "\n",
    "print(n1,n2)\n"
   ]
  },
  {
   "cell_type": "code",
   "execution_count": null,
   "id": "bd82a99c-029e-455b-9933-c62a4bcbc7e3",
   "metadata": {},
   "outputs": [],
   "source": [
    "import random\n",
    "random.randint(1,100)"
   ]
  },
  {
   "cell_type": "code",
   "execution_count": null,
   "id": "5fcf9e0b-fabe-49f2-8bf9-17d98579b65b",
   "metadata": {},
   "outputs": [],
   "source": [
    "km=eval(input('enter a km'))\n",
    "dis=0.623\n",
    "mile=dis*km\n",
    "print(mile)"
   ]
  },
  {
   "cell_type": "code",
   "execution_count": null,
   "id": "fb35d4c7-0cb5-4cdb-8484-ad7d2863b5b4",
   "metadata": {},
   "outputs": [],
   "source": [
    "import calendar\n",
    "year=int(input('enter a number'))\n",
    "date=int(input('enter a number'))\n",
    "result=calendar.month(year,date)\n",
    "print(result)\n"
   ]
  },
  {
   "cell_type": "code",
   "execution_count": null,
   "id": "7837567e-ff2c-4853-a0d8-5782b2b92bde",
   "metadata": {},
   "outputs": [],
   "source": [
    "cel=eval(input('enter a celsuis'))\n",
    "ans=(9/5*cel)+32\n",
    "print(ans)"
   ]
  },
  {
   "cell_type": "code",
   "execution_count": null,
   "id": "9cd86518-302a-4867-9e9e-3e8db1838d56",
   "metadata": {},
   "outputs": [],
   "source": [
    "a=eval(input('enter a number'))\n",
    "b=eval(input('enter a number'))\n",
    "c=eval(input('enter a number'))\n",
    "dis=(b**2)-(4*a*c)\n",
    "if dis>0:\n",
    "    root1=(-b+math.sqrt(dis))/(2*a)\n",
    "    root2=(-b-math.sqrt(dis))/(2*a)\n",
    "    print(root1,root2)\n",
    "\n",
    "elif dis==0:\n",
    "    root=-b/2*a\n",
    "    print(root)\n",
    "\n",
    "else:\n",
    "    real=-b/2*a\n",
    "    img=(math.sqrt(abs(dis)))/(2*a)\n",
    "    root1=real+img\n",
    "    root2=real-img\n",
    "    print(root1,root2)\n",
    "    \n",
    "    "
   ]
  },
  {
   "cell_type": "code",
   "execution_count": null,
   "id": "e64d00b4-98e3-4688-b420-7669b54db7ba",
   "metadata": {},
   "outputs": [],
   "source": [
    "n1=1\n",
    "n2=2\n",
    "n1,n2=n2,n1\n",
    "print(n1,n2)"
   ]
  },
  {
   "cell_type": "code",
   "execution_count": null,
   "id": "6a77a6ba-fc88-46e7-9084-9ffdd558da81",
   "metadata": {},
   "outputs": [],
   "source": [
    "num1=eval(input('enter a number'))\n",
    "if num1<0:\n",
    "    print('negative number')\n",
    "\n",
    "elif num1==0:\n",
    "    print('number is zero')\n",
    "\n",
    "else:\n",
    "    print('postive')"
   ]
  },
  {
   "cell_type": "code",
   "execution_count": null,
   "id": "bfbed7ff-45df-4d80-b474-9b24d86d6af6",
   "metadata": {},
   "outputs": [],
   "source": [
    "num=eval(input('enter a number'))\n",
    "if num%2==0:\n",
    "    print('even')\n",
    "else:\n",
    "    print('odd')\n",
    "    "
   ]
  },
  {
   "cell_type": "code",
   "execution_count": null,
   "id": "69c4a5d1-d81c-47d2-97e0-ea1ddb62dccc",
   "metadata": {},
   "outputs": [],
   "source": [
    "num1=eval(input('enter a number'))\n",
    "for i in range(2,num1+1):\n",
    "    if i%2==0:\n",
    "        print(i,'even')\n",
    "\n",
    "    else:\n",
    "        print(i,'odd')\n",
    "    "
   ]
  },
  {
   "cell_type": "code",
   "execution_count": null,
   "id": "551e9b4c-ec21-43f0-9c31-c1c666bf5944",
   "metadata": {},
   "outputs": [],
   "source": [
    "num=int(input('enter a number'))\n",
    "if (num%400==0) & (num%100==0):\n",
    "    print('leap year')\n",
    "\n",
    "elif (num%4==0) & (num%100!=0):\n",
    "    print('leap year')\n",
    "\n",
    "else:\n",
    "    print('not a leap year')"
   ]
  },
  {
   "cell_type": "code",
   "execution_count": null,
   "id": "0f539718-cce9-4ba5-8d85-12b8ceb3dd3e",
   "metadata": {},
   "outputs": [],
   "source": [
    "num=eval(input('enter a number'))\n",
    "if num<0:\n",
    "    print('postive number pld')\n",
    "\n",
    "else:\n",
    "    for i in range(2,num):\n",
    "        if num%i==0:\n",
    "            print('not prime')\n",
    "            break\n",
    "    else:\n",
    "        print('prime')"
   ]
  },
  {
   "cell_type": "code",
   "execution_count": null,
   "id": "e639fc99-1b17-431f-a063-7b9b3bad69d7",
   "metadata": {},
   "outputs": [],
   "source": [
    "num1=1\n",
    "num2=10\n",
    "for num in range(num1,num2+1):\n",
    "    if num>1:\n",
    "        for i in range(2,num):\n",
    "            if num%i==0:\n",
    "               break\n",
    "        else:\n",
    "            print(num)"
   ]
  },
  {
   "cell_type": "code",
   "execution_count": null,
   "id": "70df6b89-2234-40c2-a8d5-d081e15fca39",
   "metadata": {},
   "outputs": [],
   "source": [
    "num=eval(input('enter a number'))\n",
    "fact=1\n",
    "for i in range(1,num+1):\n",
    "    if i>0:\n",
    "        fact*=i\n",
    "        print(fact)\n",
    "\n",
    "\n",
    "        \n",
    "        "
   ]
  },
  {
   "cell_type": "code",
   "execution_count": null,
   "id": "6315841d-91d6-45c4-8a75-72cdbf4749a0",
   "metadata": {},
   "outputs": [],
   "source": [
    "num=eval(input('enter a number'))\n",
    "nu=1\n",
    "for i in range(1,11):\n",
    "    if num>0:\n",
    "        print(f'{num}*{i} = {i*num}')"
   ]
  },
  {
   "cell_type": "code",
   "execution_count": null,
   "id": "45e0734a-645b-4cf7-9381-1f03884125d3",
   "metadata": {},
   "outputs": [],
   "source": [
    "num=eval(input('enter a number'))\n",
    "n1,n2=0,1\n",
    "count=0\n",
    "if num>0:\n",
    "    print('fab seq')\n",
    "    while count<num:\n",
    "        print(n1)\n",
    "        nth=n1+n2\n",
    "        n1=n2\n",
    "        n2=nth\n",
    "        count+=1\n",
    "        \n",
    "    \n",
    "        "
   ]
  },
  {
   "cell_type": "code",
   "execution_count": null,
   "id": "e73a7351-8fd7-4b8d-83af-41eef0be3c38",
   "metadata": {},
   "outputs": [],
   "source": [
    "num=eval(input('enter a number'))\n",
    "digit=len(str(num))\n",
    "sum_of_powers=0\n",
    "temp_num=num\n",
    "while temp_num>0:\n",
    "    n1=temp_num%10\n",
    "    sum_of_powers+=n1**digit\n",
    "    temp_num//=10\n",
    "\n",
    "if sum_of_powers==num:\n",
    "        print('arm')\n",
    "        \n",
    "else:\n",
    "    print('not  armstrong')\n",
    "            \n"
   ]
  },
  {
   "cell_type": "code",
   "execution_count": null,
   "id": "62cf98ed-b7fc-4754-a2ca-f8c2c63b3504",
   "metadata": {},
   "outputs": [],
   "source": [
    "num1=eval(input('enter a number'))\n",
    "num2=eval(input('enter a number'))\n",
    "for num in range(num1,num2):\n",
    "    digit=len(str(num))\n",
    "    temp_num=num\n",
    "    sum_of_powers=0\n",
    "    while temp_num>0:\n",
    "        s1=temp_num%10\n",
    "        sum_of_powers+=s1**digit\n",
    "        temp_num//=10\n",
    "    if sum_of_powers==num:\n",
    "        print(num)\n",
    "    \n",
    "        "
   ]
  },
  {
   "cell_type": "code",
   "execution_count": null,
   "id": "470a48ab-c769-4c3d-b325-5672615dd069",
   "metadata": {},
   "outputs": [],
   "source": [
    "def compu_lcm(x,y):\n",
    "    if x>y:\n",
    "        larger=x\n",
    "    else:\n",
    "        larger=y\n",
    "    while True:\n",
    "        if (larger%x==0) & (larger%y==0):\n",
    "            lcm=larger\n",
    "            return lcm\n",
    "            break\n",
    "        larger+=1\n",
    "\n",
    "num=eval(input('enter a number'))\n",
    "num2=eval(input('enter a number'))\n",
    "print(f'lcm is {compu_lcm(num,num2)}')\n",
    "        "
   ]
  },
  {
   "cell_type": "code",
   "execution_count": null,
   "id": "41e0d3c0-6554-43b6-9420-708fbe94fb2a",
   "metadata": {},
   "outputs": [],
   "source": [
    "def compute_hcf(x,y):\n",
    "    if x<y:\n",
    "        smaller=x\n",
    "    else:\n",
    "        smaller=y\n",
    "    for i in range(1,smaller+1):\n",
    "        if (x%i==0)&(y%i==0):\n",
    "            hcf=smaller\n",
    "            return hcf\n",
    "            break\n",
    "    smaller+=1\n",
    "num=eval(input('enter a number'))\n",
    "num2=eval(input('enter a number'))\n",
    "print(f'lcm is {compute_hcf(num,num2)}')\n",
    "        \n"
   ]
  },
  {
   "cell_type": "code",
   "execution_count": null,
   "id": "00a54152-8e36-417f-b125-71a1faa62c44",
   "metadata": {},
   "outputs": [],
   "source": [
    "def compute_fab(n):\n",
    "    if n<=1:\n",
    "        return n\n",
    "    else:\n",
    "        return(compute_fab(n-1)+compute_fab(n-2))\n",
    "\n",
    "num1=num=eval(input('enter a number'))\n",
    "if num<0:\n",
    "    print('print positive')\n",
    "\n",
    "else:\n",
    "    for i in range(num+1):\n",
    "        print(compute_fab(i))\n",
    "        \n",
    "    "
   ]
  },
  {
   "cell_type": "code",
   "execution_count": null,
   "id": "edfb078d-c90f-49e5-a0a2-7939d8aedd42",
   "metadata": {},
   "outputs": [],
   "source": [
    "def cube_sum_of_natural_numbers(n):\n",
    "    if n <= 0:\n",
    "        return 0\n",
    "    else:\n",
    "        total = sum([i**3 for i in range(1, n + 1)])\n",
    "        return total\n",
    "# Input the number of natural numbers\n",
    "n = int(input(\"Enter the value of n: \"))\n",
    "if n <= 0:\n",
    "    print(\"Please enter a positive integer.\")\n",
    "else:\n",
    "    result = cube_sum_of_natural_numbers(n)\n",
    "    print(f\"The cube sum of the first {n} natural numbers is: {result}\")"
   ]
  },
  {
   "cell_type": "code",
   "execution_count": null,
   "id": "290ecd48-b922-4a82-ab4d-baaf27f83788",
   "metadata": {},
   "outputs": [],
   "source": [
    "arr=[1,2,3]\n",
    "sum1=sum(arr)"
   ]
  },
  {
   "cell_type": "code",
   "execution_count": null,
   "id": "d015766d-4324-44b5-80c5-5b7c7d26eb33",
   "metadata": {},
   "outputs": [],
   "source": [
    "def sum_arr(array):\n",
    "    total=0\n",
    "    for i in array:\n",
    "        total+=i\n",
    "    return total\n",
    "    \n",
    "num=[1,2,3,4]\n",
    "print(sum_arr(num))"
   ]
  },
  {
   "cell_type": "code",
   "execution_count": null,
   "id": "6ab5a6d9-3ff6-47d7-a839-333d09f067ef",
   "metadata": {},
   "outputs": [],
   "source": [
    "def largest_arra(n):\n",
    "    if not n:\n",
    "        print('enpyt array')\n",
    "    num=n[0]\n",
    "    for i in n:\n",
    "        if i>num:\n",
    "            num=i\n",
    "    return num\n",
    "\n",
    "num1=[1,2,3,4,5]\n",
    "print(largest_arra(num1))\n",
    "            "
   ]
  },
  {
   "cell_type": "code",
   "execution_count": null,
   "id": "26974085-e628-4a2f-a94b-abdc95f3c196",
   "metadata": {},
   "outputs": [],
   "source": [
    "def rotatory_array(arr,d):\n",
    "    n=len(arr)\n",
    "    if d>=n or d<0:\n",
    "        return 'invalid'\n",
    "    rotatory_arr=[0]*n\n",
    "    print(rotatory_arr)\n",
    "    for i in range(n):\n",
    "        rotatory_arr[i]=arr[(i+d)%n]\n",
    "        print(arr[(i+d)%n])\n",
    "        print(rotatory_arr[i])\n",
    "    return rotatory_arr\n",
    "# Input array\n",
    "arr1 = [1, 2, 3, 4, 5]\n",
    "# Number of positions to rotate\n",
    "d1= 2\n",
    "# Call the rotate_array function\n",
    "result = rotatory_array(arr1, d1)\n",
    "# Print the rotated array\n",
    "print(\"Original Array:\", arr1)\n",
    "print(\"Rotated Array:\", result)\n"
   ]
  },
  {
   "cell_type": "code",
   "execution_count": null,
   "id": "3e3cc116-e6b8-40a8-9f70-92a891b171ea",
   "metadata": {},
   "outputs": [],
   "source": [
    "Index 0 of the rotated array: (0 + 2) % 5 = 2, so arr = 3\n",
    "Index 1 of the rotated array: (1 + 2) % 5 = 3, so arr = 4\n",
    "Index 2 of the rotated array: (2 + 2) % 5 = 4, so arr = 5\n",
    "Index 3 of the rotated array: (3 + 2) % 5 = 0, so arr = 1\n",
    "Index 4 of the rotated array: (4 + 2) % 5 = 1, so arr = 2"
   ]
  },
  {
   "cell_type": "code",
   "execution_count": null,
   "id": "4b60561d-653d-4fb2-8b1c-3193662d1976",
   "metadata": {},
   "outputs": [],
   "source": [
    "(0 + 2) % 5 \n"
   ]
  },
  {
   "cell_type": "code",
   "execution_count": null,
   "id": "5b97b6b8-a5fb-4d01-9592-c93b5b9a33fb",
   "metadata": {},
   "outputs": [],
   "source": [
    "10%2"
   ]
  },
  {
   "cell_type": "code",
   "execution_count": null,
   "id": "190aa058-d864-4acb-9a58-eeb361783b04",
   "metadata": {},
   "outputs": [],
   "source": [
    "2%5"
   ]
  },
  {
   "cell_type": "code",
   "execution_count": null,
   "id": "dc28e1a1-7369-40bb-a797-c193ac8c8ff2",
   "metadata": {},
   "outputs": [],
   "source": [
    "def rot_arr(arr,d):\n",
    "    n=len(arr)\n",
    "    if n<=0 or n<d:\n",
    "        return 'invalid'\n",
    "    rotat_arr=[0]*n\n",
    "    for i in range(n):\n",
    "        rotat_arr[i]=arr[(i+d)%n]\n",
    "    return rotat_arr\n",
    "\n",
    "num=[1,2,3,4,5,6]\n",
    "d=3\n",
    "result=rot_arr(num,d)\n",
    "print(num,result)"
   ]
  },
  {
   "cell_type": "code",
   "execution_count": null,
   "id": "8e20ae52-152f-4b1b-a0fd-02261b15d201",
   "metadata": {},
   "outputs": [],
   "source": [
    "def splt(arr,k):\n",
    "    if k<=0 or k>=len(arr):\n",
    "        return 'no'\n",
    "    first=arr[:k]\n",
    "    second=arr[k:]\n",
    "    result=second+first\n",
    "    return result\n",
    "num=[1,2,3,4,5]\n",
    "k1=3\n",
    "result1=splt(num,k1)\n",
    "print(num,result1)"
   ]
  },
  {
   "cell_type": "code",
   "execution_count": null,
   "id": "45dc502a-8425-49bd-b63c-3e1b76d7a5f6",
   "metadata": {},
   "outputs": [],
   "source": [
    "def split_and_add(arr, k):\n",
    "    if k <= 0 or k >= len(arr):\n",
    "        return arr\n",
    "    # Split the array into two parts\n",
    "    first_part = arr[:k]\n",
    "    second_part = arr[k:]\n",
    "# Add the first part to the end of the second part\n",
    "    result = second_part + first_part\n",
    "    return result\n",
    "# Test the function\n",
    "arr = [1, 2, 3, 4, 5]\n",
    "k = 3\n",
    "result = split_and_add(arr, k)\n",
    "print(\"Original Array:\", arr)\n",
    "print(\"Array after splitting and adding:\", result)"
   ]
  },
  {
   "cell_type": "code",
   "execution_count": null,
   "id": "929c8f37-bb8a-486a-a4e8-f1803508494c",
   "metadata": {},
   "outputs": [],
   "source": [
    "def mon_arr(n):\n",
    "    Decreasing=increasing=True\n",
    "    for i in range(1,len(n)):\n",
    "        if n[i]>n[i-1]:\n",
    "            Decreasing=False\n",
    "        elif n[i]<n[i-1]:\n",
    "            increasing=False\n",
    "    return Decreasing or increasing\n",
    "\n",
    "n1=[1,2,3,4]\n",
    "n2=[4,3,2,1]\n",
    "m3=[1,3,2,4]\n",
    "print(mon_arr(n1))\n",
    "print(mon_arr(n2))\n",
    "print(mon_arr(m3))"
   ]
  },
  {
   "cell_type": "code",
   "execution_count": null,
   "id": "51d607c5-7cff-46cd-b091-f1ebf4865f4d",
   "metadata": {},
   "outputs": [],
   "source": [
    "def is_monotonic(arr):\n",
    "    increasing = decreasing = True\n",
    "    for i in range(1, len(arr)):\n",
    "        if arr[i] > arr[i - 1]:\n",
    "            decreasing=False\n",
    "        elif arr[i] < arr[i - 1]:\n",
    "             increasing =False\n",
    "    return increasing or decreasing\n",
    "# Test the function\n",
    "arr1 = [1, 2, 2, 3] # Monotonic (non-decreasing)\n",
    "arr2 = [3, 2, 1,0] # Monotonic (non-increasing)\n",
    "arr3 = [1, 3, 2, 4] # Not monotonic\n",
    "print(\"arr1 is monotonic:\", is_monotonic(arr1))\n",
    "print(\"arr2 is monotonic:\", is_monotonic(arr2))\n",
    "print(\"arr3 is monotonic:\", is_monotonic(arr3))"
   ]
  },
  {
   "cell_type": "code",
   "execution_count": null,
   "id": "ec91834e-f985-4613-a3e8-1e5fda2228f4",
   "metadata": {},
   "outputs": [],
   "source": [
    "def comp_mon(n):\n",
    "    increasing=decreasing=True\n",
    "    for i in range(1,len(n)):\n",
    "        if n[i]>n[i-1]:\n",
    "            increasing=False\n",
    "        elif n[i]<n[i-1]:\n",
    "            decreasing=False\n",
    "    return increasing or decreasing\n",
    "arr1 = [1, 2, 2, 3] # Monotonic (non-decreasing)\n",
    "arr2 = [3, 2, 1] # Monotonic (non-increasing)\n",
    "arr3 = [1, 3, 2, 4] # Not monotonic\n",
    "print(\"arr1 is monotonic:\", comp_mon(arr1))\n",
    "print(\"arr2 is monotonic:\", comp_mon(arr2))\n",
    "print(\"arr3 is monotonic:\", comp_mon(arr3))\n"
   ]
  },
  {
   "cell_type": "code",
   "execution_count": null,
   "id": "273f58b1-ad54-4de8-9416-d3986f97b77a",
   "metadata": {},
   "outputs": [],
   "source": [
    "my_name=str(input('enter a name'))\n",
    "words_cap=[i.capitalize()  for i in my_name.split()]\n",
    "words_cap.sort()\n",
    "for j in words_cap:\n",
    "    print(j)"
   ]
  },
  {
   "cell_type": "code",
   "execution_count": null,
   "id": "d04b9b1f-910f-4c25-a321-2ebe4c5e484d",
   "metadata": {},
   "outputs": [],
   "source": [
    "def compute_split(arr,n):\n",
    "    if n<=0 or n<len(arr):\n",
    "        first=arr[:n]\n",
    "        second=arr[n:]\n",
    "        num=second+first\n",
    "    return num\n",
    "\n",
    "array=[1,2,3,4,5]\n",
    "d=2\n",
    "result=compute_split(array,d)\n",
    "print(array,result)\n",
    "    "
   ]
  },
  {
   "cell_type": "code",
   "execution_count": null,
   "id": "bf885fe9-22cb-4c85-a10d-c93bbb63301a",
   "metadata": {},
   "outputs": [],
   "source": [
    "def mon(n):\n",
    "    increasing=decreasing=True\n",
    "    for i in range(1,len(n)):\n",
    "        if n[i]<n[i-1]:\n",
    "            increasing=False\n",
    "        elif n[i]>n[i-1]:\n",
    "            decreasing=False\n",
    "    return increasing or decreasing\n",
    "num=[1,2,3,4]\n",
    "num1=[4,3,2,1]\n",
    "num3=[1,4,2,9]\n",
    "print(mon(num))\n",
    "print(mon(num1))\n",
    "print(mon(num3))"
   ]
  },
  {
   "cell_type": "code",
   "execution_count": null,
   "id": "bbd0a5c3-0ac7-42a9-bf2b-919fbbd23282",
   "metadata": {},
   "outputs": [],
   "source": [
    "def matric_add(x,y):\n",
    "    if len(x)!=len(y) or len(x[0])!=len(y[0]):\n",
    "        return 'invalid'\n",
    "        result=[]\n",
    "        for i in range(len(x)):\n",
    "            row=[]\n",
    "            for j in range(len(x[0])):\n",
    "                row.append(x[i][j]+y[i][j])\n",
    "            result.append(row)\n",
    "        return result\n",
    " \n",
    "arr1=[\n",
    "    [1,2,3],\n",
    "     [1,2,3],\n",
    "     [1,2,3]\n",
    "]\n",
    "arr2=[\n",
    "    [1,2,3],\n",
    "     [1,2,3],\n",
    "     [1,2,3]\n",
    "]\n",
    "\n",
    "result1=matric_add(arr1,arr2)\n",
    "if isinstance(result,str):\n",
    "    print(result)\n",
    "else:\n",
    "    print('matrices')\n",
    "    for row in result:\n",
    "        print(row)\n",
    "\n",
    "                "
   ]
  },
  {
   "cell_type": "code",
   "execution_count": null,
   "id": "17880b7c-3b2d-444a-aa20-5798fd190aa9",
   "metadata": {},
   "outputs": [],
   "source": [
    "# Function to add two matrices\n",
    "def add_matrices(mat1, mat2):\n",
    "# Check if the matrices have the same dimensions\n",
    "    if len(mat1) != len(mat2) or len(mat1[0]) != len(mat2[0]):\n",
    "        return \"Matrices must have the same dimensions for addition\"\n",
    "# Initialize an empty result matrix with the same dimensions\n",
    "    result = []\n",
    "    for i in range(len(mat1)):\n",
    "        row = []\n",
    "        for j in range(len(mat1[0])):\n",
    "            row.append(mat1[i][j] + mat2[i][j])\n",
    "        result.append(row)\n",
    "    return result\n",
    "# Inputmatrices\n",
    "matrix1 = [\n",
    "[1, 2, 3],\n",
    "[4, 5, 6],\n",
    "[7, 8, 9]\n",
    "]\n",
    "matrix2 = [\n",
    "[9, 8, 7],\n",
    "[6, 5, 4],\n",
    "[3, 2, 1]\n",
    "]\n",
    "# Call the add_matrices function\n",
    "result_matrix = add_matrices(matrix1, matrix2)\n",
    "# Display the result\n",
    "if isinstance(result_matrix, str):\n",
    "    /print(result_matrix)\n",
    "else:\n",
    "    print(\"Sum of matrices:\")\n",
    "    for row in result_matrix:\n",
    "        print(row)"
   ]
  },
  {
   "cell_type": "code",
   "execution_count": null,
   "id": "9a119e74-c694-43de-814e-d6f5e90127b8",
   "metadata": {},
   "outputs": [],
   "source": [
    "def row_add(arr1,arr2):\n",
    "    if len(arr1)==len(arr2) and  arr1[0]==arr2[0]:\n",
    "        result=[]\n",
    "        for i in range(len(arr1)):\n",
    "            row=[]\n",
    "            for j in range(len(arr1[0])):\n",
    "                row.append(arr1[i][j]+arr2[i][j])\n",
    "            result.append(row)\n",
    "        return result\n",
    "\n",
    "arr1=[\n",
    "    [1,2,3],\n",
    "     [1,2,3],\n",
    "     [1,2,3]\n",
    "]\n",
    "arr2=[\n",
    "    [1,2,3],\n",
    "     [1,2,3],\n",
    "     [1,2,3]\n",
    "     ]\n",
    "\n",
    "result1= row_add(arr1,arr2)\n",
    "if isinstance(result1,str):\n",
    "    print(result1)\n",
    "\n",
    "else:\n",
    "    print('matrices')\n",
    "    for row in result1:\n",
    "        print(row)\n",
    "        "
   ]
  },
  {
   "cell_type": "code",
   "execution_count": null,
   "id": "21495a4e-fbe4-4a59-9044-a1d365625099",
   "metadata": {},
   "outputs": [],
   "source": [
    "def add_matrices(mat1, mat2):\n",
    "# Check if the matrices have the same dimensions\n",
    "    if len(mat1) != len(mat2) or len(mat1[0]) != len(mat2[0]):\n",
    "        return \"Matrices must have the same dimensions for addition\"\n",
    "# Initialize an empty result matrix with the same dimensions\n",
    "    result = []\n",
    "    for i in range(len(mat1)):\n",
    "        row = []\n",
    "        for j in range(len(mat1[0])):\n",
    "            row.append(mat1[i][j] + mat2[i][j])\n",
    "        result.append(row)\n",
    "    return result\n",
    "# Inputmatrices\n",
    "matrix1 = [\n",
    "[1, 2, 3],\n",
    "[4, 5, 6],\n",
    "[7, 8, 9]\n",
    "]\n",
    "matrix2 = [\n",
    "[9, 8, 7],\n",
    "[6, 5, 4],\n",
    "[3, 2, 1]\n",
    "]\n",
    "# Call the add_matrices function\n",
    "result_matrix = add_matrices(matrix1, matrix2)\n",
    "# Display the result\n",
    "if isinstance(result_matrix, str):\n",
    "    print(result_matrix)\n",
    "else:\n",
    "    print(\"Sum of matrices:\")\n",
    "    for row in result_matrix:\n",
    "        print(row)"
   ]
  },
  {
   "cell_type": "code",
   "execution_count": null,
   "id": "26a7b7a5-a537-4ab6-a753-0f083a700886",
   "metadata": {},
   "outputs": [],
   "source": [
    "def mul_matric(x,y):\n",
    "    row1=len(x)\n",
    "    col1=len(x[0])\n",
    "    row2=len(y)\n",
    "    col2=len(y[0])\n",
    "    if col1!=row2:\n",
    "        return 'invalid'\n",
    "    result = [[0 for __ in range(col2)]for __ in range(row1)]\n",
    "    for i in range(row1):\n",
    "        for j in range(col2):\n",
    "            for k in range(col1):\n",
    "                result[i][j]+= (x[i][k])*(y[k][j])\n",
    "    return result\n",
    "\n",
    "mat1=[[1,2,3],\n",
    "       [1,2,3]\n",
    "    \n",
    "]\n",
    "mat2=[[1,2],\n",
    "     [1,2],\n",
    "     [1,2]]\n",
    "\n",
    "result_matrix = mul_matric(mat1,mat2)\n",
    "\n",
    "if isinstance(result_matrix,str):\n",
    "    print(result_matrix)\n",
    "\n",
    "else:\n",
    "    print('matrices are')\n",
    "    for row in result_matrix:\n",
    "        print(row)\n",
    "    "
   ]
  },
  {
   "cell_type": "code",
   "execution_count": null,
   "id": "d6915a08-e414-417e-bbcb-1707320cadad",
   "metadata": {},
   "outputs": [],
   "source": [
    "def multiply_matrices(mat1, mat2):\n",
    "# Determine the dimensions of the input matrices\n",
    "    rows1 = len(mat1)\n",
    "    cols1 = len(mat1[0])\n",
    "    rows2 = len(mat2)\n",
    "    cols2 = len(mat2[0])\n",
    "# Check if multiplication is possible\n",
    "    if cols1 != rows2:\n",
    "        return \"Matrix multiplication is not possible. Number of column\"\n",
    "# Initialize the result matrix with zeros\n",
    "    result = [[0 for _ in range(cols2)] for _ in range(rows1)]\n",
    "# Perform matrix multiplication\n",
    "    for i in range(rows1):\n",
    "        for j in range(cols2):\n",
    "            for k in range(cols1):\n",
    "                result[i][j] += mat1[i][k] * mat2[k][j]\n",
    "    return result\n",
    "# Example matrices\n",
    "matrix1 = [[1, 2, 3],\n",
    "[4, 5, 6]]\n",
    "matrix2 = [[7, 8],\n",
    "[9, 10],\n",
    "[11, 12]]\n",
    "# Multiply the matrices\n",
    "result_matrix = multiply_matrices(matrix1, matrix2)\n",
    "# Display the result\n",
    "if isinstance(result_matrix, str):\n",
    "    print(result_matrix)\n",
    "else:\n",
    "    print(\"Result of matrix multiplication:\")\n",
    "    for row in result_matrix:\n",
    "        print(row)"
   ]
  },
  {
   "cell_type": "code",
   "execution_count": null,
   "id": "0f26c7a0-45f7-4529-b3ea-9b7ac46a276c",
   "metadata": {},
   "outputs": [],
   "source": [
    "def com_tran(x):\n",
    "    rows=len(x)\n",
    "    cols=len(x[0])\n",
    "    result=[[0 for _ in range(rows)] for _ in range(cols)]\n",
    "    for i in range(rows):\n",
    "        for j in range(cols):\n",
    "            result[j][i]=x[i][j]\n",
    "    return result\n",
    "\n",
    "arr1=[[1,2,3,4],\n",
    "     [1,2,3,4],\n",
    "      [1,2,3,4]]\n",
    "result1=com_tran(arr1)\n",
    "if isinstance (result1,str):\n",
    "    print(result)\n",
    "\n",
    "else:\n",
    "    print('array')\n",
    "    for row in result1:\n",
    "        print(row)\n"
   ]
  },
  {
   "cell_type": "code",
   "execution_count": null,
   "id": "b53ade30-bbe4-432b-9975-8b2c6c1c6698",
   "metadata": {},
   "outputs": [],
   "source": [
    "st1=str(input('enter a string'))\n",
    "\n",
    "s1=[word.capitalize() for word in st1.split()]\n",
    "s1.sort()\n",
    "print('soretnum')\n",
    "for word in s1:\n",
    "    print(word)\n",
    "\n"
   ]
  },
  {
   "cell_type": "code",
   "execution_count": null,
   "id": "2b45cd74-d146-4e41-9ae5-871177cae4e7",
   "metadata": {},
   "outputs": [],
   "source": [
    "st1=(input('enter a string'))\n",
    "for i in st1.split():\n",
    "    print(i.capitalize())\n",
    "        "
   ]
  },
  {
   "cell_type": "code",
   "execution_count": null,
   "id": "570e7f39-364b-4eda-895f-58e6dde80ded",
   "metadata": {},
   "outputs": [],
   "source": [
    "str2=input('enter a string')\n",
    "n1=''\n",
    "for i in str2.split():\n",
    "    if j not in n1:\n",
    "        n1+=j\n",
    "print(n1)"
   ]
  },
  {
   "cell_type": "code",
   "execution_count": null,
   "id": "f9ea318b-0730-4abc-b9bc-82678394d0aa",
   "metadata": {},
   "outputs": [],
   "source": [
    "punctuations='''!@#$%^&*():\"<>?,.;'{}[]'''\n",
    "str1=str(input('enter a str'))\n",
    "a=''\n",
    "for i in str1:\n",
    "    if i not in punctuations:\n",
    "        a+=i\n",
    "print(a)\n",
    "        "
   ]
  },
  {
   "cell_type": "code",
   "execution_count": null,
   "id": "478bec00-1ef8-42d6-81e0-ae74534d1016",
   "metadata": {},
   "outputs": [],
   "source": [
    "def is_disarium(number):\n",
    "# Convert the number to a string to iterate over its digits\n",
    "    num_str = str(number)\n",
    "# Calculate the sum of digits raised to their respective positions\n",
    "    digit_sum = sum(int(i) ** (index + 1) for index, i in enumerate(num))\n",
    "# Check if the sum is equal to the original number\n",
    "    return digit_sum == number\n",
    "# Input a number from the user\n",
    "try:\n",
    "    num = int(input(\"Enter a number: \"))\n",
    "# Check if it's a Disarium number\n",
    "    if is_disarium(num):\n",
    "        print(f\"{num} is a Disarium number.\")\n",
    "    else:\n",
    "        print(f\"{num} is not a Disarium number.\")\n",
    "except ValueError:\n",
    "    print(\"Invalid input. Please enter a valid number.\")"
   ]
  },
  {
   "cell_type": "code",
   "execution_count": null,
   "id": "05228501-6304-4adc-ad03-819d9a0f318a",
   "metadata": {},
   "outputs": [],
   "source": [
    "def add_matric(x,y):\n",
    "    if len(x)!=len(y) and len(x[0])!=len(y[0]):\n",
    "        return 'invalid'\n",
    "    result=[]\n",
    "    for i in range(len(x)):\n",
    "        row=[]\n",
    "        for j in range(len(x[0])):\n",
    "            row.append(x[i][j]+y[i][j])\n",
    "        result.append(row)\n",
    "    return result\n",
    "\n",
    "array1=[[1,2,3],\n",
    "       [2,1,1],\n",
    "       [1,2,1]]\n",
    "array2=[[1,2,3],\n",
    "       [2,1,1],\n",
    "       [1,2,1]]\n",
    "result_array=add_matric(array1,array2)\n",
    "if isinstance(result_array,str):\n",
    "    print(result_matric)\n",
    "\n",
    "else:\n",
    "    print('add_matric')\n",
    "    for i in result_array:\n",
    "        print(i)\n",
    "            \n",
    "        "
   ]
  },
  {
   "cell_type": "code",
   "execution_count": null,
   "id": "f123a884-4356-4425-98ac-2ced76a71d4d",
   "metadata": {},
   "outputs": [],
   "source": [
    "def mul_matric(x,y):\n",
    "    rows=len(x)\n",
    "    cols=len(x[0])\n",
    "    rows2=len(y)\n",
    "    cols2=len(y[0])\n",
    "    if rows!=cols2:\n",
    "        return 'invalid'\n",
    "    result=[[0 for _ in range(cols2)] for _ in range(rows)]\n",
    "    for i in range(rows):\n",
    "        for j in range(cols2):\n",
    "             for k in range(cols):\n",
    "                    result[i][j]+=x[i][k]*y[k][j]\n",
    "    return result\n",
    "\n",
    "array1=[[1,1,2],\n",
    "       [1,2,3]]\n",
    "array2=[[1,2],\n",
    "       [2,3],\n",
    "       [2,5]]\n",
    "result_array=mul_matric(array1,array2)\n",
    "if isinstance(result_array,str):\n",
    "    print(result_array)\n",
    "else:\n",
    "    print('ans is go')\n",
    "    for rows in result_array:\n",
    "        print(rows)\n",
    "    "
   ]
  },
  {
   "cell_type": "code",
   "execution_count": null,
   "id": "1901e8cb-2589-4798-9ad1-fd904f4a898f",
   "metadata": {},
   "outputs": [],
   "source": [
    "def monotonic(x):\n",
    "    increasing=decreasing=True\n",
    "    for i in range(1,len(x)):\n",
    "        if x[i]>x[i-1]:\n",
    "            increasing=False\n",
    "        elif x[i]<x[i-1]:\n",
    "            decreasing=False\n",
    "    return increasing or decreasing\n",
    "\n",
    "array1=[1,2,3]\n",
    "array2=[8,7,6]\n",
    "array3=[9,1,2]\n",
    "print(monotonic(array1))\n",
    "print(monotonic(array2))\n",
    "print(monotonic(array3))"
   ]
  },
  {
   "cell_type": "code",
   "execution_count": null,
   "id": "df0e1135-6ea1-431f-af17-cc0cc831a4fa",
   "metadata": {},
   "outputs": [],
   "source": [
    "str1=str(input('enter a word'))\n",
    "words=[char.capitalize() for char in str1.split()]\n",
    "for char in str1:\n",
    "    print(char)"
   ]
  },
  {
   "cell_type": "code",
   "execution_count": null,
   "id": "694639ff-6e4e-4237-9644-9a117c627df0",
   "metadata": {},
   "outputs": [],
   "source": [
    "str1=str(input('enter a word'))\n",
    "for i in str1.split():\n",
    "    print(i.capitalize())"
   ]
  },
  {
   "cell_type": "code",
   "execution_count": null,
   "id": "5cb40236-ac44-4699-a2fe-2472036a3845",
   "metadata": {},
   "outputs": [],
   "source": [
    "punctuations='''!@#$%^&*()_+-={}[]|\\:;\"'>.<,?/'''\n",
    "str1=str(input('enter a word'))\n",
    "new=''\n",
    "for word in str1:\n",
    "    if word not in punctuations:\n",
    "        new+=word\n",
    "print(new)"
   ]
  },
  {
   "cell_type": "code",
   "execution_count": null,
   "id": "c97ffc9e-b8cb-4890-ade6-43aa87945fd0",
   "metadata": {},
   "outputs": [],
   "source": [
    "diasrum number ==numsrquare itself and add it will give the same number\n",
    "happy num=num squares itselp and will get 1 by the end\n"
   ]
  },
  {
   "cell_type": "code",
   "execution_count": null,
   "id": "8ffdeba0-b898-4b45-a62d-945d366d5029",
   "metadata": {},
   "outputs": [],
   "source": [
    "num=eval(input('enter a number'))\n",
    "temp_num=num\n",
    "sum_of_powers=0\n",
    "digit=len(str(num))\n",
    "while temp_num>0:\n",
    "    new=temp_num%10\n",
    "    sum_of_powers+=new**digit\n",
    "    temp_num//=10\n",
    "if sum_of_powers==num:\n",
    "    print('armstrum_num')\n",
    "else:\n",
    "    print('not')\n",
    "    "
   ]
  },
  {
   "cell_type": "code",
   "execution_count": null,
   "id": "6542dc19-eaf6-469c-9c00-4fbb83d5d139",
   "metadata": {},
   "outputs": [],
   "source": [
    "num=eval(input('enter a number'))\n",
    "n1=0\n",
    "n2=1\n",
    "count=0\n",
    "if num<=0:\n",
    "    print('another_num')\n",
    "else:\n",
    "    print('sequence')\n",
    "    while count<num:\n",
    "        \n",
    "        print(n1)\n",
    "        nth=n1+n2\n",
    "        n1=n2\n",
    "        n2=nth\n",
    "        count+=1\n",
    "       "
   ]
  },
  {
   "cell_type": "code",
   "execution_count": null,
   "id": "a3b3aafd-8fc4-4366-9ec0-dc80136ba475",
   "metadata": {},
   "outputs": [],
   "source": [
    "def rotatory_array(arr,d):\n",
    "    n=len(arr)\n",
    "    if d>n or d<0:\n",
    "        return 'invali'\n",
    "    reult=[0]*n\n",
    "    for i in range(n):\n",
    "        reult[i]=arr[(i+d)%n]\n",
    "    return reult\n",
    "arr1=[1,8,3,4]\n",
    "d=2\n",
    "result_array=rotatory_array(arr1,d)\n",
    "print(result_array)"
   ]
  },
  {
   "cell_type": "code",
   "execution_count": null,
   "id": "22543f53-b1ca-4886-b31e-d061706f4f45",
   "metadata": {},
   "outputs": [],
   "source": [
    "def is_disarium(num):\n",
    "    num_str = str(num)\n",
    "    digit_sum = sum(int(i) ** (index + 1) for index, j in enumerate(num))\n",
    "    num == digit_sum\n",
    "    return num\n",
    "disarium_numbers = [num for num in range(1, 101) if is_disarium(num)]\n",
    "print(\"Disarium numbers between 1 and 100:\")\n",
    "for num in disarium_numbers:\n",
    "    print(num, end=\" | \")"
   ]
  },
  {
   "cell_type": "code",
   "execution_count": null,
   "id": "9cd411c8-be58-4cba-a6cb-ef5a7866fbd3",
   "metadata": {},
   "outputs": [],
   "source": [
    "def rot_array(array,d):\n",
    "    n=len(array)\n",
    "    if d>n or d==0:\n",
    "        return 'invalid'\n",
    "    row=[0]*n\n",
    "    for i in range(n):\n",
    "        row[i] = array[(i+d)%n]\n",
    "    return row\n",
    "\n",
    "array1=[1,2,3,4]\n",
    "d1=3\n",
    "result_array=rot_array(array1,d)\n",
    "print(result_array)\n",
    "\n",
    "        \n",
    "        "
   ]
  },
  {
   "cell_type": "code",
   "execution_count": null,
   "id": "ae58194f-3de3-4e86-97d9-827c13575529",
   "metadata": {},
   "outputs": [],
   "source": [
    "def is_disarium(number):\n",
    "# Convert the number to a string to iterate over its digits\n",
    "    num_str = str(number)\n",
    "# Calculate the sum of digits raised to their respective positions\n",
    "    digit_sum = sum(int(i) ** (index + 1) for index, i in enumerate(num))\n",
    "# Check if the sum is equal to the original number\n",
    "    return digit_sum == number\n",
    "# Input a number from the user\n",
    "try:\n",
    "    num = int(input(\"Enter a number: \"))\n",
    "# Check if it's a Disarium number\n",
    "    if is_disarium(num):\n",
    "        print(f\"{num} is a Disarium number.\")\n",
    "    else:\n",
    "        print(f\"{num} is not a Disarium number.\")\n",
    "except ValueError:\n",
    "     print(\"Invalid input. Please enter a valid number.\")"
   ]
  },
  {
   "cell_type": "code",
   "execution_count": null,
   "id": "ea17df1a-88b9-41a9-b49f-a513fdabe60a",
   "metadata": {},
   "outputs": [],
   "source": [
    "def is_disarium(num):\n",
    "    # Convert number to string to easily iterate through digits\n",
    "    num_str = str(num)\n",
    "    total = 0\n",
    "    \n",
    "    # Iterate through each digit\n",
    "    for i, digit in enumerate(num_str, 1):\n",
    "        print(i,digit)\n",
    "        # Add digit raised to its position to the total\n",
    "        total += int(digit) ** i\n",
    "    \n",
    "    # Check if the total equals the original number\n",
    "    return total == num\n",
    "\n",
    "# Test the function\n",
    "number = int(input(\"Enter a number to check: \"))\n",
    "if is_disarium(number):\n",
    "    print(f\"{number} is a Disarium number\")\n",
    "else:\n",
    "    print(f\"{number} is not a Disarium number\")"
   ]
  },
  {
   "cell_type": "code",
   "execution_count": null,
   "id": "62ed95ba-f503-48a7-9fc5-0c5d325c8baf",
   "metadata": {},
   "outputs": [],
   "source": [
    "def diassurm_num(num):\n",
    "    str_num=str(num)\n",
    "    total=0\n",
    "    for i,digit in enumerate(str_num,1):\n",
    "        total+=int(digit)**i\n",
    "    return total==num\n",
    "\n",
    "number=int(input('enter anumber'))\n",
    "if diassurm_num(number):\n",
    "    print('it is a diasurm number',number)\n",
    "\n",
    "else:\n",
    "    print('not crt')"
   ]
  },
  {
   "cell_type": "code",
   "execution_count": null,
   "id": "c2855b7b-135f-4fa6-90ee-efac790f72f9",
   "metadata": {},
   "outputs": [],
   "source": [
    "def is_disarium(num):\n",
    "    # Convert number to string for easy digit access\n",
    "    num_str = str(num)\n",
    "    length = len(num_str)\n",
    "    \n",
    "    # Calculate sum of digits raised to their positions\n",
    "    sum = 0\n",
    "    for i in range(length):\n",
    "        sum += int(num_str[i]) ** (i + 1)\n",
    "    \n",
    "    # Check if the sum equals the original number\n",
    "    return sum == num\n",
    "\n",
    "# Print all disarium numbers between 1 and 100\n",
    "print(\"Disarium numbers between 1 and 100:\")\n",
    "for num in range(1, 201):\n",
    "    if is_disarium(num):\n",
    "        print(num, end=\" \")"
   ]
  },
  {
   "cell_type": "code",
   "execution_count": null,
   "id": "91af70bb-357a-47a4-a874-f58e97e59585",
   "metadata": {},
   "outputs": [],
   "source": [
    "def diasurm_num(num):\n",
    "    str_num1=str(num)\n",
    "    len_digit=len(str_num1)\n",
    "    asd=0\n",
    "    for i in range(len_digit):\n",
    "        asd+=int(str_num1[i])**(i+1)\n",
    "    return asd==num\n",
    "\n",
    "for z in range(1,101):\n",
    "    if diasurm_num(z):\n",
    "        print(z,end=' ')\n",
    "        "
   ]
  },
  {
   "cell_type": "code",
   "execution_count": null,
   "id": "67b0f127-e3b0-4db1-9bd1-7b58c0d0d5c0",
   "metadata": {},
   "outputs": [],
   "source": [
    "def diss_num(num):\n",
    "    str_num=str(num)\n",
    "    len_dig=len(str_num)\n",
    "    total=0\n",
    "    for i,digit in enumerate(str_num,1):\n",
    "        total+=int(digit)**i\n",
    "    return total==num\n",
    "\n",
    "number=int(input('enter a num'))\n",
    "if diss_num(number):\n",
    "    print(number,'is dis_num')\n",
    "else:\n",
    "    print('need nect num')"
   ]
  },
  {
   "cell_type": "code",
   "execution_count": null,
   "id": "5dc1b194-d865-4320-964a-7ec9a1ed0e58",
   "metadata": {},
   "outputs": [],
   "source": [
    "def dis_num(num):\n",
    "    str_num=str(num)\n",
    "    digit=len(str_num)\n",
    "    total=0\n",
    "    for i in range(digit):\n",
    "        total+=int(str_num[i])**(i+1)\n",
    "    return total==num\n",
    "\n",
    "for number in range(0,101):\n",
    "    if dis_num(number):\n",
    "        print(number,end=' ')"
   ]
  },
  {
   "cell_type": "code",
   "execution_count": null,
   "id": "30abe8b7-49ef-4638-9227-4d6b49804316",
   "metadata": {},
   "outputs": [],
   "source": [
    "def diassurm_num(x):\n",
    "    y=str(x)\n",
    "    total=0\n",
    "    for i,num in enumerate(y,1):\n",
    "        total+=int(num)**i\n",
    "    return total==x\n",
    "\n",
    "c=int(input('ente a number'))\n",
    "if diassurm_num(c):\n",
    "    print(c,'is a diasurm')\n",
    "else:\n",
    "    print('nit')\n",
    "    "
   ]
  },
  {
   "cell_type": "code",
   "execution_count": 2,
   "id": "5cb16eb3-f100-49e0-8770-7bb75aa7b087",
   "metadata": {},
   "outputs": [
    {
     "name": "stdout",
     "output_type": "stream",
     "text": [
      "0 1 2 3 4 5 6 7 8 9 89 "
     ]
    }
   ],
   "source": [
    "def diassurm_num(x):\n",
    "    str_x=str(x)\n",
    "    len_x=len(str_x)\n",
    "    total=0\n",
    "    for i in range(len_x):\n",
    "        total+=int(str_x[i])**(i+1)\n",
    "    return total==x\n",
    "\n",
    "for i in range(0,101):\n",
    "    if diassurm_num(i):\n",
    "        print(i,end=' ')\n",
    "        "
   ]
  },
  {
   "cell_type": "code",
   "execution_count": 6,
   "id": "fe840248-17c0-4d32-87a1-301a47f1ba99",
   "metadata": {},
   "outputs": [
    {
     "name": "stdin",
     "output_type": "stream",
     "text": [
      "Enter a number:  1\n"
     ]
    },
    {
     "name": "stdout",
     "output_type": "stream",
     "text": [
      "1 is a Happy Number\n"
     ]
    }
   ],
   "source": [
    "def happy_num(x):\n",
    "    str_num=str(x)\n",
    "    store=set()\n",
    "    while x!=1 and x not in store:\n",
    "        \n",
    "        for digit in str(x):\n",
    "            x=sum(int(digit)**2)\n",
    "            store.add(x)\n",
    "    return x==1\n",
    "num = int(input(\"Enter a number: \"))\n",
    "if happy_num(num):\n",
    "    print(f\"{num} is a Happy Number\")\n",
    "else:\n",
    "    print(f\"{num} is not a Happy Number\")"
   ]
  },
  {
   "cell_type": "code",
   "execution_count": 7,
   "id": "94a50b5f-f165-4dcd-883b-5f34bff51821",
   "metadata": {},
   "outputs": [
    {
     "name": "stdin",
     "output_type": "stream",
     "text": [
      "Enter a number to check if it's a Happy Number:  1\n"
     ]
    },
    {
     "name": "stdout",
     "output_type": "stream",
     "text": [
      "1 num\n",
      "1 is a Happy Number!\n"
     ]
    }
   ],
   "source": [
    "def is_happy_number(n):\n",
    "    print(n,'num')\n",
    "    seen = set()\n",
    "    while n != 1:\n",
    "        n = sum(int(digit)**2 for digit in str(n))\n",
    "        print(n)\n",
    "        if n in seen:\n",
    "            print(seen,'seeem')\n",
    "            return False\n",
    "        seen.add(n)\n",
    "    return True\n",
    "\n",
    "# Test the function\n",
    "number = int(input(\"Enter a number to check if it's a Happy Number: \"))\n",
    "if is_happy_number(number):\n",
    "    print(f\"{number} is a Happy Number!\")\n",
    "else:\n",
    "    print(f\"{number} is not a Happy Number.\")"
   ]
  },
  {
   "cell_type": "code",
   "execution_count": null,
   "id": "70771990-4853-4c3a-bdc8-9c0f4e7ad0ae",
   "metadata": {},
   "outputs": [],
   "source": [
    "def is_happy_number(num):\n",
    "    seen = set() # To store previously seen numbers\n",
    "    while num != 1 and num not in seen:\n",
    "        seen.add(num)\n",
    "        num = sum(int(i) ** 2 for i in str(num))\n",
    "    return num == 1\n",
    "# Test the function with a number\n",
    "num = int(input(\"Enter a number: \"))\n",
    "if is_happy_number(num):\n",
    "    print(f\"{num} is a Happy Number\")\n",
    "else:\n",
    "    print(f\"{num} is not a Happy Number\")"
   ]
  },
  {
   "cell_type": "code",
   "execution_count": null,
   "id": "6443464a-d356-4dc1-82b6-d6a06f6962aa",
   "metadata": {},
   "outputs": [],
   "source": [
    "def happy_num(x):\n",
    "    seen=set()\n",
    "    while x!=1 and x not in seen:\n",
    "        seen.add(x)\n",
    "        x=sum(int(digit)**2 for digit in str(x))\n",
    "    return x==1\n",
    "number=int(input('enter a num'))\n",
    "if happy_num(number):\n",
    "    print(number,'happy number')\n",
    "else:\n",
    "    print('try again')"
   ]
  },
  {
   "cell_type": "code",
   "execution_count": 8,
   "id": "2b14412e-ebc3-47e4-b0ec-56553269cc8c",
   "metadata": {},
   "outputs": [
    {
     "name": "stdout",
     "output_type": "stream",
     "text": [
      "happy numbers are [1, 7, 10, 13, 19, 23, 28, 31, 32, 44, 49, 68, 70, 79, 82, 86, 91, 94, 97, 100]\n"
     ]
    }
   ],
   "source": [
    "def happy_num(x):\n",
    "    seat=set()\n",
    "    while x!=1 and x not in seat:\n",
    "        seat.add(x)\n",
    "        x=sum(int(i)**2 for i in str(x))\n",
    "    return x==1\n",
    "\n",
    "number=[]\n",
    "for num in range(0,102):\n",
    "    if happy_num(num):\n",
    "        number.append(num)\n",
    "print('happy numbers are',number)"
   ]
  },
  {
   "cell_type": "code",
   "execution_count": 9,
   "id": "6846772c-f19e-4d48-8aa1-5fe01bc547f9",
   "metadata": {},
   "outputs": [
    {
     "name": "stdin",
     "output_type": "stream",
     "text": [
      "enter a num 10\n"
     ]
    },
    {
     "name": "stdout",
     "output_type": "stream",
     "text": [
      "10 happy number\n"
     ]
    }
   ],
   "source": [
    "def happy_num(num):\n",
    "    seen=set()\n",
    "    while num!=1 and num not in seen:\n",
    "        seen.add(num)\n",
    "        num=sum(int(i)**2 for i in str(num))\n",
    "    return num==1\n",
    "number=int(input('enter a num'))\n",
    "if happy_num(number):\n",
    "    print(number,'happy number')\n",
    "else:\n",
    "    print('try again')\n",
    "    "
   ]
  },
  {
   "cell_type": "code",
   "execution_count": 11,
   "id": "06451a50-9652-459d-918b-36825f1fb72c",
   "metadata": {},
   "outputs": [
    {
     "name": "stdout",
     "output_type": "stream",
     "text": [
      "1 7 10 13 19 23 28 31 32 44 49 68 70 79 82 86 91 94 97 100 "
     ]
    }
   ],
   "source": [
    "def happy_num(num):\n",
    "    seen=set()\n",
    "    while num!=1 and num not in seen:\n",
    "        seen.add(num)\n",
    "        num=sum(int(i)**2 for i in str(num))\n",
    "    return num==1\n",
    "for number in range(0,102):\n",
    "    if happy_num(number):\n",
    "        print(number,end=' ')\n"
   ]
  },
  {
   "cell_type": "code",
   "execution_count": 16,
   "id": "7cef4902-d7c7-4e9a-ab31-b35eddad380f",
   "metadata": {},
   "outputs": [
    {
     "name": "stdin",
     "output_type": "stream",
     "text": [
      "enter a num 18\n"
     ]
    },
    {
     "name": "stdout",
     "output_type": "stream",
     "text": [
      "18 happy number\n"
     ]
    }
   ],
   "source": [
    "def harshad_num(num):\n",
    "   \n",
    "    t1=sum(int(i) for i in str(num))\n",
    "    return num%t1==0\n",
    "number=int(input('enter a num'))\n",
    "if harshad_num(number):\n",
    "    print(number,'happy number')\n",
    "else:\n",
    "    print('try again')\n",
    "    \n"
   ]
  },
  {
   "cell_type": "code",
   "execution_count": 23,
   "id": "4a6a69e0-9cdb-4675-8e50-7da60a1279b8",
   "metadata": {},
   "outputs": [
    {
     "name": "stdin",
     "output_type": "stream",
     "text": [
      "enter a number 12\n"
     ]
    },
    {
     "name": "stdout",
     "output_type": "stream",
     "text": [
      "pee\n"
     ]
    }
   ],
   "source": [
    "num=eval(input('enter a number'))\n",
    "temp_num=num\n",
    "sum_of_powers=0\n",
    "str1=str(num)\n",
    "len1=len(str1)\n",
    "while temp_num>0:\n",
    "    digit=temp_num%10\n",
    "    sum_of_powers+=digit**len1\n",
    "    temp_num//=10\n",
    "if sum_of_powers==num:\n",
    "    print('arm')\n",
    "else:\n",
    "    print('pee')"
   ]
  },
  {
   "cell_type": "code",
   "execution_count": 32,
   "id": "36aaf3c1-2f69-4aa7-969c-8da2569fa3f1",
   "metadata": {},
   "outputs": [
    {
     "name": "stdout",
     "output_type": "stream",
     "text": [
      "Pronic numbers between 1 and 100 are:\n",
      "2 | 6 | 12 | 20 | 30 | 42 | 56 | 72 | 90 | "
     ]
    }
   ],
   "source": [
    "def is_pronic_number(num):\n",
    "    for n in range(1, int(num**0.5) + 1):\n",
    "        \n",
    "        if n * (n + 1) == num:\n",
    "            return True\n",
    "    return False\n",
    "print(\"Pronic numbers between 1 and 100 are:\")\n",
    "for i in range(1, 101):\n",
    "    if is_pronic_number(i):\n",
    "        print(i, end=\" | \")"
   ]
  },
  {
   "cell_type": "code",
   "execution_count": 36,
   "id": "cf9fda2f-c0e5-49b1-a073-7af26dca87d2",
   "metadata": {},
   "outputs": [
    {
     "name": "stdout",
     "output_type": "stream",
     "text": [
      "1\n",
      "2\n",
      "3\n"
     ]
    }
   ],
   "source": [
    " for n in range( 1,int(num**0.5)+1):\n",
    "     print(n)"
   ]
  },
  {
   "cell_type": "code",
   "execution_count": null,
   "id": "c8249c80-a8bb-49a2-b04b-6ba5d1e25b50",
   "metadata": {},
   "outputs": [],
   "source": [
    "def is_pronic(num):\n",
    "    for i in range(int(num**0.5) + 1):\n",
    "        if i * (i + 1) == num:\n",
    "            return True\n",
    "    return False\n",
    "\n",
    "def find_pronic_numbers(start, end):\n",
    "    pronic_nums = []\n",
    "    for num in range(start, end + 1):\n",
    "        if is_pronic(num):\n",
    "            pronic_nums.append(num)\n",
    "    return pronic_nums\n",
    "\n",
    "# Example usage\n",
    "start = 1\n",
    "end = 100\n",
    "pronic_numbers = find_pronic_numbers(start, end)\n",
    "print(f\"Pronic numbers between {start} and {end}:\")\n",
    "print(pronic_numbers)"
   ]
  },
  {
   "cell_type": "code",
   "execution_count": 1,
   "id": "c6cd7e64-cfea-4a9f-b955-a19d13736616",
   "metadata": {},
   "outputs": [
    {
     "name": "stdout",
     "output_type": "stream",
     "text": [
      "hello kitty\n"
     ]
    }
   ],
   "source": [
    "print('hello kitty')"
   ]
  },
  {
   "cell_type": "code",
   "execution_count": 4,
   "id": "18690ec8-280c-4504-92e1-33311632bcb4",
   "metadata": {},
   "outputs": [
    {
     "name": "stdin",
     "output_type": "stream",
     "text": [
      "enter a number 1\n",
      "enter a number 3\n"
     ]
    },
    {
     "name": "stdout",
     "output_type": "stream",
     "text": [
      "4 3\n"
     ]
    }
   ],
   "source": [
    "n1=eval(input('enter a number'))\n",
    "n2=eval(input('enter a number'))\n",
    "sum=n1+n2\n",
    "mul=n1*n2\n",
    "print(sum,mul)"
   ]
  },
  {
   "cell_type": "code",
   "execution_count": 6,
   "id": "3ee38390-f0ba-4873-a6c2-538a4342042d",
   "metadata": {},
   "outputs": [
    {
     "name": "stdin",
     "output_type": "stream",
     "text": [
      "enter a number 2\n",
      "enter a number 3\n"
     ]
    },
    {
     "name": "stdout",
     "output_type": "stream",
     "text": [
      "3.0\n"
     ]
    }
   ],
   "source": [
    "length=eval(input('enter a number'))\n",
    "breath=eval(input('enter a number'))\n",
    "area_of_trainle=0.5*length*breath\n",
    "print(area_of_trainle)"
   ]
  },
  {
   "cell_type": "code",
   "execution_count": 8,
   "id": "251972c3-aa30-4f2d-94c9-fc36077f73d5",
   "metadata": {},
   "outputs": [
    {
     "name": "stdin",
     "output_type": "stream",
     "text": [
      "enter a number 2\n",
      "enter a number 3\n"
     ]
    },
    {
     "name": "stdout",
     "output_type": "stream",
     "text": [
      "3 2\n"
     ]
    }
   ],
   "source": [
    "a=eval(input('enter a number'))\n",
    "b=eval(input('enter a number'))\n",
    "temp_num=a\n",
    "a=b\n",
    "b=temp_num\n",
    "print(a,b)"
   ]
  },
  {
   "cell_type": "code",
   "execution_count": 9,
   "id": "b7559b31-595f-48a7-9c9c-8aa88b22eb72",
   "metadata": {},
   "outputs": [
    {
     "data": {
      "text/plain": [
       "34"
      ]
     },
     "execution_count": 9,
     "metadata": {},
     "output_type": "execute_result"
    }
   ],
   "source": [
    "import random\n",
    "random.randint(1,100)"
   ]
  },
  {
   "cell_type": "code",
   "execution_count": 11,
   "id": "3cd19570-bd8f-4c0d-a46e-596e64aabd91",
   "metadata": {},
   "outputs": [
    {
     "name": "stdin",
     "output_type": "stream",
     "text": [
      "enter a km 7\n"
     ]
    },
    {
     "name": "stdout",
     "output_type": "stream",
     "text": [
      "4.3469999999999995\n"
     ]
    }
   ],
   "source": [
    "km=eval(input('enter a km'))\n",
    "convention_factor=0.621\n",
    "miles=km*convention_factor\n",
    "print(miles)"
   ]
  },
  {
   "cell_type": "code",
   "execution_count": 14,
   "id": "780d512e-4a4d-4730-b4bb-2b38bb4f1d16",
   "metadata": {},
   "outputs": [
    {
     "name": "stdin",
     "output_type": "stream",
     "text": [
      "enter a date 1\n",
      "enter a month 1\n",
      "enter a yr 2000\n"
     ]
    },
    {
     "name": "stdout",
     "output_type": "stream",
     "text": [
      "     January 1\n",
      "Mo Tu We Th Fr Sa Su\n",
      " 1  2  3  4  5  6  7\n",
      " 8  9 10 11 12 13 14\n",
      "15 16 17 18 19 20 21\n",
      "22 23 24 25 26 27 28\n",
      "29 30 31\n",
      "\n"
     ]
    }
   ],
   "source": [
    "import calendar\n",
    "date=int(input('enter a date'))\n",
    "month=int(input('enter a month'))\n",
    "year=input('enter a yr')\n",
    "result=calendar.month(date,month)\n",
    "print(result)"
   ]
  },
  {
   "cell_type": "code",
   "execution_count": 17,
   "id": "7b80dfb1-96ae-4edb-ad86-c8c7422200c1",
   "metadata": {},
   "outputs": [
    {
     "name": "stdin",
     "output_type": "stream",
     "text": [
      "enetr a celsius 8\n"
     ]
    },
    {
     "name": "stdout",
     "output_type": "stream",
     "text": [
      "46.4\n"
     ]
    }
   ],
   "source": [
    "celsius=eval(input('enetr a celsius'))\n",
    "factor=(celsius*9/5)+32\n",
    "print(factor)"
   ]
  },
  {
   "cell_type": "code",
   "execution_count": 19,
   "id": "fd72f846-23cc-4a9b-a573-a95e74e2c24e",
   "metadata": {},
   "outputs": [
    {
     "name": "stdin",
     "output_type": "stream",
     "text": [
      "enter a number 2\n",
      "enter a number 3\n",
      "enter a number 4\n"
     ]
    },
    {
     "name": "stdout",
     "output_type": "stream",
     "text": [
      "-3.0 4.795831523312719\n"
     ]
    }
   ],
   "source": [
    "import math\n",
    "a=eval(input('enter a number'))\n",
    "b=eval(input('enter a number'))\n",
    "c=eval(input('enter a number'))\n",
    "disc=b**2-4*a*c\n",
    "if disc>0:\n",
    "    root1=-b+math.sqrt(disc)/2*a\n",
    "    root2=-b-math.sqrt(disc)/2*a\n",
    "    print(root1,root2)\n",
    "elif disc==0:\n",
    "     root=-b/2*a\n",
    "     print(root)\n",
    "else:\n",
    "    real=-b/2*a\n",
    "    img=math.sqrt(abs(disc))/2*a\n",
    "    print(real,img)"
   ]
  },
  {
   "cell_type": "code",
   "execution_count": 22,
   "id": "906e0e10-055f-4de9-a44f-066c4fee1dbb",
   "metadata": {},
   "outputs": [
    {
     "name": "stdin",
     "output_type": "stream",
     "text": [
      "enter a number 23\n",
      "enter a number 24\n"
     ]
    },
    {
     "name": "stdout",
     "output_type": "stream",
     "text": [
      "24 23\n"
     ]
    }
   ],
   "source": [
    "a=eval(input('enter a number'))\n",
    "b=eval(input('enter a number'))\n",
    "a,b=b,a\n",
    "print(a,b)"
   ]
  },
  {
   "cell_type": "code",
   "execution_count": 25,
   "id": "e595945b-0c9c-444d-8177-75c3de8e6a28",
   "metadata": {},
   "outputs": [
    {
     "name": "stdin",
     "output_type": "stream",
     "text": [
      "enter a number 9\n"
     ]
    },
    {
     "name": "stdout",
     "output_type": "stream",
     "text": [
      "its a postibe number\n"
     ]
    }
   ],
   "source": [
    "n1=eval(input('enter a number'))\n",
    "if n1>0:\n",
    "    print('its a postibe number')\n",
    "elif n1==0:\n",
    "    print('its a zero')\n",
    "else:\n",
    "    print('its a negative number')\n",
    "    "
   ]
  },
  {
   "cell_type": "code",
   "execution_count": 28,
   "id": "07a10491-b728-4d70-8d9b-a9a3a3b3e215",
   "metadata": {},
   "outputs": [
    {
     "name": "stdin",
     "output_type": "stream",
     "text": [
      "enter a number 6\n"
     ]
    },
    {
     "name": "stdout",
     "output_type": "stream",
     "text": [
      "even\n"
     ]
    }
   ],
   "source": [
    "num=eval(input('enter a number'))\n",
    "if num%2==0:\n",
    "    \n",
    "    print('even')\n",
    "else:\n",
    "    print('odd')"
   ]
  },
  {
   "cell_type": "code",
   "execution_count": 35,
   "id": "b0210fb9-5fbb-4564-933c-294e5bb609e7",
   "metadata": {},
   "outputs": [
    {
     "name": "stdin",
     "output_type": "stream",
     "text": [
      "enter a number 7000\n"
     ]
    },
    {
     "name": "stdout",
     "output_type": "stream",
     "text": [
      "error\n"
     ]
    }
   ],
   "source": [
    "year=int(input('enter a number'))\n",
    "if year%100==0 and year%400==0:\n",
    "    print('leap')\n",
    "elif year%4==0 and year%100!=0:\n",
    "    print('leap')\n",
    "else:\n",
    "    print('error')"
   ]
  },
  {
   "cell_type": "code",
   "execution_count": 39,
   "id": "ccc5d4dd-3e8e-47fe-b47f-a3c829fd5866",
   "metadata": {},
   "outputs": [
    {
     "name": "stdin",
     "output_type": "stream",
     "text": [
      "enter a number 9\n"
     ]
    },
    {
     "name": "stdout",
     "output_type": "stream",
     "text": [
      "even\n",
      "even\n",
      "even\n",
      "even\n",
      "even\n",
      "even\n"
     ]
    }
   ],
   "source": [
    "n1=eval(input('enter a number'))\n"
   ]
  },
  {
   "cell_type": "code",
   "execution_count": 11,
   "id": "c89f3a2c-1a10-45b0-9ecb-2aca1e314918",
   "metadata": {},
   "outputs": [
    {
     "name": "stdout",
     "output_type": "stream",
     "text": [
      "True\n",
      "True\n",
      "False\n"
     ]
    }
   ],
   "source": [
    "def monotonic_array(array):\n",
    "    increasing=decreasing=True\n",
    "    for i in range(1,len(array)):\n",
    "        if array[i]>array[i-1]:\n",
    "            decreasing=False\n",
    "        elif array[i]<array[i-1]:\n",
    "            increasing=False\n",
    "    return increasing or decreasing\n",
    "array1=[1,2,3,4]\n",
    "array2=[4,3,2,1]\n",
    "array3=[1,2,5,4]\n",
    "print(monotonic_array(array1))\n",
    "print(monotonic_array(array2))\n",
    "print(monotonic_array(array3))\n"
   ]
  },
  {
   "cell_type": "code",
   "execution_count": 29,
   "id": "96448fa6-250f-4b92-a7df-b5d1b5501e75",
   "metadata": {},
   "outputs": [
    {
     "name": "stdout",
     "output_type": "stream",
     "text": [
      "[2, 4, 6]\n",
      "[3, 5, 7]\n",
      "[3, 5, 7]\n"
     ]
    }
   ],
   "source": [
    "def add_matric(x,y):\n",
    "    if len(x)!=len(y) and len(x[0])!=len(y[0]):\n",
    "        return 'invalid matric'\n",
    "    result=[]\n",
    "    for i in range(len(x)):\n",
    "        row=[]\n",
    "        for j in range(len(y[0])):\n",
    "            row.append(x[i][j]+y[i][j])\n",
    "        result.append(row)\n",
    "    return result\n",
    "row1=[[1,2,3],\n",
    "     [1,2,3],\n",
    "    [1,2,3]]\n",
    "row2=[[1,2,3],\n",
    "     [2,3,4],\n",
    "    [2,3,4]]\n",
    "result_matric=add_matric(row1,row2)\n",
    "if isinstance(result_matric,str):\n",
    "    print(result_matric)\n",
    "else:\n",
    "    for rows in result_matric:\n",
    "        print(rows)\n",
    "            \n",
    "            \n",
    "            "
   ]
  },
  {
   "cell_type": "code",
   "execution_count": 30,
   "id": "83a971a2-9243-4f6b-9abc-452b603721a4",
   "metadata": {},
   "outputs": [
    {
     "name": "stdout",
     "output_type": "stream",
     "text": [
      "[14, 14, 14]\n",
      "[14, 14, 14]\n",
      "[14, 14, 14]\n"
     ]
    }
   ],
   "source": [
    "def mul_array(array1,array2):\n",
    "    rows1=len(array1)\n",
    "    cols1=len(array1[0])\n",
    "    rows2=len(array2)\n",
    "    cols2=len(array2[0])\n",
    "    if rows1!=cols2:\n",
    "        return 'invalid'\n",
    "    result=[[0 for _ in range(rows2)] for _ in range(rows1)]\n",
    "    for i in range(rows1):\n",
    "        for j in range(cols2):\n",
    "            for k in range(cols1):\n",
    "                result[i][j]+=array1[i][k]*array2[j][k]\n",
    "    return result\n",
    "x=[[1,2,3],\n",
    "[1,2,3],\n",
    "[1,2,3]]\n",
    "y=[[1,2,3],\n",
    "[1,2,3],\n",
    "[1,2,3]]\n",
    "result_matric=mul_array(x,y)\n",
    "if isinstance(result_matric,str):\n",
    "    print(result_matric)\n",
    "else:\n",
    "    for rows in result_matric:\n",
    "        print(rows)\n",
    "\n",
    "    "
   ]
  },
  {
   "cell_type": "code",
   "execution_count": 40,
   "id": "07730f7f-7066-4eff-ba35-9d46bb128621",
   "metadata": {},
   "outputs": [
    {
     "name": "stdout",
     "output_type": "stream",
     "text": [
      "[1, 1, 1]\n",
      "[2, 2, 2]\n",
      "[3, 3, 3]\n"
     ]
    }
   ],
   "source": [
    "def transpose_matric(array):\n",
    "    result=[[0 for _ in range(len(array))] for _ in range(len(array[0]))]\n",
    "    for i in range(len(array)):\n",
    "        for j in range(len(array[0])):\n",
    "            result[j][i]=array[i][j]\n",
    "    return result\n",
    "array1=[[1,2,3],\n",
    "[1,2,3],\n",
    "[1,2,3]]\n",
    "result_matric=transpose_matric(array1)\n",
    "if isinstance(result_matric,str):\n",
    "    print(result_matric)\n",
    "else:\n",
    "    for rows in result_matric:\n",
    "        print(rows)"
   ]
  },
  {
   "cell_type": "code",
   "execution_count": 51,
   "id": "9a487d59-e2dc-4821-b252-2f774f8b4413",
   "metadata": {},
   "outputs": [
    {
     "name": "stdin",
     "output_type": "stream",
     "text": [
      "entera string wee rrr uu\n"
     ]
    },
    {
     "name": "stdout",
     "output_type": "stream",
     "text": [
      "Rrr\n",
      "Uu\n",
      "Wee\n"
     ]
    }
   ],
   "source": [
    "str1=input('entera string')\n",
    "words=[word.capitalize() for word in str1.split()]\n",
    "words.sort()\n",
    "for word in words:\n",
    "    print(word)\n",
    "\n"
   ]
  },
  {
   "cell_type": "code",
   "execution_count": 55,
   "id": "ca236c5a-26e3-4340-9a40-ecb9671deaee",
   "metadata": {},
   "outputs": [
    {
     "name": "stdin",
     "output_type": "stream",
     "text": [
      "entera number 135\n"
     ]
    },
    {
     "name": "stdout",
     "output_type": "stream",
     "text": [
      "true\n"
     ]
    }
   ],
   "source": [
    "def disarriun_num(number):\n",
    "    str_number=str(number)\n",
    "    len_number=len(str_number)\n",
    "    total=0\n",
    "    for i,num in enumerate(str_number,1):\n",
    "        total+=(int(num)**i)\n",
    "    return total==number\n",
    "nu1=eval(input('entera number'))\n",
    "if disarriun_num(nu1):\n",
    "    print('true')\n",
    "else:\n",
    "    print('false')\n",
    "    "
   ]
  },
  {
   "cell_type": "code",
   "execution_count": null,
   "id": "5caad896-4af8-4da4-8363-95d07443e3f9",
   "metadata": {},
   "outputs": [],
   "source": [
    "def diss_num(num):\n",
    "    str_num=str(num)\n",
    "    len_dig=len(str_num)\n",
    "    total=0\n",
    "    for i,digit in enumerate(str_num,1):\n",
    "        total+=int(digit)**i\n",
    "    return total==num\n",
    "\n",
    "number=int(input('enter a num'))\n",
    "if diss_num(number):\n",
    "    print(number,'is dis_num')\n",
    "else:\n",
    "    print('need nect num')"
   ]
  },
  {
   "cell_type": "code",
   "execution_count": 2,
   "id": "42f3224a-34be-43ba-8b75-76fa8734a1fe",
   "metadata": {},
   "outputs": [
    {
     "name": "stdout",
     "output_type": "stream",
     "text": [
      "11th aug.ipynb                     heat_map.ipynb\n",
      "12th aug_lambda.ipynb              hello.py\n",
      "12thaug11.ipynb                    histogram.ipynb\n",
      "13th aug.ipynb                     indexofbook.ipynb\n",
      "14th aug.ipynb                     loan_prdictions.ipynb\n",
      "24thaug.ipynb                      loop.ipynb\n",
      "25thaug.ipynb                      missing_value_oct3.ipynb\n",
      "26th sept.ipynb                    \u001b[1m\u001b[36mmy_files_ml\u001b[m\u001b[m/\n",
      "3rd aug.ipynb                      new.py\n",
      "4thsept_mapping .ipynb             num_def.csv\n",
      "6th aug.ipynb                      oct5_stat.ipynb\n",
      "6thaug_imp.ipynb                   operations.ipynb\n",
      "7th aug.ipynb                      outliers.ipynb\n",
      "Data types.ipynb                   output.csv\n",
      "EasyVisa.csv                       plt_pie.ipynb\n",
      "ML-cls1.ipynb                      preparation.ipynb\n",
      "ML.ipynb                           sept 25.ipynb\n",
      "Salary Data.csv                    sept 27th standard and norm.ipynb\n",
      "Untitled.ipynb                     sept 28 data transformation.ipynb\n",
      "aug23_cat_anlalysy.ipynb           session. 4.ipynb\n",
      "aug8.ipynb                         session1.ipynb\n",
      "basic&shape22aug_ml.ipynb          session2 variables.ipynb\n",
      "cont_csv                           session3print.ipynb\n",
      "cont_pic.png                       string_examples.ipynb\n",
      "dummy.txt                          test_lAUu6dG.csv\n",
      "example.ipynb                      wine.csv\n",
      "exceptional_handling.ipynb         winequality-red.csv\n",
      "exe2.ipynb                         \u001b[1m\u001b[36mworks\u001b[m\u001b[m/\n",
      "execrcise.ipynb\n"
     ]
    }
   ],
   "source": [
    "ls"
   ]
  },
  {
   "cell_type": "code",
   "execution_count": 12,
   "id": "65621c0a-7cbe-47fc-9841-c7ae1ff1894d",
   "metadata": {},
   "outputs": [
    {
     "data": {
      "text/plain": [
       "<_io.BufferedReader name='/Users/vijayasri/ML/winequality-red.csv'>"
      ]
     },
     "execution_count": 12,
     "metadata": {},
     "output_type": "execute_result"
    }
   ],
   "source": [
    "file='/Users/vijayasri/ML/winequality-red.csv'\n",
    "open(file,mode='rb')\n"
   ]
  },
  {
   "cell_type": "code",
   "execution_count": null,
   "id": "92970bb4-d602-4409-b5b7-aab43d49599a",
   "metadata": {},
   "outputs": [],
   "source": []
  }
 ],
 "metadata": {
  "kernelspec": {
   "display_name": "Python 3 (ipykernel)",
   "language": "python",
   "name": "python3"
  },
  "language_info": {
   "codemirror_mode": {
    "name": "ipython",
    "version": 3
   },
   "file_extension": ".py",
   "mimetype": "text/x-python",
   "name": "python",
   "nbconvert_exporter": "python",
   "pygments_lexer": "ipython3",
   "version": "3.12.4"
  }
 },
 "nbformat": 4,
 "nbformat_minor": 5
}
