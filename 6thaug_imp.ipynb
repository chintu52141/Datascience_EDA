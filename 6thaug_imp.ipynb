{
 "cells": [
  {
   "cell_type": "code",
   "execution_count": null,
   "id": "c02d1231-df2a-4e17-b82d-2ba71a990083",
   "metadata": {},
   "outputs": [],
   "source": [
    "list=[(1.2)]\n",
    "list"
   ]
  },
  {
   "cell_type": "code",
   "execution_count": null,
   "id": "a9a1845f-2714-4177-af45-b467b6dae2d4",
   "metadata": {},
   "outputs": [],
   "source": [
    "list1=['hai','radha',10]\n",
    "list1"
   ]
  },
  {
   "cell_type": "code",
   "execution_count": null,
   "id": "b899d639-69f9-469e-86aa-f746a66f3e9c",
   "metadata": {},
   "outputs": [],
   "source": [
    "#list has array of elements in square bracket\n",
    "#list element has any type of data\n",
    "#list allows different data types\n",
    "#list allows duplicates\n",
    "#list allows list in list\n"
   ]
  },
  {
   "cell_type": "code",
   "execution_count": null,
   "id": "1e1fe0f8-8faf-47e4-a5bc-7a2abfb79a8f",
   "metadata": {},
   "outputs": [],
   "source": [
    "type(list1)"
   ]
  },
  {
   "cell_type": "code",
   "execution_count": null,
   "id": "1832fdc8-9ab2-4846-965f-bea8a13d92e8",
   "metadata": {},
   "outputs": [],
   "source": [
    "len(list1)"
   ]
  },
  {
   "cell_type": "code",
   "execution_count": null,
   "id": "a105c8e8-0f5b-45d0-aabe-edb9744d10a8",
   "metadata": {},
   "outputs": [],
   "source": [
    "max(list)"
   ]
  },
  {
   "cell_type": "code",
   "execution_count": null,
   "id": "f533c55d-520a-4e5e-a855-ffc6c5dec109",
   "metadata": {},
   "outputs": [],
   "source": [
    "list3=[1,2,3,4]\n",
    "list"
   ]
  },
  {
   "cell_type": "markdown",
   "id": "3a0617f1-b49d-43b4-b4c3-2b5a5151d10b",
   "metadata": {},
   "source": [
    "### list=['a','b','c','d']\n",
    "max(list)"
   ]
  },
  {
   "cell_type": "markdown",
   "id": "acd425c4-f7c0-4bcb-8a1f-31b14c2b7aa8",
   "metadata": {},
   "source": [
    "### "
   ]
  },
  {
   "cell_type": "code",
   "execution_count": 3,
   "id": "ea5efdaf-ac30-45bf-858b-5b6c7ef3afdc",
   "metadata": {},
   "outputs": [
    {
     "data": {
      "text/plain": [
       "'a'"
      ]
     },
     "execution_count": 3,
     "metadata": {},
     "output_type": "execute_result"
    }
   ],
   "source": [
    "list4=['a,b,c,d']\n",
    "ord('a')\n",
    "chr(97)"
   ]
  },
  {
   "cell_type": "code",
   "execution_count": null,
   "id": "e5f640e8-986d-44ee-98fe-2d12e6baf934",
   "metadata": {},
   "outputs": [],
   "source": [
    "list=[1,2,3,4,'a,d,c,o']\n",
    "max(list)"
   ]
  },
  {
   "cell_type": "markdown",
   "id": "538399fd-f612-4d07-9b4e-71b2e43247fe",
   "metadata": {},
   "source": [
    "$in$"
   ]
  },
  {
   "cell_type": "code",
   "execution_count": null,
   "id": "ba493ac1-0c7d-4fab-93ad-203dcdc2107e",
   "metadata": {},
   "outputs": [],
   "source": [
    "list=[1,2,3,4]\n",
    "1 in list\n",
    "for i in range(1,5):\n",
    "    print(i)"
   ]
  },
  {
   "cell_type": "code",
   "execution_count": null,
   "id": "b2e18c83-4754-493d-aa6e-ebf153ff4c6b",
   "metadata": {},
   "outputs": [],
   "source": [
    "list=[1,2,3,4]\n",
    "summ=0\n",
    "for i in list:\n",
    "    summ=summ+i\n",
    "    \n",
    "print(summ)"
   ]
  },
  {
   "cell_type": "code",
   "execution_count": null,
   "id": "fc7b2104-ce81-4922-b2a4-85d97e33ae25",
   "metadata": {},
   "outputs": [],
   "source": [
    "list=[1,2,3,'a','d']\n",
    "for i in range(len(list)):\n",
    "    print(list[i])"
   ]
  },
  {
   "cell_type": "code",
   "execution_count": null,
   "id": "ae7dbac3-b292-4ef2-adb8-bb29c80aa9f6",
   "metadata": {},
   "outputs": [],
   "source": [
    "#list\n",
    "max\n",
    "min\n",
    "len\n",
    "#in"
   ]
  },
  {
   "cell_type": "code",
   "execution_count": null,
   "id": "30bca74b-09d6-4d3c-baf3-2b6faadc76b3",
   "metadata": {},
   "outputs": [],
   "source": [
    "list\n",
    "dictionary\n",
    "lambda functions\n",
    "filehandling\n",
    "tuple\n",
    "statistics\n",
    "python oops\n",
    "\n",
    "\n",
    "====lists are muutable with indexing\n"
   ]
  },
  {
   "cell_type": "code",
   "execution_count": null,
   "id": "f8daecfb-ec00-4968-9554-3f55e5aec9bf",
   "metadata": {},
   "outputs": [],
   "source": [
    "list1=[1,2,3]\n",
    "list1[0]"
   ]
  },
  {
   "cell_type": "markdown",
   "id": "55988a5a-f46c-41f2-bda1-b8d4996540b1",
   "metadata": {},
   "source": [
    "$mutable and immutable$"
   ]
  },
  {
   "cell_type": "code",
   "execution_count": null,
   "id": "87174676-1385-441a-bff8-3649586132f8",
   "metadata": {},
   "outputs": [],
   "source": [
    "list1=[1,2,3]\n",
    "list1[0]=100\n",
    "list1"
   ]
  },
  {
   "cell_type": "code",
   "execution_count": null,
   "id": "29c2ec8c-e1de-4b6b-9e18-0ed32c47533c",
   "metadata": {},
   "outputs": [],
   "source": [
    "list1=[[1,2,3]]\n",
    "print(list1[0])\n",
    "print(list1[0][0])\n",
    "print(list1[0][1])"
   ]
  },
  {
   "cell_type": "code",
   "execution_count": null,
   "id": "27a1711b-029e-41aa-b1c3-52f2b0b440f8",
   "metadata": {},
   "outputs": [],
   "source": [
    "list1.index[0]"
   ]
  },
  {
   "cell_type": "code",
   "execution_count": null,
   "id": "e0908f86-8cc7-42dd-9c39-4ed3190ab138",
   "metadata": {},
   "outputs": [],
   "source": [
    "list2=['a',[1,2]]\n",
    "list2[1][1]"
   ]
  },
  {
   "cell_type": "code",
   "execution_count": null,
   "id": "df3acef0-b0d4-4707-b147-edca0ced0b33",
   "metadata": {},
   "outputs": [],
   "source": [
    "list3=[[[[['apple']]]]]\n",
    "list3[0][0][0][0][0]"
   ]
  },
  {
   "cell_type": "code",
   "execution_count": 2,
   "id": "75a86445-0b42-48c8-8d7f-4c5f058f6b17",
   "metadata": {},
   "outputs": [],
   "source": [
    "list3=[[['cherry',[['apple']]]]]\n"
   ]
  },
  {
   "cell_type": "code",
   "execution_count": 3,
   "id": "9bcd2bfc-4088-4c78-b3e3-e988d2bbb1c0",
   "metadata": {},
   "outputs": [
    {
     "data": {
      "text/plain": [
       "'apple'"
      ]
     },
     "execution_count": 3,
     "metadata": {},
     "output_type": "execute_result"
    }
   ],
   "source": [
    "list3[0][0][1][0][0]"
   ]
  },
  {
   "cell_type": "code",
   "execution_count": 4,
   "id": "b6cb6c88-ac03-4b70-9300-744d8fc9eb52",
   "metadata": {},
   "outputs": [
    {
     "name": "stdout",
     "output_type": "stream",
     "text": [
      "1\n",
      "2\n"
     ]
    }
   ],
   "source": [
    "list=['hyd','banglore','chennai']\n",
    "count=0\n",
    "for i in list:\n",
    "    if len(i)>3:\n",
    "        count=count+1\n",
    "        print(count)\n",
    "        \n",
    "    "
   ]
  },
  {
   "cell_type": "code",
   "execution_count": 4,
   "id": "08f4744c-a49d-4cea-a959-bc3b7a599911",
   "metadata": {},
   "outputs": [
    {
     "name": "stdout",
     "output_type": "stream",
     "text": [
      "banglore\n",
      "chennai\n"
     ]
    }
   ],
   "source": [
    "list1=['banglore','hyd','chennai']\n",
    "for i in range(len(list1)):\n",
    "    if len(list1[i])>3:\n",
    "         print(list1[i])\n",
    "        \n"
   ]
  },
  {
   "cell_type": "code",
   "execution_count": 3,
   "id": "8587e857-7ae2-4656-b6a3-c8952e24e3ef",
   "metadata": {},
   "outputs": [
    {
     "name": "stdout",
     "output_type": "stream",
     "text": [
      "banglore\n",
      "chennai\n"
     ]
    }
   ],
   "source": [
    "list4=['banglore','hyd','chennai']\n",
    "for i in range(len(list4)):\n",
    "    if len(list4[i])>3:\n",
    "        print(list4[i])"
   ]
  },
  {
   "cell_type": "code",
   "execution_count": 7,
   "id": "3735b53b-4f0c-4766-bcde-ed6855811b3a",
   "metadata": {},
   "outputs": [
    {
     "name": "stdout",
     "output_type": "stream",
     "text": [
      "banglore\n",
      "chennai\n"
     ]
    }
   ],
   "source": [
    "list=['banglore','hyd','chennai']\n",
    "for i in range(len(list)):\n",
    "    if len(list[i])>3:\n",
    "        print(list[i])"
   ]
  },
  {
   "cell_type": "code",
   "execution_count": 12,
   "id": "0b9d81ea-48be-4520-9d54-0128eee57bc3",
   "metadata": {},
   "outputs": [
    {
     "name": "stdout",
     "output_type": "stream",
     "text": [
      "banglore\n",
      "chennai\n"
     ]
    }
   ],
   "source": [
    "list=['banglore','hyd','chennai']\n",
    "for i in range(len(list)):\n",
    "    if len(list[i])>3:\n",
    "        print(list[i])"
   ]
  },
  {
   "cell_type": "code",
   "execution_count": 17,
   "id": "30720977-c11a-457d-8354-f7cffbf60922",
   "metadata": {},
   "outputs": [
    {
     "name": "stdout",
     "output_type": "stream",
     "text": [
      "hyd\n"
     ]
    }
   ],
   "source": [
    "list2=['bangl#ore','hyd','chenna#i']\n",
    "extra=''\n",
    "for i in list2:\n",
    "     if '#'not in i:\n",
    "         print(i)"
   ]
  },
  {
   "cell_type": "markdown",
   "id": "81eb8f92-95fc-4e70-ad38-a86397ffa848",
   "metadata": {},
   "source": [
    "$append$"
   ]
  },
  {
   "cell_type": "code",
   "execution_count": 5,
   "id": "714f2705-33cd-4359-a3e6-e4a6cf60f6ff",
   "metadata": {},
   "outputs": [
    {
     "data": {
      "text/plain": [
       "[100, '[apple]']"
      ]
     },
     "execution_count": 5,
     "metadata": {},
     "output_type": "execute_result"
    }
   ],
   "source": [
    "list1=[100]\n",
    "list1.append('[apple]')\n",
    "list1"
   ]
  },
  {
   "cell_type": "code",
   "execution_count": 32,
   "id": "24d9f379-cbf3-45d1-812d-661a7e9946c5",
   "metadata": {},
   "outputs": [
    {
     "name": "stdout",
     "output_type": "stream",
     "text": [
      "banglore b\n",
      "chennai b\n"
     ]
    }
   ],
   "source": [
    "list1=['banglore','hyd','chennai']\n",
    "for i in list1:\n",
    "    if len(i)>3:\n",
    "        print(i,list1[0][0])\n"
   ]
  },
  {
   "cell_type": "code",
   "execution_count": 42,
   "id": "59500a93-17c5-430d-ad81-0479a68e832e",
   "metadata": {},
   "outputs": [
    {
     "data": {
      "text/plain": [
       "[10, 11, 12, 13, 14, 15, 16, 17, 18, 19, 20]"
      ]
     },
     "execution_count": 42,
     "metadata": {},
     "output_type": "execute_result"
    }
   ],
   "source": [
    "list1=[]\n",
    "for i in range(10,21):\n",
    "    list1.append(i)\n",
    "    \n",
    "    \n",
    "list1\n",
    "\n",
    "\n"
   ]
  },
  {
   "cell_type": "code",
   "execution_count": 60,
   "id": "4140f97b-1e7d-4f0f-94f9-c059213fdb20",
   "metadata": {},
   "outputs": [
    {
     "name": "stdout",
     "output_type": "stream",
     "text": [
      "['banglore', 'chennai']\n"
     ]
    }
   ],
   "source": [
    "list1=['banglore','hyd','chennai']\n",
    "list2=[]\n",
    "for i in list1:\n",
    "    if len(i)>3:\n",
    "        list2.append(i)\n",
    "\n",
    "print(list2)"
   ]
  },
  {
   "cell_type": "code",
   "execution_count": 67,
   "id": "ff69fad2-c4d0-4477-b287-270da47da3c3",
   "metadata": {},
   "outputs": [
    {
     "name": "stdout",
     "output_type": "stream",
     "text": [
      "['banglore', 'chennai']\n"
     ]
    }
   ],
   "source": [
    "list5=['banglore','hyd','chennai']\n",
    "list6=[]\n",
    "for i in list5:\n",
    "    if i!='hyd':\n",
    "        list6.append(i)\n",
    "\n",
    "print(list6)"
   ]
  },
  {
   "cell_type": "code",
   "execution_count": 93,
   "id": "ad847640-5692-4c02-b8f4-7bdc01eb72fb",
   "metadata": {},
   "outputs": [
    {
     "name": "stdout",
     "output_type": "stream",
     "text": [
      "la a\n",
      "pa a\n"
     ]
    }
   ],
   "source": [
    "park=['geera','la','pa']\n",
    "for i in park:\n",
    "    if len(i)<=3:\n",
    "       print(i,i[1])\n",
    "\n"
   ]
  },
  {
   "cell_type": "code",
   "execution_count": 89,
   "id": "8413348c-368c-45fc-9979-70f3d17a61f1",
   "metadata": {},
   "outputs": [
    {
     "name": "stdout",
     "output_type": "stream",
     "text": [
      "2\n",
      "2\n",
      "8\n",
      "2\n",
      "9\n",
      "5\n",
      "9\n",
      "5\n",
      "2\n",
      "7\n"
     ]
    }
   ],
   "source": [
    "import random\n",
    "for i in range(10):\n",
    "    val=random.randint(1,10)\n",
    "    print(val)\n"
   ]
  },
  {
   "cell_type": "markdown",
   "id": "5e2049c6-9a51-42e8-9497-bf4266c96a91",
   "metadata": {},
   "source": [
    "$listcomprension$"
   ]
  },
  {
   "cell_type": "code",
   "execution_count": null,
   "id": "ef5c00e2-6084-462e-ac3d-a1c3da7d7749",
   "metadata": {},
   "outputs": [],
   "source": [
    "list=[<output><forloop>]"
   ]
  },
  {
   "cell_type": "code",
   "execution_count": 95,
   "id": "377ac91a-c2cd-47fd-9d18-7424312fcae0",
   "metadata": {},
   "outputs": [
    {
     "data": {
      "text/plain": [
       "[99, 87, 97, 16, 46, 18, 87, 70, 94, 22]"
      ]
     },
     "execution_count": 95,
     "metadata": {},
     "output_type": "execute_result"
    }
   ],
   "source": [
    "list2=[random.randint(10,100) for i in range(10)]\n",
    "list2"
   ]
  },
  {
   "cell_type": "code",
   "execution_count": 123,
   "id": "3055136c-b763-462c-82e9-5653237d73a0",
   "metadata": {},
   "outputs": [
    {
     "data": {
      "text/plain": [
       "['banglore', 'chennai']"
      ]
     },
     "execution_count": 123,
     "metadata": {},
     "output_type": "execute_result"
    }
   ],
   "source": [
    "list1=['banglore','hyd','chennai']\n",
    "\n",
    "out=[list1[i] for i in range(len(list1))  if len(list[i])>3]\n",
    "out"
   ]
  },
  {
   "cell_type": "code",
   "execution_count": 130,
   "id": "771392bf-64a4-43e8-bdd7-343b1e899cff",
   "metadata": {},
   "outputs": [
    {
     "data": {
      "text/plain": [
       "['banglore', 'chennai']"
      ]
     },
     "execution_count": 130,
     "metadata": {},
     "output_type": "execute_result"
    }
   ],
   "source": [
    "list1=['banglore','hyd','chennai']\n",
    "out=[i for i in list1  if i!='hyd']\n",
    "out"
   ]
  },
  {
   "cell_type": "code",
   "execution_count": 24,
   "id": "102a73c9-44ae-4f38-ab48-fac36247db4b",
   "metadata": {},
   "outputs": [
    {
     "data": {
      "text/plain": [
       "['bang##lore', 'chen##nai']"
      ]
     },
     "execution_count": 24,
     "metadata": {},
     "output_type": "execute_result"
    }
   ],
   "source": [
    "list2=['bang##lore','hyd','chen##nai']\n",
    "out=[i for i in list2  if \"#\"  in i]\n",
    "out"
   ]
  },
  {
   "cell_type": "code",
   "execution_count": 133,
   "id": "a33d68c3-8a6b-4b66-a1cf-a3b37ae362c7",
   "metadata": {},
   "outputs": [
    {
     "name": "stdout",
     "output_type": "stream",
     "text": [
      "10\n"
     ]
    }
   ],
   "source": [
    "list=[1,2,3,4]\n",
    "summ=0\n",
    "for i in list:\n",
    "    summ=summ+i\n",
    "    \n",
    "print(summ)\n",
    "\n",
    "list=[1,2,3,4]\n",
    "\n",
    "out=[summ for i in list ]"
   ]
  },
  {
   "cell_type": "code",
   "execution_count": 139,
   "id": "9d11d5de-aa7c-465e-89da-cda740da12e8",
   "metadata": {},
   "outputs": [
    {
     "name": "stdout",
     "output_type": "stream",
     "text": [
      "<generator object <genexpr> at 0x10f48e260>\n"
     ]
    }
   ],
   "source": [
    "list1=['who is pm of india',\n",
    "       'how many states are there in indaia',\n",
    "       'what is the capital of india']\n",
    "list2=['modi','29','delhi']\n",
    "ans=input(i)\n",
    "to get the ans you  need to check in list2\n",
    "if it is correct give one mark\n",
    "finally you need to dispaly \n",
    "out of 3 qns 2 ans are correct and the mark is 2\n",
    "\n",
    "set2=set(list2)\n",
    "out=(i for i in list1 if item not in set2)\n",
    "\n",
    "print(out)\n"
   ]
  },
  {
   "cell_type": "code",
   "execution_count": 140,
   "id": "90202713-698d-456a-ab0a-c4f8b01ecb79",
   "metadata": {},
   "outputs": [
    {
     "name": "stdout",
     "output_type": "stream",
     "text": [
      "['who is pm of india', 'how many states are there in india', 'what is the capital of india']\n"
     ]
    }
   ],
   "source": [
    "list1 = ['who is pm of india', 'how many states are there in india', 'what is the capital of india', 'modi', '29', 'delhi']\n",
    "list2 = ['modi', '29', 'delhi']\n",
    "\n",
    "set2 = set(list2)\n",
    "filtered_list = [item for item in list1 if item not in set2]\n",
    "\n",
    "print(filtered_list)"
   ]
  },
  {
   "cell_type": "code",
   "execution_count": 141,
   "id": "335d63b0-d389-4051-a4a8-765301ce8bb2",
   "metadata": {},
   "outputs": [
    {
     "name": "stdout",
     "output_type": "stream",
     "text": [
      "['who is pm of india', 'how many states are there in india', 'what is the capital of india']\n"
     ]
    }
   ],
   "source": [
    "list1 = ['who is pm of india', 'how many states are there in india', 'what is the capital of india', 'modi', '29', 'delhi']\n",
    "list2 = ['modi', '29', 'delhi']\n",
    "\n",
    "filtered_list = [item for item in list1 if item not in list2]\n",
    "\n",
    "print(filtered_list)"
   ]
  },
  {
   "cell_type": "code",
   "execution_count": 147,
   "id": "d0a84660-1395-4ab6-a395-dc32c50dfe56",
   "metadata": {},
   "outputs": [
    {
     "name": "stdin",
     "output_type": "stream",
     "text": [
      "who is pm of india:  8\n",
      "how many states are there in indaia:  9\n",
      "what is the capital of india:  8\n"
     ]
    },
    {
     "name": "stdout",
     "output_type": "stream",
     "text": [
      "Out of 3 questions, 0 answers are correct and the mark is 0\n"
     ]
    }
   ],
   "source": [
    "list1 = ['who is pm of india',\n",
    "         'how many states are there in indaia',\n",
    "         'what is the capital of india']\n",
    "list2 = ['modi', '29', 'delhi']\n",
    "\n",
    "score = 0\n",
    "\n",
    "for i in range(len(list1)):\n",
    "    ans = input(list1[i] + \": \").lower()\n",
    "    if ans == list2[i].lower():\n",
    "        score += 1\n",
    "\n",
    "print(f\"Out of {len(list1)} questions, {score} answers are correct and the mark is {score}\")"
   ]
  },
  {
   "cell_type": "code",
   "execution_count": 145,
   "id": "0d557e69-b2b7-4de0-aa8e-f577e6848a95",
   "metadata": {},
   "outputs": [
    {
     "name": "stdin",
     "output_type": "stream",
     "text": [
      "who is pm of india:  o\n",
      "how many states are there in indaia:  0\n",
      "what is the capital of india:  i\n"
     ]
    },
    {
     "name": "stdout",
     "output_type": "stream",
     "text": [
      "Out of 3 questions, 0 answers are correct and the mark is 0\n"
     ]
    }
   ],
   "source": [
    "questions = ['who is pm of india', 'how many states are there in indaia', 'what is the capital of india']\n",
    "answers = ['modi', '29', 'delhi']\n",
    "\n",
    "score = sum(input(q + \": \").lower() == a.lower() for q, a in zip(questions, answers))\n",
    "\n",
    "print(f\"Out of {len(questions)} questions, {score} answers are correct and the mark is {score}\")\n"
   ]
  },
  {
   "cell_type": "code",
   "execution_count": 168,
   "id": "72f67eb1-f48e-4b2c-843b-f980f290c66b",
   "metadata": {},
   "outputs": [
    {
     "name": "stdin",
     "output_type": "stream",
     "text": [
      "who is pm of india:  modi\n",
      "how many states are there in indaia:  29\n",
      "what is the capital of india:  delhi\n"
     ]
    },
    {
     "name": "stdout",
     "output_type": "stream",
     "text": [
      "the score out of 3 is,3\n"
     ]
    }
   ],
   "source": [
    "list1 = ['who is pm of india',\n",
    "         'how many states are there in indaia',\n",
    "         'what is the capital of india']\n",
    "list2 = ['modi', '29', 'delhi']\n",
    "\n",
    "score=0\n",
    "\n",
    "for i in range(len(list1)):\n",
    "     ans=input(list1[i] + ': ').lower()\n",
    "     if ans==list2[i].lower():\n",
    "        score += 1\n",
    "\n",
    "print(f'the score out of 3 is,{score}')"
   ]
  },
  {
   "cell_type": "code",
   "execution_count": 175,
   "id": "25d547c5-3557-4820-86cb-0fc7ec7504f0",
   "metadata": {},
   "outputs": [
    {
     "name": "stdin",
     "output_type": "stream",
     "text": [
      "how many states are there in indaia: m\n",
      "how many states are there in indaia: l\n",
      "how many states are there in indaia: k\n"
     ]
    },
    {
     "name": "stdout",
     "output_type": "stream",
     "text": [
      "0\n"
     ]
    }
   ],
   "source": [
    "list1 = ['who is pm of india',\n",
    "         'how many states are there in indaia',\n",
    "         'what is the capital of india']\n",
    "list2 = ['modi', '29', 'delhi']\n",
    "score=0\n",
    "for i in list1:\n",
    "    output=input(list1[1] + ':').lower()\n",
    "    if output==list2[2].lower():\n",
    "         score += 1\n",
    "\n",
    "print(score)\n"
   ]
  },
  {
   "cell_type": "code",
   "execution_count": 185,
   "id": "7fe86166-147e-4ac5-85bb-a9b22bca2bbc",
   "metadata": {},
   "outputs": [
    {
     "data": {
      "text/plain": [
       "[]"
      ]
     },
     "execution_count": 185,
     "metadata": {},
     "output_type": "execute_result"
    }
   ],
   "source": [
    "list1 = ['who is pm of india',\n",
    "         'how many states are there in indaia',\n",
    "         'what is the capital of india']\n",
    "list2 = ['modi', '29', 'delhi']\n",
    "\n",
    "out=[score for i in list1 if output==list2[2].lower()]\n",
    "out"
   ]
  },
  {
   "cell_type": "code",
   "execution_count": 202,
   "id": "5b5470a7-3236-45c2-9a0e-dd90f54414ab",
   "metadata": {},
   "outputs": [
    {
     "name": "stdout",
     "output_type": "stream",
     "text": [
      "even\n",
      "even\n",
      "even\n",
      "even\n",
      "even\n"
     ]
    }
   ],
   "source": [
    "import random\n",
    "for i in range(10):\n",
    "    num=random.randint(1,20)\n",
    "    if num%2==0:\n",
    "         print('even')\n"
   ]
  },
  {
   "cell_type": "code",
   "execution_count": 209,
   "id": "457b4099-199e-4d46-a53e-279cb3f0d8a7",
   "metadata": {},
   "outputs": [
    {
     "data": {
      "text/plain": [
       "['even', 'even', 'even', 'even', 'even']"
      ]
     },
     "execution_count": 209,
     "metadata": {},
     "output_type": "execute_result"
    }
   ],
   "source": [
    "out=['even' for i in range(10) if i%2==0]\n",
    "out"
   ]
  },
  {
   "cell_type": "code",
   "execution_count": 214,
   "id": "ac30eede-4909-4c1b-beef-2b2e3c5fd5e2",
   "metadata": {},
   "outputs": [
    {
     "data": {
      "text/plain": [
       "['0even',\n",
       " 'odd',\n",
       " '2even',\n",
       " 'odd',\n",
       " '4even',\n",
       " 'odd',\n",
       " '6even',\n",
       " 'odd',\n",
       " '8even',\n",
       " 'odd']"
      ]
     },
     "execution_count": 214,
     "metadata": {},
     "output_type": "execute_result"
    }
   ],
   "source": [
    "out=[f'{i}even' if i%2==0  else 'odd' for i in range(10)]\n",
    "out"
   ]
  },
  {
   "cell_type": "code",
   "execution_count": null,
   "id": "02da73e0-c81b-4ea7-83a7-dc5ddd66e180",
   "metadata": {},
   "outputs": [],
   "source": [
    "#pattern1=[output forloop]\n",
    "pattern2=[output forloop if condition]\n",
    "pattern3=[if-output if condition else elseoutput forloop]"
   ]
  },
  {
   "cell_type": "code",
   "execution_count": null,
   "id": "96f57ec8-e52e-46e5-9008-c20a1f13ddf6",
   "metadata": {},
   "outputs": [],
   "source": [
    "https://www.mygreatlearning.com/academy/learn-for-free/courses/python-fundamentals-for-beginners"
   ]
  },
  {
   "cell_type": "code",
   "execution_count": 216,
   "id": "a0fa1536-9ed4-4faf-b828-2f0062737d7c",
   "metadata": {},
   "outputs": [
    {
     "data": {
      "text/plain": [
       "[]"
      ]
     },
     "execution_count": 216,
     "metadata": {},
     "output_type": "execute_result"
    }
   ],
   "source": [
    "list1 = ['who is pm of india',\n",
    "         'how many states are there in indaia',\n",
    "         'what is the capital of india']\n",
    "list1.clear()\n",
    "list1"
   ]
  },
  {
   "cell_type": "code",
   "execution_count": 227,
   "id": "be7168ff-c9e0-45ed-bbd0-cfafe46a6344",
   "metadata": {},
   "outputs": [
    {
     "data": {
      "text/plain": [
       "['who is pm of india',\n",
       " 'how many states are there in indaia',\n",
       " 'what is the capital of india',\n",
       " 'a',\n",
       " ' ']"
      ]
     },
     "execution_count": 227,
     "metadata": {},
     "output_type": "execute_result"
    }
   ],
   "source": [
    "list1 = ['who is pm of india',\n",
    "         'how many states are there in indaia',\n",
    "         'what is the capital of india']\n",
    "list1.extend('a ')\n",
    "list1"
   ]
  },
  {
   "cell_type": "code",
   "execution_count": 221,
   "id": "24ac1d6f-ec48-49a9-9aa7-e73cd3364e34",
   "metadata": {},
   "outputs": [
    {
     "data": {
      "text/plain": [
       "[]"
      ]
     },
     "execution_count": 221,
     "metadata": {},
     "output_type": "execute_result"
    }
   ],
   "source": [
    "list1 = ['who is pm of india',\n",
    "         'how many states are there in indaia',\n",
    "         'what is the capital of india']\n",
    "list1.clear()\n",
    "list1"
   ]
  },
  {
   "cell_type": "code",
   "execution_count": 17,
   "id": "05e17546-dc8a-4c23-8d8c-169f79d02921",
   "metadata": {},
   "outputs": [
    {
     "name": "stdin",
     "output_type": "stream",
     "text": [
      "who is pm of india: 1\n",
      "how many states are there in indaia: 1\n",
      "what is the capital of india: 1\n"
     ]
    },
    {
     "name": "stdout",
     "output_type": "stream",
     "text": [
      "correct ans 0\n"
     ]
    }
   ],
   "source": [
    "list1=['who is pm of india',\n",
    "       'how many states are there in indaia',\n",
    "       'what is the capital of india']\n",
    "list2=['modi','29','delhi']\n",
    "score=0\n",
    "for i in range(len(list1)):\n",
    "    num=input( list1[i]+ ':').lower()\n",
    "    if num==list2[i].lower():\n",
    "        score=score+1\n",
    "print('correct ans',score)"
   ]
  },
  {
   "cell_type": "code",
   "execution_count": 22,
   "id": "d4243b51-6c81-4af0-87e2-c9e4d8568ac5",
   "metadata": {},
   "outputs": [
    {
     "name": "stdin",
     "output_type": "stream",
     "text": [
      "who is pm of india: 1\n",
      "how many states are there in indaia: 1\n",
      "what is the capital of india: 1\n"
     ]
    },
    {
     "name": "stdout",
     "output_type": "stream",
     "text": [
      "correct 0\n"
     ]
    }
   ],
   "source": [
    "list1=['who is pm of india',\n",
    "       'how many states are there in indaia',\n",
    "       'what is the capital of india']\n",
    "list2=['modi','29','delhi']\n",
    "score=0\n",
    "for i in range(len(list1)):\n",
    "    num=input( list1[i]+ ':').lower()\n",
    "    if num==list2[i].lower():\n",
    "        score=sore+1\n",
    "        \n",
    "        \n",
    "print('correct',score)"
   ]
  },
  {
   "cell_type": "code",
   "execution_count": 30,
   "id": "db12ff48-a676-4f8f-9055-a6cbdeb64680",
   "metadata": {},
   "outputs": [
    {
     "name": "stdin",
     "output_type": "stream",
     "text": [
      "who is pm of india: q\n",
      "how many states are there in indaia: q\n",
      "what is the capital of india: q\n"
     ]
    },
    {
     "name": "stdout",
     "output_type": "stream",
     "text": [
      "marks 0\n"
     ]
    }
   ],
   "source": [
    "list1 = ['who is pm of india',\n",
    "         'how many states are there in indaia',\n",
    "         'what is the capital of india']\n",
    "list2 = ['modi', '29', 'delhi']\n",
    "score=0\n",
    "for i in range(len(list1)):\n",
    "    wed=input(list1[i] + ':').lower()\n",
    "    if list1[i]==list2[i].lower():\n",
    "        \n",
    "        print('correct')\n",
    "        score=score+1\n",
    "\n",
    "print('marks',score)"
   ]
  },
  {
   "cell_type": "code",
   "execution_count": null,
   "id": "8046afd9-28fc-4a8a-8519-e9b483ddcc26",
   "metadata": {},
   "outputs": [],
   "source": []
  }
 ],
 "metadata": {
  "kernelspec": {
   "display_name": "Python 3 (ipykernel)",
   "language": "python",
   "name": "python3"
  },
  "language_info": {
   "codemirror_mode": {
    "name": "ipython",
    "version": 3
   },
   "file_extension": ".py",
   "mimetype": "text/x-python",
   "name": "python",
   "nbconvert_exporter": "python",
   "pygments_lexer": "ipython3",
   "version": "3.12.4"
  }
 },
 "nbformat": 4,
 "nbformat_minor": 5
}
