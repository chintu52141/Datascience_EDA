{
 "cells": [
  {
   "cell_type": "code",
   "execution_count": null,
   "id": "44201a17-a4f1-4174-8b7a-44591af85139",
   "metadata": {},
   "outputs": [],
   "source": [
    ".txt===text file,no package\n",
    ".csv==comma seperated value stored in excel,package required==pandas or csv\n",
    ".xlsx===it is excel file,pack==excel spread sheet==\n",
    ".json===it has key value pair,pack===javascript object  notation==\n",
    ".xml=====it has info attached with width and height,pack ==extensible markup language\n",
    ".pdf======package required==portable document file\n",
    ".docx======word document,package require==document\n",
    ".tfrecod====data stored in tensor,package require===\n",
    ".delta===encoded format,package require(de pyspark)\n",
    ".parquet==encoded format,package require(de pyspark)\n",
    "\n",
    "\n",
    "\n",
    "\n",
    "mode:\n",
    "are you reading==r\n",
    "are you writing=w\n",
    "default=r\n",
    "\n",
    "encode:\n",
    "spl charaters\n",
    "encoding='utf-8-sig'\n",
    "\n",
    "file_link='ML/my_files_ml/works/mbox-short.txt'\n",
    "file=open(file_link)\n",
    "file.read()\n",
    "\n",
    "\n",
    "file_path='/Users/vijayasri/ML/my_files_ml/mbox-short.txt'\n",
    "with open(file_path) as file :\n",
    "    print(file.read())#==============================method 3\n",
    "\n"
   ]
  },
  {
   "cell_type": "code",
   "execution_count": null,
   "id": "13214c28-a936-4b52-bd84-8037b6d058bd",
   "metadata": {},
   "outputs": [],
   "source": [
    "ML/mbox-short.txt."
   ]
  },
  {
   "cell_type": "code",
   "execution_count": null,
   "id": "c88a50fc-8b34-4115-8463-3af9bfd36828",
   "metadata": {},
   "outputs": [],
   "source": [
    "\"ML/works/mbox-short.txt\\mbox-short.txt\""
   ]
  },
  {
   "cell_type": "code",
   "execution_count": null,
   "id": "5fa8ed83-b0c5-4151-bada-afad37a8819e",
   "metadata": {},
   "outputs": [],
   "source": [
    "pwd"
   ]
  },
  {
   "cell_type": "code",
   "execution_count": null,
   "id": "2758a484-2002-4ada-80eb-16e612b97415",
   "metadata": {},
   "outputs": [],
   "source": [
    "ls"
   ]
  },
  {
   "cell_type": "code",
   "execution_count": null,
   "id": "f074c402-8e45-41ee-8660-130db27a1aa8",
   "metadata": {},
   "outputs": [],
   "source": [
    "ls ML"
   ]
  },
  {
   "cell_type": "code",
   "execution_count": null,
   "id": "0e2763f1-ad14-4169-8c8a-3b8ff4b10f5d",
   "metadata": {},
   "outputs": [],
   "source": [
    "ls /Users/vijayasri/ML/works"
   ]
  },
  {
   "cell_type": "code",
   "execution_count": null,
   "id": "de031176-8ee8-4e08-b7da-1fd265b801d0",
   "metadata": {},
   "outputs": [],
   "source": [
    "/Users/vijayasri/ML/works/mbox-short.txt"
   ]
  },
  {
   "cell_type": "code",
   "execution_count": null,
   "id": "7f22e73b-0bcf-43b2-9420-22a69ba7d1a6",
   "metadata": {},
   "outputs": [],
   "source": [
    "ls /Users/vijayasri/ML/works"
   ]
  },
  {
   "cell_type": "code",
   "execution_count": null,
   "id": "d0f4671e-b76b-4784-b61d-893cfb60c225",
   "metadata": {},
   "outputs": [],
   "source": [
    "ls Users/vijayasri/ML/works/mbox-short.txt"
   ]
  },
  {
   "cell_type": "code",
   "execution_count": null,
   "id": "61ea36af-11fd-49b6-a248-7dd27374daa5",
   "metadata": {},
   "outputs": [],
   "source": [
    "pwd"
   ]
  },
  {
   "cell_type": "code",
   "execution_count": null,
   "id": "7e6cd641-2ab6-4bbc-9ba6-fc3aa989e049",
   "metadata": {},
   "outputs": [],
   "source": [
    "ls users\n"
   ]
  },
  {
   "cell_type": "code",
   "execution_count": null,
   "id": "de93edba-5576-4219-84cb-077cabb9c5f7",
   "metadata": {},
   "outputs": [],
   "source": [
    "pwd\n"
   ]
  },
  {
   "cell_type": "code",
   "execution_count": null,
   "id": "3d56f0d0-5fbc-4c0d-91eb-995a269e2a36",
   "metadata": {},
   "outputs": [],
   "source": [
    "ls "
   ]
  },
  {
   "cell_type": "code",
   "execution_count": null,
   "id": "73ae39f3-70a5-4619-99db-c090a47fb617",
   "metadata": {},
   "outputs": [],
   "source": [
    "ls ml"
   ]
  },
  {
   "cell_type": "code",
   "execution_count": null,
   "id": "9fc5eced-083e-4f90-b82f-e6f40002b4ad",
   "metadata": {},
   "outputs": [],
   "source": [
    "ls works"
   ]
  },
  {
   "cell_type": "code",
   "execution_count": null,
   "id": "57983cb8-c875-4c0e-8dd3-a8a04cf6692b",
   "metadata": {},
   "outputs": [],
   "source": [
    "\"/Users/vijayasri/ML/works/mbox-short.txt\""
   ]
  },
  {
   "cell_type": "code",
   "execution_count": null,
   "id": "4bfdfe51-d880-4edf-a24e-b02aa48c9e05",
   "metadata": {},
   "outputs": [],
   "source": [
    "file_path=\"/Users/vijayasri/ML/works/mbox-short.txt\""
   ]
  },
  {
   "cell_type": "code",
   "execution_count": null,
   "id": "2611ff45-5548-4f9b-bbab-7ee31649dce1",
   "metadata": {},
   "outputs": [],
   "source": [
    "file_path"
   ]
  },
  {
   "cell_type": "code",
   "execution_count": null,
   "id": "619f9a46-c87b-4588-831d-b102898e759d",
   "metadata": {},
   "outputs": [],
   "source": [
    "./ML/works/mbox-short.txt"
   ]
  },
  {
   "cell_type": "code",
   "execution_count": null,
   "id": "17870d74-969b-45cc-987b-956f0ced46fa",
   "metadata": {},
   "outputs": [],
   "source": [
    "\"./ML/works/mbox-short.txt\""
   ]
  },
  {
   "cell_type": "code",
   "execution_count": null,
   "id": "0cbb88b1-c1db-45b8-8ec6-cc39968f9422",
   "metadata": {},
   "outputs": [],
   "source": [
    "\"ML/works/mbox-short.txt\""
   ]
  },
  {
   "cell_type": "code",
   "execution_count": null,
   "id": "8a997fd5-3b8b-4573-9520-25a567fb3cf3",
   "metadata": {},
   "outputs": [],
   "source": [
    "pwd"
   ]
  },
  {
   "cell_type": "code",
   "execution_count": null,
   "id": "54f23a88-85ac-425f-b5e1-b8f0cf250804",
   "metadata": {},
   "outputs": [],
   "source": [
    "pwd"
   ]
  },
  {
   "cell_type": "code",
   "execution_count": null,
   "id": "1c3e982e-c5cf-456f-8880-1814e0828ffc",
   "metadata": {},
   "outputs": [],
   "source": [
    "ls"
   ]
  },
  {
   "cell_type": "code",
   "execution_count": null,
   "id": "3d32e94d-f06b-4345-8314-f4e350b2caee",
   "metadata": {},
   "outputs": [],
   "source": [
    "ls ml"
   ]
  },
  {
   "cell_type": "code",
   "execution_count": null,
   "id": "227b28e3-8a28-4017-babd-c2bee2c49dfc",
   "metadata": {},
   "outputs": [],
   "source": [
    "ls works/"
   ]
  },
  {
   "cell_type": "code",
   "execution_count": null,
   "id": "f422dc0f-d442-4aa4-bcc3-0c57902f3bcc",
   "metadata": {},
   "outputs": [],
   "source": [
    "pwd"
   ]
  },
  {
   "cell_type": "code",
   "execution_count": null,
   "id": "54a99553-1ef0-4bce-9ad2-e14e21e52df6",
   "metadata": {},
   "outputs": [],
   "source": [
    "ls"
   ]
  },
  {
   "cell_type": "code",
   "execution_count": null,
   "id": "3d04da5c-4d34-469d-b617-1025d2afe6c5",
   "metadata": {},
   "outputs": [],
   "source": [
    "ls ml"
   ]
  },
  {
   "cell_type": "code",
   "execution_count": null,
   "id": "b26161cc-a51b-4c70-968f-02d18ebc787b",
   "metadata": {},
   "outputs": [],
   "source": [
    "ls works/"
   ]
  },
  {
   "cell_type": "code",
   "execution_count": null,
   "id": "68737657-cc20-4737-9f54-4e0491b01198",
   "metadata": {},
   "outputs": [],
   "source": [
    "ls ml"
   ]
  },
  {
   "cell_type": "code",
   "execution_count": null,
   "id": "3539a4cb-0fd7-4f5e-9f35-29f9f603ba1e",
   "metadata": {},
   "outputs": [],
   "source": [
    "pwd"
   ]
  },
  {
   "cell_type": "code",
   "execution_count": null,
   "id": "8b801649-0093-4e89-8bb3-465cc378bfb6",
   "metadata": {},
   "outputs": [],
   "source": [
    "ls"
   ]
  },
  {
   "cell_type": "code",
   "execution_count": null,
   "id": "d5233a66-e2e1-47c4-abc8-c9f9abf96535",
   "metadata": {},
   "outputs": [],
   "source": [
    "ls ml"
   ]
  },
  {
   "cell_type": "code",
   "execution_count": null,
   "id": "58b58a45-422a-4d5b-b679-2354c3f97009",
   "metadata": {},
   "outputs": [],
   "source": [
    "ls my_files_ml"
   ]
  },
  {
   "cell_type": "code",
   "execution_count": null,
   "id": "afb048f2-038c-403a-9722-541ecdc1fdd1",
   "metadata": {},
   "outputs": [],
   "source": [
    "open my_files_ml"
   ]
  },
  {
   "cell_type": "code",
   "execution_count": null,
   "id": "859230ca-bc76-4451-a883-dcab0a7c4b34",
   "metadata": {},
   "outputs": [],
   "source": [
    "file_path='/Users/vijayasri/ml/my_files_ml/mbox-short.txt'"
   ]
  },
  {
   "cell_type": "code",
   "execution_count": null,
   "id": "4679438c-1cba-4828-862b-6616fc089901",
   "metadata": {},
   "outputs": [],
   "source": [
    "file_path='/Users/vijayasri/ML/my_files_ml/works/mbox-short.txt'\n",
    "file=open(file_path)\n",
    "file.read()"
   ]
  },
  {
   "cell_type": "code",
   "execution_count": null,
   "id": "2139a936-928a-46a5-9734-39ccfc4f7e9d",
   "metadata": {},
   "outputs": [],
   "source": [
    "file.read()"
   ]
  },
  {
   "cell_type": "code",
   "execution_count": null,
   "id": "61adb7ca-5ee7-4cec-8018-05b47ab386b7",
   "metadata": {},
   "outputs": [],
   "source": [
    "ls ./ML/works/mbox-short.txt"
   ]
  },
  {
   "cell_type": "code",
   "execution_count": null,
   "id": "f0f142f9-9286-40ba-8846-a0d8aca4a44d",
   "metadata": {},
   "outputs": [],
   "source": [
    "ls /Users/vijayasri/ml/my_files_ml/mbox-short.txt"
   ]
  },
  {
   "cell_type": "code",
   "execution_count": null,
   "id": "74a82e08-7095-4e2f-a1bd-489959016a55",
   "metadata": {},
   "outputs": [],
   "source": [
    "ls /Users/vijayasri/ML/my_files_ml/works/mbox-short.txt"
   ]
  },
  {
   "cell_type": "code",
   "execution_count": null,
   "id": "8aade5e5-eb7a-4e66-8606-ddbf9caa23bb",
   "metadata": {},
   "outputs": [],
   "source": [
    "mode:\n",
    "are you reading==r\n",
    "are you writing=w\n",
    "default=r\n",
    "\n",
    "encode:\n",
    "spl charaters\n",
    "'utf-8-sig'\n"
   ]
  },
  {
   "cell_type": "code",
   "execution_count": null,
   "id": "60719902-2b93-4c2c-ba42-1297c5f2a8a5",
   "metadata": {},
   "outputs": [],
   "source": [
    "file_path='/Users/vijayasri/ML/my_files_ml/works/mbox-short.txt'\n",
    "file=open(file_path,mode='r')\n",
    "file.read()\n"
   ]
  },
  {
   "cell_type": "code",
   "execution_count": null,
   "id": "eeb5def9-8b1f-47d1-baf3-b4c72bf44983",
   "metadata": {},
   "outputs": [],
   "source": [
    "pwd"
   ]
  },
  {
   "cell_type": "code",
   "execution_count": null,
   "id": "79f06558-c64f-43a5-acac-4cbfd1338d9a",
   "metadata": {},
   "outputs": [],
   "source": [
    "ls"
   ]
  },
  {
   "cell_type": "code",
   "execution_count": null,
   "id": "2accab37-a2d7-4892-adca-e7d05fbaa314",
   "metadata": {},
   "outputs": [],
   "source": [
    "ls ml"
   ]
  },
  {
   "cell_type": "code",
   "execution_count": null,
   "id": "0858f5ee-fdb8-4cdf-bb6a-a5282c5b37c1",
   "metadata": {},
   "outputs": [],
   "source": [
    "ls ML/my_files_ml/works?mbox"
   ]
  },
  {
   "cell_type": "code",
   "execution_count": null,
   "id": "36a95063-57f3-404d-82c4-d8333baf65a7",
   "metadata": {},
   "outputs": [],
   "source": [
    "file_link='ML/my_files_ml/works/mbox-short.txt'"
   ]
  },
  {
   "cell_type": "code",
   "execution_count": null,
   "id": "030d0f54-6370-41a7-abaa-298677e953c4",
   "metadata": {},
   "outputs": [],
   "source": [
    "file_link='ML/my_files_ml/works/mbox-short.txt'\n",
    "file=open(file_link)\n",
    "file.read()"
   ]
  },
  {
   "cell_type": "code",
   "execution_count": null,
   "id": "8f8de155-ebf0-4edf-9a88-c6402a03474d",
   "metadata": {},
   "outputs": [],
   "source": [
    "pwd\n"
   ]
  },
  {
   "cell_type": "code",
   "execution_count": null,
   "id": "52f62fac-ece9-4c5b-be9d-b864d707a877",
   "metadata": {},
   "outputs": [],
   "source": [
    "ls\n"
   ]
  },
  {
   "cell_type": "code",
   "execution_count": null,
   "id": "96a22b3c-fc1f-492f-8f7d-3e4ce714e528",
   "metadata": {},
   "outputs": [],
   "source": [
    "ls/Users/vijayasri/ML"
   ]
  },
  {
   "cell_type": "code",
   "execution_count": null,
   "id": "ee61ba0b-4a13-4091-b1ba-ffb3c1d3dc5e",
   "metadata": {},
   "outputs": [],
   "source": [
    "ls my_files_ml"
   ]
  },
  {
   "cell_type": "code",
   "execution_count": null,
   "id": "3af3a97a-d2d7-4bf2-82a6-001de74d6eca",
   "metadata": {},
   "outputs": [],
   "source": [
    "pwd\n"
   ]
  },
  {
   "cell_type": "code",
   "execution_count": null,
   "id": "9cc37776-d248-45f0-af28-049cbe346265",
   "metadata": {},
   "outputs": [],
   "source": [
    "ls /Users/vijayasri/Ml"
   ]
  },
  {
   "cell_type": "code",
   "execution_count": null,
   "id": "8510820c-c801-49e8-9438-7c49f7a24310",
   "metadata": {},
   "outputs": [],
   "source": [
    "link='/Users/vijayasri/Ml/ my_files_ml/works/mbox-short.txt'"
   ]
  },
  {
   "cell_type": "code",
   "execution_count": null,
   "id": "df3e00bd-6889-48c5-8c41-fca49e7a3f12",
   "metadata": {},
   "outputs": [],
   "source": [
    "'/Users/vijayasri/Ml/ my_files_ml/works/mbox-short.txt'"
   ]
  },
  {
   "cell_type": "code",
   "execution_count": null,
   "id": "00c62435-0344-4e37-ae62-ed39528de835",
   "metadata": {},
   "outputs": [],
   "source": [
    "file_link='/Users/vijayasri/Ml/ my_files_ml/works/mbox-short.txt'\n",
    "open(file-link)"
   ]
  },
  {
   "cell_type": "code",
   "execution_count": null,
   "id": "e69cf44e-4f09-4c74-9911-6afcf6b7edb0",
   "metadata": {},
   "outputs": [],
   "source": [
    "file_link='/Ml/ my_files_ml/works/mbox-short.txt'\n"
   ]
  },
  {
   "cell_type": "code",
   "execution_count": null,
   "id": "1cb89208-c0e7-43c4-bb21-3a9a13ca134a",
   "metadata": {},
   "outputs": [],
   "source": [
    "pwd"
   ]
  },
  {
   "cell_type": "code",
   "execution_count": null,
   "id": "cd81d3af-9598-4c46-a765-cb3171cf9d14",
   "metadata": {},
   "outputs": [],
   "source": [
    "file_link='/Users/vijayasri/ML/my_files_ml/works/mbox-short.txt'\n",
    "file=open(file_link)\n",
    "print(file.read())"
   ]
  },
  {
   "cell_type": "code",
   "execution_count": null,
   "id": "353bc83c-0a9a-4f68-af9d-bd87af075ae8",
   "metadata": {},
   "outputs": [],
   "source": [
    "file_link='/Users/vijayasri/ML/my_files_ml/works/mbox-short.txt'\n",
    "file=open(file_link)\n",
    "print(file.read())"
   ]
  },
  {
   "cell_type": "code",
   "execution_count": null,
   "id": "03df27bd-e1d1-4dfa-9429-c2adcb90c271",
   "metadata": {},
   "outputs": [],
   "source": [
    "import os\n",
    "os.getcwd()"
   ]
  },
  {
   "cell_type": "code",
   "execution_count": null,
   "id": "feb57215-7079-4ff1-841b-72b3ae31030b",
   "metadata": {},
   "outputs": [],
   "source": []
  },
  {
   "cell_type": "code",
   "execution_count": null,
   "id": "fc33193a-0538-431b-8e97-a6f9f8b03abb",
   "metadata": {},
   "outputs": [],
   "source": [
    "'/Users/vijayasri/ML/my_files_ml/works/mbox-short.txt'"
   ]
  },
  {
   "cell_type": "code",
   "execution_count": null,
   "id": "e09bffdd-d71b-466a-af9f-5d8544dbc110",
   "metadata": {},
   "outputs": [],
   "source": [
    ".txt\n",
    ".csv\n",
    ".xlxs\n",
    ".jsom\n",
    ".xml\n",
    ".pdf\n",
    ".doc\n",
    ".tfrecord\n",
    ".delta\n",
    ".parquet"
   ]
  },
  {
   "cell_type": "code",
   "execution_count": null,
   "id": "48b486ac-1aac-4da0-8b7a-8fb564736fd3",
   "metadata": {},
   "outputs": [],
   "source": [
    "file_path\n",
    "open path \n",
    "read path"
   ]
  },
  {
   "cell_type": "code",
   "execution_count": null,
   "id": "4d1fa622-255b-46e7-9d35-48f0d086b153",
   "metadata": {},
   "outputs": [],
   "source": [
    "jupyter notebook --generate-config"
   ]
  },
  {
   "cell_type": "code",
   "execution_count": null,
   "id": "c5532dc9-7fbb-43db-867c-03aab89a2b13",
   "metadata": {},
   "outputs": [],
   "source": [
    "c.ServerApp.iopub_data_rate_limit = 10000000  # 10 MB/sec\n",
    "c.ServerApp.rate_limit_window = 10.0  # 10 seconds"
   ]
  },
  {
   "cell_type": "code",
   "execution_count": null,
   "id": "513c7209-e62f-4df8-a4c0-1717db277599",
   "metadata": {},
   "outputs": [],
   "source": [
    "mbox-short.tx"
   ]
  },
  {
   "cell_type": "code",
   "execution_count": null,
   "id": "3fabb35b-b813-4041-9d69-28c2cbffe248",
   "metadata": {},
   "outputs": [],
   "source": [
    "method-2"
   ]
  },
  {
   "cell_type": "code",
   "execution_count": null,
   "id": "6c12a91a-cb7c-4db2-8010-86b33ac5da7f",
   "metadata": {},
   "outputs": [],
   "source": [
    "pwd\n"
   ]
  },
  {
   "cell_type": "code",
   "execution_count": null,
   "id": "1742c696-46ab-41ac-acaf-5aed3237d650",
   "metadata": {},
   "outputs": [],
   "source": [
    "pwd"
   ]
  },
  {
   "cell_type": "code",
   "execution_count": null,
   "id": "cea8a8c0-d9b6-4b5f-b1af-2ee4367f0685",
   "metadata": {},
   "outputs": [],
   "source": [
    "mbox-short.txt"
   ]
  },
  {
   "cell_type": "code",
   "execution_count": null,
   "id": "1035bccf-9b76-44c1-b808-63d0bcf56b4d",
   "metadata": {},
   "outputs": [],
   "source": [
    "python"
   ]
  },
  {
   "cell_type": "code",
   "execution_count": null,
   "id": "fa83ebe0-a19b-4340-ad4f-831d837af34c",
   "metadata": {},
   "outputs": [],
   "source": [
    "file_link='mbox-short.txt'\n",
    "file=open(file_link)\n",
    "print(file.read())"
   ]
  },
  {
   "cell_type": "code",
   "execution_count": null,
   "id": "8942e806-b956-4d19-9aef-cc16949bb1a2",
   "metadata": {},
   "outputs": [],
   "source": [
    "pwd"
   ]
  },
  {
   "cell_type": "code",
   "execution_count": null,
   "id": "ef946083-02a5-412a-a94d-50ce9237795c",
   "metadata": {},
   "outputs": [],
   "source": [
    "file_link='/Users/vijayasri/ML/my_files_ml/mbox-short.txt'\n",
    "file=open(file_link,mode='r' ,encoding='utf-8-sig')\n",
    "print(file.read())"
   ]
  },
  {
   "cell_type": "code",
   "execution_count": null,
   "id": "61c6cdd3-6832-4b02-9e23-1eec6e9785bd",
   "metadata": {},
   "outputs": [],
   "source": [
    "ls my_files_ml"
   ]
  },
  {
   "cell_type": "code",
   "execution_count": null,
   "id": "1b4c954f-dd1e-4d85-a928-3894b08af36c",
   "metadata": {},
   "outputs": [],
   "source": [
    "pwd"
   ]
  },
  {
   "cell_type": "code",
   "execution_count": null,
   "id": "94210850-888e-43dc-b232-48f385f54977",
   "metadata": {},
   "outputs": [],
   "source": [
    "ls"
   ]
  },
  {
   "cell_type": "code",
   "execution_count": null,
   "id": "a805de34-3f61-435a-80b6-6b825e2c74e4",
   "metadata": {},
   "outputs": [],
   "source": [
    "ls my_files_ml/mbox-short.txt"
   ]
  },
  {
   "cell_type": "code",
   "execution_count": null,
   "id": "52cb9a2a-2332-403c-b85a-05a050c460c9",
   "metadata": {},
   "outputs": [],
   "source": [
    "method 3\n",
    "\n"
   ]
  },
  {
   "cell_type": "code",
   "execution_count": null,
   "id": "b8b3f73d-1abe-411a-86f4-e5d251d56938",
   "metadata": {},
   "outputs": [],
   "source": [
    "file_path='/Users/vijayasri/ML/my_files_ml/mbox-short.txt'\n",
    "with open(file_path) as file :\n",
    "    print(file.read())#==============================method 3"
   ]
  },
  {
   "cell_type": "code",
   "execution_count": null,
   "id": "b37a1a71-17de-4f73-87fd-c069fdbbf6a3",
   "metadata": {},
   "outputs": [],
   "source": [
    "file_link='/Users/vijayasri/ML/my_files_ml/mbox-short.txt'\n",
    "file=open(file_link,mode='r' ,encoding='utf-8-sig')\n",
    "type(file)\n",
    "for i in file:\n",
    "    print(i)"
   ]
  },
  {
   "cell_type": "code",
   "execution_count": null,
   "id": "f0a60a5a-993a-44b4-ad28-25e7fc865f7b",
   "metadata": {},
   "outputs": [],
   "source": [
    "file_new='/Users/vijayasri/ML/my_files_ml/mbox-short.txt'\n",
    "file=open(file_link,mode='r' ,encoding='utf-8-sig')\n",
    "count=0\n",
    "type(file)\n",
    "for i in file:\n",
    "    count=count+1\n",
    "print(count)"
   ]
  },
  {
   "cell_type": "code",
   "execution_count": null,
   "id": "a6fca6ac-0d46-4e4f-98cc-ea8b16619dbb",
   "metadata": {},
   "outputs": [],
   "source": [
    "enumerate"
   ]
  },
  {
   "cell_type": "code",
   "execution_count": null,
   "id": "ce680d1f-cbda-438e-a6f0-28be8e3afd0b",
   "metadata": {},
   "outputs": [],
   "source": [
    "file_link='/Users/vijayasri/ML/my_files_ml/mbox-short.txt'\n",
    "file=open(file_link,mode='r' ,encoding='utf-8-sig')\n",
    "type(file)\n",
    "for index,_ in enumerate(file):\n",
    "     pass\n",
    "    \n",
    "index+1\n"
   ]
  },
  {
   "cell_type": "code",
   "execution_count": null,
   "id": "92ad1615-167d-4775-91e7-1fec4371edc8",
   "metadata": {},
   "outputs": [],
   "source": [
    "file_link='/Users/vijayasri/ML/my_files_ml/mbox-short.txt'\n",
    "file=open(file_link,mode='r' ,encoding='utf-8-sig')\n",
    "type(file)\n",
    "l1=[index for index,_ in enumerate(file)]\n",
    "pass\n",
    "    \n",
    "len(l1)"
   ]
  },
  {
   "cell_type": "code",
   "execution_count": null,
   "id": "444ea163-cb95-4c6c-afef-b33a0ac69cdc",
   "metadata": {},
   "outputs": [],
   "source": [
    "file_link='/Users/vijayasri/ML/my_files_ml/mbox-short.txt'\n",
    "file=open(file_link,mode='r' ,encoding='utf-8-sig')\n",
    "type(file)\n",
    "for line in file:\n",
    "    print(line.strip())"
   ]
  },
  {
   "cell_type": "code",
   "execution_count": null,
   "id": "cabf88e7-a597-47d9-8a4d-6036210acf66",
   "metadata": {},
   "outputs": [],
   "source": [
    "file_link='/Users/vijayasri/ML/my_files_ml/mbox-short.txt'\n",
    "file=open(file_link,mode='r' ,encoding='utf-8-sig')\n",
    "type(file)\n",
    "for index,i in enumerate(file):\n",
    "    if index<=10:\n",
    "        print(i,index)\n",
    "\n",
    "\n",
    "\n",
    "for index,line in enumerate(file):\n",
    "    print(line)\n",
    "    if index==10:\n",
    "         break"
   ]
  },
  {
   "cell_type": "code",
   "execution_count": null,
   "id": "739e9a07-bfa9-4305-8346-84c14bc379ec",
   "metadata": {},
   "outputs": [],
   "source": []
  }
 ],
 "metadata": {
  "kernelspec": {
   "display_name": "Python 3 (ipykernel)",
   "language": "python",
   "name": "python3"
  },
  "language_info": {
   "codemirror_mode": {
    "name": "ipython",
    "version": 3
   },
   "file_extension": ".py",
   "mimetype": "text/x-python",
   "name": "python",
   "nbconvert_exporter": "python",
   "pygments_lexer": "ipython3",
   "version": "3.12.4"
  }
 },
 "nbformat": 4,
 "nbformat_minor": 5
}
