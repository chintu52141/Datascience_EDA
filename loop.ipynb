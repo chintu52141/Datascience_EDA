{
 "cells": [
  {
   "cell_type": "code",
   "execution_count": null,
   "id": "3f6d10c8-4889-4ee5-a89c-67711c9f1a28",
   "metadata": {},
   "outputs": [],
   "source": [
    "for i in range(10):\n",
    "    print(i)"
   ]
  },
  {
   "cell_type": "code",
   "execution_count": null,
   "id": "24faafeb-710f-4545-b758-d8d54d67e785",
   "metadata": {},
   "outputs": [],
   "source": [
    "for i in range(15):\n",
    "   \n",
    "    print(i,end='')"
   ]
  },
  {
   "cell_type": "code",
   "execution_count": null,
   "id": "db44a1b9-1e6c-4f52-bc4c-21d523db8348",
   "metadata": {},
   "outputs": [],
   "source": [
    "for i in range(3):\n",
    "    print(i)"
   ]
  },
  {
   "cell_type": "code",
   "execution_count": null,
   "id": "0f8b9ccf-e115-42ba-9671-477e7b901218",
   "metadata": {},
   "outputs": [],
   "source": [
    "\n",
    "for i in range(4):\n",
    "    print(i)"
   ]
  },
  {
   "cell_type": "code",
   "execution_count": null,
   "id": "1af2f07f-8631-4628-b043-d9e7d37136bc",
   "metadata": {},
   "outputs": [],
   "source": [
    "language=['toot','kkkk','loo']\n",
    "for i in language:\n",
    "    print(i)"
   ]
  },
  {
   "cell_type": "code",
   "execution_count": null,
   "id": "570987b7-8be6-43dd-82a8-ecbea2dd1342",
   "metadata": {},
   "outputs": [],
   "source": [
    "for i in range(10,27):\n",
    "     print(i)"
   ]
  },
  {
   "cell_type": "code",
   "execution_count": null,
   "id": "f4817253-2f10-4bc3-8aa8-3eb6e8513ea5",
   "metadata": {},
   "outputs": [],
   "source": [
    "for i in range(2,20,2):\n",
    "    print(i,end=' ')"
   ]
  },
  {
   "cell_type": "code",
   "execution_count": null,
   "id": "201744f0-c936-4a1e-9d02-64b77ff181f9",
   "metadata": {},
   "outputs": [],
   "source": [
    "for i in range(-1,-10,-1):\n",
    "    print(i)"
   ]
  },
  {
   "cell_type": "code",
   "execution_count": null,
   "id": "53760a43-6523-4731-969a-4a1d298c061a",
   "metadata": {},
   "outputs": [],
   "source": [
    "for i in range(5,-6,-1):\n",
    "    print(i,end=' ')"
   ]
  },
  {
   "cell_type": "code",
   "execution_count": null,
   "id": "9d93f216-9a32-4e1b-9ceb-b86acfd6be06",
   "metadata": {},
   "outputs": [],
   "source": [
    "for i in range(5,-6,1):\n",
    "    print(i,end=' ')"
   ]
  },
  {
   "cell_type": "code",
   "execution_count": null,
   "id": "cc76531d-f4d7-48a3-8414-4db89ef613f8",
   "metadata": {},
   "outputs": [],
   "source": [
    "for i in range(1,6):\n",
    "    i=i*i\n",
    "    print(i)"
   ]
  },
  {
   "cell_type": "code",
   "execution_count": null,
   "id": "c48b0e0a-31a1-45ea-92e6-c269d9d9c027",
   "metadata": {},
   "outputs": [],
   "source": [
    "start=eval(input('enter value'))\n",
    "stop=eval(input('enter value'))\n",
    "for i in range(start,stop):\n",
    "    print(i*i, end = '  ')"
   ]
  },
  {
   "cell_type": "code",
   "execution_count": null,
   "id": "e30472df-6fbb-4c44-8e8d-6bd70905db8e",
   "metadata": {},
   "outputs": [],
   "source": [
    "def fun(start,stop):\n",
    "    for i in range(start,stop):\n",
    "        print(i)\n",
    "\n",
    "fun(2,10)"
   ]
  },
  {
   "cell_type": "code",
   "execution_count": null,
   "id": "afca0de5-096a-48ee-bec4-46cd9cc02bfd",
   "metadata": {},
   "outputs": [],
   "source": [
    "def mul(num):\n",
    "     for i in range(1,11):\n",
    "         print(f'{num*i}')\n",
    "mul(9)"
   ]
  },
  {
   "cell_type": "code",
   "execution_count": 7,
   "id": "b004317a-74ea-4bb2-990f-4eb75e94828a",
   "metadata": {
    "scrolled": true
   },
   "outputs": [
    {
     "name": "stdout",
     "output_type": "stream",
     "text": [
      "prime_num: \n",
      "3 and 5 is prime\n",
      "5 and 7 is prime\n"
     ]
    }
   ],
   "source": [
    "def prime(max_number):\n",
    "    for i in range(2,max_number):\n",
    "         if max_number % i==0:\n",
    "            \n",
    "            return False\n",
    "    return True\n",
    "\n",
    "def Twin_num(max_number):\n",
    "     for first_num in range(2,max_number):\n",
    "         second_num = first_num + 2\n",
    "         #print(f\"for loop first_num{first_num}, second_num{second_num}\")\n",
    "         if(prime(first_num) and prime(second_num)):\n",
    "             print('{} and {} is prime'.format(first_num,second_num))\n",
    "print('prime_num: ')\n",
    "Twin_num(10)\n",
    "     "
   ]
  },
  {
   "cell_type": "code",
   "execution_count": null,
   "id": "3599097c-a1e4-4bfb-983c-c9945cbff945",
   "metadata": {},
   "outputs": [],
   "source": [
    "def prime_num(max_num):\n",
    "    for num in range(0,max_num):\n",
    "        if max_num "
   ]
  },
  {
   "cell_type": "code",
   "execution_count": 15,
   "id": "5de6897d-ca2b-4106-83e5-30f02dc4d66f",
   "metadata": {},
   "outputs": [
    {
     "name": "stdout",
     "output_type": "stream",
     "text": [
      "y is greater\n"
     ]
    }
   ],
   "source": [
    "def max_num(x,y,z):\n",
    "    "
   ]
  },
  {
   "cell_type": "code",
   "execution_count": 19,
   "id": "95c885c1-71fc-49ee-a461-3ac135004167",
   "metadata": {},
   "outputs": [
    {
     "ename": "SyntaxError",
     "evalue": "invalid syntax (2455081470.py, line 7)",
     "output_type": "error",
     "traceback": [
      "\u001b[0;36m  Cell \u001b[0;32mIn[19], line 7\u001b[0;36m\u001b[0m\n\u001b[0;31m    z=return max_two(x,max_three(y,z))\u001b[0m\n\u001b[0m      ^\u001b[0m\n\u001b[0;31mSyntaxError\u001b[0m\u001b[0;31m:\u001b[0m invalid syntax\n"
     ]
    }
   ],
   "source": [
    "\n",
    "def max_two(x,y):\n",
    "    if x>y:\n",
    "        return x\n",
    "    return y\n",
    "\n",
    "def max_three(x,y,z):\n",
    "    return max_two(x,max_three(y,z))\n",
    "    print(z)\n",
    "\n",
    "max_three(2,3,4)\n",
    "\n",
    "    "
   ]
  },
  {
   "cell_type": "code",
   "execution_count": null,
   "id": "647cfc4d-cee9-4adc-8435-73a21085df69",
   "metadata": {},
   "outputs": [],
   "source": []
  }
 ],
 "metadata": {
  "kernelspec": {
   "display_name": "Python 3 (ipykernel)",
   "language": "python",
   "name": "python3"
  },
  "language_info": {
   "codemirror_mode": {
    "name": "ipython",
    "version": 3
   },
   "file_extension": ".py",
   "mimetype": "text/x-python",
   "name": "python",
   "nbconvert_exporter": "python",
   "pygments_lexer": "ipython3",
   "version": "3.12.4"
  }
 },
 "nbformat": 4,
 "nbformat_minor": 5
}
