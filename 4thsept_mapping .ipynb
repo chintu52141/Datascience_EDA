{
 "cells": [
  {
   "cell_type": "code",
   "execution_count": null,
   "id": "3c8bf0b9-7a3d-4996-a77e-340feac55d04",
   "metadata": {},
   "outputs": [],
   "source": [
    "import pandas as pd\n",
    "import numpy as np\n",
    "import matplotlib.pyplot as plt\n",
    "import seaborn as sns"
   ]
  },
  {
   "cell_type": "code",
   "execution_count": null,
   "id": "5be73985-ab56-44a3-a3d4-da939eae508a",
   "metadata": {},
   "outputs": [],
   "source": [
    "ls "
   ]
  },
  {
   "cell_type": "code",
   "execution_count": null,
   "id": "f4d8b127-2fce-42ae-bb0f-71d7ef944167",
   "metadata": {},
   "outputs": [],
   "source": [
    "file='/Users/vijayasri/ML/EasyVisa.csv'\n",
    "pd.read_csv(file)\n",
    "'/Users/vijayasri/ML'"
   ]
  },
  {
   "cell_type": "code",
   "execution_count": null,
   "id": "7c84fe17-8c78-456b-9f76-b76d3d6bea12",
   "metadata": {},
   "outputs": [],
   "source": [
    "file='/Users/vijayasri/ml/EasyVisa.csv'\n",
    "wage=pd.read_csv(file)\n",
    "wage_code=wage['prevailing_wage']\n",
    "wage_per=np.percentile(wage_code,25)\n",
    "wage_per_50=np.percentile(wage_code,50)\n",
    "cond1=wage_code>wage_per\n",
    "cond2=wage_code<wage_per_50\n",
    "wage[cond1&cond2]"
   ]
  },
  {
   "cell_type": "code",
   "execution_count": null,
   "id": "b62e6860-7f8b-4440-b3ae-b5110de502e2",
   "metadata": {},
   "outputs": [],
   "source": [
    "file='/Users/vijayasri/ml/EasyVisa.csv'\n",
    "wage=pd.read_csv(file)\n",
    "wage_count=wage['prevailing_wage']\n",
    "np_per=np.percentile(wage_count,25)\n",
    "np_per2=np.percentile(wage_count,75)\n",
    "cond1=wage_count<np_per\n",
    "conde2=wage_count>np_per2\n",
    "np1=wage[cond1 | conde2]"
   ]
  },
  {
   "cell_type": "code",
   "execution_count": null,
   "id": "baddf1d0-1514-46cc-847a-932dc47172a9",
   "metadata": {},
   "outputs": [],
   "source": [
    "file='/Users/vijayasri/ml/EasyVisa.csv'\n",
    "wage=pd.read_csv(file)\n",
    "data=wage['prevailing_wage'].median()\n",
    "data"
   ]
  },
  {
   "cell_type": "code",
   "execution_count": null,
   "id": "d7cfd64e-f416-496d-810c-51407cecc50a",
   "metadata": {},
   "outputs": [],
   "source": [
    "file='/Users/vijayasri/ml/EasyVisa.csv'\n",
    "wage=pd.read_csv(file)\n",
    "wage_count=wage['prevailing_wage']\n",
    "np_per=np.percentile(wage_count,25)\n",
    "np_per2=np.percentile(wage_count,75)\n",
    "cond1=wage_count<np_per\n",
    "conde2=wage_count>np_per2\n",
    "np1=wage[cond1 | conde2]\n",
    "np1['prevailing_wage']"
   ]
  },
  {
   "cell_type": "code",
   "execution_count": null,
   "id": "7adc87a0-f993-4a04-b8c2-58fd1bd2f80f",
   "metadata": {},
   "outputs": [],
   "source": [
    "np1['prevailing_wage']=wage['prevailing_wage'].median()\n",
    "np22=np1['prevailing_wage']\n"
   ]
  },
  {
   "cell_type": "code",
   "execution_count": null,
   "id": "e621d7c3-64f3-46ee-b1d8-9159be99d9bf",
   "metadata": {},
   "outputs": [],
   "source": [
    "pd.merge(np1,np22,how='outer')\n",
    "pd.concat([np1,np22])"
   ]
  },
  {
   "cell_type": "code",
   "execution_count": null,
   "id": "e63eba1b-43d4-45b6-9651-7c8bc9a21ce2",
   "metadata": {},
   "outputs": [],
   "source": [
    "file='/Users/vijayasri/ml/EasyVisa.csv'\n",
    "wage=pd.read_csv(file)\n",
    "lables=wage['continent'].value_counts().keys()\n",
    "certified=[]\n",
    "denied=[]\n",
    "for i in lables:\n",
    "    cond1=wage['continent']==i\n",
    "    cond2=wage['case_status']=='Certified'\n",
    "    cond3=wage['case_status']=='Denied'\n",
    "    response1=cond1 & cond2\n",
    "    response2=cond1& cond3\n",
    "    len(wage[response1]),len(wage[response2])\n",
    "    certified.append(len(wage[response1]))\n",
    "    denied.append(len(wage[response2]))\n",
    "    \n",
    "s1=pd.DataFrame(zip(certified,denied,lables),columns=['certified','denied','continent'])\n",
    "s1.set_index('continent')"
   ]
  },
  {
   "cell_type": "code",
   "execution_count": null,
   "id": "caa49578-ed23-46b7-9e09-7d275f165c6e",
   "metadata": {},
   "outputs": [],
   "source": [
    "col1=wage['continent']\n",
    "col2=wage['case_status']\n",
    "pd.crosstab(col1,col2)"
   ]
  },
  {
   "cell_type": "code",
   "execution_count": null,
   "id": "75c5ca46-6b71-46cd-8746-3331aef89c13",
   "metadata": {},
   "outputs": [],
   "source": [
    "crosstab\n",
    "where\n",
    "concat\n",
    "merge\n",
    "where"
   ]
  },
  {
   "cell_type": "code",
   "execution_count": null,
   "id": "e3c14382-0bf0-4cd8-9fd1-d66c6048d7bd",
   "metadata": {},
   "outputs": [],
   "source": [
    "\n",
    "col2=[wage['education_of_employee'],\n",
    "         wage['case_status']]\n",
    "col1=wage['continent']\n",
    "res=pd.crosstab(col1,col2)\n"
   ]
  },
  {
   "cell_type": "code",
   "execution_count": null,
   "id": "b5ae3913-3f22-4e9a-b504-48cdac455833",
   "metadata": {},
   "outputs": [],
   "source": [
    "file='/Users/vijayasri/ml/EasyVisa.csv'\n",
    "wage=pd.read_csv(file)\n",
    "res=wage['prevailing_wage']>wage['prevailing_wage'].median()\n",
    "ans=wage['prevailing_wage'].median()\n",
    "set=np.where(res,ans,wage['prevailing_wage'])\n",
    "plt.boxplot(set)"
   ]
  },
  {
   "cell_type": "code",
   "execution_count": null,
   "id": "d2d80749-fb1a-499c-b082-2be87bde868c",
   "metadata": {},
   "outputs": [],
   "source": [
    "wage['education_of_employee'].unique()"
   ]
  },
  {
   "cell_type": "code",
   "execution_count": null,
   "id": "fe9e3405-c202-4cd2-81f7-cd478811e8f3",
   "metadata": {},
   "outputs": [],
   "source": [
    "response1=[]\n",
    "response2=[]\n",
    "case11=wage['education_of_employee'].value_counts().keys()\n",
    "for i in case11:\n",
    "    case1=wage['education_of_employee']==i\n",
    "    case2=wage['case_status']=='certified'\n",
    "    case3=wage['case_status']=='Denied'\n",
    "    res1=case1 & case2\n",
    "    res2=case1 &case3\n",
    "    response1.append(len(res1))\n",
    "    response2.append(len(res2))\n",
    "pd.DataFrame(zip(case11,response1,response2),columns=['continent','certified','denied'])\n"
   ]
  },
  {
   "cell_type": "code",
   "execution_count": null,
   "id": "02fd672d-24e2-407f-be04-2bed090caabd",
   "metadata": {},
   "outputs": [],
   "source": [
    "d1=wage['case_status']\n",
    "d2=[wage['continent'],\n",
    "    wage['education_of_employee']]\n",
    "pd.crosstab(d1,d2)"
   ]
  },
  {
   "cell_type": "code",
   "execution_count": null,
   "id": "8ff87957-a985-4d44-84ac-897386d5c69c",
   "metadata": {},
   "outputs": [],
   "source": [
    "scatter -plots===num vs num\n",
    "plt.scatter"
   ]
  },
  {
   "cell_type": "code",
   "execution_count": null,
   "id": "4dc1cb9e-b41b-43b4-af65-16908a96f3b7",
   "metadata": {},
   "outputs": [],
   "source": [
    "x=[1,2,3,4]\n",
    "y=[11,12,13,14]\n",
    "plt.scatter(x,y)"
   ]
  },
  {
   "cell_type": "code",
   "execution_count": null,
   "id": "dc423a2c-ad9a-408f-b166-2185deb987ae",
   "metadata": {},
   "outputs": [],
   "source": [
    "x=[i for i in range(-5,5)]\n",
    "y=[i**2 for i in range(-5,5)]\n",
    "plt.scatter(x,y)\n",
    "plt.plot(x,y)"
   ]
  },
  {
   "cell_type": "code",
   "execution_count": null,
   "id": "8ee7a2ea-e259-448f-9289-43d258eb86c4",
   "metadata": {},
   "outputs": [],
   "source": [
    "col1=wage['no_of_employees']\n",
    "col2=wage['prevailing_wage']\n",
    "plt.scatter(col2,col1)"
   ]
  },
  {
   "cell_type": "code",
   "execution_count": null,
   "id": "5f7be4b6-366c-46f7-ace5-9cebe0a39c91",
   "metadata": {},
   "outputs": [],
   "source": [
    "wage.corr(numeric_only=True)"
   ]
  },
  {
   "cell_type": "code",
   "execution_count": null,
   "id": "a8bea2ce-b178-4093-afbd-6ed75f981be1",
   "metadata": {},
   "outputs": [],
   "source": [
    "pwd"
   ]
  },
  {
   "cell_type": "code",
   "execution_count": null,
   "id": "df7d1913-fd25-47a0-a985-91c8eb3196de",
   "metadata": {},
   "outputs": [],
   "source": [
    "ls ml"
   ]
  },
  {
   "cell_type": "code",
   "execution_count": null,
   "id": "22f8c4ff-eebb-448e-9d1d-11295178cd33",
   "metadata": {},
   "outputs": [],
   "source": [
    "file='/Users/vijayasri/ML/test_lAUu6dG.csv'\n",
    "pd.read_csv(file)"
   ]
  },
  {
   "cell_type": "code",
   "execution_count": null,
   "id": "bcf99c3e-9905-43d6-b13f-c1a4ece29ef6",
   "metadata": {},
   "outputs": [],
   "source": []
  },
  {
   "cell_type": "code",
   "execution_count": null,
   "id": "e38729b5-03c7-418f-859b-1361fe24e5a3",
   "metadata": {},
   "outputs": [],
   "source": [
    "ls"
   ]
  },
  {
   "cell_type": "code",
   "execution_count": null,
   "id": "ce8cd63c-5ea4-47ec-9849-183bd7ecdaba",
   "metadata": {},
   "outputs": [],
   "source": [
    "open1='/Users/vijayasri/ML/EasyVisa.csv'\n",
    "pd.read_csv(open1)"
   ]
  },
  {
   "cell_type": "code",
   "execution_count": null,
   "id": "9208b909-41fe-45dc-bce4-2d60aeebdb73",
   "metadata": {},
   "outputs": [],
   "source": []
  }
 ],
 "metadata": {
  "kernelspec": {
   "display_name": "Python 3 (ipykernel)",
   "language": "python",
   "name": "python3"
  },
  "language_info": {
   "codemirror_mode": {
    "name": "ipython",
    "version": 3
   },
   "file_extension": ".py",
   "mimetype": "text/x-python",
   "name": "python",
   "nbconvert_exporter": "python",
   "pygments_lexer": "ipython3",
   "version": "3.12.4"
  }
 },
 "nbformat": 4,
 "nbformat_minor": 5
}
