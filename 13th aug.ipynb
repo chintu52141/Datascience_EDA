{
 "cells": [
  {
   "cell_type": "code",
   "execution_count": null,
   "id": "465ad9d9-eb76-4155-88e8-3b9211284655",
   "metadata": {},
   "outputs": [],
   "source": [
    "file_link='/Users/vijayasri/ML/my_files_ml/mbox-short.txt'\n",
    "file=open(file_link,mode='r' ,encoding='utf-8-sig')\n",
    "type(file)\n",
    "file1=[]\n",
    "for line in file:\n",
    "    if line.startswith('From'):\n",
    "         file1.append(line)\n",
    "\n",
    "file1\n",
    "\n",
    "\n",
    "\n",
    "\n",
    "lst=[line for i in file if line.startswith('From') ]\n"
   ]
  },
  {
   "cell_type": "code",
   "execution_count": null,
   "id": "a16d02bf-3b28-49ff-80a8-bb8252f584a5",
   "metadata": {},
   "outputs": [],
   "source": [
    "fibbonacian secquence 0,1,1,2,3,5,8,13,21,24,45,\n",
    "need one and 0 front"
   ]
  },
  {
   "cell_type": "code",
   "execution_count": null,
   "id": "8a44a127-845a-4a86-99a9-f19f0a73c966",
   "metadata": {},
   "outputs": [],
   "source": [
    "n1=eval(input('enter a number'))\n",
    "num=1\n",
    "while i>1:\n",
    "        num1=i+num\n",
    "        print(num)\n",
    "\n",
    "    "
   ]
  },
  {
   "cell_type": "code",
   "execution_count": null,
   "id": "02f68699-7118-4066-b95c-6309e8d0a15e",
   "metadata": {},
   "outputs": [],
   "source": [
    "file_link='/Users/vijayasri/ML/my_files_ml/mbox-short.txt'\n",
    "file=open(file_link,mode='r' ,encoding='utf-8-sig')\n",
    "type(file)\n",
    "\n",
    "lst=[line for line in file if line.startswith('From') ]\n",
    "lst"
   ]
  },
  {
   "cell_type": "code",
   "execution_count": null,
   "id": "00a2b73b-ab30-4895-9cbd-940d8d64204b",
   "metadata": {},
   "outputs": [],
   "source": [
    "file_link='/Users/vijayasri/ML/my_files_ml/mbox-short.txt'\n",
    "file=open(file_link,mode='r' ,encoding='utf-8-sig')\n",
    "type(file)\n",
    "st1=[]\n",
    "for line in file:\n",
    "    if line.startswith('From'):\n",
    "       line.rstrip()\n",
    "       print(line)\n",
    "        \n",
    "      \n",
    "\n",
    "\n",
    "\n",
    "\n",
    "\n"
   ]
  },
  {
   "cell_type": "code",
   "execution_count": null,
   "id": "130ac78d-6444-4538-b990-1e09c3d73e4c",
   "metadata": {},
   "outputs": [],
   "source": [
    "file_link='/Users/vijayasri/ML/my_files_ml/mbox-short.txt'\n",
    "file=open(file_link,mode='r' ,encoding='utf-8-sig')\n",
    "type(file)\n",
    "lst=[]\n",
    "for line in file:\n",
    "    if line.startswith('From'): \n",
    "        line.rstrip() \n",
    "        lst.append(line)\n",
    "        \n",
    "        \n",
    "\n",
    "        \n",
    "\n",
    "lst"
   ]
  },
  {
   "cell_type": "code",
   "execution_count": null,
   "id": "a0ae8ae3-67bb-46a9-9173-13ee8cca104c",
   "metadata": {},
   "outputs": [],
   "source": [
    "file_link='/Users/vijayasri/ML/my_files_ml/mbox-short.txt'\n",
    "file=open(file_link,mode='r' ,encoding='utf-8-sig')\n",
    "type(file)\n",
    "lst=[line for line in file if line.startswith('From')]\n",
    "lst_n=[line.rstrip() for line in lst]\n",
    "lst_n"
   ]
  },
  {
   "cell_type": "code",
   "execution_count": null,
   "id": "8010b043-4edf-40d5-aafc-b7e553b2aae4",
   "metadata": {},
   "outputs": [],
   "source": [
    "file_link='/Users/vijayasri/ML/my_files_ml/mbox-short.txt'\n",
    "file=open(file_link,mode='r' ,encoding='utf-8-sig')\n",
    "type(file)\n",
    "lst=[line.strip() for line in file if line.startswith('From') ]\n",
    "lst"
   ]
  },
  {
   "cell_type": "code",
   "execution_count": null,
   "id": "f63893e2-0440-4ba3-9af2-877c93ea650e",
   "metadata": {},
   "outputs": [],
   "source": [
    "file_link='/Users/vijayasri/ML/my_files_ml/mbox-short.txt'\n",
    "file=open(file_link,mode='r' ,encoding='utf-8-sig')\n",
    "type(file)\n",
    "list=[]\n",
    "lst=[line.strip() for line in file if line.startswith('From') ]\n",
    "for i in lst:\n",
    "    print(i.split()[1])\n",
    "    \n",
    "   \n",
    "\n",
    "    "
   ]
  },
  {
   "cell_type": "code",
   "execution_count": null,
   "id": "5ef3ee9e-3cec-4f1d-b416-9058b93fc41b",
   "metadata": {},
   "outputs": [],
   "source": [
    "file_link='/Users/vijayasri/ML/my_files_ml/mbox-short.txt'\n",
    "file=open(file_link,mode='r' ,encoding='utf-8-sig')\n",
    "type(file)\n",
    "line1=[line  for line in file if line.startswith('From')]\n",
    "line2=[line.strip() for line in line1 if line.startswith('From')]\n",
    "line3=[line.strip().split()[1] for line in line2 if line.startswith('From')]\n"
   ]
  },
  {
   "cell_type": "code",
   "execution_count": null,
   "id": "84c6b1ed-8684-4f8a-bc2f-d6e212930c7e",
   "metadata": {},
   "outputs": [],
   "source": [
    "line3\n"
   ]
  },
  {
   "cell_type": "code",
   "execution_count": null,
   "id": "71c264ee-ddc6-4502-b3fb-26b644a50d52",
   "metadata": {},
   "outputs": [],
   "source": [
    "file_link='/Users/vijayasri/ML/my_files_ml/mbox-short.txt'\n",
    "file=open(file_link,mode='r' ,encoding='utf-8-sig')\n",
    "type(file)\n",
    "list=[]\n",
    "for line in file:\n",
    "    if line.startswith('From'):\n",
    "        list.append(line)\n",
    "\n",
    "list"
   ]
  },
  {
   "cell_type": "code",
   "execution_count": null,
   "id": "01c6b1ae-d1fd-4888-a149-f8d28c1660e9",
   "metadata": {},
   "outputs": [],
   "source": [
    "file_link='/Users/vijayasri/ML/my_files_ml/mbox-short.txt'\n",
    "file=open(file_link,mode='r' ,encoding='utf-8-sig')\n",
    "type(file)\n",
    "list=[]\n",
    "for line in file:\n",
    "    if line.startswith('From'):\n",
    "        print(line.strip().split()[1])\n",
    "\n",
    "\n",
    "\n",
    "    \n",
    "\n",
    "list=[line.strip().split()[1] for line in file if line.startswith('From')]\n",
    "list\n"
   ]
  },
  {
   "cell_type": "code",
   "execution_count": null,
   "id": "6f50729b-6345-47fe-a7bd-c318b5e61b8b",
   "metadata": {},
   "outputs": [],
   "source": [
    "file_link='/Users/vijayasri/ML/my_files_ml/mbox-short.txt'\n",
    "file=open(file_link,mode='r' ,encoding='utf-8-sig')\n",
    "type(file)\n",
    "\n",
    "list=[line.strip().split()[1] for line in file if line.startswith('From')]\n",
    "for i in list:\n",
    "    line.split()\n",
    "    v1=print(line.find('.'))\n",
    "    v2=print(line.find('@'))\n",
    "    v3print(line.find('.'+1))\n",
    "    v4=print(line.find(:v1+1))\n",
    "    v5=print(line.find(v2:v3))\n",
    "\n",
    "\n",
    "\n"
   ]
  },
  {
   "cell_type": "code",
   "execution_count": null,
   "id": "d9b7da91-0bdb-4a82-a9fa-1780029ba84c",
   "metadata": {},
   "outputs": [],
   "source": [
    "file_link='/Users/vijayasri/ML/my_files_ml/mbox-short.txt'\n",
    "file=open(file_link,mode='r' ,encoding='utf-8-sig')\n",
    "type(file)\n",
    "index=0\n",
    "for index,_ in enumerate(file):\n",
    "    continue\n",
    "\n",
    "index+1"
   ]
  },
  {
   "cell_type": "code",
   "execution_count": null,
   "id": "5522f05c-dbc0-495e-82dc-93ecac6b69cc",
   "metadata": {},
   "outputs": [],
   "source": [
    "file_link='/Users/vijayasri/ML/my_files_ml/mbox-short.txt'\n",
    "file=open(file_link,mode='r' ,encoding='utf-8-sig')\n",
    "type(file)\n",
    "list=[]\n",
    "list2=[]\n",
    "for line in file:\n",
    "    if line.startswith('From'):\n",
    "         list.append(line)\n",
    "         if line not in list2:\n",
    "            list2=list2+line \n",
    "       \n",
    "        \n",
    "\n",
    "list2\n"
   ]
  },
  {
   "cell_type": "code",
   "execution_count": null,
   "id": "276dc336-0d88-41e1-9a30-213eada00b24",
   "metadata": {},
   "outputs": [],
   "source": [
    "file_link='/Users/vijayasri/ML/my_files_ml/mbox-short.txt'\n",
    "file=open(file_link,mode='r' ,encoding='utf-8-sig')\n",
    "type(file)\n",
    "lst=[line.rstrip().split()[1] for line in file if line.startswith('From') ]\n",
    "unique=[]\n",
    "name=[]\n",
    "suranme=[]\n"
   ]
  },
  {
   "cell_type": "code",
   "execution_count": null,
   "id": "701e3056-0593-444f-851b-b224c41dc796",
   "metadata": {},
   "outputs": [],
   "source": [
    "line.split()\n",
    "v1=line.find('.')\n",
    "v2=line.find('@')\n",
    "v3=line.find('.'+1)\n",
    "v4=line.find(:v1+1)\n",
    "v5=line.find(v2:v3)\n"
   ]
  },
  {
   "cell_type": "code",
   "execution_count": null,
   "id": "553d5ded-c775-4c14-8915-11a68af7db12",
   "metadata": {},
   "outputs": [],
   "source": [
    "file='dummy.txt'\n",
    "file1=open(file,mode='w')\n",
    "file1.write('hello')\n"
   ]
  },
  {
   "cell_type": "code",
   "execution_count": null,
   "id": "6caf3c02-9ce4-4fc3-a71b-a54eb6192eb9",
   "metadata": {},
   "outputs": [],
   "source": [
    "file_link='/Users/vijayasri/ML/my_files_ml/mbox-short.txt'\n",
    "file=open(file_link,mode='r' ,encoding='utf-8-sig')\n",
    "type(file)\n",
    "\n",
    "name=[]\n",
    "last_name=[]\n",
    "\n",
    "\n",
    "\n",
    "lst=[line.rstrip() for line in file if line.startswith('From')]\n",
    "lst_new=[i.split() for i in lst ]\n",
    "unique_email=[i for i in lst if i not in unique_email]\n",
    "lst_new\n",
    "for i in lst:\n",
    "    name.append(i.split()[0])\n",
    "    last_name.append(i.split()[1])\n",
    "\n",
    "#print(name)\n",
    "print(last_name)\n",
    "\n",
    "\n",
    "\n",
    "\n"
   ]
  },
  {
   "cell_type": "code",
   "execution_count": null,
   "id": "13da832a-c956-430f-b400-d5db650908ea",
   "metadata": {},
   "outputs": [],
   "source": []
  }
 ],
 "metadata": {
  "kernelspec": {
   "display_name": "Python 3 (ipykernel)",
   "language": "python",
   "name": "python3"
  },
  "language_info": {
   "codemirror_mode": {
    "name": "ipython",
    "version": 3
   },
   "file_extension": ".py",
   "mimetype": "text/x-python",
   "name": "python",
   "nbconvert_exporter": "python",
   "pygments_lexer": "ipython3",
   "version": "3.12.4"
  }
 },
 "nbformat": 4,
 "nbformat_minor": 5
}
