{
 "cells": [
  {
   "cell_type": "code",
   "execution_count": 1,
   "id": "12cb2909-098f-46b7-b5c7-c6c37082f8f9",
   "metadata": {},
   "outputs": [],
   "source": [
    "import pandas as pd\n",
    "import numpy as np\n",
    "import seaborn as sns\n",
    "import matplotlib.pyplot as plt\n",
    "import sklearn"
   ]
  },
  {
   "cell_type": "code",
   "execution_count": 2,
   "id": "e028b820-8248-4efb-a84b-427ad3d3a43b",
   "metadata": {},
   "outputs": [],
   "source": [
    "from sklearn.preprocessing import LabelEncoder\n",
    "le=LabelEncoder"
   ]
  },
  {
   "cell_type": "code",
   "execution_count": 10,
   "id": "5b966051-de77-4ffa-a294-9331496f4cf5",
   "metadata": {},
   "outputs": [
    {
     "data": {
      "text/plain": [
       "array([1, 1, 1, ..., 1, 1, 1])"
      ]
     },
     "execution_count": 10,
     "metadata": {},
     "output_type": "execute_result"
    }
   ],
   "source": [
    "file='/Users/vijayasri/ML/EasyVisa.csv'\n",
    "visa_df=pd.read_csv(file)\n",
    "from sklearn.preprocessing import LabelEncoder\n",
    "le=LabelEncoder()\n",
    "le.fit_transform(visa_df['continent'])"
   ]
  },
  {
   "cell_type": "code",
   "execution_count": 5,
   "id": "e6178c8d-ce87-4334-bea5-bc27a979c434",
   "metadata": {},
   "outputs": [
    {
     "name": "stdout",
     "output_type": "stream",
     "text": [
      "10 sept.ipynb               example.ipynb\n",
      "11th aug.ipynb              exceptional_handling.ipynb\n",
      "12th aug_lambda.ipynb       exe2.ipynb\n",
      "12thaug11.ipynb             execrcise.ipynb\n",
      "13th aug.ipynb              hello.py\n",
      "14th aug.ipynb              histogram.ipynb\n",
      "22aug_ml.ipynb              indexofbook.ipynb\n",
      "24thaug.ipynb               loan_prdictions.ipynb\n",
      "25thaug.ipynb               loop.ipynb\n",
      "3rd aug.ipynb               \u001b[1m\u001b[36mmy_files_ml\u001b[m\u001b[m/\n",
      "4thsep.ipynb                num_def.csv\n",
      "6th aug.ipynb               operations.ipynb\n",
      "6thaug_imp.ipynb            outliers.ipynb\n",
      "7th aug.ipynb               output.csv\n",
      "Data types.ipynb            preparation.ipynb\n",
      "EasyVisa.csv                sept 25.ipynb\n",
      "ML-cls1.ipynb               session. 4.ipynb\n",
      "ML.ipynb                    session1.ipynb\n",
      "Untitled.ipynb              session2 variables.ipynb\n",
      "aug23_cat_anlalysy.ipynb    session3print.ipynb\n",
      "aug8.ipynb                  string_examples.ipynb\n",
      "bank.csv                    test_lAUu6dG.csv\n",
      "cont_pic.png                wine.csv\n",
      "dummy.txt                   \u001b[1m\u001b[36mworks\u001b[m\u001b[m/\n"
     ]
    }
   ],
   "source": [
    "ls ml"
   ]
  },
  {
   "cell_type": "code",
   "execution_count": null,
   "id": "cc452dbf-b823-4d20-b934-72cb1881190f",
   "metadata": {},
   "outputs": [],
   "source": []
  }
 ],
 "metadata": {
  "kernelspec": {
   "display_name": "Python 3 (ipykernel)",
   "language": "python",
   "name": "python3"
  },
  "language_info": {
   "codemirror_mode": {
    "name": "ipython",
    "version": 3
   },
   "file_extension": ".py",
   "mimetype": "text/x-python",
   "name": "python",
   "nbconvert_exporter": "python",
   "pygments_lexer": "ipython3",
   "version": "3.12.4"
  }
 },
 "nbformat": 4,
 "nbformat_minor": 5
}
