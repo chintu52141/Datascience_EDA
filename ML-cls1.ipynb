{
 "cells": [
  {
   "cell_type": "code",
   "execution_count": null,
   "id": "4c7e9923-3167-4910-a67c-ab0a691be162",
   "metadata": {},
   "outputs": [],
   "source": [
    "pwd"
   ]
  },
  {
   "cell_type": "code",
   "execution_count": 2,
   "id": "a49b6a57-1cdd-4231-bc54-e20bebed080c",
   "metadata": {},
   "outputs": [],
   "source": [
    "import pandas as pd\n",
    "import numpy as np\n",
    "import matplotlib.pyplot as plt\n",
    "import seaborn as sns"
   ]
  },
  {
   "cell_type": "code",
   "execution_count": null,
   "id": "cbc2f13b-d180-4451-a63e-b75dea875c51",
   "metadata": {},
   "outputs": [],
   "source": [
    "name='/Users/vijayasri/ML/EasyVisa.csv/'\n",
    "file=open(name)\n"
   ]
  },
  {
   "cell_type": "code",
   "execution_count": null,
   "id": "5f7de8ad-3425-4ab4-8701-7ebb5ecf44d6",
   "metadata": {},
   "outputs": [],
   "source": [
    "ls ml\n"
   ]
  },
  {
   "cell_type": "code",
   "execution_count": null,
   "id": "ce574de9-93db-4098-9185-dfc6a41f5576",
   "metadata": {},
   "outputs": [],
   "source": [
    "pwd\n"
   ]
  },
  {
   "cell_type": "code",
   "execution_count": null,
   "id": "9821045d-15af-47f3-8c95-371a09182b13",
   "metadata": {},
   "outputs": [],
   "source": [
    "ls ML/EasyVisa.csv\n"
   ]
  },
  {
   "cell_type": "code",
   "execution_count": null,
   "id": "b9d7e6f5-5eff-4edb-9706-7f0895d1a35c",
   "metadata": {},
   "outputs": [],
   "source": [
    "file_path='/Users/vijayasri/ML/EasyVisa.csv'\n",
    "file_name=open(file_path)\n",
    "print(file_name.read())\n",
    "\n"
   ]
  },
  {
   "cell_type": "code",
   "execution_count": null,
   "id": "6c622c02-9b95-43db-ba49-ae2621739b07",
   "metadata": {},
   "outputs": [],
   "source": [
    "\n"
   ]
  },
  {
   "cell_type": "code",
   "execution_count": null,
   "id": "b227900c-b645-4836-8c22-8807eeb6f7b5",
   "metadata": {},
   "outputs": [],
   "source": [
    "pip install pandas"
   ]
  },
  {
   "cell_type": "code",
   "execution_count": null,
   "id": "7456ad40-84aa-4dd8-9a6d-d7326d7e4b0e",
   "metadata": {},
   "outputs": [],
   "source": [
    "file_path='/Users/vijayasri/ML/EasyVisa.csv'\n"
   ]
  },
  {
   "cell_type": "code",
   "execution_count": null,
   "id": "a8eae463-66ed-442c-b275-5ee1a73782ef",
   "metadata": {},
   "outputs": [],
   "source": [
    "import pandas as pd\n",
    "dir(pd)\n",
    "file_path='/Users/vijayasri/ML/EasyVisa.csv'\n",
    "pd.read_csv(file_path)"
   ]
  },
  {
   "cell_type": "code",
   "execution_count": null,
   "id": "913e6d2d-de76-4504-9632-475515135ed3",
   "metadata": {},
   "outputs": [],
   "source": [
    "file_path='/Users/vijayasri/ML/EasyVisa.csv'"
   ]
  },
  {
   "cell_type": "code",
   "execution_count": null,
   "id": "0c2c563d-5cbf-4cfe-abb6-304cb8c4cbca",
   "metadata": {},
   "outputs": [],
   "source": [
    "file_path"
   ]
  },
  {
   "cell_type": "code",
   "execution_count": null,
   "id": "8c9514de-abf6-4470-9de6-1ccbbe13d7c9",
   "metadata": {},
   "outputs": [],
   "source": [
    "ls /Users/vijayasri/ML/EasyVisa.csv"
   ]
  },
  {
   "cell_type": "code",
   "execution_count": null,
   "id": "890c2763-06e8-4d62-a477-800d02d34cb6",
   "metadata": {},
   "outputs": [],
   "source": [
    "pd.read_csv(file_path)"
   ]
  },
  {
   "cell_type": "code",
   "execution_count": null,
   "id": "7cf0767f-4aff-4ea1-9418-780a16f68c3c",
   "metadata": {},
   "outputs": [],
   "source": [
    "import numpy as np"
   ]
  },
  {
   "cell_type": "code",
   "execution_count": null,
   "id": "71b6ef88-0e8c-4edb-953f-08d5c7f4351c",
   "metadata": {},
   "outputs": [],
   "source": [
    "pip install matplotlib"
   ]
  },
  {
   "cell_type": "code",
   "execution_count": null,
   "id": "f44be458-be3e-4503-a5a7-a4e61c9c0d89",
   "metadata": {},
   "outputs": [],
   "source": [
    "pip install seaborn "
   ]
  },
  {
   "cell_type": "code",
   "execution_count": null,
   "id": "0b840676-e3d1-4fc5-b41a-eca68be40ad1",
   "metadata": {},
   "outputs": [],
   "source": [
    "import pandas as pd\n",
    "file='/Users/vijayasri/ML/bank.csv'\n",
    "pd.read_csv(file)"
   ]
  },
  {
   "cell_type": "code",
   "execution_count": null,
   "id": "6be360ca-f39e-43b8-a7ab-7182ebfa6755",
   "metadata": {},
   "outputs": [],
   "source": [
    "ls ml"
   ]
  },
  {
   "cell_type": "code",
   "execution_count": null,
   "id": "049aeaf7-984d-4618-bae5-c16bf1ad7df2",
   "metadata": {},
   "outputs": [],
   "source": [
    "pwd\n"
   ]
  },
  {
   "cell_type": "code",
   "execution_count": null,
   "id": "9fff5f8c-8637-48d0-8921-466afe7534da",
   "metadata": {},
   "outputs": [],
   "source": [
    "file_doc='/Users/vijayasri/ml/EasyVisa.csv'\n",
    "pd.read_csv(file_doc)\n"
   ]
  },
  {
   "cell_type": "code",
   "execution_count": null,
   "id": "f963fa95-5789-42cb-9ac8-2b14c26348e3",
   "metadata": {},
   "outputs": [],
   "source": [
    "ls ml/EasyVisa.csv"
   ]
  },
  {
   "cell_type": "code",
   "execution_count": null,
   "id": "5802bcaa-04f3-4541-9760-45226130a99c",
   "metadata": {},
   "outputs": [],
   "source": [
    "1.how to create data frame==under pd\n",
    "2.how to add colums\n",
    "3.how to add rows\n",
    "4.how to drop colums\n",
    "5.how to drop rows\n",
    "6.how to save dataframe"
   ]
  },
  {
   "cell_type": "code",
   "execution_count": null,
   "id": "83830750-1d9b-43ef-b339-4bdf6fcbd8c9",
   "metadata": {},
   "outputs": [],
   "source": [
    "step1=craete the dataframes\n",
    "step2=update the colum\n",
    "sep3=update the rows\n",
    "step4="
   ]
  },
  {
   "cell_type": "code",
   "execution_count": 4,
   "id": "4e4bdab3-fa43-4ef1-950d-5d67d1c7c1e4",
   "metadata": {},
   "outputs": [
    {
     "name": "stdout",
     "output_type": "stream",
     "text": [
      "3\n"
     ]
    },
    {
     "data": {
      "text/html": [
       "<div>\n",
       "<style scoped>\n",
       "    .dataframe tbody tr th:only-of-type {\n",
       "        vertical-align: middle;\n",
       "    }\n",
       "\n",
       "    .dataframe tbody tr th {\n",
       "        vertical-align: top;\n",
       "    }\n",
       "\n",
       "    .dataframe thead th {\n",
       "        text-align: right;\n",
       "    }\n",
       "</style>\n",
       "<table border=\"1\" class=\"dataframe\">\n",
       "  <thead>\n",
       "    <tr style=\"text-align: right;\">\n",
       "      <th></th>\n",
       "      <th>names</th>\n",
       "      <th>age</th>\n",
       "      <th>salary</th>\n",
       "      <th>city</th>\n",
       "      <th>address</th>\n",
       "    </tr>\n",
       "  </thead>\n",
       "  <tbody>\n",
       "    <tr>\n",
       "      <th>a</th>\n",
       "      <td>rohith</td>\n",
       "      <td>20</td>\n",
       "      <td>1000</td>\n",
       "      <td>chennai</td>\n",
       "      <td>a</td>\n",
       "    </tr>\n",
       "    <tr>\n",
       "      <th>b</th>\n",
       "      <td>raghu</td>\n",
       "      <td>30</td>\n",
       "      <td>2000</td>\n",
       "      <td>banglore</td>\n",
       "      <td>b</td>\n",
       "    </tr>\n",
       "    <tr>\n",
       "      <th>c</th>\n",
       "      <td>sandhya</td>\n",
       "      <td>29</td>\n",
       "      <td>3000</td>\n",
       "      <td>hyd</td>\n",
       "      <td>c</td>\n",
       "    </tr>\n",
       "    <tr>\n",
       "      <th>d</th>\n",
       "      <td>ammu</td>\n",
       "      <td>90</td>\n",
       "      <td>29000</td>\n",
       "      <td>punjab</td>\n",
       "      <td>d</td>\n",
       "    </tr>\n",
       "  </tbody>\n",
       "</table>\n",
       "</div>"
      ],
      "text/plain": [
       "     names  age  salary      city address\n",
       "a   rohith   20    1000   chennai       a\n",
       "b    raghu   30    2000  banglore       b\n",
       "c  sandhya   29    3000       hyd       c\n",
       "d     ammu   90   29000    punjab       d"
      ]
     },
     "execution_count": 4,
     "metadata": {},
     "output_type": "execute_result"
    }
   ],
   "source": [
    "import pandas as pd\n",
    "names=['rohith','raghu','sandhya']\n",
    "age=[20,30,29]\n",
    "salary=[1000,2000,3000]\n",
    "pdf1=pd.DataFrame(zip(names,age,salary),columns=['names','age','salary'],index=['a','b','c'])\n",
    "pdf1['city']=['chennai','banglore','hyd']\n",
    "print(len(pdf1.index))\n",
    "pdf1.loc['d']=['ammu',90,29000,'punjab']\n",
    "pdf1['address']=['a','b','c','d']\n",
    "\n",
    "pdf1"
   ]
  },
  {
   "cell_type": "code",
   "execution_count": 7,
   "id": "08b50ccc-6a71-4c48-a552-56c071359deb",
   "metadata": {},
   "outputs": [
    {
     "data": {
      "text/html": [
       "<div>\n",
       "<style scoped>\n",
       "    .dataframe tbody tr th:only-of-type {\n",
       "        vertical-align: middle;\n",
       "    }\n",
       "\n",
       "    .dataframe tbody tr th {\n",
       "        vertical-align: top;\n",
       "    }\n",
       "\n",
       "    .dataframe thead th {\n",
       "        text-align: right;\n",
       "    }\n",
       "</style>\n",
       "<table border=\"1\" class=\"dataframe\">\n",
       "  <thead>\n",
       "    <tr style=\"text-align: right;\">\n",
       "      <th></th>\n",
       "      <th>0</th>\n",
       "      <th>1</th>\n",
       "      <th>2</th>\n",
       "      <th>sum</th>\n",
       "    </tr>\n",
       "  </thead>\n",
       "  <tbody>\n",
       "    <tr>\n",
       "      <th>0</th>\n",
       "      <td>rohith</td>\n",
       "      <td>20</td>\n",
       "      <td>1000</td>\n",
       "      <td>1</td>\n",
       "    </tr>\n",
       "    <tr>\n",
       "      <th>1</th>\n",
       "      <td>raghu</td>\n",
       "      <td>30</td>\n",
       "      <td>2000</td>\n",
       "      <td>2</td>\n",
       "    </tr>\n",
       "    <tr>\n",
       "      <th>2</th>\n",
       "      <td>sandhya</td>\n",
       "      <td>29</td>\n",
       "      <td>3000</td>\n",
       "      <td>3</td>\n",
       "    </tr>\n",
       "  </tbody>\n",
       "</table>\n",
       "</div>"
      ],
      "text/plain": [
       "         0   1     2  sum\n",
       "0   rohith  20  1000    1\n",
       "1    raghu  30  2000    2\n",
       "2  sandhya  29  3000    3"
      ]
     },
     "execution_count": 7,
     "metadata": {},
     "output_type": "execute_result"
    }
   ],
   "source": [
    "import pandas as pd\n",
    "names=['rohith','raghu','sandhya']\n",
    "age=[20,30,29]\n",
    "salary=[1000,2000,3000]\n",
    "df2=pd.DataFrame(zip(names,age,salary))\n",
    "df2['sum']=[1,2,3]\n",
    "df2.drop('sum',axis=1,inplace=True)\n",
    "df2.drop(2)\n",
    "\n"
   ]
  },
  {
   "cell_type": "code",
   "execution_count": 11,
   "id": "921c1f3a-f7af-425a-ad73-8237f7c7449e",
   "metadata": {
    "scrolled": true
   },
   "outputs": [
    {
     "data": {
      "text/html": [
       "<div>\n",
       "<style scoped>\n",
       "    .dataframe tbody tr th:only-of-type {\n",
       "        vertical-align: middle;\n",
       "    }\n",
       "\n",
       "    .dataframe tbody tr th {\n",
       "        vertical-align: top;\n",
       "    }\n",
       "\n",
       "    .dataframe thead th {\n",
       "        text-align: right;\n",
       "    }\n",
       "</style>\n",
       "<table border=\"1\" class=\"dataframe\">\n",
       "  <thead>\n",
       "    <tr style=\"text-align: right;\">\n",
       "      <th></th>\n",
       "      <th>names</th>\n",
       "      <th>numbers</th>\n",
       "    </tr>\n",
       "  </thead>\n",
       "  <tbody>\n",
       "    <tr>\n",
       "      <th>q1</th>\n",
       "      <td>k</td>\n",
       "      <td>100</td>\n",
       "    </tr>\n",
       "    <tr>\n",
       "      <th>q2</th>\n",
       "      <td>l</td>\n",
       "      <td>200</td>\n",
       "    </tr>\n",
       "  </tbody>\n",
       "</table>\n",
       "</div>"
      ],
      "text/plain": [
       "   names  numbers\n",
       "q1     k      100\n",
       "q2     l      200"
      ]
     },
     "execution_count": 11,
     "metadata": {},
     "output_type": "execute_result"
    }
   ],
   "source": [
    "import pandas as pd\n",
    "names=('k','l','p')\n",
    "age=(10,20,30)\n",
    "number=(100,200,300)\n",
    "pd3=pd.DataFrame(zip(names,age,number),columns=('names','age','numbers'),index=('q1','q2','q3'))\n",
    "pd3.drop('age',axis=1,inplace=True)\n",
    "pd3.drop('q3',inplace=True)\n",
    "\n",
    "pd3.to_csv('output.csv',index=False)\n",
    "pd3"
   ]
  },
  {
   "cell_type": "code",
   "execution_count": null,
   "id": "d663ae02-56e8-400a-97ba-ccf5acbab54b",
   "metadata": {},
   "outputs": [],
   "source": [
    "axis=1====colums\n",
    "axis=0====rows\n",
    "inplace\n",
    "drop\n"
   ]
  },
  {
   "cell_type": "code",
   "execution_count": null,
   "id": "11c68e84-6bfc-445c-957c-1eef16800d07",
   "metadata": {},
   "outputs": [],
   "source": [
    "pwd"
   ]
  },
  {
   "cell_type": "code",
   "execution_count": null,
   "id": "dc1e73f9-cf3d-4a28-b248-1b41b2f2f9f7",
   "metadata": {},
   "outputs": [],
   "source": [
    "'/Users/vijayasri/ML/ '    "
   ]
  },
  {
   "cell_type": "code",
   "execution_count": null,
   "id": "a3a99e5f-a597-4d88-b0e8-750adc6734fc",
   "metadata": {},
   "outputs": [],
   "source": [
    "ls"
   ]
  },
  {
   "cell_type": "code",
   "execution_count": null,
   "id": "f64afe77-0ec7-4b3e-bfbe-1545e1ee09a5",
   "metadata": {},
   "outputs": [],
   "source": [
    "'Users/vijayasri/ ML'"
   ]
  },
  {
   "cell_type": "code",
   "execution_count": null,
   "id": "65452bab-63a5-490a-8b0a-1b1f00f66a6a",
   "metadata": {},
   "outputs": [],
   "source": [
    "ls"
   ]
  },
  {
   "cell_type": "markdown",
   "id": "ae0d4988-4a85-4b40-a976-8c4d50aea998",
   "metadata": {},
   "source": [
    "ms/"
   ]
  },
  {
   "cell_type": "code",
   "execution_count": null,
   "id": "576affa9-6294-4145-a3ad-da1cd91e5947",
   "metadata": {},
   "outputs": [],
   "source": [
    "ls\n"
   ]
  },
  {
   "cell_type": "code",
   "execution_count": null,
   "id": "1094d5e6-33c4-48f6-8636-8688b5f81300",
   "metadata": {},
   "outputs": [],
   "source": [
    "'Users/vijayasri/ML/'"
   ]
  },
  {
   "cell_type": "code",
   "execution_count": null,
   "id": "a672b00b-a60d-4500-be8a-66ba69d3da16",
   "metadata": {},
   "outputs": [],
   "source": [
    "ls"
   ]
  },
  {
   "cell_type": "code",
   "execution_count": null,
   "id": "f47d303e-e364-490f-8793-cc5d9bd387dc",
   "metadata": {},
   "outputs": [],
   "source": [
    "pwd"
   ]
  },
  {
   "cell_type": "code",
   "execution_count": null,
   "id": "96ac40f9-fc2c-43ab-95a9-8e25af78cf1b",
   "metadata": {},
   "outputs": [],
   "source": [
    "ls"
   ]
  },
  {
   "cell_type": "code",
   "execution_count": null,
   "id": "ed03b4ad-9714-4458-becc-d6ff6e3fde6d",
   "metadata": {},
   "outputs": [],
   "source": [
    "'/Users/vijayasri/ ML/'"
   ]
  },
  {
   "cell_type": "code",
   "execution_count": null,
   "id": "a79de09b-afad-4a64-9650-381df6400d9b",
   "metadata": {},
   "outputs": [],
   "source": [
    "ls"
   ]
  },
  {
   "cell_type": "code",
   "execution_count": null,
   "id": "7643f84c-c17d-4de4-aa9a-a01438d89ae2",
   "metadata": {},
   "outputs": [],
   "source": [
    "ls"
   ]
  },
  {
   "cell_type": "code",
   "execution_count": null,
   "id": "b694f006-5d95-436f-be58-a94d2a29c0c6",
   "metadata": {},
   "outputs": [],
   "source": []
  },
  {
   "cell_type": "code",
   "execution_count": null,
   "id": "03c88f37-30ef-4dac-bb22-3d102fbc5cc4",
   "metadata": {},
   "outputs": [],
   "source": [
    "ls"
   ]
  },
  {
   "cell_type": "code",
   "execution_count": null,
   "id": "768148c5-a2e9-4d99-b651-64ed3d556665",
   "metadata": {},
   "outputs": [],
   "source": [
    " ls ml"
   ]
  },
  {
   "cell_type": "code",
   "execution_count": null,
   "id": "6c7be71a-7e5d-47b1-8666-0b37a4f78b43",
   "metadata": {},
   "outputs": [],
   "source": [
    "'Users/vijayasri/ ML/works'"
   ]
  },
  {
   "cell_type": "code",
   "execution_count": null,
   "id": "a8a01eb9-ded8-4f3c-84e9-00b747946f80",
   "metadata": {},
   "outputs": [],
   "source": [
    "file='/Users/vijayasri/ML/output.csv'\n",
    "pd.read_csv(file)"
   ]
  },
  {
   "cell_type": "code",
   "execution_count": null,
   "id": "dd09f6ae-d934-4088-a310-4ca9f8c7fb50",
   "metadata": {},
   "outputs": [],
   "source": [
    "file='output.csv'\n",
    "pd.read_csv(file)"
   ]
  },
  {
   "cell_type": "code",
   "execution_count": null,
   "id": "7d1a2565-479e-4267-8e30-56bc313608c2",
   "metadata": {},
   "outputs": [],
   "source": [
    "d1={'names':['mani','deepa','manu'], 'clas':[1,2,3,]}\n",
    "pd.DataFrame(d1,index=['a','s','d'])\n",
    "\n"
   ]
  },
  {
   "cell_type": "code",
   "execution_count": null,
   "id": "878df360-1e36-413d-941f-81dbe65d8c95",
   "metadata": {},
   "outputs": [],
   "source": []
  },
  {
   "cell_type": "code",
   "execution_count": null,
   "id": "54a89f4e-52d5-4959-a448-1dd62b8a6315",
   "metadata": {},
   "outputs": [],
   "source": [
    "\n",
    "import random\n",
    "df1=pd.DataFrame()\n",
    "df1\n",
    "even=[]\n",
    "for i in range(20):\n",
    "    num=random.randint(20,30)\n",
    "    if i%2==0:\n",
    "        even.append(i)\n",
    "\n",
    "even\n",
    "df1['even']=even\n",
    "df1['odd']=[1,3,5,6,7,8,9,0,1,2]\n",
    "\n",
    "\n",
    "df1['sum']=[1,3,2,4,5,6,7,8,9,10]\n",
    "df1.drop('even',axis=1)\n"
   ]
  },
  {
   "cell_type": "code",
   "execution_count": null,
   "id": "6c006003-be2a-468a-b5e0-f27f9d20fc58",
   "metadata": {},
   "outputs": [],
   "source": []
  },
  {
   "cell_type": "code",
   "execution_count": null,
   "id": "b5c10880-87a7-41aa-9156-d43a42e5a333",
   "metadata": {},
   "outputs": [],
   "source": []
  },
  {
   "cell_type": "code",
   "execution_count": null,
   "id": "c4dabc72-9384-4897-a9fb-fe761c695aec",
   "metadata": {},
   "outputs": [],
   "source": [
    "pd.read_csv('/Users/vijayasri/ML/output.csv')"
   ]
  },
  {
   "cell_type": "code",
   "execution_count": null,
   "id": "6f249231-5def-43f6-adca-8760d82eacab",
   "metadata": {},
   "outputs": [],
   "source": [
    "dateframe\n",
    "inplace\n",
    "axis\n",
    "loc\n",
    "drop"
   ]
  },
  {
   "cell_type": "code",
   "execution_count": null,
   "id": "77976822-f192-4218-8ce9-726f88305339",
   "metadata": {},
   "outputs": [],
   "source": [
    "pwd"
   ]
  },
  {
   "cell_type": "code",
   "execution_count": null,
   "id": "cc7535cc-f3ff-4a9d-8c76-461c74a33565",
   "metadata": {},
   "outputs": [],
   "source": [
    "import pandas as pd\n",
    "file=('/Users/vijayasri/ ML/bank.csv ')\n",
    "pd.read_csv(file)"
   ]
  },
  {
   "cell_type": "code",
   "execution_count": null,
   "id": "66dc8b14-0817-4d15-b6dd-1b8785a623f1",
   "metadata": {},
   "outputs": [],
   "source": [
    " ls  ML/"
   ]
  },
  {
   "cell_type": "code",
   "execution_count": null,
   "id": "a5a98e02-16d9-4d7e-962a-33db6531004c",
   "metadata": {},
   "outputs": [],
   "source": [
    "'/Users/vijayasri/ ML/bank.csv '"
   ]
  },
  {
   "cell_type": "code",
   "execution_count": null,
   "id": "f8bfbf9c-a102-4bbb-8c1e-c22051fa847a",
   "metadata": {},
   "outputs": [],
   "source": [
    "pwd"
   ]
  },
  {
   "cell_type": "code",
   "execution_count": null,
   "id": "e0504c8a-4d5e-4cf0-86e6-8bb3e45df1ef",
   "metadata": {},
   "outputs": [],
   "source": [
    "\n",
    "file='/Users/vijayasri/ML/bank.csv'\n",
    "pd.read_csv(file)"
   ]
  },
  {
   "cell_type": "code",
   "execution_count": null,
   "id": "11c1f4f2-fce8-49ea-8ba3-a3abc88d4bcc",
   "metadata": {},
   "outputs": [],
   "source": [
    "ls ml"
   ]
  },
  {
   "cell_type": "code",
   "execution_count": null,
   "id": "075b9368-c89f-4515-bfb8-45ad54508fe3",
   "metadata": {},
   "outputs": [],
   "source": [
    "import pandas as pd\n",
    "file='/Users/vijayasri/ML/bank.csv'\n",
    "pd.read_csv(file)"
   ]
  },
  {
   "cell_type": "code",
   "execution_count": null,
   "id": "913c7a8a-c5a2-483d-9688-dd5261bbe54e",
   "metadata": {},
   "outputs": [],
   "source": []
  }
 ],
 "metadata": {
  "kernelspec": {
   "display_name": "Python 3 (ipykernel)",
   "language": "python",
   "name": "python3"
  },
  "language_info": {
   "codemirror_mode": {
    "name": "ipython",
    "version": 3
   },
   "file_extension": ".py",
   "mimetype": "text/x-python",
   "name": "python",
   "nbconvert_exporter": "python",
   "pygments_lexer": "ipython3",
   "version": "3.12.4"
  }
 },
 "nbformat": 4,
 "nbformat_minor": 5
}
