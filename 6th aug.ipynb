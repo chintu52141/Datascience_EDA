{
 "cells": [
  {
   "cell_type": "markdown",
   "id": "58fd38f3-f0de-4f7f-9822-59e8a3e64b7d",
   "metadata": {},
   "source": [
    "$strip$--$lstrip$--$r-strip$"
   ]
  },
  {
   "cell_type": "code",
   "execution_count": null,
   "id": "2261fc22-b260-4952-a2bf-e00fbbf861ef",
   "metadata": {},
   "outputs": [],
   "source": [
    "====for both sides removal part we use strip====\n",
    "str1='@python$'\n",
    "str1.strip('@,$')"
   ]
  },
  {
   "cell_type": "code",
   "execution_count": null,
   "id": "9f72f824-992a-496e-81c1-d14d2da7e78a",
   "metadata": {},
   "outputs": [],
   "source": [
    "str1='llpython'======only (left) staring are avoided\n",
    "str1.lstrip('l')"
   ]
  },
  {
   "cell_type": "code",
   "execution_count": null,
   "id": "f33413e1-5973-4942-9783-394fad672cd5",
   "metadata": {},
   "outputs": [],
   "source": [
    "str1='@python$'====only (right)ending are avoided\n",
    "str1.rstrip('@$')"
   ]
  },
  {
   "cell_type": "markdown",
   "id": "9a9ae638-1e8b-4923-a916-5cc49ce854f2",
   "metadata": {},
   "source": [
    "$startswith$==$endswith$"
   ]
  },
  {
   "cell_type": "code",
   "execution_count": null,
   "id": "3a276f31-5b53-43e6-8164-ef11ff078b67",
   "metadata": {},
   "outputs": [],
   "source": [
    "str1='welcome'========asking wether starting is true or false\n",
    "str1.startswith('wel')"
   ]
  },
  {
   "cell_type": "code",
   "execution_count": null,
   "id": "56d95311-ac98-4c14-9ad7-992e25443cf6",
   "metadata": {},
   "outputs": [],
   "source": [
    "str1='byebyeweee'=====asking ending is true or false\n",
    "str1.endswith('ee')"
   ]
  },
  {
   "cell_type": "markdown",
   "id": "9d75ba1a-1c44-496a-a6b6-3c32d238926a",
   "metadata": {},
   "source": [
    "$split$"
   ]
  },
  {
   "cell_type": "code",
   "execution_count": 12,
   "id": "129ca1ec-cfd2-42e4-911d-ee6040bc2d5c",
   "metadata": {},
   "outputs": [
    {
     "name": "stdout",
     "output_type": "stream",
     "text": [
      "utube@gmail\n"
     ]
    }
   ],
   "source": [
    "str1='welcome.utube@gmail'\n",
    "print(str1.split('.')[1])"
   ]
  },
  {
   "cell_type": "code",
   "execution_count": 23,
   "id": "2f65e1cf-91df-4f11-a3e3-284c21863eea",
   "metadata": {},
   "outputs": [
    {
     "data": {
      "text/plain": [
       "True"
      ]
     },
     "execution_count": 23,
     "metadata": {},
     "output_type": "execute_result"
    }
   ],
   "source": [
    "#====it will gives true when the string contains both numerical and aplhabets===\n",
    "str1='klklk09090'\n",
    "str1.isalnum()"
   ]
  },
  {
   "cell_type": "code",
   "execution_count": 25,
   "id": "0e769ce9-8af6-4213-b860-66f84b2b7d49",
   "metadata": {},
   "outputs": [
    {
     "data": {
      "text/plain": [
       "True"
      ]
     },
     "execution_count": 25,
     "metadata": {},
     "output_type": "execute_result"
    }
   ],
   "source": [
    "# it will be true whenever the string contains only aphabets#\n",
    "str1='abc'\n",
    "str1.isalpha()"
   ]
  },
  {
   "cell_type": "code",
   "execution_count": 38,
   "id": "78e11ad0-9bb2-49f5-9922-0eca00bfae17",
   "metadata": {},
   "outputs": [
    {
     "data": {
      "text/plain": [
       "True"
      ]
     },
     "execution_count": 38,
     "metadata": {},
     "output_type": "execute_result"
    }
   ],
   "source": [
    "str10='8888'\n",
    "str10.isascii()\n"
   ]
  },
  {
   "cell_type": "code",
   "execution_count": 43,
   "id": "6eb19487-d21d-402c-9ba6-6308810aaaeb",
   "metadata": {},
   "outputs": [
    {
     "data": {
      "text/plain": [
       "False"
      ]
     },
     "execution_count": 43,
     "metadata": {},
     "output_type": "execute_result"
    }
   ],
   "source": [
    "str9='hai'\n",
    "str9.isdecimal()"
   ]
  },
  {
   "cell_type": "code",
   "execution_count": 46,
   "id": "c94a6092-b91c-48ae-82d9-262ed63863e4",
   "metadata": {},
   "outputs": [
    {
     "data": {
      "text/plain": [
       "False"
      ]
     },
     "execution_count": 46,
     "metadata": {},
     "output_type": "execute_result"
    }
   ],
   "source": [
    "str1='i121'\n",
    "str1.isdigit()"
   ]
  },
  {
   "cell_type": "code",
   "execution_count": 51,
   "id": "9e1e5754-e316-4aa3-bccd-c531ac9aec8b",
   "metadata": {},
   "outputs": [
    {
     "data": {
      "text/plain": [
       "True"
      ]
     },
     "execution_count": 51,
     "metadata": {},
     "output_type": "execute_result"
    }
   ],
   "source": [
    "str1='hai123'\n",
    "str1.isidentifier()"
   ]
  },
  {
   "cell_type": "code",
   "execution_count": 54,
   "id": "10786713-2fe2-4a34-bc6e-63ff3c8d91b1",
   "metadata": {},
   "outputs": [
    {
     "data": {
      "text/plain": [
       "True"
      ]
     },
     "execution_count": 54,
     "metadata": {},
     "output_type": "execute_result"
    }
   ],
   "source": [
    "str1='haihello123'\n",
    "str1.islower()"
   ]
  },
  {
   "cell_type": "code",
   "execution_count": 56,
   "id": "ac480208-8fd3-4217-ad65-6b051ccc9a51",
   "metadata": {},
   "outputs": [
    {
     "data": {
      "text/plain": [
       "True"
      ]
     },
     "execution_count": 56,
     "metadata": {},
     "output_type": "execute_result"
    }
   ],
   "source": [
    "str1='123'\n",
    "str1.isnumeric()"
   ]
  },
  {
   "cell_type": "code",
   "execution_count": 78,
   "id": "3ba3956f-804c-4482-aed8-29df8c1548fd",
   "metadata": {
    "scrolled": true
   },
   "outputs": [
    {
     "data": {
      "text/plain": [
       "True"
      ]
     },
     "execution_count": 78,
     "metadata": {},
     "output_type": "execute_result"
    }
   ],
   "source": [
    "str1='Welcome'\n",
    "str1.istitle()"
   ]
  },
  {
   "cell_type": "code",
   "execution_count": 91,
   "id": "0eff2ea5-fdad-4806-adf5-68fc587e028c",
   "metadata": {},
   "outputs": [
    {
     "data": {
      "text/plain": [
       "True"
      ]
     },
     "execution_count": 91,
     "metadata": {},
     "output_type": "execute_result"
    }
   ],
   "source": [
    "str1= \" \\t\\n\\r\\f\\v\" \n",
    "str1.isspace()"
   ]
  },
  {
   "cell_type": "code",
   "execution_count": 1,
   "id": "412bce05-c1e5-4305-8b97-315d6eb50407",
   "metadata": {},
   "outputs": [
    {
     "ename": "AttributeError",
     "evalue": "'str' object has no attribute 'dictionary'",
     "output_type": "error",
     "traceback": [
      "\u001b[0;31m---------------------------------------------------------------------------\u001b[0m",
      "\u001b[0;31mAttributeError\u001b[0m                            Traceback (most recent call last)",
      "Cell \u001b[0;32mIn[1], line 2\u001b[0m\n\u001b[1;32m      1\u001b[0m str1\u001b[38;5;241m=\u001b[39m\u001b[38;5;124m'\u001b[39m\u001b[38;5;124mWelcome\u001b[39m\u001b[38;5;124m'\u001b[39m\n\u001b[0;32m----> 2\u001b[0m str1\u001b[38;5;241m.\u001b[39mdictionary()\n",
      "\u001b[0;31mAttributeError\u001b[0m: 'str' object has no attribute 'dictionary'"
     ]
    }
   ],
   "source": [
    "str1='Welcome'\n",
    "str1.d()"
   ]
  },
  {
   "cell_type": "code",
   "execution_count": null,
   "id": "bb3e0903-3a81-4751-9046-43c5c66ed568",
   "metadata": {},
   "outputs": [],
   "source": []
  }
 ],
 "metadata": {
  "kernelspec": {
   "display_name": "Python 3 (ipykernel)",
   "language": "python",
   "name": "python3"
  },
  "language_info": {
   "codemirror_mode": {
    "name": "ipython",
    "version": 3
   },
   "file_extension": ".py",
   "mimetype": "text/x-python",
   "name": "python",
   "nbconvert_exporter": "python",
   "pygments_lexer": "ipython3",
   "version": "3.12.4"
  }
 },
 "nbformat": 4,
 "nbformat_minor": 5
}
