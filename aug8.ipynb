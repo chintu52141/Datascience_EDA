{
 "cells": [
  {
   "cell_type": "code",
   "execution_count": 30,
   "id": "17b31e5e-8f4e-4c8f-b011-03ba5bb08193",
   "metadata": {},
   "outputs": [],
   "source": [
    "string='can can you canner can as you can a can type of canner'\n",
    "can1=''\n",
    "you1=''\n",
    "for i in range(len(string)):\n",
    "    if string[i]=='can':\n",
    "        print(string[i])\n",
    "        can1=can1+i\n",
    "        print(can1)\n"
   ]
  },
  {
   "cell_type": "code",
   "execution_count": 46,
   "id": "a2b8102b-e883-4ee8-9e36-58780eda3268",
   "metadata": {},
   "outputs": [
    {
     "name": "stdout",
     "output_type": "stream",
     "text": [
      "['can', 'can', 'you', 'canner', 'can', 'as', 'you', 'can', 'a', 'can', 'type', 'of', 'canner']\n",
      "can\n"
     ]
    },
    {
     "ename": "KeyError",
     "evalue": "'can'",
     "output_type": "error",
     "traceback": [
      "\u001b[0;31m---------------------------------------------------------------------------\u001b[0m",
      "\u001b[0;31mKeyError\u001b[0m                                  Traceback (most recent call last)",
      "Cell \u001b[0;32mIn[46], line 7\u001b[0m\n\u001b[1;32m      5\u001b[0m \u001b[38;5;28;01mfor\u001b[39;00m word \u001b[38;5;129;01min\u001b[39;00m splt:\n\u001b[1;32m      6\u001b[0m     \u001b[38;5;28mprint\u001b[39m(word)\n\u001b[0;32m----> 7\u001b[0m     d1[word]\u001b[38;5;241m=\u001b[39md1[word]\u001b[38;5;241m+\u001b[39m\u001b[38;5;241m1\u001b[39m\n\u001b[1;32m      8\u001b[0m d1\n",
      "\u001b[0;31mKeyError\u001b[0m: 'can'"
     ]
    }
   ],
   "source": [
    "string='can can you canner can as you can a can type of canner'\n",
    "splt=string.split(\" \")\n",
    "print(splt)\n",
    "d1={}\n",
    "for word in splt:\n",
    "    print(word)\n",
    "    d1[word]=d1[word]+1\n",
    "d1\n",
    "    "
   ]
  },
  {
   "cell_type": "code",
   "execution_count": 89,
   "id": "99f8eb54-085f-4d06-9ce5-6240ac023a1a",
   "metadata": {},
   "outputs": [
    {
     "name": "stdout",
     "output_type": "stream",
     "text": [
      "['can', 'can', 'you', 'canner', 'can', 'as', 'you', 'can', 'a', 'can', 'type', 'of', 'canner']\n",
      "0 can\n",
      "1 can\n",
      "4 can\n",
      "7 can\n",
      "9 can\n",
      "2 you\n",
      "6 you\n",
      "5\n",
      "['can', 'can', 'can', 'can', 'can']\n",
      "['you', 'you']\n"
     ]
    },
    {
     "data": {
      "text/plain": [
       "{'can': ['can', 'can', 'can', 'can', 'can'], 'you': ['you', 'you']}"
      ]
     },
     "execution_count": 89,
     "metadata": {},
     "output_type": "execute_result"
    }
   ],
   "source": [
    "string='can can you canner can as you can a can type of canner'\n",
    "splt=string.split(\" \")\n",
    "print(splt)\n",
    "d1={}\n",
    "can1=[]\n",
    "you1=[]\n",
    "num=0\n",
    "for i in range(len(splt)):\n",
    "    if splt[i]=='can':\n",
    "        num=num+1\n",
    "        print(i,splt[i])\n",
    "        can1.append(splt[i])\n",
    "\n",
    "for i in range(len(splt)):\n",
    "    if splt[i]=='you':\n",
    "        print(i,splt[i])\n",
    "        you1.append(splt[i])\n",
    "    \n",
    "        \n",
    "print(num)\n",
    "print(can1)\n",
    "print(you1)\n",
    "d1['can']=can1\n",
    "d1['you']=you1\n",
    "d1\n",
    "        "
   ]
  },
  {
   "cell_type": "code",
   "execution_count": 95,
   "id": "bac92fe8-6c42-4232-8b99-efdb92e0b1fa",
   "metadata": {},
   "outputs": [
    {
     "name": "stdout",
     "output_type": "stream",
     "text": [
      "['can', 'can', 'you', 'canner', 'can', 'as', 'you', 'can', 'a', 'can', 'type', 'of', 'canner']\n"
     ]
    },
    {
     "data": {
      "text/plain": [
       "{}"
      ]
     },
     "execution_count": 95,
     "metadata": {},
     "output_type": "execute_result"
    }
   ],
   "source": [
    "string='can can you canner can as you can a can type of canner'\n",
    "splt=string.split(\" \")\n",
    "print(splt)\n",
    "d1={}\n",
    "for word in splt:\n",
    "    if (word in d1) and (word == 'can' or word=='you'):\n",
    "        d1[word] += 1 \n",
    "d1"
   ]
  },
  {
   "cell_type": "code",
   "execution_count": 104,
   "id": "0b1d1f50-48d8-4bc4-bec5-a16437365a2f",
   "metadata": {},
   "outputs": [
    {
     "name": "stdout",
     "output_type": "stream",
     "text": [
      "['can', 'can', 'you', 'canner', 'can', 'as', 'you', 'can', 'a', 'can', 'type', 'of', 'canner']\n",
      "{'can': 5, 'you': 2}\n"
     ]
    }
   ],
   "source": [
    "string='can can you canner can as you can a can type of canner'\n",
    "splt=string.split(\" \")\n",
    "print(splt)\n",
    "d1={}\n",
    "for word in splt:\n",
    "    if word in ['can', 'you']:\n",
    "        if (word in d1):\n",
    "            d1[word] += 1 \n",
    "        else:\n",
    "            d1[word] = 1\n",
    "print(d1)"
   ]
  },
  {
   "cell_type": "code",
   "execution_count": 142,
   "id": "3ceefee3-e74e-4bf4-a72a-91451df2d9b0",
   "metadata": {},
   "outputs": [
    {
     "data": {
      "text/plain": [
       "{'can': 5, 'you': 2, 'canner': 2, 'as': 1, 'a': 1, 'type': 1, 'of': 1}"
      ]
     },
     "execution_count": 142,
     "metadata": {},
     "output_type": "execute_result"
    }
   ],
   "source": [
    "\n",
    "string='can can you canner can as you can a can type of canner'\n",
    "st2=string.split()\n",
    "d1={}\n",
    "for i in st2:\n",
    "    num=st2.count(i)\n",
    "    d1[i]=num\n",
    "\n",
    "d1\n",
    "dict(sorted(d1.items()))\n",
    "d1\n",
    "    \n"
   ]
  },
  {
   "cell_type": "code",
   "execution_count": 152,
   "id": "af3f8fa4-b2c9-4129-a8ce-b5bc46f30a00",
   "metadata": {},
   "outputs": [
    {
     "data": {
      "text/plain": [
       "{'cities': ['mummm', 'bangaa']}"
      ]
     },
     "execution_count": 152,
     "metadata": {},
     "output_type": "execute_result"
    }
   ],
   "source": [
    "list=['hyd','mummm','bangaa']\n",
    "list2=[]\n",
    "dict={}\n",
    "for i in list:\n",
    "    if len(i)>3:\n",
    "        list2.append(i)\n",
    "dict['cities']=list2\n",
    "dict"
   ]
  },
  {
   "cell_type": "markdown",
   "id": "8e7b20a1-34a1-4ba7-9d9b-302ffcd03206",
   "metadata": {},
   "source": [
    "$pop$  $popitem$  $del$"
   ]
  },
  {
   "cell_type": "code",
   "execution_count": 178,
   "id": "7ff212d8-79fb-4eab-84c9-23de6baa0368",
   "metadata": {},
   "outputs": [
    {
     "data": {
      "text/plain": [
       "{'ramesh': 39}"
      ]
     },
     "execution_count": 178,
     "metadata": {},
     "output_type": "execute_result"
    }
   ],
   "source": [
    "dict1={'ramesh':39,'suresh':12}\n",
    "dict1.pop('suresh')\n",
    "dict1"
   ]
  },
  {
   "cell_type": "code",
   "execution_count": 168,
   "id": "a7cab2b5-d3db-4f3f-afe6-78ce3b5a9aef",
   "metadata": {},
   "outputs": [
    {
     "data": {
      "text/plain": [
       "{'ramesh': 39}"
      ]
     },
     "execution_count": 168,
     "metadata": {},
     "output_type": "execute_result"
    }
   ],
   "source": [
    "dict1={'ramesh':39,'suresh':12}\n",
    "dict1.popitem()"
   ]
  },
  {
   "cell_type": "code",
   "execution_count": 184,
   "id": "6b082997-d7a3-4921-9e52-029849279449",
   "metadata": {},
   "outputs": [
    {
     "data": {
      "text/plain": [
       "{'suresh': 12}"
      ]
     },
     "execution_count": 184,
     "metadata": {},
     "output_type": "execute_result"
    }
   ],
   "source": [
    "dict1={'ramesh':39,'suresh':12}\n",
    "del dict1['ramesh']\n",
    "dict1\n"
   ]
  },
  {
   "cell_type": "markdown",
   "id": "53347209-3c33-46fa-9a09-4563ce37c200",
   "metadata": {},
   "source": [
    "$set   as   default$"
   ]
  },
  {
   "cell_type": "code",
   "execution_count": 195,
   "id": "67a4fe99-848a-4fd4-8949-5dfd5638eb87",
   "metadata": {},
   "outputs": [
    {
     "data": {
      "text/plain": [
       "{'ramesh': 90, 'suresh': 12, 'suh': None, 'moon': 13}"
      ]
     },
     "execution_count": 195,
     "metadata": {},
     "output_type": "execute_result"
    }
   ],
   "source": [
    "dict1={'ramesh':39,'suresh':12}\n",
    "dict1.setdefault('suh')\n",
    "dict1\n",
    "dict1.setdefault('moon',13)\n",
    "dict1\n",
    "dict1['ramesh']=90\n",
    "dict1"
   ]
  },
  {
   "cell_type": "code",
   "execution_count": null,
   "id": "a35096fe-3810-481e-9f87-9b84f751ac15",
   "metadata": {},
   "outputs": [],
   "source": [
    "#clear & copy\n",
    "#pop & popitems & del\n",
    "#setdefault"
   ]
  },
  {
   "cell_type": "code",
   "execution_count": 204,
   "id": "2ac426c8-6543-4008-ac6b-1840a65b85b6",
   "metadata": {},
   "outputs": [
    {
     "data": {
      "text/plain": [
       "{'ramesh': 39, 'suresh': 12}"
      ]
     },
     "execution_count": 204,
     "metadata": {},
     "output_type": "execute_result"
    }
   ],
   "source": [
    "dict1={'ramesh':39,'suresh':12}\n",
    "dict1.copy()\n",
    "dict1"
   ]
  },
  {
   "cell_type": "code",
   "execution_count": 206,
   "id": "7e5e02ce-1387-4747-8c13-fa11d6298100",
   "metadata": {},
   "outputs": [
    {
     "data": {
      "text/plain": [
       "{}"
      ]
     },
     "execution_count": 206,
     "metadata": {},
     "output_type": "execute_result"
    }
   ],
   "source": [
    "dict1={'ramesh':39,'suresh':12}\n",
    "dict1.clear()\n",
    "dict1"
   ]
  },
  {
   "cell_type": "code",
   "execution_count": 224,
   "id": "66797107-058e-4ccd-afc2-bddc40de21ec",
   "metadata": {},
   "outputs": [
    {
     "ename": "TypeError",
     "evalue": "unhashable type: 'list'",
     "output_type": "error",
     "traceback": [
      "\u001b[0;31m---------------------------------------------------------------------------\u001b[0m",
      "\u001b[0;31mTypeError\u001b[0m                                 Traceback (most recent call last)",
      "Cell \u001b[0;32mIn[224], line 4\u001b[0m\n\u001b[1;32m      2\u001b[0m set2\u001b[38;5;241m=\u001b[39m[\u001b[38;5;241m23\u001b[39m,\u001b[38;5;241m24\u001b[39m]\n\u001b[1;32m      3\u001b[0m dict1\u001b[38;5;241m=\u001b[39m{}\n\u001b[0;32m----> 4\u001b[0m dict1[set1]\u001b[38;5;241m=\u001b[39mset2\n\u001b[1;32m      5\u001b[0m dict1\n",
      "\u001b[0;31mTypeError\u001b[0m: unhashable type: 'list'"
     ]
    }
   ],
   "source": []
  },
  {
   "cell_type": "code",
   "execution_count": null,
   "id": "7226b76c-2f4d-4b43-9dfe-11d35f5005e5",
   "metadata": {},
   "outputs": [],
   "source": []
  }
 ],
 "metadata": {
  "kernelspec": {
   "display_name": "Python 3 (ipykernel)",
   "language": "python",
   "name": "python3"
  },
  "language_info": {
   "codemirror_mode": {
    "name": "ipython",
    "version": 3
   },
   "file_extension": ".py",
   "mimetype": "text/x-python",
   "name": "python",
   "nbconvert_exporter": "python",
   "pygments_lexer": "ipython3",
   "version": "3.12.4"
  }
 },
 "nbformat": 4,
 "nbformat_minor": 5
}
