{
 "cells": [
  {
   "cell_type": "markdown",
   "id": "a327fdb3-3d3d-42ff-ba56-38495ec284d8",
   "metadata": {},
   "source": [
    "$get$"
   ]
  },
  {
   "cell_type": "code",
   "execution_count": null,
   "id": "14e41dbd-88ec-4597-8571-92929af736bc",
   "metadata": {},
   "outputs": [],
   "source": []
  },
  {
   "cell_type": "code",
   "execution_count": null,
   "id": "f0ba6789-14aa-46f9-94c8-ac333493a2e8",
   "metadata": {},
   "outputs": [],
   "source": []
  },
  {
   "cell_type": "code",
   "execution_count": null,
   "id": "6d106202-cc3d-49ca-aa1b-356977d39a6b",
   "metadata": {},
   "outputs": [],
   "source": []
  },
  {
   "cell_type": "code",
   "execution_count": 3,
   "id": "f49e9844-d3f5-4a22-9a80-e335fe5e1c3e",
   "metadata": {},
   "outputs": [
    {
     "data": {
      "text/plain": [
       "20"
      ]
     },
     "execution_count": 3,
     "metadata": {},
     "output_type": "execute_result"
    }
   ],
   "source": [
    "dict1={'ramesh':20,'sudha':23,'rakesh':24}\n",
    "dict1.get('ramesh')\n",
    "dict1['ramesh']"
   ]
  },
  {
   "cell_type": "code",
   "execution_count": 4,
   "id": "128ca9ca-18ad-4a66-b2c6-3315992df5e3",
   "metadata": {},
   "outputs": [],
   "source": [
    "#we can retrive the value but not key"
   ]
  },
  {
   "cell_type": "code",
   "execution_count": 22,
   "id": "fe46a96a-9d7b-460c-8171-cda9cde103ad",
   "metadata": {},
   "outputs": [
    {
     "data": {
      "text/plain": [
       "{'ramesh': 20, 'sudha': 23, 'rakesh': 24, 'leela': 25}"
      ]
     },
     "execution_count": 22,
     "metadata": {},
     "output_type": "execute_result"
    }
   ],
   "source": [
    "dict1={'ramesh':20,'sudha':23,'rakesh':24}\n",
    "dict2={'leela':25}\n",
    "dict1.update(dict2)\n",
    "dict1\n"
   ]
  },
  {
   "cell_type": "code",
   "execution_count": null,
   "id": "88b684b8-f8da-485a-b085-f79d6f73367a",
   "metadata": {},
   "outputs": [],
   "source": [
    "dict1={'ramesh':20,'sudha':23,'rakesh':24}\n",
    "\n"
   ]
  },
  {
   "cell_type": "code",
   "execution_count": 29,
   "id": "7e0dd09c-dc11-4d78-903f-37ab42ce752f",
   "metadata": {},
   "outputs": [
    {
     "data": {
      "text/plain": [
       "[1, 3, 2, ('l', 'k', 'j')]"
      ]
     },
     "execution_count": 29,
     "metadata": {},
     "output_type": "execute_result"
    }
   ],
   "source": [
    "l1=[1,3,2]\n",
    "l2=['l','k','j']\n",
    "l1.append(l2)\n",
    "l1"
   ]
  },
  {
   "cell_type": "code",
   "execution_count": 39,
   "id": "d23886a5-7801-4353-8818-356ab5e84b1b",
   "metadata": {},
   "outputs": [
    {
     "name": "stdout",
     "output_type": "stream",
     "text": [
      "{'l2': [1, 3, 2]}\n"
     ]
    },
    {
     "data": {
      "text/plain": [
       "1"
      ]
     },
     "execution_count": 39,
     "metadata": {},
     "output_type": "execute_result"
    }
   ],
   "source": [
    "l1=[1,3,2]\n",
    "l2=['l','k','j'] u\n",
    "d1={}\n",
    "d1['l2']=l1\n",
    "print(d1)\n",
    "[l1][0][0]\n"
   ]
  },
  {
   "cell_type": "code",
   "execution_count": null,
   "id": "83031364-b43f-4777-8c5b-0870abe1d8a4",
   "metadata": {},
   "outputs": [],
   "source": [
    "data science\n",
    "1.ml\n",
    "2.dl\n",
    "3.nlp\n",
    "4.gen ai\n",
    "\n",
    "platforms for python\n",
    "1.anacond\n",
    "2.google collab\n",
    "3.notepad++\n",
    "4.pycharm\n",
    "5.vs code\n",
    "6.gcp benchmark\n",
    "\n",
    "packages\n",
    "1.eda\n",
    "1.numpy\n",
    "pandsa\n",
    "matplotlib\n",
    "seaborn\n",
    "ploty\n",
    "bokhe\n",
    "\n",
    "2.ml\n",
    "scipy\n",
    "\n",
    "2.dl\n",
    "keras\n",
    "pytorch\n",
    "pycharm\n",
    "\n",
    "3.nlp\n",
    "nlptk\n",
    "scipy\n",
    "\n",
    "1.ml\n",
    "1.supervised and unsupervised\n",
    "\n",
    "1.supervised \n",
    "decission tree\n",
    "k neraest neighbour\n",
    "navie bays\n",
    "logistic regression\n",
    "bagging and boosting\n",
    "vector mahine\n",
    "xg boot adaoot random forest\n",
    "\n",
    "regresssion\n",
    "ridgr\n",
    "lasso\n",
    "linear\n",
    "\n",
    "unsupervised\n",
    "kmeans\n",
    "dbscan\n",
    "hirache\n",
    "\n",
    "\n"
   ]
  },
  {
   "cell_type": "code",
   "execution_count": 46,
   "id": "811d1cef-db75-4871-bb62-5eee7dab6710",
   "metadata": {},
   "outputs": [
    {
     "data": {
      "text/plain": [
       "False"
      ]
     },
     "execution_count": 46,
     "metadata": {},
     "output_type": "execute_result"
    }
   ],
   "source": [
    "def prime(max_numbers):\n",
    "    for i in range(2,max_numbers):\n",
    "        if max_numbers%i==0:\n",
    "            return False\n",
    "    return True\n",
    "    print('prime',max_numbers)\n",
    "\n",
    "prime(20)\n"
   ]
  },
  {
   "cell_type": "code",
   "execution_count": 12,
   "id": "37828879-e065-468b-a3ce-ddd6fb697273",
   "metadata": {},
   "outputs": [
    {
     "name": "stdout",
     "output_type": "stream",
     "text": [
      "prime_num: \n",
      "3 and 5 is prime\n",
      "5 and 7 is prime\n"
     ]
    }
   ],
   "source": [
    "def prime(max_number):\n",
    "    for i in range(2,max_number):\n",
    "         if max_number % i==0:\n",
    "            \n",
    "            return False\n",
    "    return True\n",
    "\n",
    "def Twin_num(max_number):\n",
    "     for first_num in range(2,max_number):\n",
    "         second_num = first_num + 2\n",
    "         #print(f\"for loop first_num{first_num}, second_num{second_num}\")\n",
    "         if(prime(first_num) and prime(second_num)):\n",
    "             print('{} and {} is prime'.format(first_num,second_num))\n",
    "print('prime_num: ')\n",
    "Twin_num(10)\n",
    "     "
   ]
  },
  {
   "cell_type": "code",
   "execution_count": 34,
   "id": "7fa8ae7c-b9be-453b-b08e-9e60048a9ab1",
   "metadata": {},
   "outputs": [
    {
     "data": {
      "text/plain": [
       "True"
      ]
     },
     "execution_count": 34,
     "metadata": {},
     "output_type": "execute_result"
    }
   ],
   "source": [
    "def prime(max_number):\n",
    "    for i in range(2,max_number):\n",
    "         if max_number % i==0:\n",
    "            \n",
    "            return False\n",
    "    return True\n",
    "\n",
    "prime(11)"
   ]
  },
  {
   "cell_type": "code",
   "execution_count": 15,
   "id": "3695587a-7cd2-4ad4-a971-6a66a30407bf",
   "metadata": {},
   "outputs": [
    {
     "name": "stdout",
     "output_type": "stream",
     "text": [
      "3 5 true\n",
      "5 7 true\n",
      "9 11 true\n",
      "11 13 true\n"
     ]
    }
   ],
   "source": [
    "def prime(numbers):\n",
    "    for i in range (2,numbers):\n",
    "        if numbers%i==0:\n",
    "            return False\n",
    "\n",
    "    return True\n",
    "\n",
    "def twun_prime(numbers):\n",
    "    for first_number in range(2,numbers):\n",
    "        second_number=first_number+2\n",
    "        if (prime(first_number and second_number)):\n",
    "            print(first_number,second_number,'true')\n",
    "\n",
    "twun_prime(13)\n",
    "\n",
    "    "
   ]
  },
  {
   "cell_type": "code",
   "execution_count": null,
   "id": "a11d3ef6-c98a-432a-8a10-eb77e9cc5d62",
   "metadata": {},
   "outputs": [],
   "source": []
  }
 ],
 "metadata": {
  "kernelspec": {
   "display_name": "Python 3 (ipykernel)",
   "language": "python",
   "name": "python3"
  },
  "language_info": {
   "codemirror_mode": {
    "name": "ipython",
    "version": 3
   },
   "file_extension": ".py",
   "mimetype": "text/x-python",
   "name": "python",
   "nbconvert_exporter": "python",
   "pygments_lexer": "ipython3",
   "version": "3.12.4"
  }
 },
 "nbformat": 4,
 "nbformat_minor": 5
}
