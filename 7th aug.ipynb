{
 "cells": [
  {
   "cell_type": "code",
   "execution_count": 1,
   "id": "40b4c96a-9ceb-494c-97e8-021ee728c0f7",
   "metadata": {},
   "outputs": [
    {
     "ename": "SyntaxError",
     "evalue": "invalid syntax (4240152996.py, line 1)",
     "output_type": "error",
     "traceback": [
      "\u001b[0;36m  Cell \u001b[0;32mIn[1], line 1\u001b[0;36m\u001b[0m\n\u001b[0;31m    <if_output> <if condition> else <elseoutput> for loop\u001b[0m\n\u001b[0m    ^\u001b[0m\n\u001b[0;31mSyntaxError\u001b[0m\u001b[0;31m:\u001b[0m invalid syntax\n"
     ]
    }
   ],
   "source": [
    "<if_output> <if condition> else <elseoutput> for loop\n"
   ]
  },
  {
   "cell_type": "code",
   "execution_count": null,
   "id": "1fff40b4-9cb4-4560-9682-402c3fbb297b",
   "metadata": {},
   "outputs": [],
   "source": [
    "pop and remove\n",
    "extend and append"
   ]
  },
  {
   "cell_type": "code",
   "execution_count": 5,
   "id": "d9a534f3-7576-42d6-9797-863373e78e61",
   "metadata": {},
   "outputs": [
    {
     "data": {
      "text/plain": [
       "[2, 0, 0]"
      ]
     },
     "execution_count": 5,
     "metadata": {},
     "output_type": "execute_result"
    }
   ],
   "source": [
    "o=[1,2,0,0]\n",
    "o.pop(0)\n",
    "o"
   ]
  },
  {
   "cell_type": "code",
   "execution_count": 14,
   "id": "deaafecb-17f5-45e7-88ca-9a0c374794ea",
   "metadata": {},
   "outputs": [
    {
     "data": {
      "text/plain": [
       "[1, 2, 3, 5, 6, 5, 6]"
      ]
     },
     "execution_count": 14,
     "metadata": {},
     "output_type": "execute_result"
    }
   ],
   "source": [
    "list1=[1,2,3,4,5,6,5,6,]\n",
    "list1.index(4)\n",
    "list1.pop(3)\n",
    "list1"
   ]
  },
  {
   "cell_type": "markdown",
   "id": "e252f764-2a0a-4c3b-8ca4-ec19e1cfcc41",
   "metadata": {},
   "source": [
    "$insert$"
   ]
  },
  {
   "cell_type": "code",
   "execution_count": null,
   "id": "3aaba8fe-0c22-437d-b4b8-b541b1a3301d",
   "metadata": {},
   "outputs": [],
   "source": [
    "append vs insert"
   ]
  },
  {
   "cell_type": "code",
   "execution_count": 25,
   "id": "52d2c0f9-5fd6-441f-9ffd-3189c174c31b",
   "metadata": {},
   "outputs": [
    {
     "data": {
      "text/plain": [
       "[[1, 2, 3, 4, 5, 6, 5, 6]]"
      ]
     },
     "execution_count": 25,
     "metadata": {},
     "output_type": "execute_result"
    }
   ],
   "source": [
    "list1=[1,2,3,4,5,6,5,6,]\n",
    "list2=[]\n",
    "list2.append(list1)\n",
    "list2"
   ]
  },
  {
   "cell_type": "code",
   "execution_count": 32,
   "id": "0899736f-8696-495f-8d63-0dfe1095c2bb",
   "metadata": {},
   "outputs": [
    {
     "data": {
      "text/plain": [
       "['add', 'apple', 'sum']"
      ]
     },
     "execution_count": 32,
     "metadata": {},
     "output_type": "execute_result"
    }
   ],
   "source": [
    "list=['add','sum']\n",
    "list.insert(1,'apple')\n",
    "list"
   ]
  },
  {
   "cell_type": "code",
   "execution_count": 41,
   "id": "d8baef9f-dc7d-42f1-874f-6323988c3f07",
   "metadata": {},
   "outputs": [
    {
     "data": {
      "text/plain": [
       "['pp', ['add', 'sum', 'applw'], 'pp', 'pp', 'pp']"
      ]
     },
     "execution_count": 41,
     "metadata": {},
     "output_type": "execute_result"
    }
   ],
   "source": [
    "list=['add','sum','applw']\n",
    "list1.append('pp')\n",
    "list1\n"
   ]
  },
  {
   "cell_type": "markdown",
   "id": "56071ca2-ad4b-4c97-bc98-e66504a834d5",
   "metadata": {},
   "source": [
    "$reverse and sort$"
   ]
  },
  {
   "cell_type": "code",
   "execution_count": 64,
   "id": "a5aaca22-9394-4304-a509-7d30d1ea7aa6",
   "metadata": {},
   "outputs": [
    {
     "data": {
      "text/plain": [
       "['w', 'a', 3, 2, 1]"
      ]
     },
     "execution_count": 64,
     "metadata": {},
     "output_type": "execute_result"
    }
   ],
   "source": [
    "list1=[1,2,3,'a','w']\n",
    "list1.reverse()\n",
    "list1\n"
   ]
  },
  {
   "cell_type": "code",
   "execution_count": 63,
   "id": "719bae20-dbc0-49cd-bcf1-18b5b266925a",
   "metadata": {},
   "outputs": [
    {
     "data": {
      "text/plain": [
       "['w', 'a', 3, 2, 1]"
      ]
     },
     "execution_count": 63,
     "metadata": {},
     "output_type": "execute_result"
    }
   ],
   "source": [
    "list1=[1,2,3,'a','w']\n",
    "list2=[]\n",
    "for i in reversed(list1):\n",
    "    list2.append(i)\n",
    "    \n",
    "list2"
   ]
  },
  {
   "cell_type": "code",
   "execution_count": null,
   "id": "48282531-9d35-4cd6-8d2c-7ce6014b800d",
   "metadata": {},
   "outputs": [],
   "source": [
    "#reverse is a method only for list\n",
    "#reverse is not applicable for string\n",
    "#reversed is a keyword for both string and list\n"
   ]
  },
  {
   "cell_type": "code",
   "execution_count": 70,
   "id": "2a3f1c29-9ca3-4e60-af6d-dffd636b7838",
   "metadata": {},
   "outputs": [
    {
     "name": "stdout",
     "output_type": "stream",
     "text": [
      "n\n",
      "o\n",
      "h\n",
      "t\n",
      "y\n",
      "p\n"
     ]
    },
    {
     "data": {
      "text/plain": [
       "'nohtyp'"
      ]
     },
     "execution_count": 70,
     "metadata": {},
     "output_type": "execute_result"
    }
   ],
   "source": [
    "str1='python'\n",
    "str11=''\n",
    "for i in reversed(str1):\n",
    "    print(i)\n",
    "    str11=str11+i\n",
    "\n",
    "str11"
   ]
  },
  {
   "cell_type": "code",
   "execution_count": 74,
   "id": "29539882-d12a-412d-aee3-8cfe7e978af0",
   "metadata": {},
   "outputs": [
    {
     "data": {
      "text/plain": [
       "[1, 2, 2, 2, 3, 3, 3, 3, 4, 4, 35]"
      ]
     },
     "execution_count": 74,
     "metadata": {},
     "output_type": "execute_result"
    }
   ],
   "source": [
    "list=[1,2,3,4,2,4,35,3,3,2,3]\n",
    "list.sort()\n",
    "list"
   ]
  },
  {
   "cell_type": "code",
   "execution_count": 75,
   "id": "1f9e4908-e4a8-442c-a725-4836b2e99406",
   "metadata": {},
   "outputs": [
    {
     "data": {
      "text/plain": [
       "[1, 2, 2, 2, 3, 3, 3, 3, 4, 4, 35]"
      ]
     },
     "execution_count": 75,
     "metadata": {},
     "output_type": "execute_result"
    }
   ],
   "source": [
    "list=[1,2,3,4,2,4,35,3,3,2,3]\n",
    "sorted(list)"
   ]
  },
  {
   "cell_type": "code",
   "execution_count": null,
   "id": "9ede9ba5-7326-4179-b0af-15011e5ee135",
   "metadata": {},
   "outputs": [],
   "source": [
    "#sort is a method and sorted is a keyword"
   ]
  },
  {
   "cell_type": "markdown",
   "id": "45f4b266-436a-4300-b2c3-9c47f9a8f6a6",
   "metadata": {},
   "source": [
    "$dictionary$"
   ]
  },
  {
   "cell_type": "code",
   "execution_count": 94,
   "id": "869c68dc-7fe0-4115-88b6-d8caf13a0b66",
   "metadata": {},
   "outputs": [
    {
     "name": "stdout",
     "output_type": "stream",
     "text": [
      "age of ramesh is ('vigneesh', 14)\n"
     ]
    }
   ],
   "source": [
    "list1=[\"ramesh\",\"suresh\",\"vigneesh\"]\n",
    "list2=[12,13,14]\n",
    "print(f'age of ramesh is {list1[i],list2[i]}')"
   ]
  },
  {
   "cell_type": "code",
   "execution_count": 88,
   "id": "60de4ac0-dded-41d4-b111-15bba9c2b856",
   "metadata": {},
   "outputs": [
    {
     "name": "stdout",
     "output_type": "stream",
     "text": [
      "ramesh 12\n",
      "suresh 13\n",
      "vigneesh 14\n"
     ]
    }
   ],
   "source": [
    "list1=[\"ramesh\",\"suresh\",\"vigneesh\"]\n",
    "list2=[12,13,14]\n",
    "for i in range(len(list1)):\n",
    "    print(list1[i],list2[i])"
   ]
  },
  {
   "cell_type": "markdown",
   "id": "b88eeb27-997d-4fa1-b53b-c69aa43ad8db",
   "metadata": {},
   "source": [
    "$zip$"
   ]
  },
  {
   "cell_type": "code",
   "execution_count": 96,
   "id": "b63ac4e8-2ff8-481f-983f-8e28573237cc",
   "metadata": {},
   "outputs": [
    {
     "name": "stdout",
     "output_type": "stream",
     "text": [
      "ramesh 12\n",
      "suresh 13\n",
      "vigneesh 14\n"
     ]
    }
   ],
   "source": [
    "list1=[\"ramesh\",\"suresh\",\"vigneesh\"]\n",
    "list2=[12,13,14]\n",
    "for i,j in zip(list1,list2):\n",
    "    print(i,j)"
   ]
  },
  {
   "cell_type": "code",
   "execution_count": null,
   "id": "080bdfee-6693-4d23-890c-5c90d2a787dc",
   "metadata": {},
   "outputs": [],
   "source": [
    "$dictionary$===={}"
   ]
  },
  {
   "cell_type": "code",
   "execution_count": 100,
   "id": "0d12aaa0-32f7-4e5b-a7de-71a2e0038958",
   "metadata": {},
   "outputs": [],
   "source": [
    "det={'ramesh':10,'suresh':90,'mahesg':8}"
   ]
  },
  {
   "cell_type": "code",
   "execution_count": 101,
   "id": "86cbfb7c-a132-4fff-bd20-ad664b3d77b6",
   "metadata": {},
   "outputs": [
    {
     "data": {
      "text/plain": [
       "{'ramesh': 10, 'suresh': 90, 'mahesg': 8}"
      ]
     },
     "execution_count": 101,
     "metadata": {},
     "output_type": "execute_result"
    }
   ],
   "source": [
    "det\n"
   ]
  },
  {
   "cell_type": "code",
   "execution_count": 102,
   "id": "acb8acef-f3b0-47a4-a215-d2034a0dabe8",
   "metadata": {},
   "outputs": [
    {
     "data": {
      "text/plain": [
       "dict"
      ]
     },
     "execution_count": 102,
     "metadata": {},
     "output_type": "execute_result"
    }
   ],
   "source": [
    "type(det)"
   ]
  },
  {
   "cell_type": "code",
   "execution_count": 103,
   "id": "6cba2f1b-f291-4190-9516-b8ae07e4f367",
   "metadata": {},
   "outputs": [
    {
     "ename": "NameError",
     "evalue": "name 'key' is not defined",
     "output_type": "error",
     "traceback": [
      "\u001b[0;31m---------------------------------------------------------------------------\u001b[0m",
      "\u001b[0;31mNameError\u001b[0m                                 Traceback (most recent call last)",
      "Cell \u001b[0;32mIn[103], line 2\u001b[0m\n\u001b[1;32m      1\u001b[0m str1\u001b[38;5;241m=\u001b[39m\u001b[38;5;124m'\u001b[39m\u001b[38;5;124mpython\u001b[39m\u001b[38;5;124m'\u001b[39m\n\u001b[0;32m----> 2\u001b[0m key(str1)\n",
      "\u001b[0;31mNameError\u001b[0m: name 'key' is not defined"
     ]
    }
   ],
   "source": [
    "str1='python'\n",
    "key(str1)"
   ]
  },
  {
   "cell_type": "code",
   "execution_count": 111,
   "id": "9ffc5835-5c4c-4aee-8333-386085045b10",
   "metadata": {},
   "outputs": [
    {
     "data": {
      "text/plain": [
       "{10: 10.0, 'suresh': 8}"
      ]
     },
     "execution_count": 111,
     "metadata": {},
     "output_type": "execute_result"
    }
   ],
   "source": [
    "det={10:10.0,'suresh':90,'suresh':8}\n",
    "det"
   ]
  },
  {
   "cell_type": "code",
   "execution_count": null,
   "id": "c878e30a-5d53-45d4-86d1-76da6c2658cd",
   "metadata": {},
   "outputs": [],
   "source": [
    "#key will not be a list\n",
    "#key and value are present in dictionary\n",
    "#duplicates are not allowed===it wont take twice \n",
    "#latest value will be updated\n",
    "#if the keys are same it will take updated one\n"
   ]
  },
  {
   "cell_type": "code",
   "execution_count": 109,
   "id": "194b6fd5-b5a4-4e48-a415-2dadd9f17621",
   "metadata": {},
   "outputs": [],
   "source": [
    "dict3={'buy':{'apple':'apple'}}"
   ]
  },
  {
   "cell_type": "code",
   "execution_count": 110,
   "id": "93832ad0-a1e3-431b-83b9-c41b483d9297",
   "metadata": {},
   "outputs": [
    {
     "data": {
      "text/plain": [
       "{'buy': {'apple': 'apple'}}"
      ]
     },
     "execution_count": 110,
     "metadata": {},
     "output_type": "execute_result"
    }
   ],
   "source": [
    "dict3"
   ]
  },
  {
   "cell_type": "code",
   "execution_count": 113,
   "id": "0f296500-757a-49f3-9b4c-3c952661f30d",
   "metadata": {},
   "outputs": [
    {
     "data": {
      "text/plain": [
       "{'ramesh': 10, 'suresh': 16, 'praksah': 26}"
      ]
     },
     "execution_count": 113,
     "metadata": {},
     "output_type": "execute_result"
    }
   ],
   "source": [
    "dict1={'ramesh':10,'suresh':16,'praksah':26}\n",
    "dict1"
   ]
  },
  {
   "cell_type": "code",
   "execution_count": 114,
   "id": "c4ac122a-29bc-47af-8f0d-0e342fe07631",
   "metadata": {},
   "outputs": [
    {
     "data": {
      "text/plain": [
       "dict"
      ]
     },
     "execution_count": 114,
     "metadata": {},
     "output_type": "execute_result"
    }
   ],
   "source": [
    "type(dict1)"
   ]
  },
  {
   "cell_type": "code",
   "execution_count": 115,
   "id": "e14fa937-ced7-4f16-94aa-d4b9f5268e6b",
   "metadata": {},
   "outputs": [
    {
     "data": {
      "text/plain": [
       "'praksah'"
      ]
     },
     "execution_count": 115,
     "metadata": {},
     "output_type": "execute_result"
    }
   ],
   "source": [
    "min(dict1)"
   ]
  },
  {
   "cell_type": "code",
   "execution_count": 117,
   "id": "ca2667f3-2d10-439c-9be0-9b7029779629",
   "metadata": {},
   "outputs": [
    {
     "data": {
      "text/plain": [
       "'suresh'"
      ]
     },
     "execution_count": 117,
     "metadata": {},
     "output_type": "execute_result"
    }
   ],
   "source": [
    "max(dict1)"
   ]
  },
  {
   "cell_type": "code",
   "execution_count": 118,
   "id": "8e822f92-2443-4477-8464-2f96828fd3ea",
   "metadata": {},
   "outputs": [
    {
     "data": {
      "text/plain": [
       "'praksah'"
      ]
     },
     "execution_count": 118,
     "metadata": {},
     "output_type": "execute_result"
    }
   ],
   "source": [
    "min(dict1)"
   ]
  },
  {
   "cell_type": "code",
   "execution_count": 119,
   "id": "3574cd51-709d-46bc-ac12-b1a07222c969",
   "metadata": {},
   "outputs": [
    {
     "ename": "TypeError",
     "evalue": "unsupported operand type(s) for +: 'int' and 'str'",
     "output_type": "error",
     "traceback": [
      "\u001b[0;31m---------------------------------------------------------------------------\u001b[0m",
      "\u001b[0;31mTypeError\u001b[0m                                 Traceback (most recent call last)",
      "Cell \u001b[0;32mIn[119], line 1\u001b[0m\n\u001b[0;32m----> 1\u001b[0m \u001b[38;5;28msum\u001b[39m(dict1)\n",
      "\u001b[0;31mTypeError\u001b[0m: unsupported operand type(s) for +: 'int' and 'str'"
     ]
    }
   ],
   "source": [
    "sum(dict1)"
   ]
  },
  {
   "cell_type": "markdown",
   "id": "16d96f25-0241-4a3f-b9d6-2d18e64c478b",
   "metadata": {},
   "source": [
    "$index$"
   ]
  },
  {
   "cell_type": "code",
   "execution_count": 120,
   "id": "d6960da1-b153-453d-b6bc-90fa835924a5",
   "metadata": {},
   "outputs": [
    {
     "data": {
      "text/plain": [
       "10"
      ]
     },
     "execution_count": 120,
     "metadata": {},
     "output_type": "execute_result"
    }
   ],
   "source": [
    "dict1={'ramesh':10,'suresh':16,'praksah':26}\n",
    "dict1['ramesh']\n"
   ]
  },
  {
   "cell_type": "code",
   "execution_count": 124,
   "id": "3c77f71e-15ae-4df1-b856-d49600cd64d3",
   "metadata": {},
   "outputs": [
    {
     "name": "stdout",
     "output_type": "stream",
     "text": [
      "ramesh 10\n",
      "suresh 16\n",
      "praksah 26\n"
     ]
    }
   ],
   "source": [
    "dict1={'ramesh':10,'suresh':16,'praksah':26}\n",
    "for i in dict1:\n",
    "    print(i,dict1[i])"
   ]
  },
  {
   "cell_type": "code",
   "execution_count": 127,
   "id": "7f4a6201-a6dc-4089-8ab2-fc93195641b6",
   "metadata": {},
   "outputs": [
    {
     "data": {
      "text/plain": [
       "[10, 16, 26]"
      ]
     },
     "execution_count": 127,
     "metadata": {},
     "output_type": "execute_result"
    }
   ],
   "source": [
    "out=[dict1[i] for i in dict1]\n",
    "out"
   ]
  },
  {
   "cell_type": "code",
   "execution_count": 136,
   "id": "9259cbb3-89e5-4877-a4ce-6d89d4554989",
   "metadata": {},
   "outputs": [
    {
     "data": {
      "text/plain": [
       "26"
      ]
     },
     "execution_count": 136,
     "metadata": {},
     "output_type": "execute_result"
    }
   ],
   "source": [
    "dict1={'fruits':['apple','banana',{'cherry':26}]}\n",
    "dict1['fruits'][2]['cherry']\n"
   ]
  },
  {
   "cell_type": "code",
   "execution_count": 176,
   "id": "c5bd6e8e-95cf-4bc6-b13b-b5342784167c",
   "metadata": {},
   "outputs": [
    {
     "data": {
      "text/plain": [
       "'4mobths'"
      ]
     },
     "execution_count": 176,
     "metadata": {},
     "output_type": "execute_result"
    }
   ],
   "source": [
    "dict1={'salary':{'lakh':{'do':[{'ds':'4mobths'},'de','mle']}}}\n",
    "dict1['salary']['lakh']['do'][0]['ds']"
   ]
  },
  {
   "cell_type": "code",
   "execution_count": 177,
   "id": "742e2d51-7f16-4431-95cb-6f5eb240dfd8",
   "metadata": {},
   "outputs": [],
   "source": [
    "dict2={'monitor':{'2lakhs':{'9milion':{'20k':{'30people':{'power':[20000]}}}}}}"
   ]
  },
  {
   "cell_type": "code",
   "execution_count": 178,
   "id": "0f594078-c0a1-4cc5-bf4a-53bde578604f",
   "metadata": {},
   "outputs": [
    {
     "data": {
      "text/plain": [
       "1"
      ]
     },
     "execution_count": 178,
     "metadata": {},
     "output_type": "execute_result"
    }
   ],
   "source": [
    "len(dict2)"
   ]
  },
  {
   "cell_type": "code",
   "execution_count": 191,
   "id": "da776077-8f86-400d-b28f-f2bf17159323",
   "metadata": {},
   "outputs": [
    {
     "data": {
      "text/plain": [
       "[20000]"
      ]
     },
     "execution_count": 191,
     "metadata": {},
     "output_type": "execute_result"
    }
   ],
   "source": [
    "dict2['monitor']['2lakhs']['9milion']['20k']['30people']['power']"
   ]
  },
  {
   "cell_type": "code",
   "execution_count": 181,
   "id": "394cb60d-6fd8-48d6-89d8-7e8cf4cb83ab",
   "metadata": {},
   "outputs": [
    {
     "ename": "KeyError",
     "evalue": "'2lakhs'",
     "output_type": "error",
     "traceback": [
      "\u001b[0;31m---------------------------------------------------------------------------\u001b[0m",
      "\u001b[0;31mKeyError\u001b[0m                                  Traceback (most recent call last)",
      "Cell \u001b[0;32mIn[181], line 1\u001b[0m\n\u001b[0;32m----> 1\u001b[0m dict2[\u001b[38;5;124m'\u001b[39m\u001b[38;5;124m2lakhs\u001b[39m\u001b[38;5;124m'\u001b[39m]\n",
      "\u001b[0;31mKeyError\u001b[0m: '2lakhs'"
     ]
    }
   ],
   "source": [
    "dict2['2lakhs']"
   ]
  },
  {
   "cell_type": "code",
   "execution_count": 192,
   "id": "452f4a49-161b-4413-96c8-e23901bae993",
   "metadata": {},
   "outputs": [
    {
     "data": {
      "text/plain": [
       "['__class__',\n",
       " '__class_getitem__',\n",
       " '__contains__',\n",
       " '__delattr__',\n",
       " '__delitem__',\n",
       " '__dir__',\n",
       " '__doc__',\n",
       " '__eq__',\n",
       " '__format__',\n",
       " '__ge__',\n",
       " '__getattribute__',\n",
       " '__getitem__',\n",
       " '__getstate__',\n",
       " '__gt__',\n",
       " '__hash__',\n",
       " '__init__',\n",
       " '__init_subclass__',\n",
       " '__ior__',\n",
       " '__iter__',\n",
       " '__le__',\n",
       " '__len__',\n",
       " '__lt__',\n",
       " '__ne__',\n",
       " '__new__',\n",
       " '__or__',\n",
       " '__reduce__',\n",
       " '__reduce_ex__',\n",
       " '__repr__',\n",
       " '__reversed__',\n",
       " '__ror__',\n",
       " '__setattr__',\n",
       " '__setitem__',\n",
       " '__sizeof__',\n",
       " '__str__',\n",
       " '__subclasshook__',\n",
       " 'clear',\n",
       " 'copy',\n",
       " 'fromkeys',\n",
       " 'get',\n",
       " 'items',\n",
       " 'keys',\n",
       " 'pop',\n",
       " 'popitem',\n",
       " 'setdefault',\n",
       " 'update',\n",
       " 'values']"
      ]
     },
     "execution_count": 192,
     "metadata": {},
     "output_type": "execute_result"
    }
   ],
   "source": [
    "dir({})"
   ]
  },
  {
   "cell_type": "code",
   "execution_count": null,
   "id": "9f6de99a-a8a7-451b-9393-f43fd27854ca",
   "metadata": {},
   "outputs": [],
   "source": [
    " 'clear',\n",
    " 'copy',\n",
    " 'fromkeys',\n",
    " 'get',\n",
    " 'items',\n",
    " 'keys',\n",
    " 'pop',\n",
    " 'popitem',\n",
    " 'setdefault',\n",
    " 'update',\n",
    " 'values'\n"
   ]
  },
  {
   "cell_type": "code",
   "execution_count": 209,
   "id": "38ae07ca-d74f-453f-af87-ed0c12d8dbc6",
   "metadata": {},
   "outputs": [
    {
     "data": {
      "text/plain": [
       "dict_keys(['max', 'lee'])"
      ]
     },
     "execution_count": 209,
     "metadata": {},
     "output_type": "execute_result"
    }
   ],
   "source": [
    "dict1={'max':90,'lee':89}\n",
    "dict1.keys()\n"
   ]
  },
  {
   "cell_type": "code",
   "execution_count": 212,
   "id": "e18a1679-0299-4bd1-a564-e8ad33e8a9a6",
   "metadata": {},
   "outputs": [
    {
     "ename": "NameError",
     "evalue": "name 'dict_keys' is not defined",
     "output_type": "error",
     "traceback": [
      "\u001b[0;31m---------------------------------------------------------------------------\u001b[0m",
      "\u001b[0;31mNameError\u001b[0m                                 Traceback (most recent call last)",
      "Cell \u001b[0;32mIn[212], line 1\u001b[0m\n\u001b[0;32m----> 1\u001b[0m \u001b[38;5;28mlist\u001b[39m(dict_keys)\n",
      "\u001b[0;31mNameError\u001b[0m: name 'dict_keys' is not defined"
     ]
    }
   ],
   "source": [
    "list(dict_keys)"
   ]
  },
  {
   "cell_type": "code",
   "execution_count": 226,
   "id": "abe4367a-6141-4f48-b412-39cf22cec040",
   "metadata": {},
   "outputs": [],
   "source": [
    "dict1={'max':90,'lee':89}\n",
    "keys=dict1.keys()\n"
   ]
  },
  {
   "cell_type": "code",
   "execution_count": 227,
   "id": "66045aad-6b5b-4c89-b8df-3d4fe04ebdc2",
   "metadata": {},
   "outputs": [
    {
     "ename": "TypeError",
     "evalue": "'list' object is not callable",
     "output_type": "error",
     "traceback": [
      "\u001b[0;31m---------------------------------------------------------------------------\u001b[0m",
      "\u001b[0;31mTypeError\u001b[0m                                 Traceback (most recent call last)",
      "Cell \u001b[0;32mIn[227], line 1\u001b[0m\n\u001b[0;32m----> 1\u001b[0m \u001b[38;5;28mlist\u001b[39m(keys)\n",
      "\u001b[0;31mTypeError\u001b[0m: 'list' object is not callable"
     ]
    }
   ],
   "source": [
    "list(keys)"
   ]
  },
  {
   "cell_type": "code",
   "execution_count": 1,
   "id": "07660a02-0f91-43f0-b810-4b1c0cfd9e88",
   "metadata": {},
   "outputs": [
    {
     "data": {
      "text/plain": [
       "['max', 'lee']"
      ]
     },
     "execution_count": 1,
     "metadata": {},
     "output_type": "execute_result"
    }
   ],
   "source": [
    "dict1={'max':90,'lee':89}\n",
    "keys=dict1.keys()\n",
    "type(keys)\n",
    "list(keys)"
   ]
  },
  {
   "cell_type": "code",
   "execution_count": 343,
   "id": "cbf04ced-6c31-4293-ba47-9a3342aa9a7b",
   "metadata": {},
   "outputs": [
    {
     "data": {
      "text/plain": [
       "['ramesh', 'deeps', 'sam']"
      ]
     },
     "execution_count": 343,
     "metadata": {},
     "output_type": "execute_result"
    }
   ],
   "source": [
    "dict4={'ramesh':24,'deeps':20,'sam':49}\n",
    "met=dict4.keys()\n",
    "[*met]"
   ]
  },
  {
   "cell_type": "code",
   "execution_count": 279,
   "id": "701b295e-151d-44b7-9939-1d21009d3ae2",
   "metadata": {},
   "outputs": [
    {
     "name": "stdout",
     "output_type": "stream",
     "text": [
      "reeta 20\n",
      "poola 20\n",
      "eera 30\n"
     ]
    }
   ],
   "source": [
    "orp={'reeta':20,'poola':20,'eera':30}\n",
    "for i in orp:\n",
    "    print(i,orp[i])\n",
    "\n"
   ]
  },
  {
   "cell_type": "code",
   "execution_count": 344,
   "id": "e152fdb0-3e28-49a6-93ca-bff03a1e1a89",
   "metadata": {},
   "outputs": [
    {
     "name": "stdout",
     "output_type": "stream",
     "text": [
      "reeta 20\n",
      "poola 20\n",
      "eera 30\n"
     ]
    }
   ],
   "source": [
    "orp={'reeta':20,'poola':20,'eera':30}\n",
    "names=[*orp.keys()]\n",
    "age=[*orp.values()]\n",
    "for i,j in zip(names,age):\n",
    "    print(i,j)\n",
    "\n",
    "\n",
    "\n",
    "\n",
    "\n"
   ]
  },
  {
   "cell_type": "code",
   "execution_count": 336,
   "id": "11afb9d9-cc81-4d4e-a0bb-ac6fb8241fa5",
   "metadata": {},
   "outputs": [
    {
     "name": "stdout",
     "output_type": "stream",
     "text": [
      "abc x\n",
      "def y\n",
      "ghl z\n"
     ]
    }
   ],
   "source": [
    "list1=['abc','def','ghl']\n",
    "list2=['x', 'y', 'z']\n",
    "#print l1 abc l2 x\n",
    "#print l1 def l2 y\n",
    "for i,j in zip(list1,list2):\n",
    "    print(i,j)\n",
    "\n"
   ]
  },
  {
   "cell_type": "code",
   "execution_count": 339,
   "id": "71712ce4-c3e5-478c-88de-d8aae5af5838",
   "metadata": {},
   "outputs": [
    {
     "data": {
      "text/plain": [
       "dict_keys(['max', 'lee'])"
      ]
     },
     "execution_count": 339,
     "metadata": {},
     "output_type": "execute_result"
    }
   ],
   "source": [
    "dict1={'max':90,'lee':89}\n",
    "dict1.keys()"
   ]
  },
  {
   "cell_type": "code",
   "execution_count": 340,
   "id": "01db2959-fa6a-46bf-9595-9b94741ba5d2",
   "metadata": {},
   "outputs": [
    {
     "data": {
      "text/plain": [
       "dict_keys"
      ]
     },
     "execution_count": 340,
     "metadata": {},
     "output_type": "execute_result"
    }
   ],
   "source": [
    "type(dict1.keys())"
   ]
  },
  {
   "cell_type": "code",
   "execution_count": 341,
   "id": "62ac3524-481e-4d0a-b0a3-62515af7ad79",
   "metadata": {},
   "outputs": [
    {
     "data": {
      "text/plain": [
       "['max', 'lee']"
      ]
     },
     "execution_count": 341,
     "metadata": {},
     "output_type": "execute_result"
    }
   ],
   "source": [
    "[*dict1.keys()]"
   ]
  },
  {
   "cell_type": "code",
   "execution_count": 342,
   "id": "30278535-6c93-446d-bcb3-f7dcf536dbe8",
   "metadata": {},
   "outputs": [
    {
     "data": {
      "text/plain": [
       "list"
      ]
     },
     "execution_count": 342,
     "metadata": {},
     "output_type": "execute_result"
    }
   ],
   "source": [
    "type([*dict1.keys()])"
   ]
  },
  {
   "cell_type": "code",
   "execution_count": 345,
   "id": "215b9429-c961-4a6c-aa8c-304d4cbeabf0",
   "metadata": {},
   "outputs": [
    {
     "data": {
      "text/plain": [
       "['reeta', 'poola', 'eera']"
      ]
     },
     "execution_count": 345,
     "metadata": {},
     "output_type": "execute_result"
    }
   ],
   "source": [
    "orp={'reeta':20,'poola':20,'eera':30}\n",
    "[*orp]"
   ]
  },
  {
   "cell_type": "code",
   "execution_count": 352,
   "id": "450769ce-5360-4b97-84bd-7c1457ab3d69",
   "metadata": {},
   "outputs": [
    {
     "data": {
      "text/plain": [
       "{'eera', 'poola', 'reeta'}"
      ]
     },
     "execution_count": 352,
     "metadata": {},
     "output_type": "execute_result"
    }
   ],
   "source": [
    "orp={'reeta':20,'poola':20,'eera':30}\n",
    "\n",
    "{*orp}"
   ]
  },
  {
   "cell_type": "code",
   "execution_count": 353,
   "id": "9595872f-1918-42c6-b730-d2f1217c64ae",
   "metadata": {},
   "outputs": [
    {
     "name": "stdout",
     "output_type": "stream",
     "text": [
      "('ramesh', 'roja')\n",
      "('leela', 'pooja')\n"
     ]
    }
   ],
   "source": [
    "dict={'ramesh':'roja' ,'leela':'pooja'}\n",
    "for i in dict.items():\n",
    "    print(i)\n"
   ]
  },
  {
   "cell_type": "code",
   "execution_count": 375,
   "id": "1bb2bf75-9ccc-4d03-893e-eeac73d90d7a",
   "metadata": {},
   "outputs": [
    {
     "name": "stdout",
     "output_type": "stream",
     "text": [
      "51 odd\n",
      "97 odd\n",
      "3 odd\n",
      "47 odd\n",
      "4 even\n",
      "62 even\n",
      "58 even\n",
      "21 odd\n",
      "70 even\n",
      "10 even\n"
     ]
    }
   ],
   "source": [
    "import random\n",
    "\n",
    "for i in range(10):\n",
    "    num=random.randint(1,100)\n",
    "    if num%2==0:\n",
    "        print(num,'even')\n",
    "\n",
    "    \n",
    "    else:\n",
    "        print(num,'odd')\n",
    "    "
   ]
  },
  {
   "cell_type": "code",
   "execution_count": 371,
   "id": "b6eac6de-13d2-4174-af19-996fd6d262f4",
   "metadata": {},
   "outputs": [
    {
     "data": {
      "text/plain": [
       "{'raju': 12, 'meena': 18, 'preet': 10}"
      ]
     },
     "execution_count": 371,
     "metadata": {},
     "output_type": "execute_result"
    }
   ],
   "source": [
    "dict1={}\n",
    "dict1['raju']=12\n",
    "dict1['meena']=18\n",
    "dict1['preet']=10\n",
    "dict1"
   ]
  },
  {
   "cell_type": "code",
   "execution_count": 405,
   "id": "827e072b-6d65-412e-8392-bef402421c30",
   "metadata": {},
   "outputs": [
    {
     "data": {
      "text/plain": [
       "{'even': [34, 32, 12, 30, 26, 50, 10, 40, 12], 'odd': [15]}"
      ]
     },
     "execution_count": 405,
     "metadata": {},
     "output_type": "execute_result"
    }
   ],
   "source": [
    "import random\n",
    "dict={}\n",
    "even,odd=[],[]\n",
    "for i in range(10):\n",
    "    num=random.randint(10,50)\n",
    "    if num%2==0:\n",
    "         even.append(num)\n",
    "         \n",
    "\n",
    "    else:\n",
    "         odd.append(num)\n",
    "         \n",
    "even,odd\n",
    "dict['even']=even\n",
    "dict['odd']=odd\n",
    "dict\n",
    "\n",
    "         \n"
   ]
  },
  {
   "cell_type": "code",
   "execution_count": null,
   "id": "48544ea3-a991-41cb-bb96-30a33f3cbdee",
   "metadata": {},
   "outputs": [],
   "source": [
    "#ds\n",
    "ml dl nl gen ai\n",
    "python platforms\n",
    "anaconda\n",
    "google collab\n",
    "vs code\n",
    "notepad++\n",
    "gcp bench mark\n",
    "\n",
    "eda packages\n",
    "numpy\n",
    "metplotlib\n",
    "seaborn\n",
    "bokhee\n",
    "ploty\n",
    "pandas\n",
    "\n",
    "\n",
    "\n",
    "ml\n",
    "scikit\n",
    "\n",
    "dl\n",
    "pytorch\n",
    "keras\n",
    "tensorflow\n",
    "\n",
    "nlp\n",
    "nltk\n",
    "sipy\n",
    "\n",
    "ml\n",
    "supervised and unsupervised\n",
    "\n",
    "classified and regreesion\n",
    "decission tree \n",
    "k nearest\n",
    "linar lasso rigid\n",
    "\n",
    "kmeans\n",
    "hirachei\n",
    "\n",
    "\n"
   ]
  },
  {
   "cell_type": "code",
   "execution_count": 19,
   "id": "8faa26f0-6647-4219-89b3-953ac530be1d",
   "metadata": {},
   "outputs": [
    {
     "data": {
      "text/plain": [
       "{'odd': [57, 51, 33, 73, 61], 'even': [78, 78, 64, 40, 100]}"
      ]
     },
     "execution_count": 19,
     "metadata": {},
     "output_type": "execute_result"
    }
   ],
   "source": [
    "import random\n",
    "odd_num=[]\n",
    "even_num=[]\n",
    "d1={}\n",
    "for i in range(10):\n",
    "    num=random.randint(1,100)\n",
    "    if num%2==0:\n",
    "        even_num.append(num)\n",
    "\n",
    "    else:\n",
    "        odd_num.append(num)\n",
    "\n",
    "odd_num\n",
    "even_num\n",
    "d1['odd']=odd_num\n",
    "d1['even']=even_num\n",
    "d1\n",
    "        "
   ]
  },
  {
   "cell_type": "code",
   "execution_count": null,
   "id": "66febb91-76f3-4394-b01f-dd27a7f215d6",
   "metadata": {},
   "outputs": [],
   "source": []
  }
 ],
 "metadata": {
  "kernelspec": {
   "display_name": "Python 3 (ipykernel)",
   "language": "python",
   "name": "python3"
  },
  "language_info": {
   "codemirror_mode": {
    "name": "ipython",
    "version": 3
   },
   "file_extension": ".py",
   "mimetype": "text/x-python",
   "name": "python",
   "nbconvert_exporter": "python",
   "pygments_lexer": "ipython3",
   "version": "3.12.4"
  }
 },
 "nbformat": 4,
 "nbformat_minor": 5
}
