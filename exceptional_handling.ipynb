{
 "cells": [
  {
   "cell_type": "markdown",
   "id": "4f0249df-a507-42fb-90ac-8e828d086d53",
   "metadata": {},
   "source": [
    "try paart\n",
    "==========orginal code writes in try part====\n",
    "except part\n",
    "==========errors will writes in except part====\n"
   ]
  },
  {
   "cell_type": "code",
   "execution_count": null,
   "id": "5f80edbb-c870-4872-902f-a947e6242ce3",
   "metadata": {},
   "outputs": [],
   "source": [
    "n1=eval(input('enter number'))\n",
    "n2=eval(input('enter number'))\n",
    "print(f\"adding n1 and n2 is {n1+n2}\")"
   ]
  },
  {
   "cell_type": "code",
   "execution_count": null,
   "id": "3eebb050-9cca-490b-be3c-d02d1e9a92e2",
   "metadata": {},
   "outputs": [],
   "source": [
    "try:\n",
    "    n1=eval(input('enter number'))\n",
    "    n2=eval(input('enter number'))\n",
    "    print(f\"adding n1 and n2 is {n1+n2}\")\n",
    "except:\n",
    "    print('name error')\n",
    "    print('hello')\n",
    "    N1=12\n",
    "    N2=12\n",
    "    n3=N1+N2\n",
    "    print(f'N1 and N2 is {n3}')\n",
    "    "
   ]
  },
  {
   "cell_type": "code",
   "execution_count": 2,
   "id": "0a7396d1-6884-4741-98a1-d5f78c68fdd6",
   "metadata": {},
   "outputs": [
    {
     "name": "stdin",
     "output_type": "stream",
     "text": [
      "enter number 1\n",
      "enter number 2\n"
     ]
    },
    {
     "name": "stdout",
     "output_type": "stream",
     "text": [
      "adding n1 and n2 is 3\n"
     ]
    }
   ],
   "source": [
    "try:\n",
    "    n1=eval(input('enter number'))\n",
    "    n2=eval(input('enter number'))\n",
    "    print(f\"adding n1 and n2 is {n1+n2}\")\n",
    "except Exception as e:\n",
    "    print(e)"
   ]
  },
  {
   "cell_type": "code",
   "execution_count": null,
   "id": "fae201d1-bb9b-4dec-8554-2b836b9d1788",
   "metadata": {},
   "outputs": [],
   "source": [
    "try:\n",
    "    n1=10\n",
    "    n2=23\n",
    "    print(f\"the add of {n1} and {n2} is {n1+n2}\")\n",
    "except Exception as e:\n",
    "    print(e)\n"
   ]
  },
  {
   "cell_type": "code",
   "execution_count": null,
   "id": "886f7741-9b03-4401-b62f-524ab2f1b439",
   "metadata": {},
   "outputs": [],
   "source": [
    "try:\n",
    "    n1=eval(input('enter a number'))\n",
    "    if n1%2==0:\n",
    "         print('even')\n",
    "    else:\n",
    "        print('odd')\n",
    "except Exception as e:\n",
    "       print(e)\n",
    "    "
   ]
  },
  {
   "cell_type": "code",
   "execution_count": null,
   "id": "3ef57c76-8a27-4ec9-b935-ee40d5d1f2f3",
   "metadata": {},
   "outputs": [],
   "source": [
    "10%2\n"
   ]
  },
  {
   "cell_type": "code",
   "execution_count": null,
   "id": "610f3768-7a5f-422e-a6cf-43897636d904",
   "metadata": {},
   "outputs": [],
   "source": [
    "def addition():\n",
    "    n1=10\n",
    "    n2=23\n",
    "    print(f\"the add of {n1} and {n2} is {n1+n2}\")\n",
    "    \n",
    "addition()\n",
    "    "
   ]
  },
  {
   "cell_type": "code",
   "execution_count": null,
   "id": "0e82c171-23b4-489f-8eed-353c8e62c4cc",
   "metadata": {},
   "outputs": [],
   "source": [
    "def greet():\n",
    "    print ('hai')\n",
    "\n",
    "greet()\n",
    "addition()\n",
    "  "
   ]
  },
  {
   "cell_type": "code",
   "execution_count": null,
   "id": "2b0e7a4e-0909-4eff-971f-f4ebbb746bc6",
   "metadata": {},
   "outputs": [],
   "source": [
    "def average():\n",
    "    try:\n",
    "        \n",
    "        num1=eval(input('enter number'))\n",
    "        num2=eval(input('enter number'))\n",
    "        num3=eval(input('enter number'))\n",
    "        avg=round((num1+num2+num3)/3,1)\n",
    "        return avg\n",
    "        \n",
    "    except Exception as e:\n",
    "        \n",
    "        print(e)\n",
    "\n",
    "       \n",
    "\n",
    "average()\n",
    "\n"
   ]
  },
  {
   "cell_type": "code",
   "execution_count": null,
   "id": "4daae759-e5e3-4a47-af31-0eaed178b433",
   "metadata": {},
   "outputs": [],
   "source": [
    "avg\n"
   ]
  },
  {
   "cell_type": "code",
   "execution_count": null,
   "id": "4094ddfa-534d-48dc-a51c-30194cc94189",
   "metadata": {},
   "outputs": [],
   "source": [
    "string=[\"meena,leela,geeta\"]\n",
    "\n",
    "for i in string:\n",
    "     print(i)"
   ]
  },
  {
   "cell_type": "code",
   "execution_count": null,
   "id": "f0e59ab1-2a1d-4e8e-98b8-eb8a9b1b3e44",
   "metadata": {},
   "outputs": [],
   "source": [
    "i= (\"1,2,2,3\")\n",
    "for i in i:\n",
    "     print(i)"
   ]
  },
  {
   "cell_type": "code",
   "execution_count": null,
   "id": "0f304427-09ce-401f-8d02-63cbe1d8aa90",
   "metadata": {},
   "outputs": [],
   "source": [
    "i = 1 to  i = 20\n",
    "for i in range(20):\n",
    "    print(i)"
   ]
  },
  {
   "cell_type": "code",
   "execution_count": null,
   "id": "def8f3c2-64dd-41a5-acc1-c0239adfc7d4",
   "metadata": {},
   "outputs": [],
   "source": [
    "name = 'geeta'\n",
    "for i in name:\n",
    "    print(i)"
   ]
  },
  {
   "cell_type": "code",
   "execution_count": null,
   "id": "3ed1ad4f-6edb-46f6-8f3b-3335592c7789",
   "metadata": {},
   "outputs": [],
   "source": [
    "i=1\n",
    "while i<=5:\n",
    "    print(i)\n",
    "    i=i+1"
   ]
  },
  {
   "cell_type": "code",
   "execution_count": null,
   "id": "af629e4d-2841-4dbe-9203-4390145b4911",
   "metadata": {},
   "outputs": [],
   "source": [
    "num =0\n",
    "while num <= 20:\n",
    "    print(num)\n",
    "    num=num+1"
   ]
  },
  {
   "cell_type": "code",
   "execution_count": null,
   "id": "dae63b95-fde7-4d9a-803e-5ca271ec0257",
   "metadata": {},
   "outputs": [],
   "source": [
    "\n",
    "num=int(input(\"enter number\"))\n",
    "total = 0\n",
    "while num != 0:\n",
    "    total += num\n",
    "    num=int(input(\"enter number\")\n",
    "\n",
    "print(f'the sum of all is {num}')\n",
    "    "
   ]
  },
  {
   "cell_type": "code",
   "execution_count": null,
   "id": "ca51a037-9ba9-42dc-98d8-2faf688be5d3",
   "metadata": {},
   "outputs": [],
   "source": [
    " \n",
    "number = int(input('Enter a number: '))\n",
    "\n",
    "total = 0\n",
    "\n",
    "# iterate until the user enters 0\n",
    "while number != 0:\n",
    "    total += number\n",
    "    number = int(input('Enter a number: '))\n",
    "\n",
    "print('The sum is', total)\n",
    "\n"
   ]
  },
  {
   "cell_type": "code",
   "execution_count": null,
   "id": "50b842f1-c834-4cab-b82e-3ae6ea512d36",
   "metadata": {},
   "outputs": [],
   "source": [
    "import random\n",
    "def average():\n",
    "    try:\n",
    "        n1=random.randint(1,20)\n",
    "        n2=random.randint(1,20)\n",
    "        n3=random.randint(1,20)\n",
    "        add = n1+n2+n3\n",
    "        avg=add/3\n",
    "        print(f'{avg}')\n",
    "\n",
    "    except Exception as e:\n",
    "        print(e)\n",
    "\n",
    "average()\n",
    "\n",
    "\n",
    "\n",
    "    "
   ]
  },
  {
   "cell_type": "code",
   "execution_count": null,
   "id": "4b3e5037-2734-4da6-8a4f-2318ed2a2969",
   "metadata": {},
   "outputs": [],
   "source": [
    "def addition():\n",
    "    try:\n",
    "    \n",
    "        bill=eval(input('enter bill'))\n",
    "        tip=eval(input('enter tip%'))\n",
    "        totaltip=bill*tip/100\n",
    "        totalbill=bill+totaltip\n",
    "        print(f'the total bill is {totalbill}')\n",
    "    except Exception as e:\n",
    "     print(e)\n",
    "\n",
    "\n",
    "addition()\n",
    "print('hai')\n"
   ]
  },
  {
   "cell_type": "code",
   "execution_count": null,
   "id": "41a7ca0c-e95f-4300-91a3-e748622d58c8",
   "metadata": {},
   "outputs": [],
   "source": [
    "import random\n",
    "def prime():\n",
    "    num=random.randint(1,100)\n",
    "    if num%2==0:\n",
    "        print(f'the num {num} is a even')\n",
    "    else:\n",
    "        print('odd')\n",
    "prime()"
   ]
  },
  {
   "cell_type": "code",
   "execution_count": null,
   "id": "391f6057-b0f2-4642-93b4-4dbf1503ee0b",
   "metadata": {},
   "outputs": [],
   "source": [
    "def addition(num1,num2):\n",
    "     add=num1+num2\n",
    "     print(add)\n",
    "\n",
    "addition(10,20)"
   ]
  },
  {
   "cell_type": "code",
   "execution_count": null,
   "id": "5d3100cd-a755-4499-a98e-3025cbb5c225",
   "metadata": {},
   "outputs": [],
   "source": [
    "def average(num1,num2,num3):\n",
    "     avg=(num1+num2+num3)/3\n",
    "     print(avg)\n",
    "\n",
    "average(10,10,10)\n",
    "    "
   ]
  },
  {
   "cell_type": "code",
   "execution_count": null,
   "id": "bc762065-3430-46f4-90bc-e60c04ab5cd9",
   "metadata": {},
   "outputs": [],
   "source": [
    "def work(n1,n2=10):\n",
    "    try:\n",
    "        n3=n1*n2/100\n",
    "        print(n3)\n",
    "    except Exception as e:\n",
    "        print(e)\n",
    "work(2000)"
   ]
  },
  {
   "cell_type": "code",
   "execution_count": null,
   "id": "274a84bf-2e3b-4c54-b8f1-a6f2cc296fa9",
   "metadata": {},
   "outputs": [],
   "source": [
    "i = 0 to i = 3\n",
    "for i in range(4):\n",
    "    print(i)\n",
    "    |"
   ]
  },
  {
   "cell_type": "code",
   "execution_count": null,
   "id": "c872029e-4cde-44bf-9af5-17db8b6f1840",
   "metadata": {},
   "outputs": [],
   "source": [
    "num = 0\n",
    "while num<=5:\n",
    "    print(num)\n",
    "    num = num+1"
   ]
  },
  {
   "cell_type": "code",
   "execution_count": null,
   "id": "17dfb8ae-9ba6-4997-9f83-c3b06aca2e1f",
   "metadata": {},
   "outputs": [],
   "source": [
    "n1=eval(input('enter a num'))\n",
    "\n",
    "total = 0\n",
    "while n1!=0:\n",
    "    print(n1)\n",
    "    total = total+n1\n",
    "    print(total)\n",
    "    n1=eval(input('enter a num'))\n",
    "print('sum of all',total)\n",
    "    "
   ]
  },
  {
   "cell_type": "code",
   "execution_count": 1,
   "id": "fe758f3b-0867-4c82-b227-d3c7c4f65f1d",
   "metadata": {},
   "outputs": [
    {
     "name": "stdin",
     "output_type": "stream",
     "text": [
      "enter a number 10\n"
     ]
    },
    {
     "name": "stdout",
     "output_type": "stream",
     "text": [
      "even\n"
     ]
    },
    {
     "name": "stdin",
     "output_type": "stream",
     "text": [
      "enter a number 2\n"
     ]
    },
    {
     "name": "stdout",
     "output_type": "stream",
     "text": [
      "even\n"
     ]
    },
    {
     "name": "stdin",
     "output_type": "stream",
     "text": [
      "enter a number 3\n"
     ]
    },
    {
     "name": "stdout",
     "output_type": "stream",
     "text": [
      "odd\n"
     ]
    },
    {
     "name": "stdin",
     "output_type": "stream",
     "text": [
      "enter a number 2\n"
     ]
    },
    {
     "name": "stdout",
     "output_type": "stream",
     "text": [
      "even\n"
     ]
    },
    {
     "name": "stdin",
     "output_type": "stream",
     "text": [
      "enter a number 2\n"
     ]
    },
    {
     "name": "stdout",
     "output_type": "stream",
     "text": [
      "even\n"
     ]
    }
   ],
   "source": [
    "for i in range(5):\n",
    "    num1=eval(input('enter a number'))\n",
    "    if num1%2==0 and num1<=20:\n",
    "            print('even')\n",
    "    else:\n",
    "        print('odd')\n",
    "    \n",
    "    "
   ]
  },
  {
   "cell_type": "code",
   "execution_count": 2,
   "id": "1d21ace7-95bc-4501-b17d-444a36f487f1",
   "metadata": {},
   "outputs": [
    {
     "name": "stdin",
     "output_type": "stream",
     "text": [
      "enter a number 1\n"
     ]
    },
    {
     "name": "stdout",
     "output_type": "stream",
     "text": [
      "odd\n"
     ]
    },
    {
     "name": "stdin",
     "output_type": "stream",
     "text": [
      "enter a number 2\n"
     ]
    },
    {
     "name": "stdout",
     "output_type": "stream",
     "text": [
      "even\n"
     ]
    },
    {
     "name": "stdin",
     "output_type": "stream",
     "text": [
      "enter a number 3\n"
     ]
    },
    {
     "name": "stdout",
     "output_type": "stream",
     "text": [
      "odd\n"
     ]
    },
    {
     "name": "stdin",
     "output_type": "stream",
     "text": [
      "enter a number 2\n"
     ]
    },
    {
     "name": "stdout",
     "output_type": "stream",
     "text": [
      "even\n"
     ]
    },
    {
     "name": "stdin",
     "output_type": "stream",
     "text": [
      "enter a number 1\n"
     ]
    },
    {
     "name": "stdout",
     "output_type": "stream",
     "text": [
      "odd\n"
     ]
    }
   ],
   "source": [
    "for i in range(5):\n",
    "    num1=eval(input('enter a number'))\n",
    "    if num1%2==0 and num1<=20:\n",
    "            print('even')\n",
    "    else:\n",
    "        print('odd')\n",
    "    \n",
    "    "
   ]
  },
  {
   "cell_type": "code",
   "execution_count": 1,
   "id": "923da1b4-c30e-4029-94ca-db7755bb2a07",
   "metadata": {},
   "outputs": [
    {
     "name": "stdout",
     "output_type": "stream",
     "text": [
      "56\n",
      "even\n",
      "76\n",
      "even\n",
      "75\n",
      "odd\n",
      "77\n",
      "odd\n",
      "89\n",
      "odd\n"
     ]
    }
   ],
   "source": [
    "import random\n",
    "for i in range(5):\n",
    "            n1=random.randint(1,100)\n",
    "            print(n1)\n",
    "            if n1%2==0:\n",
    "                print(\"even\")\n",
    "\n",
    "            else:\n",
    "               print(\"odd\")\n",
    "\n",
    "\n",
    "   \n",
    "\n",
    "   # odd_even()\n",
    "\n"
   ]
  },
  {
   "cell_type": "code",
   "execution_count": null,
   "id": "4654778e-febc-40db-bece-7db174b2bf51",
   "metadata": {},
   "outputs": [],
   "source": [
    "count = 0\n",
    "for i in range(5):\n",
    "    name=input()\n",
    "    if name==\"python\":\n",
    "        \n",
    "       count=count+1"
   ]
  },
  {
   "cell_type": "code",
   "execution_count": null,
   "id": "808eb559-c287-4b5c-b855-7abdc4276e1f",
   "metadata": {},
   "outputs": [],
   "source": [
    "count\n"
   ]
  },
  {
   "cell_type": "code",
   "execution_count": 11,
   "id": "b3b3e382-28f1-4b9b-ab0f-9cd402ec0ec2",
   "metadata": {},
   "outputs": [
    {
     "name": "stdout",
     "output_type": "stream",
     "text": [
      "12\n"
     ]
    },
    {
     "name": "stdin",
     "output_type": "stream",
     "text": [
      " 22\n"
     ]
    },
    {
     "name": "stdout",
     "output_type": "stream",
     "text": [
      "you lost\n",
      "15\n"
     ]
    },
    {
     "name": "stdin",
     "output_type": "stream",
     "text": [
      " 22\n"
     ]
    },
    {
     "name": "stdout",
     "output_type": "stream",
     "text": [
      "you lost\n",
      "22\n"
     ]
    },
    {
     "name": "stdin",
     "output_type": "stream",
     "text": [
      " 2\n"
     ]
    },
    {
     "name": "stdout",
     "output_type": "stream",
     "text": [
      "you lost\n",
      "12\n"
     ]
    },
    {
     "name": "stdin",
     "output_type": "stream",
     "text": [
      " 2\n"
     ]
    },
    {
     "name": "stdout",
     "output_type": "stream",
     "text": [
      "you lost\n",
      "5\n"
     ]
    },
    {
     "name": "stdin",
     "output_type": "stream",
     "text": [
      " 2\n"
     ]
    },
    {
     "name": "stdout",
     "output_type": "stream",
     "text": [
      "you lost, game done\n"
     ]
    }
   ],
   "source": [
    "import random\n",
    "for i in range(5):\n",
    "    count=0\n",
    "    \n",
    "    n2=random.randint(1,30)\n",
    "    print(n2)\n",
    "    n1=eval(input())\n",
    "\n",
    "    \n",
    "    if n2==n1:\n",
    "        print('you own')\n",
    "        break\n",
    "        \n",
    "    elif i == 4:\n",
    "        print('you lost, game done')\n",
    "    else:\n",
    "        print('you lost')\n",
    "              \n"
   ]
  },
  {
   "cell_type": "code",
   "execution_count": null,
   "id": "cd4301bc-7cd1-41a5-b4e3-3d8f5c06be54",
   "metadata": {},
   "outputs": [],
   "source": [
    "count\n"
   ]
  },
  {
   "cell_type": "code",
   "execution_count": null,
   "id": "a02c8a08-5576-4e5a-a280-89019bb463a1",
   "metadata": {},
   "outputs": [],
   "source": [
    "count_odd\n"
   ]
  },
  {
   "cell_type": "code",
   "execution_count": null,
   "id": "efe784ad-a6fa-4613-a7b7-3dcc39bd7cc9",
   "metadata": {},
   "outputs": [],
   "source": [
    "for i in range(-5,0,1):\n",
    "    print(i)"
   ]
  },
  {
   "cell_type": "code",
   "execution_count": null,
   "id": "5562c735-95d8-4e43-9855-de5fa701ad38",
   "metadata": {},
   "outputs": [],
   "source": [
    "i=-5\n",
    "while i<=0:\n",
    "    print(i)\n",
    "    i=i+1"
   ]
  },
  {
   "cell_type": "code",
   "execution_count": null,
   "id": "1f55f11f-4839-43fd-9635-99cda71a7066",
   "metadata": {},
   "outputs": [],
   "source": [
    "for i in range(-5,0,1):\n",
    "    print(i)"
   ]
  },
  {
   "cell_type": "code",
   "execution_count": null,
   "id": "24b27b0b-57d8-42e2-ab10-4023d9e7c844",
   "metadata": {},
   "outputs": [],
   "source": [
    "num=eval(input())\n",
    "i1=0\n",
    "for i in range(10):\n",
    "        if num!=0:\n",
    "           num=eval(input())\n",
    "           i1=num+i1\n",
    "print('sum of all',i1)"
   ]
  },
  {
   "cell_type": "code",
   "execution_count": null,
   "id": "4db15d2c-ee0f-4046-afab-e473d3903324",
   "metadata": {},
   "outputs": [],
   "source": [
    "def sum(n,m,l):\n",
    "    add=n+m+l\n",
    "    print(add)\n",
    "\n",
    "sum(9,7,8)\n",
    "    "
   ]
  },
  {
   "cell_type": "code",
   "execution_count": null,
   "id": "12915f8e-be80-4034-8c10-4041f1114415",
   "metadata": {},
   "outputs": [],
   "source": [
    "def sum(numbers):\n",
    "    total=0  \n",
    "    for x in numbers:\n",
    "        total+=x\n",
    "        print(x,total)\n",
    "    return total\n",
    "print(sum((1,9,3,7,2)))\n",
    "        "
   ]
  },
  {
   "cell_type": "raw",
   "id": "e622bbfb-3e65-45e0-b64e-3030fa27afdd",
   "metadata": {},
   "source": []
  },
  {
   "cell_type": "code",
   "execution_count": null,
   "id": "a5ff916f-9ced-433c-8779-de98b08a3e63",
   "metadata": {},
   "outputs": [],
   "source": [
    "def sum(numbers):\n",
    "    # Initialize a variable 'total' to store the sum of numbers, starting at 0\n",
    "    total = 0\n",
    "    \n",
    "    # Iterate through each element 'x' in the 'numbers' list\n",
    "    for x in numbers:\n",
    "        # Add the current element 'x' to the 'total'\n",
    "        total += x\n",
    "    \n",
    "    # Return the final sum stored in the 'total' variable\n",
    "    return total\n",
    "\n",
    "# Print the result of calling the 'sum' function with a tuple of numbers (8, 2, 3, 0, 7)\n",
    "print(sum((8, 2, 3, 0, 7))) "
   ]
  },
  {
   "cell_type": "code",
   "execution_count": null,
   "id": "a6c78f2e-3a91-4893-a0f1-6967813c5725",
   "metadata": {},
   "outputs": [],
   "source": [
    "#Write a Python function to multiply all the numbers in a list.\n",
    "def mul(num):\n",
    "    total=1\n",
    "    for i in num:\n",
    "        total*=i\n",
    "        print(total,i)\n",
    "    return total\n",
    "print(mul((1,2,3,4,5)))"
   ]
  },
  {
   "cell_type": "code",
   "execution_count": null,
   "id": "588aa223-a7f9-4037-a182-34240955f918",
   "metadata": {},
   "outputs": [],
   "source": [
    "for i in range(1,20):\n",
    "    if 20%i==0:\n",
    "        print('even',i)"
   ]
  },
  {
   "cell_type": "code",
   "execution_count": null,
   "id": "df44da13-506f-4e4d-b1ec-2fbe3e54b762",
   "metadata": {},
   "outputs": [],
   "source": [
    "i=1\n",
    "while i<=20:\n",
    "    if (20%i)==0:\n",
    "        print(i)\n",
    "    i=i+1\n",
    "   "
   ]
  },
  {
   "cell_type": "code",
   "execution_count": null,
   "id": "61b35438-3db2-4a66-8c20-1167a1e1f434",
   "metadata": {},
   "outputs": [],
   "source": [
    "for i in range(1,5):\n",
    "    print(f'the sqr of i is {i*i}')\n",
    "    "
   ]
  },
  {
   "cell_type": "code",
   "execution_count": null,
   "id": "6bcdcfba-9154-47a6-b9bf-264b33acbc23",
   "metadata": {},
   "outputs": [],
   "source": [
    "i=1\n",
    "while i<5:\n",
    "    print(i*i)\n",
    "    i=i+1"
   ]
  },
  {
   "cell_type": "code",
   "execution_count": null,
   "id": "ef0ad3e2-5cb6-4240-a457-9f22ccb59492",
   "metadata": {},
   "outputs": [],
   "source": [
    "import random\n",
    "for i in range(5):\n",
    "    num=random.randint(20,70)\n",
    "    if num%2==0:\n",
    "         print(f'num is a even',num)\n",
    "\n",
    "    else:\n",
    "         print(f'num is a odd',num)\n",
    "\n"
   ]
  },
  {
   "cell_type": "code",
   "execution_count": 6,
   "id": "1e3bbb71-c91c-4eed-9e37-db622aa9f69b",
   "metadata": {},
   "outputs": [
    {
     "name": "stdout",
     "output_type": "stream",
     "text": [
      "given num is even 60\n",
      "odd 27\n",
      "done\n",
      "given num is even 28\n",
      "odd 37\n"
     ]
    }
   ],
   "source": [
    "import random\n",
    "i=1\n",
    "while i<=5:\n",
    "    i=i+1\n",
    "    n=random.randint(20,70)\n",
    "    if n%2==0:\n",
    "        print(f'given num is even',n)\n",
    "    else:\n",
    "        print('odd',n)"
   ]
  },
  {
   "cell_type": "code",
   "execution_count": null,
   "id": "9b8e38d7-cbef-4c9c-a6e4-520a5c8f9ee2",
   "metadata": {},
   "outputs": [],
   "source": []
  },
  {
   "cell_type": "code",
   "execution_count": null,
   "id": "5483c7a6-52fb-4359-92ed-0e5b8e1e72a5",
   "metadata": {},
   "outputs": [],
   "source": []
  }
 ],
 "metadata": {
  "kernelspec": {
   "display_name": "Python 3 (ipykernel)",
   "language": "python",
   "name": "python3"
  },
  "language_info": {
   "codemirror_mode": {
    "name": "ipython",
    "version": 3
   },
   "file_extension": ".py",
   "mimetype": "text/x-python",
   "name": "python",
   "nbconvert_exporter": "python",
   "pygments_lexer": "ipython3",
   "version": "3.12.4"
  }
 },
 "nbformat": 4,
 "nbformat_minor": 5
}
