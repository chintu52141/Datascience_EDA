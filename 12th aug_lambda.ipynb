{
 "cells": [
  {
   "cell_type": "code",
   "execution_count": null,
   "id": "99a27829-34d8-44e1-b1c6-95548f7bcad6",
   "metadata": {},
   "outputs": [],
   "source": [
    "tuple write up\n",
    "how to read the tuple\n",
    "diff between tuple and list\n"
   ]
  },
  {
   "cell_type": "code",
   "execution_count": 22,
   "id": "4a10ca48-92c3-4d6e-b315-a8eb8e4f3fae",
   "metadata": {},
   "outputs": [
    {
     "data": {
      "text/plain": [
       "1"
      ]
     },
     "execution_count": 22,
     "metadata": {},
     "output_type": "execute_result"
    }
   ],
   "source": [
    "tup=(1,2,3,4,1,2,3,4,4)\n",
    "tuple.count(3)"
   ]
  },
  {
   "cell_type": "code",
   "execution_count": null,
   "id": "f99b9faa-8ebf-4f49-902a-b2effe3989e6",
   "metadata": {},
   "outputs": [],
   "source": [
    "lambda"
   ]
  },
  {
   "cell_type": "code",
   "execution_count": null,
   "id": "a499e6b0-1fc8-4a60-a062-eb5ab3fb6c92",
   "metadata": {},
   "outputs": [],
   "source": [
    "<function_name>=lambda <arugumentname>: <return value>"
   ]
  },
  {
   "cell_type": "code",
   "execution_count": 27,
   "id": "e2be598b-a2ec-40f5-893c-929c3af9ead7",
   "metadata": {},
   "outputs": [
    {
     "data": {
      "text/plain": [
       "10"
      ]
     },
     "execution_count": 27,
     "metadata": {},
     "output_type": "execute_result"
    }
   ],
   "source": [
    "add=lambda num :num+10\n",
    "add(20)"
   ]
  },
  {
   "cell_type": "code",
   "execution_count": 31,
   "id": "75de7024-095d-4d69-9acd-840e2feac687",
   "metadata": {},
   "outputs": [
    {
     "data": {
      "text/plain": [
       "15625"
      ]
     },
     "execution_count": 31,
     "metadata": {},
     "output_type": "execute_result"
    }
   ],
   "source": [
    "\n",
    "1)def cube(num):\n",
    "    return(num*num*num)\n",
    "================================\n",
    "\n",
    "a)cube=lambda num:num*num*num\n",
    "cube(25)"
   ]
  },
  {
   "cell_type": "code",
   "execution_count": null,
   "id": "b1b5a42f-225f-49a3-9505-664e937d9b76",
   "metadata": {},
   "outputs": [],
   "source": [
    "pattern-2"
   ]
  },
  {
   "cell_type": "code",
   "execution_count": 34,
   "id": "e539cee2-0d13-4e42-90ef-2f2c6ebcea22",
   "metadata": {},
   "outputs": [
    {
     "ename": "SyntaxError",
     "evalue": "invalid syntax (4183079320.py, line 4)",
     "output_type": "error",
     "traceback": [
      "\u001b[0;36m  Cell \u001b[0;32mIn[34], line 4\u001b[0;36m\u001b[0m\n\u001b[0;31m    ==============================================\u001b[0m\n\u001b[0m    ^\u001b[0m\n\u001b[0;31mSyntaxError\u001b[0m\u001b[0;31m:\u001b[0m invalid syntax\n"
     ]
    }
   ],
   "source": [
    "1)def add (num1,num2):\n",
    "    return(num1+num2)\n",
    "\n",
    "==============================================\n",
    "\n",
    "a)add=lambda num1,num2:num1+num2\n",
    "add(10,20)\n"
   ]
  },
  {
   "cell_type": "code",
   "execution_count": 36,
   "id": "418f9657-a3c7-4615-820f-37e580481ea7",
   "metadata": {},
   "outputs": [
    {
     "data": {
      "text/plain": [
       "20.0"
      ]
     },
     "execution_count": 36,
     "metadata": {},
     "output_type": "execute_result"
    }
   ],
   "source": [
    "3)  def avg(num1,num2,num3):\n",
    "    return(num1+num2+num3)/3\n",
    "\n",
    "avg(10,20,30)\n",
    "\n",
    "\n",
    "=========\n",
    "a)  avg=lambda num1,num2,num3=30:(num1+num2+num3)/3\n",
    "avg(10,20)"
   ]
  },
  {
   "cell_type": "code",
   "execution_count": 37,
   "id": "e50e08bd-ce5d-4614-8d9b-a4ef7b79d2f9",
   "metadata": {},
   "outputs": [
    {
     "data": {
      "text/plain": [
       "20.0"
      ]
     },
     "execution_count": 37,
     "metadata": {},
     "output_type": "execute_result"
    }
   ],
   "source": [
    "def avg(num1,num2,num3):\n",
    "    return(num1+num2+num3)/3\n",
    "\n",
    "avg(10,20,30)"
   ]
  },
  {
   "cell_type": "code",
   "execution_count": 41,
   "id": "848a03f2-4514-4681-9b8c-04aba1f05ebc",
   "metadata": {},
   "outputs": [
    {
     "name": "stdout",
     "output_type": "stream",
     "text": [
      "n2 is greater\n"
     ]
    }
   ],
   "source": [
    "def greater(n1,n2):\n",
    "    if n1>n2:\n",
    "        print('n1 is greater')\n",
    "\n",
    "    else :\n",
    "        print('n2 is greater')\n",
    "\n",
    "greater(20,90)"
   ]
  },
  {
   "cell_type": "code",
   "execution_count": 45,
   "id": "f6dcc5f3-0d72-4189-9e93-a542ac1e88ed",
   "metadata": {},
   "outputs": [
    {
     "data": {
      "text/plain": [
       "False"
      ]
     },
     "execution_count": 45,
     "metadata": {},
     "output_type": "execute_result"
    }
   ],
   "source": [
    "greater=lambda n1,n2: True if n1>n2 else False\n",
    "greater(10,20)"
   ]
  },
  {
   "cell_type": "code",
   "execution_count": 46,
   "id": "97a3327c-514c-4e6e-849b-dd5a3eb855a9",
   "metadata": {},
   "outputs": [
    {
     "data": {
      "text/plain": [
       "'n2 is gretaer '"
      ]
     },
     "execution_count": 46,
     "metadata": {},
     "output_type": "execute_result"
    }
   ],
   "source": [
    "greater=lambda n1,n2:' n1 is greter' if n1>n2 else 'n2 is gretaer '\n",
    "greater(10,20)"
   ]
  },
  {
   "cell_type": "code",
   "execution_count": 50,
   "id": "2b958d0b-8065-4309-8bc7-a0728f59f265",
   "metadata": {},
   "outputs": [
    {
     "data": {
      "text/plain": [
       "5"
      ]
     },
     "execution_count": 50,
     "metadata": {},
     "output_type": "execute_result"
    }
   ],
   "source": [
    "tuple=(10,20,30,30,30,30,30)\n",
    "tuple.count(30)"
   ]
  },
  {
   "cell_type": "code",
   "execution_count": 58,
   "id": "c882a33e-295b-4e25-8373-f92e3600a23d",
   "metadata": {},
   "outputs": [
    {
     "data": {
      "text/plain": [
       "6"
      ]
     },
     "execution_count": 58,
     "metadata": {},
     "output_type": "execute_result"
    }
   ],
   "source": [
    "tuple=(10,20,30,40,50,60,30)\n",
    "v1=tuple.index(30)\n",
    "v2=tuple.index(30,v1+1)\n",
    "v2"
   ]
  },
  {
   "cell_type": "code",
   "execution_count": 59,
   "id": "86b4a09b-d1f2-4ba9-bb76-7996713b5760",
   "metadata": {},
   "outputs": [
    {
     "ename": "TypeError",
     "evalue": "'tuple' object does not support item assignment",
     "output_type": "error",
     "traceback": [
      "\u001b[0;31m---------------------------------------------------------------------------\u001b[0m",
      "\u001b[0;31mTypeError\u001b[0m                                 Traceback (most recent call last)",
      "Cell \u001b[0;32mIn[59], line 2\u001b[0m\n\u001b[1;32m      1\u001b[0m \u001b[38;5;28mtuple\u001b[39m\u001b[38;5;241m=\u001b[39m(\u001b[38;5;241m10\u001b[39m,\u001b[38;5;241m20\u001b[39m,\u001b[38;5;241m30\u001b[39m,\u001b[38;5;241m40\u001b[39m,\u001b[38;5;241m50\u001b[39m,\u001b[38;5;241m60\u001b[39m,\u001b[38;5;241m30\u001b[39m)\n\u001b[0;32m----> 2\u001b[0m \u001b[38;5;28mtuple\u001b[39m[\u001b[38;5;241m1\u001b[39m]\u001b[38;5;241m=\u001b[39m\u001b[38;5;241m30\u001b[39m\n\u001b[1;32m      3\u001b[0m \u001b[38;5;28mtuple\u001b[39m\n",
      "\u001b[0;31mTypeError\u001b[0m: 'tuple' object does not support item assignment"
     ]
    }
   ],
   "source": [
    "tuple=(10,20,30,40,50,60,30)\n",
    "tuple[1]=30\n",
    "tuple"
   ]
  },
  {
   "cell_type": "code",
   "execution_count": 62,
   "id": "2ff01763-0bc3-402b-be58-9cbfee59e255",
   "metadata": {},
   "outputs": [
    {
     "ename": "AttributeError",
     "evalue": "'tuple' object has no attribute 'append'",
     "output_type": "error",
     "traceback": [
      "\u001b[0;31m---------------------------------------------------------------------------\u001b[0m",
      "\u001b[0;31mAttributeError\u001b[0m                            Traceback (most recent call last)",
      "Cell \u001b[0;32mIn[62], line 2\u001b[0m\n\u001b[1;32m      1\u001b[0m \u001b[38;5;28mtuple\u001b[39m\u001b[38;5;241m=\u001b[39m(\u001b[38;5;241m10\u001b[39m,\u001b[38;5;241m20\u001b[39m,\u001b[38;5;241m30\u001b[39m,\u001b[38;5;241m40\u001b[39m,\u001b[38;5;241m50\u001b[39m,\u001b[38;5;241m60\u001b[39m,\u001b[38;5;241m30\u001b[39m)\n\u001b[0;32m----> 2\u001b[0m \u001b[38;5;28mtuple\u001b[39m\u001b[38;5;241m.\u001b[39mappend(\u001b[38;5;124m'\u001b[39m\u001b[38;5;124m110\u001b[39m\u001b[38;5;124m'\u001b[39m)\n\u001b[1;32m      3\u001b[0m \u001b[38;5;28mtuple\u001b[39m\n",
      "\u001b[0;31mAttributeError\u001b[0m: 'tuple' object has no attribute 'append'"
     ]
    }
   ],
   "source": [
    "tuple=(10,20,30,40,50,60,30)\n",
    "tuple.append('110')\n",
    "tuple\n"
   ]
  },
  {
   "cell_type": "code",
   "execution_count": 67,
   "id": "4bbaedd6-a247-42dc-9d3d-6e167df67bea",
   "metadata": {},
   "outputs": [
    {
     "name": "stdout",
     "output_type": "stream",
     "text": [
      "['nano', 'mega', 'terra']\n"
     ]
    },
    {
     "data": {
      "text/plain": [
       "['nano', 'mega', 'terra', 'milo']"
      ]
     },
     "execution_count": 67,
     "metadata": {},
     "output_type": "execute_result"
    }
   ],
   "source": [
    "tuple=('nano','mega','terra')\n",
    "u=list(tuple)\n",
    "print(u)\n",
    "u.append('milo')\n",
    "u"
   ]
  },
  {
   "cell_type": "code",
   "execution_count": 6,
   "id": "2bf0867c-136c-48cd-82f7-27b5d04d3c66",
   "metadata": {},
   "outputs": [
    {
     "name": "stdout",
     "output_type": "stream",
     "text": [
      "Chennai\n",
      "Banglore\n",
      "Chennai\n"
     ]
    }
   ],
   "source": [
    "list1=['CHeNNai','banglore','chennai']\n",
    "for i in list1:\n",
    "    print(i.capitalize())"
   ]
  },
  {
   "cell_type": "code",
   "execution_count": 3,
   "id": "58f42ed7-565e-4ccf-b0ab-09308a808718",
   "metadata": {},
   "outputs": [
    {
     "data": {
      "text/plain": [
       "['Chennai', 'Banglore', 'Chennai']"
      ]
     },
     "execution_count": 3,
     "metadata": {},
     "output_type": "execute_result"
    }
   ],
   "source": [
    "[i.capitalize() for i in list1]"
   ]
  },
  {
   "cell_type": "code",
   "execution_count": 11,
   "id": "3395601f-b2c3-47b1-9a1f-91305ed03024",
   "metadata": {},
   "outputs": [
    {
     "data": {
      "text/plain": [
       "['Chennai', 'Banglore', 'Chennai']"
      ]
     },
     "execution_count": 11,
     "metadata": {},
     "output_type": "execute_result"
    }
   ],
   "source": [
    "list(map(lambda i : i.capitalize() ,list1))"
   ]
  },
  {
   "cell_type": "code",
   "execution_count": 1,
   "id": "b1c5c81b-a8cd-4351-863d-2591b005a4e2",
   "metadata": {},
   "outputs": [
    {
     "name": "stdout",
     "output_type": "stream",
     "text": [
      "1\n",
      "2\n",
      "3\n",
      "4\n",
      "5\n"
     ]
    }
   ],
   "source": [
    "l1=[1,2,3,4,5]\n",
    "l2=[20,30,40,50]\n",
    "for i in l1:\n",
    "    print(i)\n",
    "\n"
   ]
  },
  {
   "cell_type": "code",
   "execution_count": 3,
   "id": "32ab3fd8-70e8-46e8-a9e8-acfe76900288",
   "metadata": {},
   "outputs": [
    {
     "data": {
      "text/plain": [
       "[10, 20, 30, 40, 50]"
      ]
     },
     "execution_count": 3,
     "metadata": {},
     "output_type": "execute_result"
    }
   ],
   "source": [
    "list(map(lambda i : i*10,l1))"
   ]
  },
  {
   "cell_type": "code",
   "execution_count": 20,
   "id": "55a333c8-1abc-435a-9eb9-de19cbc3c487",
   "metadata": {},
   "outputs": [
    {
     "name": "stdout",
     "output_type": "stream",
     "text": [
      "banglore\n",
      "hyderabad\n"
     ]
    }
   ],
   "source": [
    "list1=['hyd','banglore','hyderabad']\n",
    "for i in list1:\n",
    "    if len(i)>3:\n",
    "        print(i)"
   ]
  },
  {
   "cell_type": "code",
   "execution_count": 27,
   "id": "08d9391f-2874-469e-ac83-6df5c16fb014",
   "metadata": {},
   "outputs": [
    {
     "data": {
      "text/plain": [
       "[False, True, True]"
      ]
     },
     "execution_count": 27,
     "metadata": {},
     "output_type": "execute_result"
    }
   ],
   "source": [
    "list(map(lambda i :len(i)>3,list1))"
   ]
  },
  {
   "cell_type": "code",
   "execution_count": 28,
   "id": "c7e6e935-e9f2-4cfe-82dc-d538769f41b5",
   "metadata": {},
   "outputs": [
    {
     "data": {
      "text/plain": [
       "['banglore', 'hyderabad']"
      ]
     },
     "execution_count": 28,
     "metadata": {},
     "output_type": "execute_result"
    }
   ],
   "source": [
    "list(filter(lambda i:len(i)>3,list1))"
   ]
  },
  {
   "cell_type": "code",
   "execution_count": 45,
   "id": "5b5dc19f-3bdd-4c26-b0a7-a61769ea7913",
   "metadata": {},
   "outputs": [
    {
     "name": "stdout",
     "output_type": "stream",
     "text": [
      "hy#d\n",
      "hyd#erabad\n"
     ]
    }
   ],
   "source": [
    "list1=['hy#d','banglore','hyd#erabad']\n",
    "for i in list1:\n",
    "    if '#' in i:\n",
    "        print(i)"
   ]
  },
  {
   "cell_type": "code",
   "execution_count": 42,
   "id": "80776b8a-865f-4265-8dea-cb4fc16bfec5",
   "metadata": {},
   "outputs": [
    {
     "data": {
      "text/plain": [
       "['hy#d', 'hyd#erabad']"
      ]
     },
     "execution_count": 42,
     "metadata": {},
     "output_type": "execute_result"
    }
   ],
   "source": [
    "list(filter(lambda i:'#' in i,list1))"
   ]
  },
  {
   "cell_type": "code",
   "execution_count": null,
   "id": "cc97b5e9-87ba-4fa5-b4a5-26369a268dfd",
   "metadata": {},
   "outputs": [],
   "source": []
  }
 ],
 "metadata": {
  "kernelspec": {
   "display_name": "Python 3 (ipykernel)",
   "language": "python",
   "name": "python3"
  },
  "language_info": {
   "codemirror_mode": {
    "name": "ipython",
    "version": 3
   },
   "file_extension": ".py",
   "mimetype": "text/x-python",
   "name": "python",
   "nbconvert_exporter": "python",
   "pygments_lexer": "ipython3",
   "version": "3.12.4"
  }
 },
 "nbformat": 4,
 "nbformat_minor": 5
}
