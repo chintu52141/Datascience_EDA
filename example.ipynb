{
 "cells": [
  {
   "cell_type": "code",
   "execution_count": 6,
   "id": "77f7e488-3a63-4519-9c2a-444accfe45bd",
   "metadata": {},
   "outputs": [
    {
     "name": "stdin",
     "output_type": "stream",
     "text": [
      "enter the income: 10000\n",
      "enter tax per: 20\n"
     ]
    },
    {
     "data": {
      "text/plain": [
       "2000.0"
      ]
     },
     "execution_count": 6,
     "metadata": {},
     "output_type": "execute_result"
    }
   ],
   "source": [
    "income = eval(input('enter the income:'))\n",
    "tax = eval(input('enter tax per:'))\n",
    "tax_per =income*tax/100\n",
    "tax_per\n"
   ]
  },
  {
   "cell_type": "code",
   "execution_count": 26,
   "id": "961f34b9-6ee3-49f4-aeea-708fc2ac94e0",
   "metadata": {},
   "outputs": [
    {
     "name": "stdin",
     "output_type": "stream",
     "text": [
      "enter the price: 2000\n",
      "enter the tip%: 10\n"
     ]
    },
    {
     "name": "stdout",
     "output_type": "stream",
     "text": [
      "final_amount of bill is 2200.0\n"
     ]
    }
   ],
   "source": [
    "amount1=eval(input('enter the price:'))\n",
    "tip = eval(input('enter the tip%:'))\n",
    "total1 =(amount1*tip/100)\n",
    "final_amount =(total1+amount1)\n",
    "print(f\"final_amount of bill is {final_amount}\")\n",
    "\n",
    "\n",
    "           "
   ]
  },
  {
   "cell_type": "code",
   "execution_count": 32,
   "id": "4115a05a-e563-4b69-bbed-430f70600b4f",
   "metadata": {},
   "outputs": [
    {
     "name": "stdout",
     "output_type": "stream",
     "text": [
      "100\n",
      "200\n"
     ]
    }
   ],
   "source": [
    "import time\n",
    "dir(time)\n",
    "num1 = 100\n",
    "num2 = 200\n",
    "print(num1)\n",
    "time.sleep(5)\n",
    "print(num2)"
   ]
  },
  {
   "cell_type": "code",
   "execution_count": 50,
   "id": "c9770d61-c615-4dda-a767-45cbe9b3e066",
   "metadata": {},
   "outputs": [
    {
     "name": "stdout",
     "output_type": "stream",
     "text": [
      "true\n"
     ]
    }
   ],
   "source": [
    "number =100\n",
    "if 100>20:\n",
    "    print(\"true\")\n",
    "    "
   ]
  },
  {
   "cell_type": "code",
   "execution_count": 52,
   "id": "9c728cfd-74ee-4cb4-8437-b88cc7762737",
   "metadata": {},
   "outputs": [
    {
     "name": "stdout",
     "output_type": "stream",
     "text": [
      "false\n"
     ]
    }
   ],
   "source": [
    "i=10\n",
    "if i>200:\n",
    "    print(\"true\")\n",
    "else:\n",
    "    print('false') "
   ]
  },
  {
   "cell_type": "code",
   "execution_count": 49,
   "id": "88729b50-2155-4533-bc8b-b7396b3ebf74",
   "metadata": {},
   "outputs": [
    {
     "name": "stdout",
     "output_type": "stream",
     "text": [
      "equal\n"
     ]
    }
   ],
   "source": [
    "number = 10\n",
    "if number<10:\n",
    "    print(\"lesser value\")\n",
    "elif number==10:\n",
    "    print(\"equal\")\n",
    "else: \n",
    "    print(\"greater value\")\n"
   ]
  },
  {
   "cell_type": "code",
   "execution_count": 63,
   "id": "480c5a90-a5e2-40c0-8ce6-97276ddd7c4f",
   "metadata": {},
   "outputs": [
    {
     "name": "stdin",
     "output_type": "stream",
     "text": [
      "enter a number: 20\n"
     ]
    },
    {
     "name": "stdout",
     "output_type": "stream",
     "text": [
      "even\n"
     ]
    }
   ],
   "source": [
    "n1 =eval(input('enter a number:'))\n",
    "if n1%2==0:\n",
    "   print(\"even\")\n",
    "else:\n",
    "    print(\"odd\")"
   ]
  },
  {
   "cell_type": "code",
   "execution_count": 64,
   "id": "845e775f-c16d-440b-8c7b-377fc3ea9ef3",
   "metadata": {},
   "outputs": [
    {
     "name": "stdin",
     "output_type": "stream",
     "text": [
      "enter a random: 33\n"
     ]
    },
    {
     "name": "stdout",
     "output_type": "stream",
     "text": [
      "odd\n"
     ]
    }
   ],
   "source": [
    "num1 = eval(input(\"enter a random:\"))\n",
    "if num1%2==0:\n",
    "    print('even')\n",
    "else:\n",
    "    print('odd')\n",
    "    \n",
    "      "
   ]
  },
  {
   "cell_type": "code",
   "execution_count": 76,
   "id": "af24eb57-75d3-49ea-96a9-eda4abfd4776",
   "metadata": {},
   "outputs": [
    {
     "name": "stdin",
     "output_type": "stream",
     "text": [
      "enter a name: sai\n",
      "enter salary: 22222\n",
      "enter tax per%: 2\n"
     ]
    },
    {
     "ename": "NameError",
     "evalue": "name 'amount' is not defined",
     "output_type": "error",
     "traceback": [
      "\u001b[0;31m---------------------------------------------------------------------------\u001b[0m",
      "\u001b[0;31mNameError\u001b[0m                                 Traceback (most recent call last)",
      "Cell \u001b[0;32mIn[76], line 6\u001b[0m\n\u001b[1;32m      4\u001b[0m tax_pay \u001b[38;5;241m=\u001b[39m (salary \u001b[38;5;241m*\u001b[39m tax)\u001b[38;5;241m/\u001b[39m\u001b[38;5;241m100\u001b[39m\n\u001b[1;32m      5\u001b[0m tax_pay\n\u001b[0;32m----> 6\u001b[0m \u001b[38;5;28;01mif\u001b[39;00m amount\u001b[38;5;241m>\u001b[39m\u001b[38;5;241m=\u001b[39m\u001b[38;5;241m10000\u001b[39m:\n\u001b[1;32m      7\u001b[0m     \u001b[38;5;28mprint\u001b[39m(\u001b[38;5;124m'\u001b[39m\u001b[38;5;124mgood\u001b[39m\u001b[38;5;124m'\u001b[39m)\n\u001b[1;32m      8\u001b[0m \u001b[38;5;28;01melse\u001b[39;00m:\n",
      "\u001b[0;31mNameError\u001b[0m: name 'amount' is not defined"
     ]
    }
   ],
   "source": [
    "nmae = input('enter a name:')\n",
    "salary = eval(input('enter salary:'))\n",
    "tax = eval(input('enter tax per%:'))\n",
    "tax_pay = (salary * tax)/100\n",
    "\n",
    "if amount>=10000:\n",
    "    print(f'{nmae} earns good')\n",
    "else:\n",
    "    print(f'{bad')\n"
   ]
  },
  {
   "cell_type": "code",
   "execution_count": null,
   "id": "9a4d922a-9d7f-419f-bf79-f01d07080ade",
   "metadata": {},
   "outputs": [],
   "source": []
  }
 ],
 "metadata": {
  "kernelspec": {
   "display_name": "Python 3 (ipykernel)",
   "language": "python",
   "name": "python3"
  },
  "language_info": {
   "codemirror_mode": {
    "name": "ipython",
    "version": 3
   },
   "file_extension": ".py",
   "mimetype": "text/x-python",
   "name": "python",
   "nbconvert_exporter": "python",
   "pygments_lexer": "ipython3",
   "version": "3.12.4"
  }
 },
 "nbformat": 4,
 "nbformat_minor": 5
}
