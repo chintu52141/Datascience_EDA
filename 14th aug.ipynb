{
 "cells": [
  {
   "cell_type": "code",
   "execution_count": null,
   "id": "95e8e3ee-f13d-4ef9-8d34-31cd84e1ceaf",
   "metadata": {},
   "outputs": [],
   "source": [
    "file_path='dummy.txt'\n",
    "file=open(file_path,mode='w')\n",
    "file.write('hello')"
   ]
  },
  {
   "cell_type": "code",
   "execution_count": null,
   "id": "d9f1d9a4-5ac1-495c-ac4a-67928e666be0",
   "metadata": {},
   "outputs": [],
   "source": [
    "file_path='ml/my_files_ml/mbox-short.txt'\n",
    "with open(file_path) as file:\n",
    "    type(file.read())\n",
    "\n",
    "lst[4]\n"
   ]
  },
  {
   "cell_type": "code",
   "execution_count": null,
   "id": "2e45663c-9c88-46fc-8023-d3748d0c99a0",
   "metadata": {},
   "outputs": [],
   "source": [
    "pwd\n"
   ]
  },
  {
   "cell_type": "code",
   "execution_count": null,
   "id": "3c280608-8da8-4041-a77e-67e1cbd6e2c6",
   "metadata": {},
   "outputs": [],
   "source": [
    "file_path='ml/my_files_ml/mbox-short.txt'\n",
    "file=open(file_path)\n",
    "type(file)\n",
    "\n",
    "list=[line  for line in file if line.startswith('From')]\n",
    "list1=[line.rstrip() for line in list if line.startswith('From')]\n",
    "list3=[line.split()[0] for line in list1 if line.startswith('From')]\n",
    "list4=[line.split()[1] for line in list1 if line.startswith('From')]\n",
    "list4"
   ]
  },
  {
   "cell_type": "code",
   "execution_count": 3,
   "id": "433b11da-619e-431d-b041-d79ae0299d6c",
   "metadata": {},
   "outputs": [
    {
     "name": "stdin",
     "output_type": "stream",
     "text": [
      "enter a nmber 5\n"
     ]
    },
    {
     "name": "stdout",
     "output_type": "stream",
     "text": [
      "fibbinaco sequence starts with:\n",
      "0\n"
     ]
    },
    {
     "data": {
      "text/plain": [
       "1"
      ]
     },
     "execution_count": 3,
     "metadata": {},
     "output_type": "execute_result"
    }
   ],
   "source": [
    "num1=eval(input('enter a nmber'))\n",
    "n1,n2=0,1\n",
    "count=0\n",
    "if num1<0:\n",
    "    print('enter a postive value')\n",
    "\n",
    "elif num1==0:\n",
    "    print('sequence starts with:',num1)\n",
    "\n",
    "else:\n",
    "    print('fibbinaco sequence starts with:')\n",
    "    while num1>1\n",
    "    print(n1)\n",
    "    nth = n1 + n2\n",
    "    n1=n2\n",
    "    n2=nth\n",
    "    count+=1\n",
    "    \n",
    "count\n"
   ]
  },
  {
   "cell_type": "code",
   "execution_count": null,
   "id": "efc6b1d3-4906-4f2c-805d-0b2ce49132c9",
   "metadata": {},
   "outputs": [],
   "source": []
  },
  {
   "cell_type": "code",
   "execution_count": null,
   "id": "00e07391-fdf4-461b-85d7-f753f2166170",
   "metadata": {},
   "outputs": [],
   "source": []
  },
  {
   "cell_type": "code",
   "execution_count": null,
   "id": "d93c73b0-b126-48f1-942d-d42c74ec3adb",
   "metadata": {},
   "outputs": [],
   "source": []
  },
  {
   "cell_type": "code",
   "execution_count": null,
   "id": "1a16610c-4c12-4462-ac80-2fa26f2305ee",
   "metadata": {},
   "outputs": [],
   "source": [
    "line2=[line.strip() for line in line1 if line.startswith('From')]"
   ]
  }
 ],
 "metadata": {
  "kernelspec": {
   "display_name": "Python 3 (ipykernel)",
   "language": "python",
   "name": "python3"
  },
  "language_info": {
   "codemirror_mode": {
    "name": "ipython",
    "version": 3
   },
   "file_extension": ".py",
   "mimetype": "text/x-python",
   "name": "python",
   "nbconvert_exporter": "python",
   "pygments_lexer": "ipython3",
   "version": "3.12.4"
  }
 },
 "nbformat": 4,
 "nbformat_minor": 5
}
