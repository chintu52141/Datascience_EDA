{
 "cells": [
  {
   "cell_type": "code",
   "execution_count": 5,
   "id": "a0bd2169-4975-48a8-96fb-b978a1e80c8c",
   "metadata": {},
   "outputs": [
    {
     "name": "stdout",
     "output_type": "stream",
     "text": [
      "104 h\n",
      "101 e\n",
      "108 l\n",
      "108 l\n",
      "111 o\n"
     ]
    }
   ],
   "source": [
    "name='hello'\n",
    "for i in name:\n",
    "    print(ord(i),i)"
   ]
  },
  {
   "cell_type": "code",
   "execution_count": 4,
   "id": "dd374d02-61fc-484f-831e-fabfa5403b29",
   "metadata": {},
   "outputs": [
    {
     "data": {
      "text/plain": [
       "'h'"
      ]
     },
     "execution_count": 4,
     "metadata": {},
     "output_type": "execute_result"
    }
   ],
   "source": [
    "chr(104)"
   ]
  },
  {
   "cell_type": "code",
   "execution_count": 12,
   "id": "e2d3db75-07e4-4fa7-a6c1-593d7e05a6a6",
   "metadata": {},
   "outputs": [
    {
     "data": {
      "text/plain": [
       "['Formatter',\n",
       " 'Template',\n",
       " '_ChainMap',\n",
       " '__all__',\n",
       " '__builtins__',\n",
       " '__cached__',\n",
       " '__doc__',\n",
       " '__file__',\n",
       " '__loader__',\n",
       " '__name__',\n",
       " '__package__',\n",
       " '__spec__',\n",
       " '_re',\n",
       " '_sentinel_dict',\n",
       " '_string',\n",
       " 'ascii_letters',\n",
       " 'ascii_lowercase',\n",
       " 'ascii_uppercase',\n",
       " 'capwords',\n",
       " 'digits',\n",
       " 'hexdigits',\n",
       " 'octdigits',\n",
       " 'printable',\n",
       " 'punctuation',\n",
       " 'whitespace']"
      ]
     },
     "execution_count": 12,
     "metadata": {},
     "output_type": "execute_result"
    }
   ],
   "source": [
    "import string\n",
    "dir(string)"
   ]
  },
  {
   "cell_type": "code",
   "execution_count": 15,
   "id": "23730ef3-60cd-4838-b143-236ad05e81f7",
   "metadata": {},
   "outputs": [
    {
     "data": {
      "text/plain": [
       "'ABCDEFGHIJKLMNOPQRSTUVWXYZ'"
      ]
     },
     "execution_count": 15,
     "metadata": {},
     "output_type": "execute_result"
    }
   ],
   "source": [
    "string.ascii_uppercase"
   ]
  },
  {
   "cell_type": "code",
   "execution_count": 16,
   "id": "25e5c6ca-c1d6-46cf-adbe-5a0e5e4e979f",
   "metadata": {},
   "outputs": [
    {
     "data": {
      "text/plain": [
       "<function string.capwords(s, sep=None)>"
      ]
     },
     "execution_count": 16,
     "metadata": {},
     "output_type": "execute_result"
    }
   ],
   "source": [
    "string.capwords"
   ]
  },
  {
   "cell_type": "code",
   "execution_count": 19,
   "id": "ab19d32f-d8d2-44f9-b658-d6f84018cceb",
   "metadata": {},
   "outputs": [
    {
     "ename": "NameError",
     "evalue": "name 's' is not defined",
     "output_type": "error",
     "traceback": [
      "\u001b[0;31m---------------------------------------------------------------------------\u001b[0m",
      "\u001b[0;31mNameError\u001b[0m                                 Traceback (most recent call last)",
      "Cell \u001b[0;32mIn[19], line 1\u001b[0m\n\u001b[0;32m----> 1\u001b[0m string\u001b[38;5;241m.\u001b[39mcapwords(s,sep\u001b[38;5;241m=\u001b[39m\u001b[38;5;28;01mNone\u001b[39;00m)\n",
      "\u001b[0;31mNameError\u001b[0m: name 's' is not defined"
     ]
    }
   ],
   "source": [
    "string.capwords()"
   ]
  },
  {
   "cell_type": "code",
   "execution_count": 27,
   "id": "bce5940c-4356-4e88-ade0-292e8d0e9ea5",
   "metadata": {},
   "outputs": [
    {
     "name": "stdout",
     "output_type": "stream",
     "text": [
      "!\"#$%&'()*+,-./:;<=>?@[\\]^_`{|}~    "
     ]
    }
   ],
   "source": [
    "name=string.punctuation\n",
    "print(name  ,  end = '    ')"
   ]
  },
  {
   "cell_type": "code",
   "execution_count": 28,
   "id": "755e77dd-384f-48a2-b52a-4f7df2f9df18",
   "metadata": {},
   "outputs": [
    {
     "data": {
      "text/plain": [
       "'0123456789abcdefghijklmnopqrstuvwxyzABCDEFGHIJKLMNOPQRSTUVWXYZ!\"#$%&\\'()*+,-./:;<=>?@[\\\\]^_`{|}~ \\t\\n\\r\\x0b\\x0c'"
      ]
     },
     "execution_count": 28,
     "metadata": {},
     "output_type": "execute_result"
    }
   ],
   "source": [
    "string.printable"
   ]
  },
  {
   "cell_type": "code",
   "execution_count": 42,
   "id": "879d9b87-2a86-453e-859d-5a5e266ca288",
   "metadata": {},
   "outputs": [
    {
     "data": {
      "text/plain": [
       "'hellohellohellohello'"
      ]
     },
     "execution_count": 42,
     "metadata": {},
     "output_type": "execute_result"
    }
   ],
   "source": [
    "str1='hello'\n",
    "str2=\"python\"\n",
    "str1*4"
   ]
  },
  {
   "cell_type": "code",
   "execution_count": null,
   "id": "688d0099-7826-47fb-a889-2fa087d09da9",
   "metadata": {},
   "outputs": [],
   "source": [
    "typr\n",
    "len\n",
    "max\n",
    "min\n",
    "ord\n",
    "chr\n",
    "in\n"
   ]
  },
  {
   "cell_type": "code",
   "execution_count": 59,
   "id": "0aa23f4b-7b76-4ac7-bbad-6d6e5d7e95e8",
   "metadata": {},
   "outputs": [
    {
     "name": "stdout",
     "output_type": "stream",
     "text": [
      "p\n",
      "y\n",
      "t\n",
      "h\n",
      "o\n",
      "n\n"
     ]
    }
   ],
   "source": [
    "name='python'\n",
    "name[0],name[1],name[3],name[4]\n",
    "for i in range(0,6):\n",
    "    print(name[i])\n",
    "    "
   ]
  },
  {
   "cell_type": "code",
   "execution_count": 65,
   "id": "9703e77c-36cf-4eb7-b469-c59be8917028",
   "metadata": {},
   "outputs": [
    {
     "name": "stdout",
     "output_type": "stream",
     "text": [
      "h\n",
      "e\n",
      "l\n",
      "l\n",
      "o\n"
     ]
    }
   ],
   "source": [
    "name='hello'\n",
    "for i in range(len(name)):\n",
    "    print(name[i])"
   ]
  },
  {
   "cell_type": "code",
   "execution_count": 68,
   "id": "9ae882a2-bd7e-4544-9c75-381ff6ce7e15",
   "metadata": {},
   "outputs": [
    {
     "data": {
      "text/plain": [
       "'o'"
      ]
     },
     "execution_count": 68,
     "metadata": {},
     "output_type": "execute_result"
    }
   ],
   "source": [
    "name[-1]"
   ]
  },
  {
   "cell_type": "code",
   "execution_count": 114,
   "id": "8beedf74-6104-42b6-bfd7-8ee85cfb64b1",
   "metadata": {},
   "outputs": [
    {
     "name": "stdout",
     "output_type": "stream",
     "text": [
      "p\n",
      "y\n",
      "t\n",
      "h\n",
      "o\n",
      "n\n"
     ]
    }
   ],
   "source": [
    "name='pythond'\n",
    "for i in range(-7,-1,1):\n",
    "    print(name[i])"
   ]
  },
  {
   "cell_type": "code",
   "execution_count": 123,
   "id": "26924ee7-d1f3-436c-bc0c-e985ccc3d62c",
   "metadata": {},
   "outputs": [
    {
     "name": "stdout",
     "output_type": "stream",
     "text": [
      "python\n",
      "python\n",
      "python\n",
      "python\n",
      "python\n",
      "python\n",
      "python\n"
     ]
    }
   ],
   "source": [
    "name='python'\n",
    "i=0\n",
    "while i<=6:\n",
    "    print(i[])\n",
    "    i=i+1"
   ]
  },
  {
   "cell_type": "code",
   "execution_count": 120,
   "id": "6af0dba1-8553-42ee-834f-b58e767519d5",
   "metadata": {},
   "outputs": [
    {
     "name": "stdout",
     "output_type": "stream",
     "text": [
      "p\n"
     ]
    }
   ],
   "source": [
    "name='python'\n",
    "print(name[0])"
   ]
  },
  {
   "cell_type": "code",
   "execution_count": null,
   "id": "6f723ee5-0c7d-42b2-80b8-b73dca1edf7f",
   "metadata": {},
   "outputs": [],
   "source": []
  }
 ],
 "metadata": {
  "kernelspec": {
   "display_name": "Python 3 (ipykernel)",
   "language": "python",
   "name": "python3"
  },
  "language_info": {
   "codemirror_mode": {
    "name": "ipython",
    "version": 3
   },
   "file_extension": ".py",
   "mimetype": "text/x-python",
   "name": "python",
   "nbconvert_exporter": "python",
   "pygments_lexer": "ipython3",
   "version": "3.12.4"
  }
 },
 "nbformat": 4,
 "nbformat_minor": 5
}
