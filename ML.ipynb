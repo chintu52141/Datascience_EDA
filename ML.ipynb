{
 "cells": [
  {
   "cell_type": "code",
   "execution_count": null,
   "id": "4c7e9923-3167-4910-a67c-ab0a691be162",
   "metadata": {},
   "outputs": [],
   "source": [
    "pwd"
   ]
  },
  {
   "cell_type": "code",
   "execution_count": null,
   "id": "a49b6a57-1cdd-4231-bc54-e20bebed080c",
   "metadata": {},
   "outputs": [],
   "source": [
    "import pandas as pd\n",
    "import numpy as np\n",
    "import matplotlib.pyplot as plt\n",
    "import seaborn as sns"
   ]
  },
  {
   "cell_type": "code",
   "execution_count": null,
   "id": "cbc2f13b-d180-4451-a63e-b75dea875c51",
   "metadata": {},
   "outputs": [],
   "source": [
    "name='/Users/vijayasri/ML/EasyVisa.csv/'\n",
    "file=open(name)\n"
   ]
  },
  {
   "cell_type": "code",
   "execution_count": null,
   "id": "5f7de8ad-3425-4ab4-8701-7ebb5ecf44d6",
   "metadata": {},
   "outputs": [],
   "source": [
    "ls ml\n"
   ]
  },
  {
   "cell_type": "code",
   "execution_count": null,
   "id": "ce574de9-93db-4098-9185-dfc6a41f5576",
   "metadata": {},
   "outputs": [],
   "source": [
    "pwd\n"
   ]
  },
  {
   "cell_type": "code",
   "execution_count": null,
   "id": "9821045d-15af-47f3-8c95-371a09182b13",
   "metadata": {},
   "outputs": [],
   "source": [
    "ls ML/EasyVisa.csv\n"
   ]
  },
  {
   "cell_type": "code",
   "execution_count": null,
   "id": "b9d7e6f5-5eff-4edb-9706-7f0895d1a35c",
   "metadata": {},
   "outputs": [],
   "source": [
    "file_path='/Users/vijayasri/ML/EasyVisa.csv'\n",
    "file_name=open(file_path)\n",
    "print(file_name.read())\n",
    "\n"
   ]
  },
  {
   "cell_type": "code",
   "execution_count": null,
   "id": "6c622c02-9b95-43db-ba49-ae2621739b07",
   "metadata": {},
   "outputs": [],
   "source": [
    "\n"
   ]
  },
  {
   "cell_type": "code",
   "execution_count": null,
   "id": "b227900c-b645-4836-8c22-8807eeb6f7b5",
   "metadata": {},
   "outputs": [],
   "source": [
    "pip install pandas"
   ]
  },
  {
   "cell_type": "code",
   "execution_count": null,
   "id": "7456ad40-84aa-4dd8-9a6d-d7326d7e4b0e",
   "metadata": {},
   "outputs": [],
   "source": [
    "file_path='/Users/vijayasri/ML/EasyVisa.csv'\n"
   ]
  },
  {
   "cell_type": "code",
   "execution_count": null,
   "id": "a8eae463-66ed-442c-b275-5ee1a73782ef",
   "metadata": {},
   "outputs": [],
   "source": [
    "import pandas as pd\n",
    "dir(pd)\n",
    "file_path='/Users/vijayasri/ML/EasyVisa.csv'\n",
    "pd.read_csv(file_path)"
   ]
  },
  {
   "cell_type": "code",
   "execution_count": null,
   "id": "913e6d2d-de76-4504-9632-475515135ed3",
   "metadata": {},
   "outputs": [],
   "source": [
    "file_path='/Users/vijayasri/ML/EasyVisa.csv'"
   ]
  },
  {
   "cell_type": "code",
   "execution_count": null,
   "id": "0c2c563d-5cbf-4cfe-abb6-304cb8c4cbca",
   "metadata": {},
   "outputs": [],
   "source": [
    "file_path"
   ]
  },
  {
   "cell_type": "code",
   "execution_count": null,
   "id": "8c9514de-abf6-4470-9de6-1ccbbe13d7c9",
   "metadata": {},
   "outputs": [],
   "source": [
    "ls /Users/vijayasri/ML/EasyVisa.csv"
   ]
  },
  {
   "cell_type": "code",
   "execution_count": null,
   "id": "890c2763-06e8-4d62-a477-800d02d34cb6",
   "metadata": {},
   "outputs": [],
   "source": [
    "pd.read_csv(file_path)"
   ]
  },
  {
   "cell_type": "code",
   "execution_count": null,
   "id": "7cf0767f-4aff-4ea1-9418-780a16f68c3c",
   "metadata": {},
   "outputs": [],
   "source": [
    "import numpy as np"
   ]
  },
  {
   "cell_type": "code",
   "execution_count": null,
   "id": "71b6ef88-0e8c-4edb-953f-08d5c7f4351c",
   "metadata": {},
   "outputs": [],
   "source": [
    "pip install matplotlib"
   ]
  },
  {
   "cell_type": "code",
   "execution_count": null,
   "id": "f44be458-be3e-4503-a5a7-a4e61c9c0d89",
   "metadata": {},
   "outputs": [],
   "source": [
    "pip install seaborn "
   ]
  },
  {
   "cell_type": "code",
   "execution_count": null,
   "id": "0b840676-e3d1-4fc5-b41a-eca68be40ad1",
   "metadata": {},
   "outputs": [],
   "source": [
    "import pandas as pd\n",
    "file='/Users/vijayasri/ML/bank.csv'\n",
    "pd.read_csv(file)"
   ]
  },
  {
   "cell_type": "code",
   "execution_count": null,
   "id": "6be360ca-f39e-43b8-a7ab-7182ebfa6755",
   "metadata": {},
   "outputs": [],
   "source": [
    "ls ml"
   ]
  },
  {
   "cell_type": "code",
   "execution_count": null,
   "id": "049aeaf7-984d-4618-bae5-c16bf1ad7df2",
   "metadata": {},
   "outputs": [],
   "source": [
    "pwd\n"
   ]
  },
  {
   "cell_type": "code",
   "execution_count": null,
   "id": "9fff5f8c-8637-48d0-8921-466afe7534da",
   "metadata": {},
   "outputs": [],
   "source": [
    "file_doc='/Users/vijayasri/ml/EasyVisa.csv'\n",
    "pd.read_csv(file_doc)\n"
   ]
  },
  {
   "cell_type": "code",
   "execution_count": null,
   "id": "f963fa95-5789-42cb-9ac8-2b14c26348e3",
   "metadata": {},
   "outputs": [],
   "source": [
    "ls ml/EasyVisa.csv"
   ]
  },
  {
   "cell_type": "code",
   "execution_count": null,
   "id": "5802bcaa-04f3-4541-9760-45226130a99c",
   "metadata": {},
   "outputs": [],
   "source": []
  }
 ],
 "metadata": {
  "kernelspec": {
   "display_name": "Python 3 (ipykernel)",
   "language": "python",
   "name": "python3"
  },
  "language_info": {
   "codemirror_mode": {
    "name": "ipython",
    "version": 3
   },
   "file_extension": ".py",
   "mimetype": "text/x-python",
   "name": "python",
   "nbconvert_exporter": "python",
   "pygments_lexer": "ipython3",
   "version": "3.12.4"
  }
 },
 "nbformat": 4,
 "nbformat_minor": 5
}
