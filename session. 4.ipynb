{
 "cells": [
  {
   "cell_type": "code",
   "execution_count": 6,
   "id": "97f12ce6-f9b9-443d-9707-eb9464229fac",
   "metadata": {},
   "outputs": [
    {
     "name": "stdout",
     "output_type": "stream",
     "text": [
      "add of 100 and 200 is 300\n"
     ]
    }
   ],
   "source": [
    "num1 =100\n",
    "num2 = 200\n",
    "num3 = num1+num2\n",
    "print(f\"add of {num1} and {num2} is {num3}\")"
   ]
  },
  {
   "cell_type": "code",
   "execution_count": null,
   "id": "edb53af8-6401-4bdd-9448-29ec61fa7e80",
   "metadata": {},
   "outputs": [],
   "source": [
    "input ()"
   ]
  },
  {
   "cell_type": "code",
   "execution_count": null,
   "id": "4550aa15-5f1f-44de-abe7-4ae9bf6aff39",
   "metadata": {},
   "outputs": [],
   "source": [
    "input ('')"
   ]
  },
  {
   "cell_type": "code",
   "execution_count": null,
   "id": "ef21338a-db4a-4ed8-b0e8-75ea86dc1b2d",
   "metadata": {},
   "outputs": [],
   "source": [
    "num1 =input(\"enter of num1:\")\n"
   ]
  },
  {
   "cell_type": "code",
   "execution_count": null,
   "id": "bb27d60d-2fe3-482d-ac03-25fce8155b85",
   "metadata": {},
   "outputs": [],
   "source": [
    "num2 =input('enter num2:\")\n",
    "            "
   ]
  },
  {
   "cell_type": "code",
   "execution_count": 3,
   "id": "56874259-9689-4298-a71e-aba67b3c5820",
   "metadata": {},
   "outputs": [
    {
     "name": "stdin",
     "output_type": "stream",
     "text": [
      "enter num1: 100\n",
      "enter num2: 300\n"
     ]
    },
    {
     "name": "stdout",
     "output_type": "stream",
     "text": [
      "100\n",
      "300\n"
     ]
    },
    {
     "data": {
      "text/plain": [
       "'100300'"
      ]
     },
     "execution_count": 3,
     "metadata": {},
     "output_type": "execute_result"
    }
   ],
   "source": [
    "num1 = input(\"enter num1:\")\n",
    "num2 = input(\"enter num2:\")\n",
    "print(num1)\n",
    "print(num2)\n",
    "num3 = num1 +num2\n",
    "num3"
   ]
  },
  {
   "cell_type": "code",
   "execution_count": 10,
   "id": "3c35471e-8a55-4eaa-99bd-b3593a85939c",
   "metadata": {},
   "outputs": [
    {
     "name": "stdout",
     "output_type": "stream",
     "text": [
      "1000java\n"
     ]
    }
   ],
   "source": [
    "print(\"1000\",end = ''   '')\n",
    "print (\"java\")     "
   ]
  },
  {
   "cell_type": "code",
   "execution_count": 13,
   "id": "b34211a7-c035-46a3-9207-ee5f8250cb83",
   "metadata": {},
   "outputs": [
    {
     "name": "stdout",
     "output_type": "stream",
     "text": [
      "adding case1 and case2 will give 300\n"
     ]
    }
   ],
   "source": [
    "case1 = 100\n",
    "case2 = 200\n",
    "case3 = case1+case2\n",
    "print(f\"adding case1 and case2 will give {case3}\")"
   ]
  },
  {
   "cell_type": "code",
   "execution_count": 15,
   "id": "bfaf359a-5479-4f7b-8699-784d3524a4bb",
   "metadata": {},
   "outputs": [
    {
     "data": {
      "text/plain": [
       "'enter the valueenter the value'"
      ]
     },
     "execution_count": 15,
     "metadata": {},
     "output_type": "execute_result"
    }
   ],
   "source": [
    "num1 = \"enter the value\"\n",
    "num2 = \"enter the value\"\n",
    "num3 = num1+num2\n",
    "num3"
   ]
  },
  {
   "cell_type": "code",
   "execution_count": null,
   "id": "28647c53-3a30-4a41-9148-c6c432d84137",
   "metadata": {},
   "outputs": [],
   "source": [
    "100\n"
   ]
  }
 ],
 "metadata": {
  "kernelspec": {
   "display_name": "Python 3 (ipykernel)",
   "language": "python",
   "name": "python3"
  },
  "language_info": {
   "codemirror_mode": {
    "name": "ipython",
    "version": 3
   },
   "file_extension": ".py",
   "mimetype": "text/x-python",
   "name": "python",
   "nbconvert_exporter": "python",
   "pygments_lexer": "ipython3",
   "version": "3.12.4"
  }
 },
 "nbformat": 4,
 "nbformat_minor": 5
}
