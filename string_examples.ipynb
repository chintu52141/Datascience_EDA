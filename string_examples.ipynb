{
 "cells": [
  {
   "cell_type": "code",
   "execution_count": 2,
   "id": "6d4b3cce-ea1a-47eb-ae73-17a49b6e5c5c",
   "metadata": {},
   "outputs": [
    {
     "name": "stdout",
     "output_type": "stream",
     "text": [
      "0 -6\n",
      "1 -5\n",
      "2 -4\n",
      "3 -3\n",
      "4 -2\n",
      "5 -1\n"
     ]
    }
   ],
   "source": [
    "name='python'\n",
    "for i in range(len(name)):\n",
    "    print(i,i-len(name))"
   ]
  },
  {
   "cell_type": "code",
   "execution_count": null,
   "id": "75d58e90-cecb-4c10-84e7-fced4a9d06a1",
   "metadata": {},
   "outputs": [],
   "source": [
    "def mul(numbers):\n",
    "    rem=x*y*z\n",
    "    print(rem)\n",
    "\n",
    "print(mul(2,3,4))\n",
    "    "
   ]
  },
  {
   "cell_type": "code",
   "execution_count": 4,
   "id": "be875cec-0852-4504-8059-d273fe639607",
   "metadata": {},
   "outputs": [
    {
     "name": "stdout",
     "output_type": "stream",
     "text": [
      "1\n",
      "2\n",
      "6\n",
      "24\n",
      "120\n"
     ]
    },
    {
     "data": {
      "text/plain": [
       "120"
      ]
     },
     "execution_count": 4,
     "metadata": {},
     "output_type": "execute_result"
    }
   ],
   "source": [
    "def mul(numbers):\n",
    "    total = 1 \n",
    "    for i in numbers:\n",
    "        total = i*total\n",
    "        print(total)\n",
    "    return total\n",
    "\n",
    "mul((1,2,3,4,5))"
   ]
  },
  {
   "cell_type": "code",
   "execution_count": 13,
   "id": "403ad8e9-7808-4521-b584-6224e04bb56d",
   "metadata": {},
   "outputs": [
    {
     "name": "stdout",
     "output_type": "stream",
     "text": [
      "0 h\n",
      "1 a\n",
      "2 i\n",
      "3  \n",
      "4 h\n",
      "5 a\n",
      "6 i\n",
      "7  \n",
      "8 h\n",
      "9 a\n",
      "10 i\n"
     ]
    }
   ],
   "source": [
    "a=\"hai hai hai\"\n",
    "for i in range(len(a)):\n",
    "    print(i,a[i],)"
   ]
  },
  {
   "cell_type": "code",
   "execution_count": null,
   "id": "d08ac632-0f25-4d73-979c-75744bc9bcfe",
   "metadata": {},
   "outputs": [],
   "source": [
    "a[]"
   ]
  },
  {
   "cell_type": "code",
   "execution_count": 6,
   "id": "7648f520-c242-4199-95cd-08f751150c2d",
   "metadata": {},
   "outputs": [
    {
     "name": "stdout",
     "output_type": "stream",
     "text": [
      "a 1\n",
      "a 4\n",
      "a 7\n",
      "12\n",
      "the total no of a is 12\n"
     ]
    }
   ],
   "source": [
    "a=\"haihaihai\"\n",
    "sum=0\n",
    "for i in range(len(a)):\n",
    "    if a[i]=='a':\n",
    "            print(a[i],i)\n",
    "            sum=sum+i\n",
    "print(sum)\n",
    "print('the total no of a is',sum)"
   ]
  },
  {
   "cell_type": "code",
   "execution_count": 50,
   "id": "a2b20b51-90eb-4698-8c69-c3ca4452ac56",
   "metadata": {},
   "outputs": [
    {
     "name": "stdout",
     "output_type": "stream",
     "text": [
      "h 0\n",
      "a 1\n",
      "i 2\n",
      "  3\n",
      "h 4\n",
      "a 5\n",
      "i 6\n",
      "  7\n",
      "h 8\n",
      "a 9\n",
      "i 10\n"
     ]
    }
   ],
   "source": [
    "a=\"hai hai hai\"\n",
    "for i in range(len(a)):\n",
    "    print(a[i],i)\n",
    "    \n",
    "    "
   ]
  },
  {
   "cell_type": "code",
   "execution_count": 62,
   "id": "c25c25f9-2f12-4293-84ab-fb02df43e328",
   "metadata": {},
   "outputs": [
    {
     "name": "stdout",
     "output_type": "stream",
     "text": [
      "a\n",
      "i\n",
      "o\n",
      "a\n",
      "e\n",
      "o\n",
      "u\n",
      "aioaeou\n"
     ]
    }
   ],
   "source": [
    "string = 'hai how are you'\n",
    "str2=''\n",
    "for i in string:\n",
    "    if i in 'aeiou':\n",
    "        print(i)\n",
    "        str2=str2+i\n",
    "print(str2)\n",
    "        \n",
    "        "
   ]
  },
  {
   "cell_type": "code",
   "execution_count": 54,
   "id": "19b042e7-bc5a-43bf-8685-28c5c316c460",
   "metadata": {},
   "outputs": [
    {
     "name": "stdout",
     "output_type": "stream",
     "text": [
      "a\n",
      "i\n",
      "o\n",
      "a\n",
      "e\n",
      "o\n",
      "u\n"
     ]
    }
   ],
   "source": [
    "string = 'hai how are you'\n",
    "for i in string:\n",
    "    if i in 'aeiou':\n",
    "        print(i)\n",
    "        \n",
    "        "
   ]
  },
  {
   "cell_type": "code",
   "execution_count": null,
   "id": "4be31631-0201-4a70-8e60-1ee831379431",
   "metadata": {},
   "outputs": [],
   "source": [
    "string = 'hai how are you'\n",
    "i=0\n",
    "count=0\n",
    "while (i<len(string)):\n",
    "        if string[i] in 'aeiou':\n",
    "            count=count+1\n",
    "            print(string[i])\n",
    "        i=i+1\n",
    "\n",
    "\n",
    "print(count)"
   ]
  },
  {
   "cell_type": "code",
   "execution_count": 63,
   "id": "9021dd34-2f8e-4795-97e7-ffea3d0adaa3",
   "metadata": {},
   "outputs": [
    {
     "name": "stdout",
     "output_type": "stream",
     "text": [
      "a\n",
      "1\n",
      "1\n",
      "i\n",
      "3\n",
      "2\n",
      "o\n",
      "6\n",
      "3\n",
      "e\n",
      "10\n",
      "4\n",
      "u\n",
      "15\n",
      "5\n"
     ]
    }
   ],
   "source": [
    "string='hai how are you'\n",
    "ask=''\n",
    "total=0\n",
    "for i in string:\n",
    "    if i in 'aeiou':\n",
    "        if i not in ask:\n",
    "            print(i)\n",
    "            ask = ask+i\n",
    "            total=total+len(ask)\n",
    "            print(total)\n",
    "            print(len(ask))\n",
    "       \n",
    "        "
   ]
  },
  {
   "cell_type": "code",
   "execution_count": null,
   "id": "1bcc6c6b-95a3-42ab-87c9-f4dc29d4a7e4",
   "metadata": {},
   "outputs": [],
   "source": [
    "mutable -----change with index\n",
    "immutable___cant change with index oper\n",
    "strings are immutable"
   ]
  },
  {
   "cell_type": "code",
   "execution_count": null,
   "id": "771a64a1-4353-4409-a34e-78c1535e0d62",
   "metadata": {},
   "outputs": [],
   "source": [
    "num=[10,20,30]\n",
    "num[0]=20\n",
    "num"
   ]
  },
  {
   "cell_type": "code",
   "execution_count": null,
   "id": "3232f6e5-f69e-4a62-ace8-893ad64081c6",
   "metadata": {},
   "outputs": [],
   "source": [
    "num=[1,2,3]\n",
    "min(0,1)\n"
   ]
  },
  {
   "cell_type": "markdown",
   "id": "7d82b953-d1d6-4268-901e-b2c9db055ce7",
   "metadata": {},
   "source": [
    "$slice$"
   ]
  },
  {
   "cell_type": "markdown",
   "id": "14193254-22d5-47a8-bcc0-20aa12c87166",
   "metadata": {},
   "source": [
    "$slice$"
   ]
  },
  {
   "cell_type": "code",
   "execution_count": 91,
   "id": "c7a5208d-2ace-40da-a16f-acdb1dcfe8e9",
   "metadata": {},
   "outputs": [
    {
     "data": {
      "text/plain": [
       "'hihwae'"
      ]
     },
     "execution_count": 91,
     "metadata": {},
     "output_type": "execute_result"
    }
   ],
   "source": [
    "str='hai how are you'\n",
    "str[0:12:2]\n"
   ]
  },
  {
   "cell_type": "code",
   "execution_count": null,
   "id": "992164df-7564-4960-a0a9-6d70ac867d4f",
   "metadata": {},
   "outputs": [],
   "source": [
    "str1=[3:12:3]\n",
    "str1=[3:12:-3]\n",
    "str1=[3:12:3]"
   ]
  },
  {
   "cell_type": "markdown",
   "id": "6a5f354d-35e0-471b-9c00-6fb7bbfb2e62",
   "metadata": {},
   "source": [
    "$string_methods$"
   ]
  },
  {
   "cell_type": "code",
   "execution_count": null,
   "id": "e6a5a517-2412-4b4e-a0cc-d94f16c6e5cf",
   "metadata": {},
   "outputs": [],
   "source": [
    "str1='python'\n",
    "dir(str1)"
   ]
  },
  {
   "cell_type": "markdown",
   "id": "9300998d-bf92-48de-b0bc-f8b148111ed0",
   "metadata": {},
   "source": [
    "$captalize method$=====first letter of string will become capital remaing will remains same"
   ]
  },
  {
   "cell_type": "code",
   "execution_count": 9,
   "id": "fa6062f4-5f2e-476a-b364-e1e941fb02f9",
   "metadata": {},
   "outputs": [
    {
     "name": "stdout",
     "output_type": "stream",
     "text": [
      "Help on built-in function capitalize:\n",
      "\n",
      "capitalize() method of builtins.str instance\n",
      "    Return a capitalized version of the string.\n",
      "\n",
      "    More specifically, make the first character have upper case and the rest lower\n",
      "    case.\n",
      "\n"
     ]
    },
    {
     "ename": "NameError",
     "evalue": "name 'Method' is not defined",
     "output_type": "error",
     "traceback": [
      "\u001b[0;31m---------------------------------------------------------------------------\u001b[0m",
      "\u001b[0;31mNameError\u001b[0m                                 Traceback (most recent call last)",
      "Cell \u001b[0;32mIn[9], line 3\u001b[0m\n\u001b[1;32m      1\u001b[0m str1\u001b[38;5;241m=\u001b[39m\u001b[38;5;124m'\u001b[39m\u001b[38;5;124mpython\u001b[39m\u001b[38;5;124m'\u001b[39m\n\u001b[1;32m      2\u001b[0m help(str1\u001b[38;5;241m.\u001b[39mcapitalize)\n\u001b[0;32m----> 3\u001b[0m str1\u001b[38;5;241m.\u001b[39mcapitalize(Method)\n",
      "\u001b[0;31mNameError\u001b[0m: name 'Method' is not defined"
     ]
    }
   ],
   "source": [
    "str1='python'\n",
    "help(str1.capitalize)\n",
    "str1.capitalize()"
   ]
  },
  {
   "cell_type": "code",
   "execution_count": 13,
   "id": "887aee6a-f825-461b-a057-612551840242",
   "metadata": {},
   "outputs": [],
   "source": [
    "str_cap='madhav iit'.capitalize()"
   ]
  },
  {
   "cell_type": "code",
   "execution_count": 14,
   "id": "c277b56a-853f-4a2c-afb2-303ae85786ed",
   "metadata": {},
   "outputs": [
    {
     "data": {
      "text/plain": [
       "'Madhav iit'"
      ]
     },
     "execution_count": 14,
     "metadata": {},
     "output_type": "execute_result"
    }
   ],
   "source": [
    "str_cap"
   ]
  },
  {
   "cell_type": "code",
   "execution_count": 15,
   "id": "5a4173d7-c99a-414a-8747-a9a0652eaba1",
   "metadata": {},
   "outputs": [
    {
     "name": "stdout",
     "output_type": "stream",
     "text": [
      "Help on built-in function capitalize:\n",
      "\n",
      "capitalize() method of builtins.str instance\n",
      "    Return a capitalized version of the string.\n",
      "\n",
      "    More specifically, make the first character have upper case and the rest lower\n",
      "    case.\n",
      "\n"
     ]
    }
   ],
   "source": [
    "str_cap='madhav iit'.capitalize()\n",
    "help('madhav'.capitalize)"
   ]
  },
  {
   "cell_type": "code",
   "execution_count": 20,
   "id": "5aaaf1f7-72b8-4f63-98b7-85f1da297444",
   "metadata": {},
   "outputs": [
    {
     "data": {
      "text/plain": [
       "'python'"
      ]
     },
     "execution_count": 20,
     "metadata": {},
     "output_type": "execute_result"
    }
   ],
   "source": [
    "str1='python'\n",
    "str1.lower()"
   ]
  },
  {
   "cell_type": "markdown",
   "id": "1583ffe1-3152-4752-97da-afeb10aea68c",
   "metadata": {},
   "source": [
    "$casefold$===case fold will give lower case letter even wtever the main string is"
   ]
  },
  {
   "cell_type": "code",
   "execution_count": 94,
   "id": "d70743f1-1001-4d68-ad14-0edd47db8c77",
   "metadata": {},
   "outputs": [
    {
     "name": "stdout",
     "output_type": "stream",
     "text": [
      "Help on built-in function casefold:\n",
      "\n",
      "casefold() method of builtins.str instance\n",
      "    Return a version of the string suitable for caseless comparisons.\n",
      "\n"
     ]
    },
    {
     "data": {
      "text/plain": [
       "'python'"
      ]
     },
     "execution_count": 94,
     "metadata": {},
     "output_type": "execute_result"
    }
   ],
   "source": [
    "str1='PYTHoN'\n",
    "dir(str1)\n",
    "help(str1.casefold)\n",
    "str1.casefold()"
   ]
  },
  {
   "cell_type": "code",
   "execution_count": 66,
   "id": "4ba370e6-aa18-492f-a676-0bb7582a24a1",
   "metadata": {},
   "outputs": [
    {
     "data": {
      "text/plain": [
       "'PYTHON'"
      ]
     },
     "execution_count": 66,
     "metadata": {},
     "output_type": "execute_result"
    }
   ],
   "source": [
    "str1='python'\n",
    "dir(str1)\n",
    "str1.swapcase()#=====#will swap to other case wtever you given"
   ]
  },
  {
   "cell_type": "code",
   "execution_count": 34,
   "id": "5208d75b-4058-4628-9cd4-9174c493b061",
   "metadata": {},
   "outputs": [
    {
     "data": {
      "text/plain": [
       "['PYTHON']"
      ]
     },
     "execution_count": 34,
     "metadata": {},
     "output_type": "execute_result"
    }
   ],
   "source": [
    "dir(str1)\n",
    "str1.splitlines()"
   ]
  },
  {
   "cell_type": "markdown",
   "id": "66ae77c5-538b-4ea8-990b-c3988f8f0500",
   "metadata": {},
   "source": [
    "$count$===will counts the how many given charaters are in the string"
   ]
  },
  {
   "cell_type": "code",
   "execution_count": 38,
   "id": "8a1061d0-4ec4-4c5a-88ca-d7a5bf404f48",
   "metadata": {},
   "outputs": [
    {
     "data": {
      "text/plain": [
       "3"
      ]
     },
     "execution_count": 38,
     "metadata": {},
     "output_type": "execute_result"
    }
   ],
   "source": [
    "A=\"hai hai hai\"\n",
    "A.count('a')"
   ]
  },
  {
   "cell_type": "code",
   "execution_count": 51,
   "id": "3cd2cb8c-dd02-4f32-afb7-633cc7ffdb76",
   "metadata": {},
   "outputs": [
    {
     "data": {
      "text/plain": [
       "2"
      ]
     },
     "execution_count": 51,
     "metadata": {},
     "output_type": "execute_result"
    }
   ],
   "source": [
    "A=\"hai hai hai\"\n",
    "A.count('a',3,10)\n"
   ]
  },
  {
   "cell_type": "code",
   "execution_count": 77,
   "id": "e5d0ef38-322e-4a9f-b1ab-fd46f27776a7",
   "metadata": {},
   "outputs": [
    {
     "name": "stdout",
     "output_type": "stream",
     "text": [
      "1\n",
      "2\n",
      "3\n"
     ]
    }
   ],
   "source": [
    "A=\"hai hai hai\"\n",
    "counter=0\n",
    "for i in range(len(A)):\n",
    "    if A[i:i+3]=='hai':\n",
    "        counter=counter+1\n",
    "        print(counter)"
   ]
  },
  {
   "cell_type": "code",
   "execution_count": 73,
   "id": "139cac9e-9d1a-4c1b-a95e-336f947b2514",
   "metadata": {},
   "outputs": [
    {
     "data": {
      "text/plain": [
       "'i'"
      ]
     },
     "execution_count": 73,
     "metadata": {},
     "output_type": "execute_result"
    }
   ],
   "source": [
    "max(\"hai hai hai\")"
   ]
  },
  {
   "cell_type": "code",
   "execution_count": 81,
   "id": "39c23f64-0078-4c2f-a9e2-96cfac79b18f",
   "metadata": {},
   "outputs": [
    {
     "data": {
      "text/plain": [
       "3"
      ]
     },
     "execution_count": 81,
     "metadata": {},
     "output_type": "execute_result"
    }
   ],
   "source": [
    "A=\"hai hai hai\"\n",
    "A.count('a')"
   ]
  },
  {
   "cell_type": "code",
   "execution_count": 95,
   "id": "9804269d-f6f1-4206-9cad-1cee25229b3a",
   "metadata": {},
   "outputs": [
    {
     "ename": "SyntaxError",
     "evalue": "invalid syntax (2039313630.py, line 2)",
     "output_type": "error",
     "traceback": [
      "\u001b[0;36m  Cell \u001b[0;32mIn[95], line 2\u001b[0;36m\u001b[0m\n\u001b[0;31m    str.replace('y','Y',2)=====will repalce the given charater\u001b[0m\n\u001b[0m                            ^\u001b[0m\n\u001b[0;31mSyntaxError\u001b[0m\u001b[0;31m:\u001b[0m invalid syntax\n"
     ]
    }
   ],
   "source": [
    "str='pyyyyython'\n",
    "str.replace('y','Y',2)=====will repalce the given charater "
   ]
  },
  {
   "cell_type": "code",
   "execution_count": 103,
   "id": "fe4b2adf-66ee-4bb3-b254-59c59a0cd180",
   "metadata": {},
   "outputs": [
    {
     "data": {
      "text/plain": [
       "'resta$t'"
      ]
     },
     "execution_count": 103,
     "metadata": {},
     "output_type": "execute_result"
    }
   ],
   "source": [
    "str='restart'\n",
    "str.replace('rt','$t')"
   ]
  },
  {
   "cell_type": "code",
   "execution_count": 105,
   "id": "56603524-b025-4001-9690-09864a670ca7",
   "metadata": {},
   "outputs": [
    {
     "data": {
      "text/plain": [
       "'$esta$t'"
      ]
     },
     "execution_count": 105,
     "metadata": {},
     "output_type": "execute_result"
    }
   ],
   "source": [
    "str='restart'\n",
    "str.replace('r','$',-2)"
   ]
  },
  {
   "cell_type": "code",
   "execution_count": 108,
   "id": "776ce823-7e8d-4144-877f-82141422622b",
   "metadata": {},
   "outputs": [
    {
     "name": "stdout",
     "output_type": "stream",
     "text": [
      "rest$t\n"
     ]
    }
   ],
   "source": [
    "str='restart'\n",
    "str1=str[:-3]+'$t'\n",
    "print(str1)"
   ]
  },
  {
   "cell_type": "code",
   "execution_count": 121,
   "id": "3ea68930-0ba3-44d3-9630-41003992cb70",
   "metadata": {},
   "outputs": [
    {
     "data": {
      "text/plain": [
       "'resta$t'"
      ]
     },
     "execution_count": 121,
     "metadata": {},
     "output_type": "execute_result"
    }
   ],
   "source": [
    "str='restart'\n",
    "str1=str[::-1]\n",
    "str5=str1.replace('r','$',1)\n",
    "str4=str5[::-1]\n",
    "str4"
   ]
  },
  {
   "cell_type": "code",
   "execution_count": null,
   "id": "18eb8713-fb97-4e87-84c9-f3ba56b59ad3",
   "metadata": {},
   "outputs": [],
   "source": []
  }
 ],
 "metadata": {
  "kernelspec": {
   "display_name": "Python 3 (ipykernel)",
   "language": "python",
   "name": "python3"
  },
  "language_info": {
   "codemirror_mode": {
    "name": "ipython",
    "version": 3
   },
   "file_extension": ".py",
   "mimetype": "text/x-python",
   "name": "python",
   "nbconvert_exporter": "python",
   "pygments_lexer": "ipython3",
   "version": "3.12.4"
  }
 },
 "nbformat": 4,
 "nbformat_minor": 5
}
