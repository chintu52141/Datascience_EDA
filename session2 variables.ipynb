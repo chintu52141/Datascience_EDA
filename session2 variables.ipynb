{
 "cells": [
  {
   "cell_type": "code",
   "execution_count": null,
   "id": "840bcaed-954e-4ae0-a410-8a6c2c8c7396",
   "metadata": {},
   "outputs": [],
   "source": [
    "import cv"
   ]
  },
  {
   "cell_type": "code",
   "execution_count": null,
   "id": "92d64635-0bec-4779-a606-7adfbad607c3",
   "metadata": {},
   "outputs": [],
   "source": [
    "!pip3 install opencv-python"
   ]
  },
  {
   "cell_type": "code",
   "execution_count": null,
   "id": "ee93582d-d03a-432c-b903-98285363dce4",
   "metadata": {},
   "outputs": [],
   "source": [
    "pip3 install opencv-python"
   ]
  },
  {
   "cell_type": "code",
   "execution_count": null,
   "id": "9e093446-c82e-43b1-9a99-62305aad5ec3",
   "metadata": {},
   "outputs": [],
   "source": [
    "import cv2"
   ]
  },
  {
   "cell_type": "code",
   "execution_count": null,
   "id": "2a0e41d2-a55d-47ce-9493-19f435347e66",
   "metadata": {},
   "outputs": [],
   "source": [
    "import cv"
   ]
  },
  {
   "cell_type": "code",
   "execution_count": null,
   "id": "dfa029e6-30f4-4aad-afbe-626f34ad7239",
   "metadata": {},
   "outputs": [],
   "source": [
    "!pip install opencv-python"
   ]
  },
  {
   "cell_type": "code",
   "execution_count": null,
   "id": "e9eeee5c-b678-4f57-bc3a-af90ee4f46bb",
   "metadata": {},
   "outputs": [],
   "source": [
    "import cv2"
   ]
  },
  {
   "cell_type": "code",
   "execution_count": null,
   "id": "da858103-34ae-41cb-a65a-884ea08d80af",
   "metadata": {},
   "outputs": [],
   "source": [
    "print(cv2.__version__)"
   ]
  },
  {
   "cell_type": "code",
   "execution_count": null,
   "id": "4772115c-35a5-4951-a882-370960b1eb7e",
   "metadata": {},
   "outputs": [],
   "source": [
    "pip install --upgrade pip"
   ]
  },
  {
   "cell_type": "code",
   "execution_count": null,
   "id": "1db4bee7-869f-41fd-99a4-42a4b692fac2",
   "metadata": {},
   "outputs": [],
   "source": [
    "pip install --upgrade pip"
   ]
  },
  {
   "cell_type": "code",
   "execution_count": null,
   "id": "fa3de06d-8050-447b-9579-d03eb14a4511",
   "metadata": {},
   "outputs": [],
   "source": [
    "import cv"
   ]
  },
  {
   "cell_type": "code",
   "execution_count": null,
   "id": "6ca5c1bb-927c-4830-9506-0a5dac33ea84",
   "metadata": {},
   "outputs": [],
   "source": [
    "print(cv2.__version__)"
   ]
  },
  {
   "cell_type": "code",
   "execution_count": null,
   "id": "c6f5bab4-fdb0-485f-8537-6a0068196c8b",
   "metadata": {},
   "outputs": [],
   "source": [
    "import cv2"
   ]
  },
  {
   "cell_type": "code",
   "execution_count": null,
   "id": "cd305b2a-092c-4377-b20a-b8a8415cb44f",
   "metadata": {},
   "outputs": [],
   "source": [
    "!pip install opencv-python"
   ]
  },
  {
   "cell_type": "markdown",
   "id": "914f209d-d68a-4288-a4bb-bca92b0c2594",
   "metadata": {},
   "source": [
    "!pip install opencv-python"
   ]
  },
  {
   "cell_type": "code",
   "execution_count": null,
   "id": "c7d6fe49-a914-487e-a9d6-6776d246536d",
   "metadata": {},
   "outputs": [],
   "source": [
    "import cv2"
   ]
  },
  {
   "cell_type": "code",
   "execution_count": null,
   "id": "c09ab22d-0b52-419f-a713-58ab138c11d7",
   "metadata": {},
   "outputs": [],
   "source": [
    "import math"
   ]
  },
  {
   "cell_type": "code",
   "execution_count": null,
   "id": "67412e6e-09d4-4ab5-88f3-d8cd9f595a79",
   "metadata": {},
   "outputs": [],
   "source": [
    "import math"
   ]
  },
  {
   "cell_type": "code",
   "execution_count": null,
   "id": "c73b69a2-d126-49bc-a094-9531f1a2645c",
   "metadata": {},
   "outputs": [],
   "source": [
    "import random"
   ]
  },
  {
   "cell_type": "code",
   "execution_count": null,
   "id": "6dde914c-1197-4c16-9fd2-e94ab1f42789",
   "metadata": {},
   "outputs": [],
   "source": [
    "dir (random)"
   ]
  },
  {
   "cell_type": "code",
   "execution_count": null,
   "id": "9fac01a9-47b3-4856-b070-874d4555948f",
   "metadata": {},
   "outputs": [],
   "source": [
    "pip install --upgrade pip"
   ]
  },
  {
   "cell_type": "code",
   "execution_count": null,
   "id": "365ee06a-89aa-4171-9f28-2381dc00d58a",
   "metadata": {},
   "outputs": [],
   "source": [
    "import cv2"
   ]
  },
  {
   "cell_type": "code",
   "execution_count": null,
   "id": "baec63af-2be0-4230-9cac-b58dcfa65f98",
   "metadata": {},
   "outputs": [],
   "source": [
    "print(cv2.__version__)"
   ]
  },
  {
   "cell_type": "code",
   "execution_count": null,
   "id": "4532d25d-0b05-404e-a0e5-6bb78928eb0e",
   "metadata": {},
   "outputs": [],
   "source": [
    "import cv2"
   ]
  },
  {
   "cell_type": "code",
   "execution_count": null,
   "id": "67a788e8-8215-4e41-be49-e19563b8bcfb",
   "metadata": {},
   "outputs": [],
   "source": [
    "!pip install opencv-python"
   ]
  },
  {
   "cell_type": "code",
   "execution_count": null,
   "id": "a9f13aa7-05c1-48f7-9bb2-a8ff7ba2a53c",
   "metadata": {},
   "outputs": [],
   "source": [
    "import cv2"
   ]
  },
  {
   "cell_type": "code",
   "execution_count": null,
   "id": "ec00b7db-c4a7-44c9-8f59-d76950a31ca2",
   "metadata": {},
   "outputs": [],
   "source": [
    "pip install --upgrade pip"
   ]
  },
  {
   "cell_type": "code",
   "execution_count": null,
   "id": "a01934f7-650f-4cb3-bfed-0a910ee5ac25",
   "metadata": {},
   "outputs": [],
   "source": [
    "import cv2"
   ]
  },
  {
   "cell_type": "code",
   "execution_count": null,
   "id": "42aee8d8-ab98-4975-b4fd-c3f6c5f20532",
   "metadata": {},
   "outputs": [],
   "source": [
    "pip install --upgrade pip"
   ]
  },
  {
   "cell_type": "code",
   "execution_count": null,
   "id": "efaff840-5b08-4c16-86ac-7c35a157b869",
   "metadata": {},
   "outputs": [],
   "source": [
    "import cv2"
   ]
  },
  {
   "cell_type": "code",
   "execution_count": null,
   "id": "e5693fcd-89e8-44ab-98fb-1f9ba8576a79",
   "metadata": {},
   "outputs": [],
   "source": [
    "import cv"
   ]
  },
  {
   "cell_type": "code",
   "execution_count": null,
   "id": "47fab6a8-9dad-473a-90f2-72fbc50def5c",
   "metadata": {},
   "outputs": [],
   "source": [
    "import c"
   ]
  },
  {
   "cell_type": "code",
   "execution_count": null,
   "id": "af9036a9-a2f1-4324-9948-ac225cda1f12",
   "metadata": {},
   "outputs": [],
   "source": [
    "# Read an image\n",
    "img = cv2.imread('path/to/your/image.jpg')\n",
    "\n",
    "# Convert to grayscale\n",
    "gray = cv2.cvtColor(img, cv2.COLOR_BGR2GRAY)"
   ]
  },
  {
   "cell_type": "code",
   "execution_count": null,
   "id": "7b770650-f0b1-4291-a8e7-e1e0fc7ba06a",
   "metadata": {},
   "outputs": [],
   "source": [
    "pip install opencv-python\n"
   ]
  },
  {
   "cell_type": "code",
   "execution_count": null,
   "id": "fd8b7000-939b-456e-ad8a-9478f520ade2",
   "metadata": {},
   "outputs": [],
   "source": [
    "pip install --upgrade pip"
   ]
  },
  {
   "cell_type": "code",
   "execution_count": null,
   "id": "f987738c-9e50-44da-8dac-6083270881ad",
   "metadata": {},
   "outputs": [],
   "source": [
    "!pip install opencv-python"
   ]
  },
  {
   "cell_type": "code",
   "execution_count": null,
   "id": "2f8ca5d4-4a5c-450f-8dde-5c28c1fcbaf7",
   "metadata": {},
   "outputs": [],
   "source": [
    "import cv2"
   ]
  },
  {
   "cell_type": "code",
   "execution_count": null,
   "id": "5cfa56bf-0bcf-4c58-b4ac-407289b5e718",
   "metadata": {},
   "outputs": [],
   "source": [
    "dir (cv2)"
   ]
  },
  {
   "cell_type": "code",
   "execution_count": null,
   "id": "a51893d8-0a31-47a1-b836-21ab52e73741",
   "metadata": {},
   "outputs": [],
   "source": [
    "import cv2"
   ]
  },
  {
   "cell_type": "code",
   "execution_count": null,
   "id": "cd99de55-d3c4-41cd-9be6-2fa494d5d171",
   "metadata": {},
   "outputs": [],
   "source": [
    "dir (cv2)"
   ]
  },
  {
   "cell_type": "code",
   "execution_count": 1,
   "id": "947693fc-910c-4c2d-b3e9-10e5cef76f62",
   "metadata": {},
   "outputs": [
    {
     "ename": "NameError",
     "evalue": "name 'cv2' is not defined",
     "output_type": "error",
     "traceback": [
      "\u001b[0;31m---------------------------------------------------------------------------\u001b[0m",
      "\u001b[0;31mNameError\u001b[0m                                 Traceback (most recent call last)",
      "Cell \u001b[0;32mIn[1], line 1\u001b[0m\n\u001b[0;32m----> 1\u001b[0m \u001b[38;5;28mlen\u001b[39m(\u001b[38;5;28mdir\u001b[39m(cv2))\n",
      "\u001b[0;31mNameError\u001b[0m: name 'cv2' is not defined"
     ]
    }
   ],
   "source": [
    "len(dir(cv2))"
   ]
  },
  {
   "cell_type": "code",
   "execution_count": null,
   "id": "d48fbd4b-4747-4d60-9e0b-8a84841105e8",
   "metadata": {},
   "outputs": [],
   "source": []
  }
 ],
 "metadata": {
  "kernelspec": {
   "display_name": "Python 3 (ipykernel)",
   "language": "python",
   "name": "python3"
  },
  "language_info": {
   "codemirror_mode": {
    "name": "ipython",
    "version": 3
   },
   "file_extension": ".py",
   "mimetype": "text/x-python",
   "name": "python",
   "nbconvert_exporter": "python",
   "pygments_lexer": "ipython3",
   "version": "3.12.4"
  }
 },
 "nbformat": 4,
 "nbformat_minor": 5
}
