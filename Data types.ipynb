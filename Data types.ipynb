{
 "cells": [
  {
   "cell_type": "code",
   "execution_count": null,
   "id": "66b5dd1f-238f-4aab-baac-0f43164fdc49",
   "metadata": {},
   "outputs": [],
   "source": [
    "num = 1 \n",
    "type(num)\n"
   ]
  },
  {
   "cell_type": "markdown",
   "id": "af8f89f1-9a53-446f-8b0c-e9ad368054d1",
   "metadata": {},
   "source": [
    "# $binary$"
   ]
  },
  {
   "cell_type": "code",
   "execution_count": null,
   "id": "187dd247-1cfa-4c58-a4e3-070d533f2f29",
   "metadata": {},
   "outputs": [],
   "source": [
    "0o123"
   ]
  },
  {
   "cell_type": "markdown",
   "id": "7db63890-1307-4074-b0d2-8de687d3bf1c",
   "metadata": {},
   "source": [
    "$complex$"
   ]
  },
  {
   "cell_type": "code",
   "execution_count": null,
   "id": "9604a1aa-6110-4741-9d3e-f67620c20e93",
   "metadata": {},
   "outputs": [],
   "source": [
    "num = 10+20J\n",
    "type(num)"
   ]
  },
  {
   "cell_type": "code",
   "execution_count": null,
   "id": "a7cbbb07-e2b2-41ed-a104-a6fe65212467",
   "metadata": {},
   "outputs": [],
   "source": [
    "import complex"
   ]
  },
  {
   "cell_type": "code",
   "execution_count": null,
   "id": "bc7d2168-0226-4141-a5cd-3e79ce3671e0",
   "metadata": {},
   "outputs": [],
   "source": [
    "dir (num)"
   ]
  },
  {
   "cell_type": "code",
   "execution_count": null,
   "id": "9e73eafb-b58d-4c9c-ba6b-54c74cae7451",
   "metadata": {},
   "outputs": [],
   "source": [
    "num.real"
   ]
  },
  {
   "cell_type": "code",
   "execution_count": null,
   "id": "46ceac50-759b-42cc-b5d0-1d893e7fc0b3",
   "metadata": {},
   "outputs": [],
   "source": [
    "num.imag"
   ]
  },
  {
   "cell_type": "code",
   "execution_count": null,
   "id": "e9562794-6415-4860-ba38-e7c5c5d4ce1c",
   "metadata": {},
   "outputs": [],
   "source": [
    "import num"
   ]
  },
  {
   "cell_type": "code",
   "execution_count": null,
   "id": "a425760e-d73f-424e-88b4-e7ee0e73628c",
   "metadata": {},
   "outputs": [],
   "source": [
    "dir (num)"
   ]
  },
  {
   "cell_type": "code",
   "execution_count": null,
   "id": "dc2fb809-2713-4460-87fb-6b64f62a1eb4",
   "metadata": {},
   "outputs": [],
   "source": [
    "help(num.imag)"
   ]
  },
  {
   "cell_type": "code",
   "execution_count": null,
   "id": "495be09f-48b5-4e9a-b2f3-094f0b9e0562",
   "metadata": {},
   "outputs": [],
   "source": [
    "num.conjugate"
   ]
  },
  {
   "cell_type": "code",
   "execution_count": null,
   "id": "a7019a38-9925-4e7b-a652-382a0017c36e",
   "metadata": {},
   "outputs": [],
   "source": [
    "num.conjugate()"
   ]
  },
  {
   "cell_type": "code",
   "execution_count": null,
   "id": "90e2c1a4-6e74-43d8-b043-6ca8ee09c258",
   "metadata": {},
   "outputs": [],
   "source": [
    "complex.conjugate()"
   ]
  },
  {
   "cell_type": "code",
   "execution_count": null,
   "id": "011566fc-f4a6-44b1-bb7e-821b086f8e7e",
   "metadata": {},
   "outputs": [],
   "source": [
    "complex.conjugate(10+20j)"
   ]
  },
  {
   "cell_type": "code",
   "execution_count": null,
   "id": "f40e5b5f-169e-41df-8c4a-53b7b0394feb",
   "metadata": {},
   "outputs": [],
   "source": [
    "import random"
   ]
  },
  {
   "cell_type": "code",
   "execution_count": null,
   "id": "1ad99906-8ddf-4477-8be3-c5a2831d1a61",
   "metadata": {},
   "outputs": [],
   "source": [
    "dir(random)"
   ]
  },
  {
   "cell_type": "code",
   "execution_count": null,
   "id": "57334dba-c83a-419a-a8b8-8625c9e8a0c6",
   "metadata": {},
   "outputs": [],
   "source": [
    "random.uniform"
   ]
  },
  {
   "cell_type": "code",
   "execution_count": null,
   "id": "0c959d88-8c58-41b0-af62-be557980d578",
   "metadata": {},
   "outputs": [],
   "source": [
    "random.uniform(10,20)"
   ]
  },
  {
   "cell_type": "code",
   "execution_count": null,
   "id": "a5a54282-cb74-442b-938e-721f0f1c0e94",
   "metadata": {},
   "outputs": [],
   "source": [
    "num = 100"
   ]
  },
  {
   "cell_type": "code",
   "execution_count": null,
   "id": "35743f19-55f9-499c-b45c-ff1f285e6c05",
   "metadata": {},
   "outputs": [],
   "source": [
    "type(num)"
   ]
  },
  {
   "cell_type": "code",
   "execution_count": 1,
   "id": "f6e7aeb8-9547-4714-9de9-c17cdfdceeef",
   "metadata": {},
   "outputs": [
    {
     "ename": "NameError",
     "evalue": "name 'num' is not defined",
     "output_type": "error",
     "traceback": [
      "\u001b[0;31m---------------------------------------------------------------------------\u001b[0m",
      "\u001b[0;31mNameError\u001b[0m                                 Traceback (most recent call last)",
      "Cell \u001b[0;32mIn[1], line 1\u001b[0m\n\u001b[0;32m----> 1\u001b[0m float_num \u001b[38;5;241m=\u001b[39m \u001b[38;5;28mfloat\u001b[39m(num)\n",
      "\u001b[0;31mNameError\u001b[0m: name 'num' is not defined"
     ]
    }
   ],
   "source": [
    "float_num = float(num)"
   ]
  },
  {
   "cell_type": "code",
   "execution_count": null,
   "id": "197f6b88-3432-4cab-882e-5807f2c56818",
   "metadata": {},
   "outputs": [],
   "source": [
    "type(num)"
   ]
  },
  {
   "cell_type": "code",
   "execution_count": null,
   "id": "b378fcc6-c1e2-4011-b6b0-fdeccfbe5d2d",
   "metadata": {},
   "outputs": [],
   "source": [
    "type(float_num)"
   ]
  },
  {
   "cell_type": "code",
   "execution_count": null,
   "id": "3d6fa2c6-0b26-4cf3-9a5f-6b089def81aa",
   "metadata": {},
   "outputs": [],
   "source": [
    "num = 1000"
   ]
  },
  {
   "cell_type": "code",
   "execution_count": null,
   "id": "254e35c6-b1b1-4ae8-aef5-72f010aeb523",
   "metadata": {},
   "outputs": [],
   "source": [
    "dec(num)"
   ]
  },
  {
   "cell_type": "code",
   "execution_count": null,
   "id": "59d58b66-3b2f-4ee7-b928-ed1c5a72b278",
   "metadata": {},
   "outputs": [],
   "source": [
    "binary_num = bin (num)"
   ]
  },
  {
   "cell_type": "code",
   "execution_count": null,
   "id": "fa02ffdc-1c60-489c-b98d-83adefbd4cd7",
   "metadata": {},
   "outputs": [],
   "source": [
    "type(binary_num)"
   ]
  },
  {
   "cell_type": "code",
   "execution_count": null,
   "id": "28a4b02f-2ef0-402b-9476-9e6cddc48169",
   "metadata": {},
   "outputs": [],
   "source": [
    "int = 100"
   ]
  },
  {
   "cell_type": "code",
   "execution_count": 2,
   "id": "f7e976d1-41d9-4092-bdb9-80cba3cf8f3b",
   "metadata": {},
   "outputs": [
    {
     "data": {
      "text/plain": [
       "int"
      ]
     },
     "execution_count": 2,
     "metadata": {},
     "output_type": "execute_result"
    }
   ],
   "source": [
    "type(100)"
   ]
  },
  {
   "cell_type": "code",
   "execution_count": null,
   "id": "b9dd823e-221e-471f-af16-b013d27516ee",
   "metadata": {},
   "outputs": [],
   "source": [
    "str(num)"
   ]
  },
  {
   "cell_type": "code",
   "execution_count": null,
   "id": "65e35421-32f5-4a2c-9a39-8b4d7087794a",
   "metadata": {},
   "outputs": [],
   "source": [
    "num = 100"
   ]
  },
  {
   "cell_type": "code",
   "execution_count": 5,
   "id": "31ef548f-7480-40eb-986b-9217a6610e0d",
   "metadata": {},
   "outputs": [
    {
     "data": {
      "text/plain": [
       "'100'"
      ]
     },
     "execution_count": 5,
     "metadata": {},
     "output_type": "execute_result"
    }
   ],
   "source": [
    "num = 100\n",
    "str(num)"
   ]
  },
  {
   "cell_type": "code",
   "execution_count": null,
   "id": "0b05fca0-b909-4106-9b98-17950f3a349a",
   "metadata": {},
   "outputs": [],
   "source": [
    "bin(num)"
   ]
  },
  {
   "cell_type": "code",
   "execution_count": null,
   "id": "7e706028-d61f-4990-adde-6a9318001f00",
   "metadata": {},
   "outputs": [],
   "source": [
    "dec(100)"
   ]
  },
  {
   "cell_type": "code",
   "execution_count": null,
   "id": "ef8313ee-385f-4158-91ce-1b96567c030b",
   "metadata": {},
   "outputs": [],
   "source": [
    "bool(num)"
   ]
  },
  {
   "cell_type": "code",
   "execution_count": null,
   "id": "16044be8-0a0d-4b69-8701-7afdaa850bb7",
   "metadata": {},
   "outputs": [],
   "source": [
    "a=22/9"
   ]
  },
  {
   "cell_type": "code",
   "execution_count": null,
   "id": "14a2f971-e8ff-4663-be24-65a6c250ebec",
   "metadata": {},
   "outputs": [],
   "source": [
    "\n",
    "a=22/9\n",
    "type(a)"
   ]
  },
  {
   "cell_type": "code",
   "execution_count": null,
   "id": "c74c8ec5-dac8-435d-8d2a-aa4baa40f69b",
   "metadata": {},
   "outputs": [],
   "source": [
    "num = 100\n",
    "complex(num)"
   ]
  },
  {
   "cell_type": "code",
   "execution_count": null,
   "id": "969c433b-a145-4e25-83a8-422191c326e9",
   "metadata": {},
   "outputs": [],
   "source": [
    "complex(100,200)"
   ]
  },
  {
   "cell_type": "code",
   "execution_count": null,
   "id": "c8ae7a2c-4fc5-4967-8f5b-2a6fbc7442a8",
   "metadata": {},
   "outputs": [],
   "source": [
    "complex(0)"
   ]
  },
  {
   "cell_type": "markdown",
   "id": "5bd21139-adb2-43d9-ab91-a30630298541",
   "metadata": {},
   "source": [
    "$complex$"
   ]
  },
  {
   "cell_type": "code",
   "execution_count": null,
   "id": "bc97690e-9ed9-4c1e-a8ff-192c51bb693e",
   "metadata": {},
   "outputs": [],
   "source": [
    "100e3"
   ]
  },
  {
   "cell_type": "code",
   "execution_count": null,
   "id": "e9d625bf-0bfa-4013-ae4c-646b679f4c7e",
   "metadata": {},
   "outputs": [],
   "source": [
    "type(10e4)"
   ]
  },
  {
   "cell_type": "code",
   "execution_count": null,
   "id": "330d9022-bf5c-4eca-bb33-36c3ef3c9b9c",
   "metadata": {},
   "outputs": [],
   "source": [
    "10e8"
   ]
  },
  {
   "cell_type": "code",
   "execution_count": null,
   "id": "949fe477-cf0e-40f2-96f2-cc42e11f8908",
   "metadata": {},
   "outputs": [],
   "source": [
    "100e9"
   ]
  },
  {
   "cell_type": "code",
   "execution_count": null,
   "id": "858aa5af-042b-4b91-bce3-f9e22967dfc7",
   "metadata": {},
   "outputs": [],
   "source": [
    "10e20"
   ]
  },
  {
   "cell_type": "code",
   "execution_count": null,
   "id": "df15d44b-460e-4abf-850a-db6ceace04a9",
   "metadata": {},
   "outputs": [],
   "source": [
    "10e20"
   ]
  },
  {
   "cell_type": "code",
   "execution_count": null,
   "id": "cb22123a-a028-483a-9eab-47674e9b171e",
   "metadata": {},
   "outputs": [],
   "source": [
    "type(1e+21)"
   ]
  },
  {
   "cell_type": "code",
   "execution_count": null,
   "id": "9d1126f9-5c02-40aa-b2e7-a366477a24eb",
   "metadata": {},
   "outputs": [],
   "source": [
    "1e4"
   ]
  },
  {
   "cell_type": "code",
   "execution_count": null,
   "id": "33db42cf-a631-4155-b472-e4fd7fa490b1",
   "metadata": {},
   "outputs": [],
   "source": [
    "0_e4"
   ]
  },
  {
   "cell_type": "code",
   "execution_count": null,
   "id": "4a4d32b6-fd2a-4e47-ac9e-08ff5ebe3a77",
   "metadata": {},
   "outputs": [],
   "source": [
    "1000000000000000000000000000000000000000000000000000000000000000000000000000000000"
   ]
  },
  {
   "cell_type": "code",
   "execution_count": null,
   "id": "a65599a6-c0be-4c54-a4a3-3697a59ba241",
   "metadata": {},
   "outputs": [],
   "source": [
    "type(1000000000000000000000000000000000000000000000000000000000000000000000000000000000)"
   ]
  },
  {
   "cell_type": "code",
   "execution_count": null,
   "id": "081570b1-0555-4cee-b560-bee223fdae49",
   "metadata": {},
   "outputs": [],
   "source": [
    "1e-10"
   ]
  },
  {
   "cell_type": "code",
   "execution_count": null,
   "id": "5db14be8-cfe0-43db-8b24-fd93a996a155",
   "metadata": {},
   "outputs": [],
   "source": [
    "1.0000000000000e-4"
   ]
  },
  {
   "cell_type": "code",
   "execution_count": 1,
   "id": "21b8551c-3ac9-4c36-89cf-5b4963fdac39",
   "metadata": {},
   "outputs": [
    {
     "name": "stdout",
     "output_type": "stream",
     "text": [
      "hello   hai\n"
     ]
    }
   ],
   "source": [
    "print  ('hello',  end=\"   \")\n",
    "print ('hai')\n"
   ]
  },
  {
   "cell_type": "code",
   "execution_count": 2,
   "id": "05661a52-82e3-4d19-827b-c6ce523c2682",
   "metadata": {},
   "outputs": [
    {
     "name": "stdout",
     "output_type": "stream",
     "text": [
      "10056\n"
     ]
    }
   ],
   "source": [
    "print (100, end=\"\")\n",
    "print (56)"
   ]
  },
  {
   "cell_type": "code",
   "execution_count": null,
   "id": "3cd61492-38be-4405-a1da-0985aa36fc03",
   "metadata": {},
   "outputs": [],
   "source": [
    "\"\"\"\n",
    "i have a book it contains lot of data  \n",
    "and it also have a lot of pictures to see \n",
    "the book was so good the poetry was also so amazing\"\"\""
   ]
  },
  {
   "cell_type": "code",
   "execution_count": 7,
   "id": "0efda020-dda4-402d-a286-114a615f95fa",
   "metadata": {},
   "outputs": [
    {
     "ename": "ValueError",
     "evalue": "invalid literal for int() with base 10: '100.5'",
     "output_type": "error",
     "traceback": [
      "\u001b[0;31m---------------------------------------------------------------------------\u001b[0m",
      "\u001b[0;31mValueError\u001b[0m                                Traceback (most recent call last)",
      "Cell \u001b[0;32mIn[7], line 2\u001b[0m\n\u001b[1;32m      1\u001b[0m \u001b[38;5;28mint\u001b[39m (\u001b[38;5;124m'\u001b[39m\u001b[38;5;124m100\u001b[39m\u001b[38;5;124m'\u001b[39m) \u001b[38;5;66;03m#100\u001b[39;00m\n\u001b[0;32m----> 2\u001b[0m \u001b[38;5;28mint\u001b[39m (\u001b[38;5;124m'\u001b[39m\u001b[38;5;124m100.5\u001b[39m\u001b[38;5;124m'\u001b[39m)\n",
      "\u001b[0;31mValueError\u001b[0m: invalid literal for int() with base 10: '100.5'"
     ]
    }
   ],
   "source": [
    "int ('100') #100\n",
    "int ('100.5') #false\n",
    "     \n",
    "     "
   ]
  },
  {
   "cell_type": "code",
   "execution_count": null,
   "id": "687418f7-6b02-4192-841f-f21c03e14d3e",
   "metadata": {},
   "outputs": [],
   "source": [
    "bool ('100')t\n",
    "bool('100.5')t\n",
    "bool ('python')t\n",
    "bool('')f"
   ]
  },
  {
   "cell_type": "code",
   "execution_count": null,
   "id": "d9db4e83-f3b6-4c5b-a317-65824d405f46",
   "metadata": {},
   "outputs": [],
   "source": [
    "val = 100+200JK\n",
    "int (val)false\n",
    "float (val)false\n",
    "bool(val)true\n",
    "str(val)true"
   ]
  },
  {
   "cell_type": "code",
   "execution_count": 1,
   "id": "e0b20721-11c3-4efb-acca-6ff05f2fcf4c",
   "metadata": {},
   "outputs": [
    {
     "ename": "SyntaxError",
     "evalue": "invalid syntax (1671857022.py, line 2)",
     "output_type": "error",
     "traceback": [
      "\u001b[0;36m  Cell \u001b[0;32mIn[1], line 2\u001b[0;36m\u001b[0m\n\u001b[0;31m    int (val) 1\u001b[0m\n\u001b[0m              ^\u001b[0m\n\u001b[0;31mSyntaxError\u001b[0m\u001b[0;31m:\u001b[0m invalid syntax\n"
     ]
    }
   ],
   "source": [
    "val = true\n",
    "int (val) 1\n",
    "str(val) true\n",
    "float(val) 1.0\n",
    "bool(val)true\n",
    "complex(val)1+0j"
   ]
  },
  {
   "cell_type": "code",
   "execution_count": 1,
   "id": "ab5529d1-c25a-4fcc-b31b-fd5d62ab2531",
   "metadata": {},
   "outputs": [
    {
     "ename": "SyntaxError",
     "evalue": "invalid syntax (2353920462.py, line 2)",
     "output_type": "error",
     "traceback": [
      "\u001b[0;36m  Cell \u001b[0;32mIn[1], line 2\u001b[0;36m\u001b[0m\n\u001b[0;31m    int (val) 0\u001b[0m\n\u001b[0m              ^\u001b[0m\n\u001b[0;31mSyntaxError\u001b[0m\u001b[0;31m:\u001b[0m invalid syntax\n"
     ]
    }
   ],
   "source": [
    "val = false\n",
    "int (val) 0 \n",
    "str(val)0\n",
    "float(val)0\n",
    "bool(val)false\n",
    "complex(val)0j"
   ]
  },
  {
   "cell_type": "code",
   "execution_count": 3,
   "id": "17889d95-d76f-44ea-8f2b-faade27b3b8f",
   "metadata": {},
   "outputs": [
    {
     "name": "stdin",
     "output_type": "stream",
     "text": [
      "enter name 22\n",
      "enter age sss\n"
     ]
    },
    {
     "ename": "ValueError",
     "evalue": "invalid literal for int() with base 10: 'sss'",
     "output_type": "error",
     "traceback": [
      "\u001b[0;31m---------------------------------------------------------------------------\u001b[0m",
      "\u001b[0;31mValueError\u001b[0m                                Traceback (most recent call last)",
      "Cell \u001b[0;32mIn[3], line 2\u001b[0m\n\u001b[1;32m      1\u001b[0m name \u001b[38;5;241m=\u001b[39m \u001b[38;5;28minput\u001b[39m(\u001b[38;5;124m\"\u001b[39m\u001b[38;5;124menter name\u001b[39m\u001b[38;5;124m\"\u001b[39m)\n\u001b[0;32m----> 2\u001b[0m age \u001b[38;5;241m=\u001b[39m \u001b[38;5;28mint\u001b[39m(\u001b[38;5;28minput\u001b[39m(\u001b[38;5;124m\"\u001b[39m\u001b[38;5;124menter age\u001b[39m\u001b[38;5;124m\"\u001b[39m))\n\u001b[1;32m      3\u001b[0m address \u001b[38;5;241m=\u001b[39m\u001b[38;5;28minput\u001b[39m(\u001b[38;5;124m\"\u001b[39m\u001b[38;5;124menter adreess\u001b[39m\u001b[38;5;124m\"\u001b[39m)\n",
      "\u001b[0;31mValueError\u001b[0m: invalid literal for int() with base 10: 'sss'"
     ]
    }
   ],
   "source": [
    "name = input(\"enter name\")\n",
    "age = int(input(\"enter age\"))\n",
    "address =input(\"enter adreess\")"
   ]
  },
  {
   "cell_type": "code",
   "execution_count": 6,
   "id": "22f0f713-01ed-47e4-9aee-b674921b8618",
   "metadata": {},
   "outputs": [
    {
     "name": "stdin",
     "output_type": "stream",
     "text": [
      "enter name vijaya\n",
      "enter age 24\n",
      "enter adreess mtm\n"
     ]
    }
   ],
   "source": [
    "name = input(\" \")\n",
    "age = int(input(\" \"))\n",
    "address =input(\" \")"
   ]
  },
  {
   "cell_type": "code",
   "execution_count": 5,
   "id": "054b9ff9-ec01-4664-82d1-87ca0d396931",
   "metadata": {},
   "outputs": [
    {
     "name": "stdin",
     "output_type": "stream",
     "text": [
      "enter n1 100\n",
      "enter n2 200\n",
      "enter n3 300\n"
     ]
    },
    {
     "data": {
      "text/plain": [
       "200.0"
      ]
     },
     "execution_count": 5,
     "metadata": {},
     "output_type": "execute_result"
    }
   ],
   "source": [
    "n1 = eval(input(\"enter n1\"))\n",
    "n2 = eval(input('enter n2'))\n",
    "n3 = eval(input(\"enter n3\"))\n",
    "n4 = ((n1+n2+n3)/3)\n",
    "n4"
   ]
  },
  {
   "cell_type": "code",
   "execution_count": null,
   "id": "1be91367-26f9-4666-9ce5-2169108469d4",
   "metadata": {},
   "outputs": [],
   "source": []
  }
 ],
 "metadata": {
  "kernelspec": {
   "display_name": "Python 3 (ipykernel)",
   "language": "python",
   "name": "python3"
  },
  "language_info": {
   "codemirror_mode": {
    "name": "ipython",
    "version": 3
   },
   "file_extension": ".py",
   "mimetype": "text/x-python",
   "name": "python",
   "nbconvert_exporter": "python",
   "pygments_lexer": "ipython3",
   "version": "3.12.4"
  }
 },
 "nbformat": 4,
 "nbformat_minor": 5
}
