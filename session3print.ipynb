{
 "cells": [
  {
   "cell_type": "code",
   "execution_count": 13,
   "id": "7aac36e6-c4ca-4f00-bbfa-bf62cfb25644",
   "metadata": {},
   "outputs": [
    {
     "name": "stdout",
     "output_type": "stream",
     "text": [
      "the value of a and b is c\n"
     ]
    }
   ],
   "source": [
    "a=10\n",
    "b=20        \n",
    "c=a+b\n",
    "c\n",
    "print (\"the value of a and b is c\")"
   ]
  },
  {
   "cell_type": "code",
   "execution_count": 15,
   "id": "b5982b8c-6526-4f83-9f04-bf152d925249",
   "metadata": {},
   "outputs": [
    {
     "name": "stdout",
     "output_type": "stream",
     "text": [
      "hello\n",
      "python\n"
     ]
    }
   ],
   "source": [
    "print ('hello')\n",
    "print('python')"
   ]
  },
  {
   "cell_type": "code",
   "execution_count": 22,
   "id": "dd3798c4-4ea9-4f40-84fd-9aba590a8856",
   "metadata": {},
   "outputs": [
    {
     "name": "stdout",
     "output_type": "stream",
     "text": [
      "my name is nobitha my age is 20\n"
     ]
    }
   ],
   "source": [
    "name = \"nobitha\"\n",
    "age =  20\n",
    "print(\"my name is\",name, \"my age is\" ,age)\n"
   ]
  },
  {
   "cell_type": "code",
   "execution_count": 27,
   "id": "1c907ec4-ade3-46a1-adab-3b6190edc752",
   "metadata": {},
   "outputs": [
    {
     "name": "stdout",
     "output_type": "stream",
     "text": [
      "the value of a is 20 and b is 30\n"
     ]
    }
   ],
   "source": [
    "a = 20\n",
    "b = 30\n",
    "c\n",
    "print (f\"the value of a is {a} and b is {b}\")"
   ]
  },
  {
   "cell_type": "code",
   "execution_count": 42,
   "id": "c6840b7e-8afb-453a-b372-f46a1b1e3033",
   "metadata": {},
   "outputs": [
    {
     "name": "stdout",
     "output_type": "stream",
     "text": [
      "my name isnobitha my age is20\n"
     ]
    }
   ],
   "source": [
    "name = \"nobitha\"\n",
    "age =  20\n",
    "print(f\"my name is {name} my age is{age}\")\n"
   ]
  },
  {
   "cell_type": "code",
   "execution_count": 4,
   "id": "bfbfe60c-a710-45c4-94d3-381c8ea78f59",
   "metadata": {},
   "outputs": [
    {
     "name": "stdout",
     "output_type": "stream",
     "text": [
      "hello python\n"
     ]
    }
   ],
   "source": [
    "print ('hello', end=\" \")\n",
    "print('python')    "
   ]
  },
  {
   "cell_type": "code",
   "execution_count": 46,
   "id": "0b610562-a559-40a1-834c-88118ac9c28f",
   "metadata": {},
   "outputs": [
    {
     "ename": "SyntaxError",
     "evalue": "invalid syntax (1450935892.py, line 1)",
     "output_type": "error",
     "traceback": [
      "\u001b[0;36m  Cell \u001b[0;32mIn[46], line 1\u001b[0;36m\u001b[0m\n\u001b[0;31m    $end$\u001b[0m\n\u001b[0m    ^\u001b[0m\n\u001b[0;31mSyntaxError\u001b[0m\u001b[0;31m:\u001b[0m invalid syntax\n"
     ]
    }
   ],
   "source": []
  },
  {
   "cell_type": "code",
   "execution_count": 57,
   "id": "cc5371f3-7972-43f5-aa8f-0314655358c8",
   "metadata": {},
   "outputs": [
    {
     "name": "stdout",
     "output_type": "stream",
     "text": [
      "10 0 10\n"
     ]
    }
   ],
   "source": [
    "\n",
    "print (10, end=\" \")\n",
    "print (0, end = \" \")\n",
    "print (10)"
   ]
  },
  {
   "cell_type": "code",
   "execution_count": null,
   "id": "f336c055-c46a-4ac4-a820-eb3bb945e59c",
   "metadata": {},
   "outputs": [],
   "source": [
    "#printing formattind and end "
   ]
  }
 ],
 "metadata": {
  "kernelspec": {
   "display_name": "Python 3 (ipykernel)",
   "language": "python",
   "name": "python3"
  },
  "language_info": {
   "codemirror_mode": {
    "name": "ipython",
    "version": 3
   },
   "file_extension": ".py",
   "mimetype": "text/x-python",
   "name": "python",
   "nbconvert_exporter": "python",
   "pygments_lexer": "ipython3",
   "version": "3.12.4"
  }
 },
 "nbformat": 4,
 "nbformat_minor": 5
}
