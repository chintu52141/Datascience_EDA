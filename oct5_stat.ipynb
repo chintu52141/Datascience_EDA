{
 "cells": [
  {
   "cell_type": "code",
   "execution_count": null,
   "id": "e2f46881-4c70-4a17-9a07-98f27e2c9105",
   "metadata": {},
   "outputs": [],
   "source": [
    "part1_statistics======EDA\n",
    "part2===\n",
    "1.types of samples\n",
    "2.parameter vs statistic\n",
    "3.point estimates\n",
    "4.interval estimates\n",
    "5.centeral limit theoream\n",
    "6.standard error\n",
    "7.confidence interval\n",
    "8.90-95-99 rule\n",
    "9.hypothesis testing\n",
    "10.z_test\n",
    "11.t-test\n",
    "12.f-test\n",
    "13.chi square test\n",
    "14.ANOVA"
   ]
  }
 ],
 "metadata": {
  "kernelspec": {
   "display_name": "Python 3 (ipykernel)",
   "language": "python",
   "name": "python3"
  },
  "language_info": {
   "codemirror_mode": {
    "name": "ipython",
    "version": 3
   },
   "file_extension": ".py",
   "mimetype": "text/x-python",
   "name": "python",
   "nbconvert_exporter": "python",
   "pygments_lexer": "ipython3",
   "version": "3.12.4"
  }
 },
 "nbformat": 4,
 "nbformat_minor": 5
}
