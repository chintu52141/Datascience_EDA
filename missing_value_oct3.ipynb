{
 "cells": [
  {
   "cell_type": "code",
   "execution_count": 2,
   "id": "587f7b69-0463-4c34-a3d4-5cf152900158",
   "metadata": {},
   "outputs": [],
   "source": [
    "import pandas as pd\n",
    "import numpy as np\n",
    "import matplotlib.pyplot as plt\n",
    "import seaborn as sns\n",
    "import sklearn "
   ]
  },
  {
   "cell_type": "code",
   "execution_count": null,
   "id": "9e66b343-dee6-45e1-b170-de36b56696fc",
   "metadata": {},
   "outputs": [],
   "source": [
    "dict1={'names':['ram','sam','deep'],\n",
    "      'age':[np.nan,2,3],\n",
    "      'city':['hyd',np.nan,'ee']}#none also works instead of nan\n",
    "d1=pd.DataFrame(dict1)\n",
    "d1.isnull().sum()\n",
    "d1.to_csv('d1.csv')\n"
   ]
  },
  {
   "cell_type": "code",
   "execution_count": null,
   "id": "0c90a134-c1e6-44e0-8ded-cf4f70179f7c",
   "metadata": {},
   "outputs": [],
   "source": [
    "d1.fillna(41,inplace=True)"
   ]
  },
  {
   "cell_type": "code",
   "execution_count": null,
   "id": "9933795d-6532-4381-8100-90ee42118c10",
   "metadata": {},
   "outputs": [],
   "source": [
    "d1.dtypes"
   ]
  },
  {
   "cell_type": "code",
   "execution_count": null,
   "id": "e3b50249-094b-4150-bdf1-d3e9cf870b2d",
   "metadata": {},
   "outputs": [],
   "source": [
    "dict2={'names':['ram','sam','deep'],\n",
    "      'age':[np.nan,2,3],\n",
    "      'city':['hyd',np.nan,'ee']}\n",
    "d2=pd.DataFrame(dict1)\n",
    "d2['age'].fillna(91,inplace=True)\n",
    "d2"
   ]
  },
  {
   "cell_type": "code",
   "execution_count": null,
   "id": "8af2092a-e458-4b7d-b22d-43861fc01a13",
   "metadata": {},
   "outputs": [],
   "source": [
    "dict9={'names':['ram','sam','deep'],\n",
    "      'age':[np.nan,2,3],\n",
    "      'city':['hyd',np.nan,'ee']}\n",
    "d9=pd.DataFrame(dict9)\n",
    "m1=d9['age'].mean()\n",
    "d9['age'].fillna(m1,inplace=True)\n",
    "d9"
   ]
  },
  {
   "cell_type": "code",
   "execution_count": 3,
   "id": "93918b1e-d125-4e60-bd22-e2f24a8e7220",
   "metadata": {},
   "outputs": [
    {
     "name": "stderr",
     "output_type": "stream",
     "text": [
      "/var/folders/pk/3249rbnn3_n7kvqfdkjfw8sm0000gp/T/ipykernel_99888/4110707978.py:6: FutureWarning: A value is trying to be set on a copy of a DataFrame or Series through chained assignment using an inplace method.\n",
      "The behavior will change in pandas 3.0. This inplace method will never work because the intermediate object on which we are setting values always behaves as a copy.\n",
      "\n",
      "For example, when doing 'df[col].method(value, inplace=True)', try using 'df.method({col: value}, inplace=True)' or df[col] = df[col].method(value) instead, to perform the operation inplace on the original object.\n",
      "\n",
      "\n",
      "  a1['age'].fillna(m1,inplace=True)\n"
     ]
    },
    {
     "data": {
      "text/html": [
       "<div>\n",
       "<style scoped>\n",
       "    .dataframe tbody tr th:only-of-type {\n",
       "        vertical-align: middle;\n",
       "    }\n",
       "\n",
       "    .dataframe tbody tr th {\n",
       "        vertical-align: top;\n",
       "    }\n",
       "\n",
       "    .dataframe thead th {\n",
       "        text-align: right;\n",
       "    }\n",
       "</style>\n",
       "<table border=\"1\" class=\"dataframe\">\n",
       "  <thead>\n",
       "    <tr style=\"text-align: right;\">\n",
       "      <th></th>\n",
       "      <th>names</th>\n",
       "      <th>age</th>\n",
       "      <th>city</th>\n",
       "    </tr>\n",
       "  </thead>\n",
       "  <tbody>\n",
       "    <tr>\n",
       "      <th>0</th>\n",
       "      <td>ram</td>\n",
       "      <td>2.5</td>\n",
       "      <td>hyd</td>\n",
       "    </tr>\n",
       "    <tr>\n",
       "      <th>1</th>\n",
       "      <td>sam</td>\n",
       "      <td>2.0</td>\n",
       "      <td>NaN</td>\n",
       "    </tr>\n",
       "    <tr>\n",
       "      <th>2</th>\n",
       "      <td>deep</td>\n",
       "      <td>3.0</td>\n",
       "      <td>ee</td>\n",
       "    </tr>\n",
       "  </tbody>\n",
       "</table>\n",
       "</div>"
      ],
      "text/plain": [
       "  names  age city\n",
       "0   ram  2.5  hyd\n",
       "1   sam  2.0  NaN\n",
       "2  deep  3.0   ee"
      ]
     },
     "execution_count": 3,
     "metadata": {},
     "output_type": "execute_result"
    }
   ],
   "source": [
    "d1={'names':['ram','sam','deep'],\n",
    "      'age':[np.nan,2,3],\n",
    "      'city':['hyd',np.nan,'ee']}\n",
    "a1=pd.DataFrame(d1)\n",
    "m1=a1['age'].median()\n",
    "a1['age'].fillna(m1,inplace=True)\n",
    "a1"
   ]
  },
  {
   "cell_type": "code",
   "execution_count": 27,
   "id": "1a5fff79-16ba-4660-81d5-024931928e36",
   "metadata": {},
   "outputs": [
    {
     "data": {
      "text/html": [
       "<div>\n",
       "<style scoped>\n",
       "    .dataframe tbody tr th:only-of-type {\n",
       "        vertical-align: middle;\n",
       "    }\n",
       "\n",
       "    .dataframe tbody tr th {\n",
       "        vertical-align: top;\n",
       "    }\n",
       "\n",
       "    .dataframe thead th {\n",
       "        text-align: right;\n",
       "    }\n",
       "</style>\n",
       "<table border=\"1\" class=\"dataframe\">\n",
       "  <thead>\n",
       "    <tr style=\"text-align: right;\">\n",
       "      <th></th>\n",
       "      <th>names</th>\n",
       "      <th>age</th>\n",
       "      <th>city</th>\n",
       "    </tr>\n",
       "  </thead>\n",
       "  <tbody>\n",
       "    <tr>\n",
       "      <th>0</th>\n",
       "      <td>ram</td>\n",
       "      <td>hyd</td>\n",
       "      <td>hyd</td>\n",
       "    </tr>\n",
       "    <tr>\n",
       "      <th>1</th>\n",
       "      <td>sam</td>\n",
       "      <td>2.0</td>\n",
       "      <td>NaN</td>\n",
       "    </tr>\n",
       "    <tr>\n",
       "      <th>2</th>\n",
       "      <td>deep</td>\n",
       "      <td>3.0</td>\n",
       "      <td>ee</td>\n",
       "    </tr>\n",
       "  </tbody>\n",
       "</table>\n",
       "</div>"
      ],
      "text/plain": [
       "  names  age city\n",
       "0   ram  hyd  hyd\n",
       "1   sam  2.0  NaN\n",
       "2  deep  3.0   ee"
      ]
     },
     "execution_count": 27,
     "metadata": {},
     "output_type": "execute_result"
    }
   ],
   "source": [
    "dict9={'names':['ram','sam','deep'],\n",
    "      'age':[np.nan,2,3],\n",
    "      'city':['hyd',np.nan,'ee']}\n",
    "d1=pd.DataFrame(dict9)\n",
    "d1.bfill(axis=1)\n",
    "\n"
   ]
  },
  {
   "cell_type": "code",
   "execution_count": null,
   "id": "a249fe62-0e27-4fb2-a473-df9fb50bea83",
   "metadata": {},
   "outputs": [],
   "source": [
    "pad\n",
    "bfill\n",
    "ffill\n"
   ]
  },
  {
   "cell_type": "code",
   "execution_count": 30,
   "id": "3ec9b423-eeed-4523-bc11-7106f5b5a79c",
   "metadata": {},
   "outputs": [
    {
     "name": "stdout",
     "output_type": "stream",
     "text": [
      "10 sept.ipynb                      exceptional_handling.ipynb\n",
      "11th aug.ipynb                     exe2.ipynb\n",
      "12th aug_lambda.ipynb              execrcise.ipynb\n",
      "12thaug11.ipynb                    hello.py\n",
      "13th aug.ipynb                     histogram.ipynb\n",
      "14th aug.ipynb                     indexofbook.ipynb\n",
      "22aug_ml.ipynb                     loan_prdictions.ipynb\n",
      "24thaug.ipynb                      loop.ipynb\n",
      "25thaug.ipynb                      missing_value_oct3.ipynb\n",
      "26th sept.ipynb                    \u001b[1m\u001b[36mmy_files_ml\u001b[m\u001b[m/\n",
      "3rd aug.ipynb                      new.py\n",
      "4thsep.ipynb                       new1\n",
      "6th aug.ipynb                      num_def.csv\n",
      "6thaug_imp.ipynb                   operations.ipynb\n",
      "7th aug.ipynb                      outliers.ipynb\n",
      "Data types.ipynb                   output.csv\n",
      "EasyVisa.csv                       preparation.ipynb\n",
      "ML-cls1.ipynb                      sept 25.ipynb\n",
      "ML.ipynb                           sept 27th standard and norm.ipynb\n",
      "Untitled.ipynb                     sept 28 data transformation.ipynb\n",
      "aug23_cat_anlalysy.ipynb           session. 4.ipynb\n",
      "aug8.ipynb                         session1.ipynb\n",
      "bank.csv                           session2 variables.ipynb\n",
      "cont_csv                           session3print.ipynb\n",
      "cont_pic.png                       string_examples.ipynb\n",
      "dummy.txt                          test_lAUu6dG.csv\n",
      "even_odd.py                        wine.csv\n",
      "example.ipynb                      \u001b[1m\u001b[36mworks\u001b[m\u001b[m/\n"
     ]
    }
   ],
   "source": [
    "ls ml"
   ]
  },
  {
   "cell_type": "code",
   "execution_count": 3,
   "id": "7bcaee2c-d487-4c15-bd2e-3da4f34dbc26",
   "metadata": {},
   "outputs": [
    {
     "data": {
      "text/html": [
       "<div>\n",
       "<style scoped>\n",
       "    .dataframe tbody tr th:only-of-type {\n",
       "        vertical-align: middle;\n",
       "    }\n",
       "\n",
       "    .dataframe tbody tr th {\n",
       "        vertical-align: top;\n",
       "    }\n",
       "\n",
       "    .dataframe thead th {\n",
       "        text-align: right;\n",
       "    }\n",
       "</style>\n",
       "<table border=\"1\" class=\"dataframe\">\n",
       "  <thead>\n",
       "    <tr style=\"text-align: right;\">\n",
       "      <th></th>\n",
       "      <th>case_id</th>\n",
       "      <th>continent</th>\n",
       "      <th>education_of_employee</th>\n",
       "      <th>has_job_experience</th>\n",
       "      <th>requires_job_training</th>\n",
       "      <th>no_of_employees</th>\n",
       "      <th>yr_of_estab</th>\n",
       "      <th>region_of_employment</th>\n",
       "      <th>prevailing_wage</th>\n",
       "      <th>unit_of_wage</th>\n",
       "      <th>full_time_position</th>\n",
       "      <th>case_status</th>\n",
       "    </tr>\n",
       "  </thead>\n",
       "  <tbody>\n",
       "    <tr>\n",
       "      <th>0</th>\n",
       "      <td>EZYV01</td>\n",
       "      <td>Asia</td>\n",
       "      <td>High School</td>\n",
       "      <td>N</td>\n",
       "      <td>N</td>\n",
       "      <td>14513</td>\n",
       "      <td>2007</td>\n",
       "      <td>West</td>\n",
       "      <td>592.2029</td>\n",
       "      <td>Hour</td>\n",
       "      <td>Y</td>\n",
       "      <td>Denied</td>\n",
       "    </tr>\n",
       "    <tr>\n",
       "      <th>1</th>\n",
       "      <td>EZYV02</td>\n",
       "      <td>Asia</td>\n",
       "      <td>Master's</td>\n",
       "      <td>Y</td>\n",
       "      <td>N</td>\n",
       "      <td>2412</td>\n",
       "      <td>2002</td>\n",
       "      <td>Northeast</td>\n",
       "      <td>83425.6500</td>\n",
       "      <td>Year</td>\n",
       "      <td>Y</td>\n",
       "      <td>Certified</td>\n",
       "    </tr>\n",
       "    <tr>\n",
       "      <th>2</th>\n",
       "      <td>EZYV03</td>\n",
       "      <td>Asia</td>\n",
       "      <td>Bachelor's</td>\n",
       "      <td>N</td>\n",
       "      <td>Y</td>\n",
       "      <td>44444</td>\n",
       "      <td>2008</td>\n",
       "      <td>West</td>\n",
       "      <td>122996.8600</td>\n",
       "      <td>Year</td>\n",
       "      <td>Y</td>\n",
       "      <td>Denied</td>\n",
       "    </tr>\n",
       "    <tr>\n",
       "      <th>3</th>\n",
       "      <td>EZYV04</td>\n",
       "      <td>Asia</td>\n",
       "      <td>Bachelor's</td>\n",
       "      <td>N</td>\n",
       "      <td>N</td>\n",
       "      <td>98</td>\n",
       "      <td>1897</td>\n",
       "      <td>West</td>\n",
       "      <td>83434.0300</td>\n",
       "      <td>Year</td>\n",
       "      <td>Y</td>\n",
       "      <td>Denied</td>\n",
       "    </tr>\n",
       "    <tr>\n",
       "      <th>4</th>\n",
       "      <td>EZYV05</td>\n",
       "      <td>Africa</td>\n",
       "      <td>Master's</td>\n",
       "      <td>Y</td>\n",
       "      <td>N</td>\n",
       "      <td>1082</td>\n",
       "      <td>2005</td>\n",
       "      <td>South</td>\n",
       "      <td>149907.3900</td>\n",
       "      <td>Year</td>\n",
       "      <td>Y</td>\n",
       "      <td>Certified</td>\n",
       "    </tr>\n",
       "  </tbody>\n",
       "</table>\n",
       "</div>"
      ],
      "text/plain": [
       "  case_id continent education_of_employee has_job_experience  \\\n",
       "0  EZYV01      Asia           High School                  N   \n",
       "1  EZYV02      Asia              Master's                  Y   \n",
       "2  EZYV03      Asia            Bachelor's                  N   \n",
       "3  EZYV04      Asia            Bachelor's                  N   \n",
       "4  EZYV05    Africa              Master's                  Y   \n",
       "\n",
       "  requires_job_training  no_of_employees  yr_of_estab region_of_employment  \\\n",
       "0                     N            14513         2007                 West   \n",
       "1                     N             2412         2002            Northeast   \n",
       "2                     Y            44444         2008                 West   \n",
       "3                     N               98         1897                 West   \n",
       "4                     N             1082         2005                South   \n",
       "\n",
       "   prevailing_wage unit_of_wage full_time_position case_status  \n",
       "0         592.2029         Hour                  Y      Denied  \n",
       "1       83425.6500         Year                  Y   Certified  \n",
       "2      122996.8600         Year                  Y      Denied  \n",
       "3       83434.0300         Year                  Y      Denied  \n",
       "4      149907.3900         Year                  Y   Certified  "
      ]
     },
     "execution_count": 3,
     "metadata": {},
     "output_type": "execute_result"
    }
   ],
   "source": [
    "file='/Users/vijayasri/ML/EasyVisa.csv'\n",
    "D_frame=pd.read_csv(file)\n",
    "from sklearn.impute import KNNImputer\n",
    "le=KNNImputer()\n",
    "class1=le.fit_transform(D_frame[['no_of_employees']])\n",
    "D_frame.head()"
   ]
  },
  {
   "cell_type": "code",
   "execution_count": 82,
   "id": "e124a6ac-f8e0-4292-988a-b66fb5dbb533",
   "metadata": {},
   "outputs": [
    {
     "data": {
      "text/plain": [
       "<bound method Series.count of 0          Asia\n",
       "1          Asia\n",
       "2          Asia\n",
       "3          Asia\n",
       "4        Africa\n",
       "          ...  \n",
       "25475      Asia\n",
       "25476      Asia\n",
       "25477      Asia\n",
       "25478      Asia\n",
       "25479      Asia\n",
       "Name: continent, Length: 25480, dtype: object>"
      ]
     },
     "execution_count": 82,
     "metadata": {},
     "output_type": "execute_result"
    }
   ],
   "source": [
    "D_frame['continent'].count"
   ]
  },
  {
   "cell_type": "code",
   "execution_count": 79,
   "id": "2c807146-05e1-4fee-93c8-0975c30b1916",
   "metadata": {},
   "outputs": [
    {
     "data": {
      "text/plain": [
       "array([[2.5],\n",
       "       [2. ],\n",
       "       [3. ]])"
      ]
     },
     "execution_count": 79,
     "metadata": {},
     "output_type": "execute_result"
    }
   ],
   "source": [
    "name={'weight':[32,np.nan,23],\n",
    "     'height':[np.nan,2,3],\n",
    "     'numm':[np.nan,'abb','ass']}\n",
    "we=pd.DataFrame(name)\n",
    "we\n",
    "from sklearn.impute import KNNImputer\n",
    "le=KNNImputer()\n",
    "he=le.fit_transform(we[['height']])\n",
    "he"
   ]
  },
  {
   "cell_type": "code",
   "execution_count": null,
   "id": "b9a79d85-009e-480a-90dc-1a5ea45819dc",
   "metadata": {},
   "outputs": [],
   "source": []
  }
 ],
 "metadata": {
  "kernelspec": {
   "display_name": "Python 3 (ipykernel)",
   "language": "python",
   "name": "python3"
  },
  "language_info": {
   "codemirror_mode": {
    "name": "ipython",
    "version": 3
   },
   "file_extension": ".py",
   "mimetype": "text/x-python",
   "name": "python",
   "nbconvert_exporter": "python",
   "pygments_lexer": "ipython3",
   "version": "3.12.4"
  }
 },
 "nbformat": 4,
 "nbformat_minor": 5
}
