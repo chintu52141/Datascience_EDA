{
 "cells": [
  {
   "cell_type": "code",
   "execution_count": null,
   "id": "4a64d06b-494c-447c-b4aa-23ce8b9f2d2a",
   "metadata": {},
   "outputs": [],
   "source": [
    "for i in range(5):\n",
    "    if i==4:\n",
    "        break\n",
    "    print(i)\n",
    "\n",
    "\n"
   ]
  },
  {
   "cell_type": "code",
   "execution_count": null,
   "id": "56bb88cf-bad4-465c-aef5-03f49cffc975",
   "metadata": {},
   "outputs": [],
   "source": [
    "i=0\n",
    "while i<=5:\n",
    "    i = i+1\n",
    "    print(i)\n",
    "    "
   ]
  },
  {
   "cell_type": "code",
   "execution_count": null,
   "id": "263959a6-d40f-4a60-b8bc-288e6a8e914f",
   "metadata": {},
   "outputs": [],
   "source": [
    "def add(a,b):\n",
    "    c=(a+b)\n",
    "    return(c)\n",
    "\n",
    "add(3,5)"
   ]
  },
  {
   "cell_type": "code",
   "execution_count": null,
   "id": "55534415-36c2-4a19-873e-34b85b66f697",
   "metadata": {},
   "outputs": [],
   "source": [
    "a=10\n",
    "b=9\n",
    "c=a+b\n",
    "c"
   ]
  },
  {
   "cell_type": "code",
   "execution_count": null,
   "id": "721f0a64-e826-4704-9419-4047b144769c",
   "metadata": {},
   "outputs": [],
   "source": [
    "def function(bill,tip):\n",
    "    num=12\n",
    "    total = bill*tip/100\n",
    "    total_bill=bill+total\n",
    "    print('bill:',total_bill)\n",
    "    return(total,bill)\n",
    "bill,total=function(1000,10)\n"
   ]
  },
  {
   "cell_type": "code",
   "execution_count": null,
   "id": "c2d5dd5b-5852-40b9-9a38-545921294fc0",
   "metadata": {},
   "outputs": [],
   "source": [
    "def add(a,b):\n",
    "\n",
    "    print('enter number 1 add willl perform')\n",
    "def sub(a,b):\n",
    "    print('enter number 2 sub willl perform')\n",
    "def mul(a,b):\n",
    "    print('enter number 3 mul willl perform')\n",
    "def div(a,b):\n",
    "    print('enter number 4 div willl perform')\n",
    "\n",
    "opertion=eval(input('enter operation you want'))\n",
    "if opertion==1:\n",
    "    add(1,2)\n",
    "\n",
    "elif opertion==2:\n",
    "    sub(1,2)\n",
    "elif opertion==3:\n",
    "    mul(1,2)\n",
    "\n",
    "else:\n",
    "    div(1,2)\n",
    "              \n",
    "              \n",
    "\n"
   ]
  },
  {
   "cell_type": "code",
   "execution_count": null,
   "id": "3752134e-08fb-4066-a2e0-31d8757c505b",
   "metadata": {},
   "outputs": [],
   "source": [
    "def add(a,b):\n",
    "    print('given numbers', a,b)\n",
    "    return (a+b)\n",
    "def sub(a,b):\n",
    "    print('enter number 2 sub willl perform')\n",
    "    return (a-b)\n",
    "def mul(a,b):\n",
    "    print('enter number 3 mul willl perform')\n",
    "    return (a*b)\n",
    "def div(a,b):\n",
    "    print('given numbers a', a)\n",
    "    print('given numbers b', b)\n",
    "    return (a/b)\n",
    "n1=eval(input('enter a number n1 you want:'))\n",
    "n2=eval(input('enter a number n2 you want:'))\n",
    "\n",
    "#add(n1,n2)\n",
    "n3=div(n1,n2)\n",
    "n4=add(n1,n2)\n",
    "print(n3)\n",
    "print(n4)"
   ]
  },
  {
   "cell_type": "code",
   "execution_count": 30,
   "id": "84d9a7bf-14f7-485b-a481-1ae01f3b2472",
   "metadata": {},
   "outputs": [
    {
     "name": "stdin",
     "output_type": "stream",
     "text": [
      "enter value 1\n",
      "enter value 1\n"
     ]
    },
    {
     "name": "stdout",
     "output_type": "stream",
     "text": [
      "2\n",
      "8\n"
     ]
    },
    {
     "data": {
      "text/plain": [
       "8"
      ]
     },
     "execution_count": 30,
     "metadata": {},
     "output_type": "execute_result"
    }
   ],
   "source": [
    "def sum(n1,n2):\n",
    "    n3=n2+n1\n",
    "    print(n3)\n",
    "    return n3\n",
    "\n",
    "a=eval(input('enter value'))\n",
    "b=eval(input('enter value'))\n",
    "n8=sum(a,b)\n",
    "sum(4,4)"
   ]
  },
  {
   "cell_type": "code",
   "execution_count": null,
   "id": "90575e98-e8b2-4c17-af3a-d9ef808700a7",
   "metadata": {},
   "outputs": [],
   "source": [
    "def div(a,b):\n",
    "    print('given numbers a', a)\n",
    "    print('given numbers b', b)\n",
    "    return (a/b)"
   ]
  },
  {
   "cell_type": "code",
   "execution_count": null,
   "id": "f469e41b-a0dc-4d3e-b6f5-221d6b40b491",
   "metadata": {},
   "outputs": [],
   "source": [
    "def div(a,b):\n",
    "    print('given numbers a', a)\n",
    "    print('given numbers b', b)\n",
    "    d=a/b\n",
    "    print(d)\n",
    "\n"
   ]
  },
  {
   "cell_type": "code",
   "execution_count": null,
   "id": "0a729b43-48a9-407c-87ad-d525a82ca228",
   "metadata": {},
   "outputs": [],
   "source": []
  }
 ],
 "metadata": {
  "kernelspec": {
   "display_name": "Python 3 (ipykernel)",
   "language": "python",
   "name": "python3"
  },
  "language_info": {
   "codemirror_mode": {
    "name": "ipython",
    "version": 3
   },
   "file_extension": ".py",
   "mimetype": "text/x-python",
   "name": "python",
   "nbconvert_exporter": "python",
   "pygments_lexer": "ipython3",
   "version": "3.12.4"
  }
 },
 "nbformat": 4,
 "nbformat_minor": 5
}
